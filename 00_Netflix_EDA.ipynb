{
 "cells": [
  {
   "cell_type": "markdown",
   "metadata": {},
   "source": [
    "## Projet EDA : NetFlix\n",
    "Netflix collects all the data you can imagine and even more! They have millions of dollars of budget every year to invest into new content with the goal of pleasing the customer, increase the watch time, decrease the churn and eventually grow the subscriber base.\n",
    "\n",
    "Today they need your help visualising the current state of their catalogue.\n",
    "\n",
    "GOALS 🎯\n",
    "- Ingest the dataset\n",
    "- EDA it\n",
    "- Create some Visualisationa and metrics to :\n",
    "    - Identify which genres are the most present on the platform\n",
    "    - Identify in how many countries Netflix produced it content ?\n",
    "    - Identify which country has the most content\n",
    "    - Identify dominant genre per country\n",
    "    - Identify if there are seasonality in the catalogue release"
   ]
  },
  {
   "cell_type": "code",
   "execution_count": 479,
   "metadata": {},
   "outputs": [],
   "source": [
    "# importation des librairies/modules \n",
    "\n",
    "import pandas as pd\n",
    "import re \n",
    "import seaborn as sns\n",
    "import matplotlib.pyplot as plt\n",
    "import numpy as np\n",
    "import plotly.io as pio\n",
    "import plotly.express as px\n",
    "import plotly.graph_objects as go  \n",
    "from plotly.subplots import make_subplots\n",
    "from IPython.display import display, HTML\n",
    "\n",
    "\n",
    "pd.set_option('display.max_columns', None)"
   ]
  },
  {
   "cell_type": "code",
   "execution_count": 480,
   "metadata": {},
   "outputs": [],
   "source": [
    "# import des données\n",
    "dataset = pd.read_csv(\"./CSV/netflix_titles.csv\", encoding='iso-8859-1')\n",
    "\n",
    "# -- On définit des variables pour une exploration rapide du dataset -- #\n",
    "# cinq premières lignes du dataset\n",
    "head_dataset = dataset.head(n=10)\n",
    "# Statistiques de base du dataset\n",
    "stats_basiques = dataset.describe()\n",
    "# Trouver les valeurs manquantes\n",
    "valeur_manquantes = dataset.isnull().sum()\n",
    "# identifier le noms des colonnes\n",
    "nom_des_colonnes = dataset.columns\n",
    "# identifier le type des colonnes\n",
    "shape_dataset = dataset.shape"
   ]
  },
  {
   "cell_type": "code",
   "execution_count": 481,
   "metadata": {},
   "outputs": [
    {
     "data": {
      "text/html": [
       "<div>\n",
       "<style scoped>\n",
       "    .dataframe tbody tr th:only-of-type {\n",
       "        vertical-align: middle;\n",
       "    }\n",
       "\n",
       "    .dataframe tbody tr th {\n",
       "        vertical-align: top;\n",
       "    }\n",
       "\n",
       "    .dataframe thead th {\n",
       "        text-align: right;\n",
       "    }\n",
       "</style>\n",
       "<table border=\"1\" class=\"dataframe\">\n",
       "  <thead>\n",
       "    <tr style=\"text-align: right;\">\n",
       "      <th></th>\n",
       "      <th>show_id</th>\n",
       "      <th>type</th>\n",
       "      <th>title</th>\n",
       "      <th>director</th>\n",
       "      <th>cast</th>\n",
       "      <th>country</th>\n",
       "      <th>date_added</th>\n",
       "      <th>release_year</th>\n",
       "      <th>rating</th>\n",
       "      <th>duration</th>\n",
       "      <th>listed_in</th>\n",
       "      <th>description</th>\n",
       "    </tr>\n",
       "  </thead>\n",
       "  <tbody>\n",
       "    <tr>\n",
       "      <th>0</th>\n",
       "      <td>s1</td>\n",
       "      <td>Movie</td>\n",
       "      <td>Dick Johnson Is Dead</td>\n",
       "      <td>Kirsten Johnson</td>\n",
       "      <td>NaN</td>\n",
       "      <td>United States</td>\n",
       "      <td>September 25, 2021</td>\n",
       "      <td>2020</td>\n",
       "      <td>PG-13</td>\n",
       "      <td>90 min</td>\n",
       "      <td>Documentaries</td>\n",
       "      <td>As her father nears the end of his life, filmm...</td>\n",
       "    </tr>\n",
       "    <tr>\n",
       "      <th>1</th>\n",
       "      <td>s2</td>\n",
       "      <td>TV Show</td>\n",
       "      <td>Blood &amp; Water</td>\n",
       "      <td>NaN</td>\n",
       "      <td>Ama Qamata, Khosi Ngema, Gail Mabalane, Thaban...</td>\n",
       "      <td>South Africa</td>\n",
       "      <td>September 24, 2021</td>\n",
       "      <td>2021</td>\n",
       "      <td>TV-MA</td>\n",
       "      <td>2 Seasons</td>\n",
       "      <td>International TV Shows, TV Dramas, TV Mysteries</td>\n",
       "      <td>After crossing paths at a party, a Cape Town t...</td>\n",
       "    </tr>\n",
       "    <tr>\n",
       "      <th>2</th>\n",
       "      <td>s3</td>\n",
       "      <td>TV Show</td>\n",
       "      <td>Ganglands</td>\n",
       "      <td>Julien Leclercq</td>\n",
       "      <td>Sami Bouajila, Tracy Gotoas, Samuel Jouy, Nabi...</td>\n",
       "      <td>NaN</td>\n",
       "      <td>September 24, 2021</td>\n",
       "      <td>2021</td>\n",
       "      <td>TV-MA</td>\n",
       "      <td>1 Season</td>\n",
       "      <td>Crime TV Shows, International TV Shows, TV Act...</td>\n",
       "      <td>To protect his family from a powerful drug lor...</td>\n",
       "    </tr>\n",
       "    <tr>\n",
       "      <th>3</th>\n",
       "      <td>s4</td>\n",
       "      <td>TV Show</td>\n",
       "      <td>Jailbirds New Orleans</td>\n",
       "      <td>NaN</td>\n",
       "      <td>NaN</td>\n",
       "      <td>NaN</td>\n",
       "      <td>September 24, 2021</td>\n",
       "      <td>2021</td>\n",
       "      <td>TV-MA</td>\n",
       "      <td>1 Season</td>\n",
       "      <td>Docuseries, Reality TV</td>\n",
       "      <td>Feuds, flirtations and toilet talk go down amo...</td>\n",
       "    </tr>\n",
       "    <tr>\n",
       "      <th>4</th>\n",
       "      <td>s5</td>\n",
       "      <td>TV Show</td>\n",
       "      <td>Kota Factory</td>\n",
       "      <td>NaN</td>\n",
       "      <td>Mayur More, Jitendra Kumar, Ranjan Raj, Alam K...</td>\n",
       "      <td>India</td>\n",
       "      <td>September 24, 2021</td>\n",
       "      <td>2021</td>\n",
       "      <td>TV-MA</td>\n",
       "      <td>2 Seasons</td>\n",
       "      <td>International TV Shows, Romantic TV Shows, TV ...</td>\n",
       "      <td>In a city of coaching centers known to train I...</td>\n",
       "    </tr>\n",
       "    <tr>\n",
       "      <th>5</th>\n",
       "      <td>s6</td>\n",
       "      <td>TV Show</td>\n",
       "      <td>Midnight Mass</td>\n",
       "      <td>Mike Flanagan</td>\n",
       "      <td>Kate Siegel, Zach Gilford, Hamish Linklater, H...</td>\n",
       "      <td>NaN</td>\n",
       "      <td>September 24, 2021</td>\n",
       "      <td>2021</td>\n",
       "      <td>TV-MA</td>\n",
       "      <td>1 Season</td>\n",
       "      <td>TV Dramas, TV Horror, TV Mysteries</td>\n",
       "      <td>The arrival of a charismatic young priest brin...</td>\n",
       "    </tr>\n",
       "    <tr>\n",
       "      <th>6</th>\n",
       "      <td>s7</td>\n",
       "      <td>Movie</td>\n",
       "      <td>My Little Pony: A New Generation</td>\n",
       "      <td>Robert Cullen, JosÃ© Luis Ucha</td>\n",
       "      <td>Vanessa Hudgens, Kimiko Glenn, James Marsden, ...</td>\n",
       "      <td>NaN</td>\n",
       "      <td>September 24, 2021</td>\n",
       "      <td>2021</td>\n",
       "      <td>PG</td>\n",
       "      <td>91 min</td>\n",
       "      <td>Children &amp; Family Movies</td>\n",
       "      <td>Equestria's divided. But a bright-eyed hero be...</td>\n",
       "    </tr>\n",
       "    <tr>\n",
       "      <th>7</th>\n",
       "      <td>s8</td>\n",
       "      <td>Movie</td>\n",
       "      <td>Sankofa</td>\n",
       "      <td>Haile Gerima</td>\n",
       "      <td>Kofi Ghanaba, Oyafunmike Ogunlano, Alexandra D...</td>\n",
       "      <td>United States, Ghana, Burkina Faso, United Kin...</td>\n",
       "      <td>September 24, 2021</td>\n",
       "      <td>1993</td>\n",
       "      <td>TV-MA</td>\n",
       "      <td>125 min</td>\n",
       "      <td>Dramas, Independent Movies, International Movies</td>\n",
       "      <td>On a photo shoot in Ghana, an American model s...</td>\n",
       "    </tr>\n",
       "    <tr>\n",
       "      <th>8</th>\n",
       "      <td>s9</td>\n",
       "      <td>TV Show</td>\n",
       "      <td>The Great British Baking Show</td>\n",
       "      <td>Andy Devonshire</td>\n",
       "      <td>Mel Giedroyc, Sue Perkins, Mary Berry, Paul Ho...</td>\n",
       "      <td>United Kingdom</td>\n",
       "      <td>September 24, 2021</td>\n",
       "      <td>2021</td>\n",
       "      <td>TV-14</td>\n",
       "      <td>9 Seasons</td>\n",
       "      <td>British TV Shows, Reality TV</td>\n",
       "      <td>A talented batch of amateur bakers face off in...</td>\n",
       "    </tr>\n",
       "    <tr>\n",
       "      <th>9</th>\n",
       "      <td>s10</td>\n",
       "      <td>Movie</td>\n",
       "      <td>The Starling</td>\n",
       "      <td>Theodore Melfi</td>\n",
       "      <td>Melissa McCarthy, Chris O'Dowd, Kevin Kline, T...</td>\n",
       "      <td>United States</td>\n",
       "      <td>September 24, 2021</td>\n",
       "      <td>2021</td>\n",
       "      <td>PG-13</td>\n",
       "      <td>104 min</td>\n",
       "      <td>Comedies, Dramas</td>\n",
       "      <td>A woman adjusting to life after a loss contend...</td>\n",
       "    </tr>\n",
       "  </tbody>\n",
       "</table>\n",
       "</div>"
      ],
      "text/plain": [
       "  show_id     type                             title  \\\n",
       "0      s1    Movie              Dick Johnson Is Dead   \n",
       "1      s2  TV Show                     Blood & Water   \n",
       "2      s3  TV Show                         Ganglands   \n",
       "3      s4  TV Show             Jailbirds New Orleans   \n",
       "4      s5  TV Show                      Kota Factory   \n",
       "5      s6  TV Show                     Midnight Mass   \n",
       "6      s7    Movie  My Little Pony: A New Generation   \n",
       "7      s8    Movie                           Sankofa   \n",
       "8      s9  TV Show     The Great British Baking Show   \n",
       "9     s10    Movie                      The Starling   \n",
       "\n",
       "                         director  \\\n",
       "0                 Kirsten Johnson   \n",
       "1                             NaN   \n",
       "2                 Julien Leclercq   \n",
       "3                             NaN   \n",
       "4                             NaN   \n",
       "5                   Mike Flanagan   \n",
       "6  Robert Cullen, JosÃ© Luis Ucha   \n",
       "7                    Haile Gerima   \n",
       "8                 Andy Devonshire   \n",
       "9                  Theodore Melfi   \n",
       "\n",
       "                                                cast  \\\n",
       "0                                                NaN   \n",
       "1  Ama Qamata, Khosi Ngema, Gail Mabalane, Thaban...   \n",
       "2  Sami Bouajila, Tracy Gotoas, Samuel Jouy, Nabi...   \n",
       "3                                                NaN   \n",
       "4  Mayur More, Jitendra Kumar, Ranjan Raj, Alam K...   \n",
       "5  Kate Siegel, Zach Gilford, Hamish Linklater, H...   \n",
       "6  Vanessa Hudgens, Kimiko Glenn, James Marsden, ...   \n",
       "7  Kofi Ghanaba, Oyafunmike Ogunlano, Alexandra D...   \n",
       "8  Mel Giedroyc, Sue Perkins, Mary Berry, Paul Ho...   \n",
       "9  Melissa McCarthy, Chris O'Dowd, Kevin Kline, T...   \n",
       "\n",
       "                                             country          date_added  \\\n",
       "0                                      United States  September 25, 2021   \n",
       "1                                       South Africa  September 24, 2021   \n",
       "2                                                NaN  September 24, 2021   \n",
       "3                                                NaN  September 24, 2021   \n",
       "4                                              India  September 24, 2021   \n",
       "5                                                NaN  September 24, 2021   \n",
       "6                                                NaN  September 24, 2021   \n",
       "7  United States, Ghana, Burkina Faso, United Kin...  September 24, 2021   \n",
       "8                                     United Kingdom  September 24, 2021   \n",
       "9                                      United States  September 24, 2021   \n",
       "\n",
       "   release_year rating   duration  \\\n",
       "0          2020  PG-13     90 min   \n",
       "1          2021  TV-MA  2 Seasons   \n",
       "2          2021  TV-MA   1 Season   \n",
       "3          2021  TV-MA   1 Season   \n",
       "4          2021  TV-MA  2 Seasons   \n",
       "5          2021  TV-MA   1 Season   \n",
       "6          2021     PG     91 min   \n",
       "7          1993  TV-MA    125 min   \n",
       "8          2021  TV-14  9 Seasons   \n",
       "9          2021  PG-13    104 min   \n",
       "\n",
       "                                           listed_in  \\\n",
       "0                                      Documentaries   \n",
       "1    International TV Shows, TV Dramas, TV Mysteries   \n",
       "2  Crime TV Shows, International TV Shows, TV Act...   \n",
       "3                             Docuseries, Reality TV   \n",
       "4  International TV Shows, Romantic TV Shows, TV ...   \n",
       "5                 TV Dramas, TV Horror, TV Mysteries   \n",
       "6                           Children & Family Movies   \n",
       "7   Dramas, Independent Movies, International Movies   \n",
       "8                       British TV Shows, Reality TV   \n",
       "9                                   Comedies, Dramas   \n",
       "\n",
       "                                         description  \n",
       "0  As her father nears the end of his life, filmm...  \n",
       "1  After crossing paths at a party, a Cape Town t...  \n",
       "2  To protect his family from a powerful drug lor...  \n",
       "3  Feuds, flirtations and toilet talk go down amo...  \n",
       "4  In a city of coaching centers known to train I...  \n",
       "5  The arrival of a charismatic young priest brin...  \n",
       "6  Equestria's divided. But a bright-eyed hero be...  \n",
       "7  On a photo shoot in Ghana, an American model s...  \n",
       "8  A talented batch of amateur bakers face off in...  \n",
       "9  A woman adjusting to life after a loss contend...  "
      ]
     },
     "execution_count": 481,
     "metadata": {},
     "output_type": "execute_result"
    }
   ],
   "source": [
    "head_dataset"
   ]
  },
  {
   "cell_type": "code",
   "execution_count": 482,
   "metadata": {},
   "outputs": [
    {
     "data": {
      "text/plain": [
       "831"
      ]
     },
     "execution_count": 482,
     "metadata": {},
     "output_type": "execute_result"
    }
   ],
   "source": [
    "dataset['country'].isnull().sum()"
   ]
  },
  {
   "cell_type": "markdown",
   "metadata": {},
   "source": [
    "### Changement de la colonne date_added\n",
    "\n",
    "Cette colonne contient les dates en format chaine de caractères, pour une meilleure manipulation des données on passe au type datetime."
   ]
  },
  {
   "cell_type": "code",
   "execution_count": 483,
   "metadata": {},
   "outputs": [],
   "source": [
    "dataset['date_added'] = pd.to_datetime(dataset['date_added'])"
   ]
  },
  {
   "cell_type": "markdown",
   "metadata": {},
   "source": [
    "### Ajout d'une colonne \"Is_international\"\n",
    "\n",
    "Nous allons crée une colonne pour determiner si un film à la caratéristique international.\n",
    "\n",
    "Un film international est un film qui n'a pas été produit en majorit au Etats-Unis."
   ]
  },
  {
   "cell_type": "code",
   "execution_count": 484,
   "metadata": {},
   "outputs": [
    {
     "data": {
      "text/plain": [
       "0    7905\n",
       "1     902\n",
       "Name: is_international, dtype: int64"
      ]
     },
     "execution_count": 484,
     "metadata": {},
     "output_type": "execute_result"
    }
   ],
   "source": [
    "\"\"\" \n",
    "On va rajouter une colonne qui va nous permettre de savoir si le film est internationnal ou non\n",
    "Dans la colonne listed_in il y a les catagories de films 'International Movies' et 'International TV Shows'\n",
    "\"\"\"\n",
    "\n",
    "# On crée une fonction qui va nous permettre de savoir si le film est international ou non\n",
    "def is_international(liste_genre):\n",
    "    try:\n",
    "        liste_genre = [genre.strip() for genre in liste_genre.split(',')]\n",
    "        for genre in liste_genre:\n",
    "            if re.match('^International Movies$', genre) or re.match('^International TV Shows$', genre):\n",
    "                return 1\n",
    "            else:\n",
    "                return 0\n",
    "    except:\n",
    "        pass\n",
    "\n",
    "\n",
    "# On applique la fonction à la colonne listed_in\n",
    "dataset['is_international'] = dataset['listed_in'].apply(is_international)\n",
    "dataset['is_international'].value_counts()\n",
    "# On voit qu'il y a 2430 films internationaux et 5377 films non internationaux"
   ]
  },
  {
   "cell_type": "code",
   "execution_count": 485,
   "metadata": {},
   "outputs": [],
   "source": [
    "\"\"\" \n",
    "La colonne listed_in contient plusieurs genres séprarés par des virgules.\n",
    "Certains genre sont Movies et TV Show.\n",
    "Cela donne un contenu de \"type\" Movie et de genre \"Movie\" ce qui n'est pas utile et pourrait fausser les résultats.\n",
    "Une solution serait de supprimer les genres Movie et Tv Show de la colonne listed_in.\n",
    "Avec la fonction apply, on peut appliquer une fonction à chaque ligne du dataset.\n",
    "Cette fonction va retirer les genres Movie et Tv Show de la colonne listed_in.\n",
    "\n",
    "En REGEX, Il est important de chercher les mots Movie/Tv Show entre des caractères spéciaux pour les cibler spécifiquement.\n",
    "\n",
    "\"\"\"\n",
    "\n",
    "def replace_genre(liste_genre):\n",
    "    # je split la liste des genres par des virgules\n",
    "    genres_a_supprimer = ['^TV Shows$', '^Movies$', \"^International Movies$\", \"^International TV Shows$\"]\n",
    "    try:\n",
    "        liste_genre = [genre.strip() for genre in liste_genre.split(',')]\n",
    "        for genre in liste_genre:\n",
    "            for genre_a_supprimer in genres_a_supprimer:\n",
    "                if re.match(genre_a_supprimer, genre):\n",
    "                    liste_genre.remove(genre)\n",
    "        # je reconstitue la liste des genres en les séparant par des virgules\n",
    "        liste_genre = ', '.join(liste_genre)\n",
    "        return liste_genre\n",
    "    except:\n",
    "        pass\n",
    "\n",
    "\n",
    "dataset['listed_in'] = dataset['listed_in'].apply(replace_genre)\n",
    "\n",
    "\n",
    "    "
   ]
  },
  {
   "cell_type": "markdown",
   "metadata": {},
   "source": [
    "### Identifier les genres dominant pour les films et les séries TV"
   ]
  },
  {
   "cell_type": "code",
   "execution_count": 486,
   "metadata": {},
   "outputs": [],
   "source": [
    "dataset_movies = dataset[dataset['type'] == 'Movie']\n",
    "\n",
    "dataset_tv_shows = dataset[dataset['type'] == 'TV Show']"
   ]
  },
  {
   "cell_type": "code",
   "execution_count": 487,
   "metadata": {},
   "outputs": [
    {
     "data": {
      "text/html": [
       "<div style='display: flex;'><div style='margin-right: 20px;'><table border=\"1\" class=\"dataframe\">\n",
       "  <thead>\n",
       "    <tr style=\"text-align: right;\">\n",
       "      <th></th>\n",
       "      <th>listed_in</th>\n",
       "    </tr>\n",
       "  </thead>\n",
       "  <tbody>\n",
       "    <tr>\n",
       "      <th>Dramas</th>\n",
       "      <td>2427</td>\n",
       "    </tr>\n",
       "    <tr>\n",
       "      <th>Comedies</th>\n",
       "      <td>1674</td>\n",
       "    </tr>\n",
       "    <tr>\n",
       "      <th>Documentaries</th>\n",
       "      <td>869</td>\n",
       "    </tr>\n",
       "    <tr>\n",
       "      <th>Action &amp; Adventure</th>\n",
       "      <td>859</td>\n",
       "    </tr>\n",
       "    <tr>\n",
       "      <th>Independent Movies</th>\n",
       "      <td>756</td>\n",
       "    </tr>\n",
       "    <tr>\n",
       "      <th>Children &amp; Family Movies</th>\n",
       "      <td>641</td>\n",
       "    </tr>\n",
       "    <tr>\n",
       "      <th>Romantic Movies</th>\n",
       "      <td>616</td>\n",
       "    </tr>\n",
       "    <tr>\n",
       "      <th>Thrillers</th>\n",
       "      <td>577</td>\n",
       "    </tr>\n",
       "    <tr>\n",
       "      <th>Music &amp; Musicals</th>\n",
       "      <td>375</td>\n",
       "    </tr>\n",
       "    <tr>\n",
       "      <th>Horror Movies</th>\n",
       "      <td>357</td>\n",
       "    </tr>\n",
       "    <tr>\n",
       "      <th>Stand-Up Comedy</th>\n",
       "      <td>343</td>\n",
       "    </tr>\n",
       "    <tr>\n",
       "      <th>Sci-Fi &amp; Fantasy</th>\n",
       "      <td>243</td>\n",
       "    </tr>\n",
       "    <tr>\n",
       "      <th>Sports Movies</th>\n",
       "      <td>219</td>\n",
       "    </tr>\n",
       "    <tr>\n",
       "      <th>Classic Movies</th>\n",
       "      <td>116</td>\n",
       "    </tr>\n",
       "    <tr>\n",
       "      <th>LGBTQ Movies</th>\n",
       "      <td>102</td>\n",
       "    </tr>\n",
       "    <tr>\n",
       "      <th>Anime Features</th>\n",
       "      <td>71</td>\n",
       "    </tr>\n",
       "    <tr>\n",
       "      <th>Cult Movies</th>\n",
       "      <td>71</td>\n",
       "    </tr>\n",
       "    <tr>\n",
       "      <th>Faith &amp; Spirituality</th>\n",
       "      <td>65</td>\n",
       "    </tr>\n",
       "    <tr>\n",
       "      <th></th>\n",
       "      <td>60</td>\n",
       "    </tr>\n",
       "  </tbody>\n",
       "</table></div><div><table border=\"1\" class=\"dataframe\">\n",
       "  <thead>\n",
       "    <tr style=\"text-align: right;\">\n",
       "      <th></th>\n",
       "      <th>listed_in</th>\n",
       "    </tr>\n",
       "  </thead>\n",
       "  <tbody>\n",
       "    <tr>\n",
       "      <th>TV Dramas</th>\n",
       "      <td>763</td>\n",
       "    </tr>\n",
       "    <tr>\n",
       "      <th>TV Comedies</th>\n",
       "      <td>581</td>\n",
       "    </tr>\n",
       "    <tr>\n",
       "      <th>Crime TV Shows</th>\n",
       "      <td>470</td>\n",
       "    </tr>\n",
       "    <tr>\n",
       "      <th>Kids' TV</th>\n",
       "      <td>451</td>\n",
       "    </tr>\n",
       "    <tr>\n",
       "      <th>Docuseries</th>\n",
       "      <td>395</td>\n",
       "    </tr>\n",
       "    <tr>\n",
       "      <th>Romantic TV Shows</th>\n",
       "      <td>370</td>\n",
       "    </tr>\n",
       "    <tr>\n",
       "      <th>Reality TV</th>\n",
       "      <td>255</td>\n",
       "    </tr>\n",
       "    <tr>\n",
       "      <th>British TV Shows</th>\n",
       "      <td>253</td>\n",
       "    </tr>\n",
       "    <tr>\n",
       "      <th>Anime Series</th>\n",
       "      <td>176</td>\n",
       "    </tr>\n",
       "    <tr>\n",
       "      <th>Spanish-Language TV Shows</th>\n",
       "      <td>174</td>\n",
       "    </tr>\n",
       "    <tr>\n",
       "      <th>TV Action &amp; Adventure</th>\n",
       "      <td>168</td>\n",
       "    </tr>\n",
       "    <tr>\n",
       "      <th>Korean TV Shows</th>\n",
       "      <td>151</td>\n",
       "    </tr>\n",
       "    <tr>\n",
       "      <th>TV Mysteries</th>\n",
       "      <td>98</td>\n",
       "    </tr>\n",
       "    <tr>\n",
       "      <th>Science &amp; Nature TV</th>\n",
       "      <td>92</td>\n",
       "    </tr>\n",
       "    <tr>\n",
       "      <th>TV Sci-Fi &amp; Fantasy</th>\n",
       "      <td>84</td>\n",
       "    </tr>\n",
       "    <tr>\n",
       "      <th>TV Horror</th>\n",
       "      <td>75</td>\n",
       "    </tr>\n",
       "    <tr>\n",
       "      <th>Teen TV Shows</th>\n",
       "      <td>69</td>\n",
       "    </tr>\n",
       "    <tr>\n",
       "      <th>TV Thrillers</th>\n",
       "      <td>57</td>\n",
       "    </tr>\n",
       "    <tr>\n",
       "      <th>Stand-Up Comedy &amp; Talk Shows</th>\n",
       "      <td>56</td>\n",
       "    </tr>\n",
       "    <tr>\n",
       "      <th>Classic &amp; Cult TV</th>\n",
       "      <td>28</td>\n",
       "    </tr>\n",
       "    <tr>\n",
       "      <th></th>\n",
       "      <td>18</td>\n",
       "    </tr>\n",
       "  </tbody>\n",
       "</table></div></div>"
      ],
      "text/plain": [
       "<IPython.core.display.HTML object>"
      ]
     },
     "metadata": {},
     "output_type": "display_data"
    }
   ],
   "source": [
    "top_genre_movies = dataset_movies['listed_in'].str.split(',').explode().str.strip().value_counts()\n",
    "top_genre_tv_shows = dataset_tv_shows['listed_in'].str.split(',').explode().str.strip().value_counts()\n",
    "\n",
    "html_output = f\"<div style='display: flex;'><div style='margin-right: 20px;'>{top_genre_movies.to_frame().to_html()}</div><div>{top_genre_tv_shows.to_frame().to_html()}</div></div>\"\n",
    "display(HTML(html_output))\n"
   ]
  },
  {
   "cell_type": "code",
   "execution_count": 488,
   "metadata": {},
   "outputs": [
    {
     "data": {
      "application/vnd.plotly.v1+json": {
       "config": {
        "plotlyServerURL": "https://plot.ly"
       },
       "data": [
        {
         "name": "Movie",
         "type": "bar",
         "x": [
          "Dramas",
          "Comedies",
          "Documentaries",
          "Action & Adventure",
          "Independent Movies",
          "Children & Family Movies",
          "Romantic Movies",
          "Thrillers",
          "Music & Musicals",
          "Horror Movies",
          "Stand-Up Comedy",
          "Sci-Fi & Fantasy",
          "Sports Movies",
          "Classic Movies",
          "LGBTQ Movies",
          "Anime Features",
          "Cult Movies",
          "Faith & Spirituality",
          ""
         ],
         "xaxis": "x",
         "y": [
          2427,
          1674,
          869,
          859,
          756,
          641,
          616,
          577,
          375,
          357,
          343,
          243,
          219,
          116,
          102,
          71,
          71,
          65,
          60
         ],
         "yaxis": "y"
        },
        {
         "name": "Tv Show",
         "type": "bar",
         "x": [
          "TV Dramas",
          "TV Comedies",
          "Crime TV Shows",
          "Kids' TV",
          "Docuseries",
          "Romantic TV Shows",
          "Reality TV",
          "British TV Shows",
          "Anime Series",
          "Spanish-Language TV Shows",
          "TV Action & Adventure",
          "Korean TV Shows",
          "TV Mysteries",
          "Science & Nature TV",
          "TV Sci-Fi & Fantasy",
          "TV Horror",
          "Teen TV Shows",
          "TV Thrillers",
          "Stand-Up Comedy & Talk Shows",
          "Classic & Cult TV",
          ""
         ],
         "xaxis": "x2",
         "y": [
          763,
          581,
          470,
          451,
          395,
          370,
          255,
          253,
          176,
          174,
          168,
          151,
          98,
          92,
          84,
          75,
          69,
          57,
          56,
          28,
          18
         ],
         "yaxis": "y2"
        }
       ],
       "layout": {
        "annotations": [
         {
          "font": {
           "size": 16
          },
          "showarrow": false,
          "text": "Nombre de films par genre",
          "x": 0.5,
          "xanchor": "center",
          "xref": "paper",
          "y": 1,
          "yanchor": "bottom",
          "yref": "paper"
         },
         {
          "font": {
           "size": 16
          },
          "showarrow": false,
          "text": "Nombre de Tv Shows par genre",
          "x": 0.5,
          "xanchor": "center",
          "xref": "paper",
          "y": 0.375,
          "yanchor": "bottom",
          "yref": "paper"
         }
        ],
        "height": 750,
        "template": {
         "data": {
          "bar": [
           {
            "error_x": {
             "color": "#2a3f5f"
            },
            "error_y": {
             "color": "#2a3f5f"
            },
            "marker": {
             "line": {
              "color": "#E5ECF6",
              "width": 0.5
             },
             "pattern": {
              "fillmode": "overlay",
              "size": 10,
              "solidity": 0.2
             }
            },
            "type": "bar"
           }
          ],
          "barpolar": [
           {
            "marker": {
             "line": {
              "color": "#E5ECF6",
              "width": 0.5
             },
             "pattern": {
              "fillmode": "overlay",
              "size": 10,
              "solidity": 0.2
             }
            },
            "type": "barpolar"
           }
          ],
          "carpet": [
           {
            "aaxis": {
             "endlinecolor": "#2a3f5f",
             "gridcolor": "white",
             "linecolor": "white",
             "minorgridcolor": "white",
             "startlinecolor": "#2a3f5f"
            },
            "baxis": {
             "endlinecolor": "#2a3f5f",
             "gridcolor": "white",
             "linecolor": "white",
             "minorgridcolor": "white",
             "startlinecolor": "#2a3f5f"
            },
            "type": "carpet"
           }
          ],
          "choropleth": [
           {
            "colorbar": {
             "outlinewidth": 0,
             "ticks": ""
            },
            "type": "choropleth"
           }
          ],
          "contour": [
           {
            "colorbar": {
             "outlinewidth": 0,
             "ticks": ""
            },
            "colorscale": [
             [
              0,
              "#0d0887"
             ],
             [
              0.1111111111111111,
              "#46039f"
             ],
             [
              0.2222222222222222,
              "#7201a8"
             ],
             [
              0.3333333333333333,
              "#9c179e"
             ],
             [
              0.4444444444444444,
              "#bd3786"
             ],
             [
              0.5555555555555556,
              "#d8576b"
             ],
             [
              0.6666666666666666,
              "#ed7953"
             ],
             [
              0.7777777777777778,
              "#fb9f3a"
             ],
             [
              0.8888888888888888,
              "#fdca26"
             ],
             [
              1,
              "#f0f921"
             ]
            ],
            "type": "contour"
           }
          ],
          "contourcarpet": [
           {
            "colorbar": {
             "outlinewidth": 0,
             "ticks": ""
            },
            "type": "contourcarpet"
           }
          ],
          "heatmap": [
           {
            "colorbar": {
             "outlinewidth": 0,
             "ticks": ""
            },
            "colorscale": [
             [
              0,
              "#0d0887"
             ],
             [
              0.1111111111111111,
              "#46039f"
             ],
             [
              0.2222222222222222,
              "#7201a8"
             ],
             [
              0.3333333333333333,
              "#9c179e"
             ],
             [
              0.4444444444444444,
              "#bd3786"
             ],
             [
              0.5555555555555556,
              "#d8576b"
             ],
             [
              0.6666666666666666,
              "#ed7953"
             ],
             [
              0.7777777777777778,
              "#fb9f3a"
             ],
             [
              0.8888888888888888,
              "#fdca26"
             ],
             [
              1,
              "#f0f921"
             ]
            ],
            "type": "heatmap"
           }
          ],
          "heatmapgl": [
           {
            "colorbar": {
             "outlinewidth": 0,
             "ticks": ""
            },
            "colorscale": [
             [
              0,
              "#0d0887"
             ],
             [
              0.1111111111111111,
              "#46039f"
             ],
             [
              0.2222222222222222,
              "#7201a8"
             ],
             [
              0.3333333333333333,
              "#9c179e"
             ],
             [
              0.4444444444444444,
              "#bd3786"
             ],
             [
              0.5555555555555556,
              "#d8576b"
             ],
             [
              0.6666666666666666,
              "#ed7953"
             ],
             [
              0.7777777777777778,
              "#fb9f3a"
             ],
             [
              0.8888888888888888,
              "#fdca26"
             ],
             [
              1,
              "#f0f921"
             ]
            ],
            "type": "heatmapgl"
           }
          ],
          "histogram": [
           {
            "marker": {
             "pattern": {
              "fillmode": "overlay",
              "size": 10,
              "solidity": 0.2
             }
            },
            "type": "histogram"
           }
          ],
          "histogram2d": [
           {
            "colorbar": {
             "outlinewidth": 0,
             "ticks": ""
            },
            "colorscale": [
             [
              0,
              "#0d0887"
             ],
             [
              0.1111111111111111,
              "#46039f"
             ],
             [
              0.2222222222222222,
              "#7201a8"
             ],
             [
              0.3333333333333333,
              "#9c179e"
             ],
             [
              0.4444444444444444,
              "#bd3786"
             ],
             [
              0.5555555555555556,
              "#d8576b"
             ],
             [
              0.6666666666666666,
              "#ed7953"
             ],
             [
              0.7777777777777778,
              "#fb9f3a"
             ],
             [
              0.8888888888888888,
              "#fdca26"
             ],
             [
              1,
              "#f0f921"
             ]
            ],
            "type": "histogram2d"
           }
          ],
          "histogram2dcontour": [
           {
            "colorbar": {
             "outlinewidth": 0,
             "ticks": ""
            },
            "colorscale": [
             [
              0,
              "#0d0887"
             ],
             [
              0.1111111111111111,
              "#46039f"
             ],
             [
              0.2222222222222222,
              "#7201a8"
             ],
             [
              0.3333333333333333,
              "#9c179e"
             ],
             [
              0.4444444444444444,
              "#bd3786"
             ],
             [
              0.5555555555555556,
              "#d8576b"
             ],
             [
              0.6666666666666666,
              "#ed7953"
             ],
             [
              0.7777777777777778,
              "#fb9f3a"
             ],
             [
              0.8888888888888888,
              "#fdca26"
             ],
             [
              1,
              "#f0f921"
             ]
            ],
            "type": "histogram2dcontour"
           }
          ],
          "mesh3d": [
           {
            "colorbar": {
             "outlinewidth": 0,
             "ticks": ""
            },
            "type": "mesh3d"
           }
          ],
          "parcoords": [
           {
            "line": {
             "colorbar": {
              "outlinewidth": 0,
              "ticks": ""
             }
            },
            "type": "parcoords"
           }
          ],
          "pie": [
           {
            "automargin": true,
            "type": "pie"
           }
          ],
          "scatter": [
           {
            "marker": {
             "colorbar": {
              "outlinewidth": 0,
              "ticks": ""
             }
            },
            "type": "scatter"
           }
          ],
          "scatter3d": [
           {
            "line": {
             "colorbar": {
              "outlinewidth": 0,
              "ticks": ""
             }
            },
            "marker": {
             "colorbar": {
              "outlinewidth": 0,
              "ticks": ""
             }
            },
            "type": "scatter3d"
           }
          ],
          "scattercarpet": [
           {
            "marker": {
             "colorbar": {
              "outlinewidth": 0,
              "ticks": ""
             }
            },
            "type": "scattercarpet"
           }
          ],
          "scattergeo": [
           {
            "marker": {
             "colorbar": {
              "outlinewidth": 0,
              "ticks": ""
             }
            },
            "type": "scattergeo"
           }
          ],
          "scattergl": [
           {
            "marker": {
             "colorbar": {
              "outlinewidth": 0,
              "ticks": ""
             }
            },
            "type": "scattergl"
           }
          ],
          "scattermapbox": [
           {
            "marker": {
             "colorbar": {
              "outlinewidth": 0,
              "ticks": ""
             }
            },
            "type": "scattermapbox"
           }
          ],
          "scatterpolar": [
           {
            "marker": {
             "colorbar": {
              "outlinewidth": 0,
              "ticks": ""
             }
            },
            "type": "scatterpolar"
           }
          ],
          "scatterpolargl": [
           {
            "marker": {
             "colorbar": {
              "outlinewidth": 0,
              "ticks": ""
             }
            },
            "type": "scatterpolargl"
           }
          ],
          "scatterternary": [
           {
            "marker": {
             "colorbar": {
              "outlinewidth": 0,
              "ticks": ""
             }
            },
            "type": "scatterternary"
           }
          ],
          "surface": [
           {
            "colorbar": {
             "outlinewidth": 0,
             "ticks": ""
            },
            "colorscale": [
             [
              0,
              "#0d0887"
             ],
             [
              0.1111111111111111,
              "#46039f"
             ],
             [
              0.2222222222222222,
              "#7201a8"
             ],
             [
              0.3333333333333333,
              "#9c179e"
             ],
             [
              0.4444444444444444,
              "#bd3786"
             ],
             [
              0.5555555555555556,
              "#d8576b"
             ],
             [
              0.6666666666666666,
              "#ed7953"
             ],
             [
              0.7777777777777778,
              "#fb9f3a"
             ],
             [
              0.8888888888888888,
              "#fdca26"
             ],
             [
              1,
              "#f0f921"
             ]
            ],
            "type": "surface"
           }
          ],
          "table": [
           {
            "cells": {
             "fill": {
              "color": "#EBF0F8"
             },
             "line": {
              "color": "white"
             }
            },
            "header": {
             "fill": {
              "color": "#C8D4E3"
             },
             "line": {
              "color": "white"
             }
            },
            "type": "table"
           }
          ]
         },
         "layout": {
          "annotationdefaults": {
           "arrowcolor": "#2a3f5f",
           "arrowhead": 0,
           "arrowwidth": 1
          },
          "autotypenumbers": "strict",
          "coloraxis": {
           "colorbar": {
            "outlinewidth": 0,
            "ticks": ""
           }
          },
          "colorscale": {
           "diverging": [
            [
             0,
             "#8e0152"
            ],
            [
             0.1,
             "#c51b7d"
            ],
            [
             0.2,
             "#de77ae"
            ],
            [
             0.3,
             "#f1b6da"
            ],
            [
             0.4,
             "#fde0ef"
            ],
            [
             0.5,
             "#f7f7f7"
            ],
            [
             0.6,
             "#e6f5d0"
            ],
            [
             0.7,
             "#b8e186"
            ],
            [
             0.8,
             "#7fbc41"
            ],
            [
             0.9,
             "#4d9221"
            ],
            [
             1,
             "#276419"
            ]
           ],
           "sequential": [
            [
             0,
             "#0d0887"
            ],
            [
             0.1111111111111111,
             "#46039f"
            ],
            [
             0.2222222222222222,
             "#7201a8"
            ],
            [
             0.3333333333333333,
             "#9c179e"
            ],
            [
             0.4444444444444444,
             "#bd3786"
            ],
            [
             0.5555555555555556,
             "#d8576b"
            ],
            [
             0.6666666666666666,
             "#ed7953"
            ],
            [
             0.7777777777777778,
             "#fb9f3a"
            ],
            [
             0.8888888888888888,
             "#fdca26"
            ],
            [
             1,
             "#f0f921"
            ]
           ],
           "sequentialminus": [
            [
             0,
             "#0d0887"
            ],
            [
             0.1111111111111111,
             "#46039f"
            ],
            [
             0.2222222222222222,
             "#7201a8"
            ],
            [
             0.3333333333333333,
             "#9c179e"
            ],
            [
             0.4444444444444444,
             "#bd3786"
            ],
            [
             0.5555555555555556,
             "#d8576b"
            ],
            [
             0.6666666666666666,
             "#ed7953"
            ],
            [
             0.7777777777777778,
             "#fb9f3a"
            ],
            [
             0.8888888888888888,
             "#fdca26"
            ],
            [
             1,
             "#f0f921"
            ]
           ]
          },
          "colorway": [
           "#636efa",
           "#EF553B",
           "#00cc96",
           "#ab63fa",
           "#FFA15A",
           "#19d3f3",
           "#FF6692",
           "#B6E880",
           "#FF97FF",
           "#FECB52"
          ],
          "font": {
           "color": "#2a3f5f"
          },
          "geo": {
           "bgcolor": "white",
           "lakecolor": "white",
           "landcolor": "#E5ECF6",
           "showlakes": true,
           "showland": true,
           "subunitcolor": "white"
          },
          "hoverlabel": {
           "align": "left"
          },
          "hovermode": "closest",
          "mapbox": {
           "style": "light"
          },
          "paper_bgcolor": "white",
          "plot_bgcolor": "#E5ECF6",
          "polar": {
           "angularaxis": {
            "gridcolor": "white",
            "linecolor": "white",
            "ticks": ""
           },
           "bgcolor": "#E5ECF6",
           "radialaxis": {
            "gridcolor": "white",
            "linecolor": "white",
            "ticks": ""
           }
          },
          "scene": {
           "xaxis": {
            "backgroundcolor": "#E5ECF6",
            "gridcolor": "white",
            "gridwidth": 2,
            "linecolor": "white",
            "showbackground": true,
            "ticks": "",
            "zerolinecolor": "white"
           },
           "yaxis": {
            "backgroundcolor": "#E5ECF6",
            "gridcolor": "white",
            "gridwidth": 2,
            "linecolor": "white",
            "showbackground": true,
            "ticks": "",
            "zerolinecolor": "white"
           },
           "zaxis": {
            "backgroundcolor": "#E5ECF6",
            "gridcolor": "white",
            "gridwidth": 2,
            "linecolor": "white",
            "showbackground": true,
            "ticks": "",
            "zerolinecolor": "white"
           }
          },
          "shapedefaults": {
           "line": {
            "color": "#2a3f5f"
           }
          },
          "ternary": {
           "aaxis": {
            "gridcolor": "white",
            "linecolor": "white",
            "ticks": ""
           },
           "baxis": {
            "gridcolor": "white",
            "linecolor": "white",
            "ticks": ""
           },
           "bgcolor": "#E5ECF6",
           "caxis": {
            "gridcolor": "white",
            "linecolor": "white",
            "ticks": ""
           }
          },
          "title": {
           "x": 0.05
          },
          "xaxis": {
           "automargin": true,
           "gridcolor": "white",
           "linecolor": "white",
           "ticks": "",
           "title": {
            "standoff": 15
           },
           "zerolinecolor": "white",
           "zerolinewidth": 2
          },
          "yaxis": {
           "automargin": true,
           "gridcolor": "white",
           "linecolor": "white",
           "ticks": "",
           "title": {
            "standoff": 15
           },
           "zerolinecolor": "white",
           "zerolinewidth": 2
          }
         }
        },
        "width": 800,
        "xaxis": {
         "anchor": "y",
         "domain": [
          0,
          1
         ]
        },
        "xaxis2": {
         "anchor": "y2",
         "domain": [
          0,
          1
         ]
        },
        "yaxis": {
         "anchor": "x",
         "domain": [
          0.625,
          1
         ]
        },
        "yaxis2": {
         "anchor": "x2",
         "domain": [
          0,
          0.375
         ]
        }
       }
      }
     },
     "metadata": {},
     "output_type": "display_data"
    }
   ],
   "source": [
    "fig = make_subplots(rows=2, \n",
    "                    cols=1, \n",
    "                    subplot_titles=['Nombre de films par genre', 'Nombre de Tv Shows par genre'],\n",
    "                    shared_xaxes=False\n",
    "                    )\n",
    "fig.add_trace(go.Bar(x=top_genre_movies.index, y=top_genre_movies.values, name='Movie'), row=1, col=1)\n",
    "\n",
    "fig.add_trace(go.Bar(x=top_genre_tv_shows.index, y=top_genre_tv_shows.values, name='Tv Show'), row=2, col=1)\n",
    "\n",
    "fig.update_layout(height=750, width=800)\n",
    "fig.show()"
   ]
  },
  {
   "cell_type": "markdown",
   "metadata": {},
   "source": [
    "### Répartition des pays producteurs dans le monde"
   ]
  },
  {
   "cell_type": "code",
   "execution_count": 489,
   "metadata": {},
   "outputs": [
    {
     "data": {
      "application/vnd.plotly.v1+json": {
       "config": {
        "plotlyServerURL": "https://plot.ly"
       },
       "data": [
        {
         "colorscale": [
          [
           0,
           "red"
          ],
          [
           1,
           "red"
          ]
         ],
         "geo": "geo",
         "hovertemplate": "Pays=%{location}<extra></extra>",
         "locationmode": "country names",
         "locations": [
          "United States",
          "South Africa",
          null,
          "India",
          "Ghana",
          "Burkina Faso",
          "United Kingdom",
          "Germany",
          "Ethiopia",
          "Czech Republic",
          "Mexico",
          "Turkey",
          "Australia",
          "France",
          "Finland",
          "China",
          "Canada",
          "Japan",
          "Nigeria",
          "Spain",
          "Belgium",
          "South Korea",
          "Singapore",
          "Italy",
          "Romania",
          "Argentina",
          "Venezuela",
          "Hong Kong",
          "Russia",
          "",
          "Ireland",
          "Nepal",
          "New Zealand",
          "Brazil",
          "Greece",
          "Jordan",
          "Colombia",
          "Switzerland",
          "Israel",
          "Taiwan",
          "Bulgaria",
          "Algeria",
          "Poland",
          "Saudi Arabia",
          "Thailand",
          "Indonesia",
          "Egypt",
          "Denmark",
          "Kuwait",
          "Netherlands",
          "Malaysia",
          "Vietnam",
          "Hungary",
          "Sweden",
          "Lebanon",
          "Syria",
          "Philippines",
          "Iceland",
          "United Arab Emirates",
          "Norway",
          "Qatar",
          "Mauritius",
          "Austria",
          "Cameroon",
          "Palestine",
          "Uruguay",
          "Kenya",
          "Chile",
          "Luxembourg",
          "Cambodia",
          "Bangladesh",
          "Portugal",
          "Cayman Islands",
          "Senegal",
          "Serbia",
          "Malta",
          "Namibia",
          "Angola",
          "Peru",
          "Mozambique",
          "Belarus",
          "Zimbabwe",
          "Puerto Rico",
          "Pakistan",
          "Cyprus",
          "Guatemala",
          "Iraq",
          "Malawi",
          "Paraguay",
          "Croatia",
          "Iran",
          "West Germany",
          "Albania",
          "Georgia",
          "Soviet Union",
          "Morocco",
          "Slovakia",
          "Ukraine",
          "Bermuda",
          "Ecuador",
          "Armenia",
          "Mongolia",
          "Bahamas",
          "Sri Lanka",
          "Latvia",
          "Liechtenstein",
          "Cuba",
          "Nicaragua",
          "Slovenia",
          "Dominican Republic",
          "Samoa",
          "Azerbaijan",
          "Botswana",
          "Vatican City",
          "Jamaica",
          "Kazakhstan",
          "Lithuania",
          "Afghanistan",
          "Somalia",
          "Sudan",
          "Panama",
          "Uganda",
          "East Germany",
          "Montenegro"
         ],
         "name": "",
         "showlegend": true,
         "showscale": false,
         "type": "choropleth",
         "z": [
          1,
          1,
          1,
          1,
          1,
          1,
          1,
          1,
          1,
          1,
          1,
          1,
          1,
          1,
          1,
          1,
          1,
          1,
          1,
          1,
          1,
          1,
          1,
          1,
          1,
          1,
          1,
          1,
          1,
          1,
          1,
          1,
          1,
          1,
          1,
          1,
          1,
          1,
          1,
          1,
          1,
          1,
          1,
          1,
          1,
          1,
          1,
          1,
          1,
          1,
          1,
          1,
          1,
          1,
          1,
          1,
          1,
          1,
          1,
          1,
          1,
          1,
          1,
          1,
          1,
          1,
          1,
          1,
          1,
          1,
          1,
          1,
          1,
          1,
          1,
          1,
          1,
          1,
          1,
          1,
          1,
          1,
          1,
          1,
          1,
          1,
          1,
          1,
          1,
          1,
          1,
          1,
          1,
          1,
          1,
          1,
          1,
          1,
          1,
          1,
          1,
          1,
          1,
          1,
          1,
          1,
          1,
          1,
          1,
          1,
          1,
          1,
          1,
          1,
          1,
          1,
          1,
          1,
          1,
          1,
          1,
          1,
          1,
          1
         ]
        }
       ],
       "layout": {
        "geo": {
         "center": {},
         "domain": {
          "x": [
           0,
           1
          ],
          "y": [
           0,
           1
          ]
         }
        },
        "legend": {
         "tracegroupgap": 0
        },
        "margin": {
         "t": 60
        },
        "template": {
         "data": {
          "bar": [
           {
            "error_x": {
             "color": "#2a3f5f"
            },
            "error_y": {
             "color": "#2a3f5f"
            },
            "marker": {
             "line": {
              "color": "#E5ECF6",
              "width": 0.5
             },
             "pattern": {
              "fillmode": "overlay",
              "size": 10,
              "solidity": 0.2
             }
            },
            "type": "bar"
           }
          ],
          "barpolar": [
           {
            "marker": {
             "line": {
              "color": "#E5ECF6",
              "width": 0.5
             },
             "pattern": {
              "fillmode": "overlay",
              "size": 10,
              "solidity": 0.2
             }
            },
            "type": "barpolar"
           }
          ],
          "carpet": [
           {
            "aaxis": {
             "endlinecolor": "#2a3f5f",
             "gridcolor": "white",
             "linecolor": "white",
             "minorgridcolor": "white",
             "startlinecolor": "#2a3f5f"
            },
            "baxis": {
             "endlinecolor": "#2a3f5f",
             "gridcolor": "white",
             "linecolor": "white",
             "minorgridcolor": "white",
             "startlinecolor": "#2a3f5f"
            },
            "type": "carpet"
           }
          ],
          "choropleth": [
           {
            "colorbar": {
             "outlinewidth": 0,
             "ticks": ""
            },
            "type": "choropleth"
           }
          ],
          "contour": [
           {
            "colorbar": {
             "outlinewidth": 0,
             "ticks": ""
            },
            "colorscale": [
             [
              0,
              "#0d0887"
             ],
             [
              0.1111111111111111,
              "#46039f"
             ],
             [
              0.2222222222222222,
              "#7201a8"
             ],
             [
              0.3333333333333333,
              "#9c179e"
             ],
             [
              0.4444444444444444,
              "#bd3786"
             ],
             [
              0.5555555555555556,
              "#d8576b"
             ],
             [
              0.6666666666666666,
              "#ed7953"
             ],
             [
              0.7777777777777778,
              "#fb9f3a"
             ],
             [
              0.8888888888888888,
              "#fdca26"
             ],
             [
              1,
              "#f0f921"
             ]
            ],
            "type": "contour"
           }
          ],
          "contourcarpet": [
           {
            "colorbar": {
             "outlinewidth": 0,
             "ticks": ""
            },
            "type": "contourcarpet"
           }
          ],
          "heatmap": [
           {
            "colorbar": {
             "outlinewidth": 0,
             "ticks": ""
            },
            "colorscale": [
             [
              0,
              "#0d0887"
             ],
             [
              0.1111111111111111,
              "#46039f"
             ],
             [
              0.2222222222222222,
              "#7201a8"
             ],
             [
              0.3333333333333333,
              "#9c179e"
             ],
             [
              0.4444444444444444,
              "#bd3786"
             ],
             [
              0.5555555555555556,
              "#d8576b"
             ],
             [
              0.6666666666666666,
              "#ed7953"
             ],
             [
              0.7777777777777778,
              "#fb9f3a"
             ],
             [
              0.8888888888888888,
              "#fdca26"
             ],
             [
              1,
              "#f0f921"
             ]
            ],
            "type": "heatmap"
           }
          ],
          "heatmapgl": [
           {
            "colorbar": {
             "outlinewidth": 0,
             "ticks": ""
            },
            "colorscale": [
             [
              0,
              "#0d0887"
             ],
             [
              0.1111111111111111,
              "#46039f"
             ],
             [
              0.2222222222222222,
              "#7201a8"
             ],
             [
              0.3333333333333333,
              "#9c179e"
             ],
             [
              0.4444444444444444,
              "#bd3786"
             ],
             [
              0.5555555555555556,
              "#d8576b"
             ],
             [
              0.6666666666666666,
              "#ed7953"
             ],
             [
              0.7777777777777778,
              "#fb9f3a"
             ],
             [
              0.8888888888888888,
              "#fdca26"
             ],
             [
              1,
              "#f0f921"
             ]
            ],
            "type": "heatmapgl"
           }
          ],
          "histogram": [
           {
            "marker": {
             "pattern": {
              "fillmode": "overlay",
              "size": 10,
              "solidity": 0.2
             }
            },
            "type": "histogram"
           }
          ],
          "histogram2d": [
           {
            "colorbar": {
             "outlinewidth": 0,
             "ticks": ""
            },
            "colorscale": [
             [
              0,
              "#0d0887"
             ],
             [
              0.1111111111111111,
              "#46039f"
             ],
             [
              0.2222222222222222,
              "#7201a8"
             ],
             [
              0.3333333333333333,
              "#9c179e"
             ],
             [
              0.4444444444444444,
              "#bd3786"
             ],
             [
              0.5555555555555556,
              "#d8576b"
             ],
             [
              0.6666666666666666,
              "#ed7953"
             ],
             [
              0.7777777777777778,
              "#fb9f3a"
             ],
             [
              0.8888888888888888,
              "#fdca26"
             ],
             [
              1,
              "#f0f921"
             ]
            ],
            "type": "histogram2d"
           }
          ],
          "histogram2dcontour": [
           {
            "colorbar": {
             "outlinewidth": 0,
             "ticks": ""
            },
            "colorscale": [
             [
              0,
              "#0d0887"
             ],
             [
              0.1111111111111111,
              "#46039f"
             ],
             [
              0.2222222222222222,
              "#7201a8"
             ],
             [
              0.3333333333333333,
              "#9c179e"
             ],
             [
              0.4444444444444444,
              "#bd3786"
             ],
             [
              0.5555555555555556,
              "#d8576b"
             ],
             [
              0.6666666666666666,
              "#ed7953"
             ],
             [
              0.7777777777777778,
              "#fb9f3a"
             ],
             [
              0.8888888888888888,
              "#fdca26"
             ],
             [
              1,
              "#f0f921"
             ]
            ],
            "type": "histogram2dcontour"
           }
          ],
          "mesh3d": [
           {
            "colorbar": {
             "outlinewidth": 0,
             "ticks": ""
            },
            "type": "mesh3d"
           }
          ],
          "parcoords": [
           {
            "line": {
             "colorbar": {
              "outlinewidth": 0,
              "ticks": ""
             }
            },
            "type": "parcoords"
           }
          ],
          "pie": [
           {
            "automargin": true,
            "type": "pie"
           }
          ],
          "scatter": [
           {
            "marker": {
             "colorbar": {
              "outlinewidth": 0,
              "ticks": ""
             }
            },
            "type": "scatter"
           }
          ],
          "scatter3d": [
           {
            "line": {
             "colorbar": {
              "outlinewidth": 0,
              "ticks": ""
             }
            },
            "marker": {
             "colorbar": {
              "outlinewidth": 0,
              "ticks": ""
             }
            },
            "type": "scatter3d"
           }
          ],
          "scattercarpet": [
           {
            "marker": {
             "colorbar": {
              "outlinewidth": 0,
              "ticks": ""
             }
            },
            "type": "scattercarpet"
           }
          ],
          "scattergeo": [
           {
            "marker": {
             "colorbar": {
              "outlinewidth": 0,
              "ticks": ""
             }
            },
            "type": "scattergeo"
           }
          ],
          "scattergl": [
           {
            "marker": {
             "colorbar": {
              "outlinewidth": 0,
              "ticks": ""
             }
            },
            "type": "scattergl"
           }
          ],
          "scattermapbox": [
           {
            "marker": {
             "colorbar": {
              "outlinewidth": 0,
              "ticks": ""
             }
            },
            "type": "scattermapbox"
           }
          ],
          "scatterpolar": [
           {
            "marker": {
             "colorbar": {
              "outlinewidth": 0,
              "ticks": ""
             }
            },
            "type": "scatterpolar"
           }
          ],
          "scatterpolargl": [
           {
            "marker": {
             "colorbar": {
              "outlinewidth": 0,
              "ticks": ""
             }
            },
            "type": "scatterpolargl"
           }
          ],
          "scatterternary": [
           {
            "marker": {
             "colorbar": {
              "outlinewidth": 0,
              "ticks": ""
             }
            },
            "type": "scatterternary"
           }
          ],
          "surface": [
           {
            "colorbar": {
             "outlinewidth": 0,
             "ticks": ""
            },
            "colorscale": [
             [
              0,
              "#0d0887"
             ],
             [
              0.1111111111111111,
              "#46039f"
             ],
             [
              0.2222222222222222,
              "#7201a8"
             ],
             [
              0.3333333333333333,
              "#9c179e"
             ],
             [
              0.4444444444444444,
              "#bd3786"
             ],
             [
              0.5555555555555556,
              "#d8576b"
             ],
             [
              0.6666666666666666,
              "#ed7953"
             ],
             [
              0.7777777777777778,
              "#fb9f3a"
             ],
             [
              0.8888888888888888,
              "#fdca26"
             ],
             [
              1,
              "#f0f921"
             ]
            ],
            "type": "surface"
           }
          ],
          "table": [
           {
            "cells": {
             "fill": {
              "color": "#EBF0F8"
             },
             "line": {
              "color": "white"
             }
            },
            "header": {
             "fill": {
              "color": "#C8D4E3"
             },
             "line": {
              "color": "white"
             }
            },
            "type": "table"
           }
          ]
         },
         "layout": {
          "annotationdefaults": {
           "arrowcolor": "#2a3f5f",
           "arrowhead": 0,
           "arrowwidth": 1
          },
          "autotypenumbers": "strict",
          "coloraxis": {
           "colorbar": {
            "outlinewidth": 0,
            "ticks": ""
           }
          },
          "colorscale": {
           "diverging": [
            [
             0,
             "#8e0152"
            ],
            [
             0.1,
             "#c51b7d"
            ],
            [
             0.2,
             "#de77ae"
            ],
            [
             0.3,
             "#f1b6da"
            ],
            [
             0.4,
             "#fde0ef"
            ],
            [
             0.5,
             "#f7f7f7"
            ],
            [
             0.6,
             "#e6f5d0"
            ],
            [
             0.7,
             "#b8e186"
            ],
            [
             0.8,
             "#7fbc41"
            ],
            [
             0.9,
             "#4d9221"
            ],
            [
             1,
             "#276419"
            ]
           ],
           "sequential": [
            [
             0,
             "#0d0887"
            ],
            [
             0.1111111111111111,
             "#46039f"
            ],
            [
             0.2222222222222222,
             "#7201a8"
            ],
            [
             0.3333333333333333,
             "#9c179e"
            ],
            [
             0.4444444444444444,
             "#bd3786"
            ],
            [
             0.5555555555555556,
             "#d8576b"
            ],
            [
             0.6666666666666666,
             "#ed7953"
            ],
            [
             0.7777777777777778,
             "#fb9f3a"
            ],
            [
             0.8888888888888888,
             "#fdca26"
            ],
            [
             1,
             "#f0f921"
            ]
           ],
           "sequentialminus": [
            [
             0,
             "#0d0887"
            ],
            [
             0.1111111111111111,
             "#46039f"
            ],
            [
             0.2222222222222222,
             "#7201a8"
            ],
            [
             0.3333333333333333,
             "#9c179e"
            ],
            [
             0.4444444444444444,
             "#bd3786"
            ],
            [
             0.5555555555555556,
             "#d8576b"
            ],
            [
             0.6666666666666666,
             "#ed7953"
            ],
            [
             0.7777777777777778,
             "#fb9f3a"
            ],
            [
             0.8888888888888888,
             "#fdca26"
            ],
            [
             1,
             "#f0f921"
            ]
           ]
          },
          "colorway": [
           "#636efa",
           "#EF553B",
           "#00cc96",
           "#ab63fa",
           "#FFA15A",
           "#19d3f3",
           "#FF6692",
           "#B6E880",
           "#FF97FF",
           "#FECB52"
          ],
          "font": {
           "color": "#2a3f5f"
          },
          "geo": {
           "bgcolor": "white",
           "lakecolor": "white",
           "landcolor": "#E5ECF6",
           "showlakes": true,
           "showland": true,
           "subunitcolor": "white"
          },
          "hoverlabel": {
           "align": "left"
          },
          "hovermode": "closest",
          "mapbox": {
           "style": "light"
          },
          "paper_bgcolor": "white",
          "plot_bgcolor": "#E5ECF6",
          "polar": {
           "angularaxis": {
            "gridcolor": "white",
            "linecolor": "white",
            "ticks": ""
           },
           "bgcolor": "#E5ECF6",
           "radialaxis": {
            "gridcolor": "white",
            "linecolor": "white",
            "ticks": ""
           }
          },
          "scene": {
           "xaxis": {
            "backgroundcolor": "#E5ECF6",
            "gridcolor": "white",
            "gridwidth": 2,
            "linecolor": "white",
            "showbackground": true,
            "ticks": "",
            "zerolinecolor": "white"
           },
           "yaxis": {
            "backgroundcolor": "#E5ECF6",
            "gridcolor": "white",
            "gridwidth": 2,
            "linecolor": "white",
            "showbackground": true,
            "ticks": "",
            "zerolinecolor": "white"
           },
           "zaxis": {
            "backgroundcolor": "#E5ECF6",
            "gridcolor": "white",
            "gridwidth": 2,
            "linecolor": "white",
            "showbackground": true,
            "ticks": "",
            "zerolinecolor": "white"
           }
          },
          "shapedefaults": {
           "line": {
            "color": "#2a3f5f"
           }
          },
          "ternary": {
           "aaxis": {
            "gridcolor": "white",
            "linecolor": "white",
            "ticks": ""
           },
           "baxis": {
            "gridcolor": "white",
            "linecolor": "white",
            "ticks": ""
           },
           "bgcolor": "#E5ECF6",
           "caxis": {
            "gridcolor": "white",
            "linecolor": "white",
            "ticks": ""
           }
          },
          "title": {
           "x": 0.05
          },
          "xaxis": {
           "automargin": true,
           "gridcolor": "white",
           "linecolor": "white",
           "ticks": "",
           "title": {
            "standoff": 15
           },
           "zerolinecolor": "white",
           "zerolinewidth": 2
          },
          "yaxis": {
           "automargin": true,
           "gridcolor": "white",
           "linecolor": "white",
           "ticks": "",
           "title": {
            "standoff": 15
           },
           "zerolinecolor": "white",
           "zerolinewidth": 2
          }
         }
        },
        "title": {
         "text": "Pays producteur de contenu sur Netflix",
         "x": 0.5
        }
       }
      }
     },
     "metadata": {},
     "output_type": "display_data"
    }
   ],
   "source": [
    "pays_producteurs = dataset['country'].str.split(',').explode().str.strip().unique()\n",
    "\n",
    "pays_producteurs = pd.DataFrame(pays_producteurs, columns=['Pays'])\n",
    "\n",
    "fig = px.choropleth(pays_producteurs, locations=\"Pays\", color_discrete_sequence=[\"red\"], locationmode=\"country names\")\n",
    "fig.update_layout(title_text='Pays producteur de contenu sur Netflix', title_x=0.5)\n",
    "fig.show()\n"
   ]
  },
  {
   "cell_type": "markdown",
   "metadata": {},
   "source": [
    "### Le volume de production par pays \n"
   ]
  },
  {
   "cell_type": "code",
   "execution_count": 490,
   "metadata": {},
   "outputs": [
    {
     "data": {
      "text/plain": [
       "United States     3690\n",
       "India             1046\n",
       "United Kingdom     806\n",
       "Canada             445\n",
       "France             393\n",
       "                  ... \n",
       "Ecuador              1\n",
       "Armenia              1\n",
       "Mongolia             1\n",
       "Bahamas              1\n",
       "Montenegro           1\n",
       "Name: country, Length: 123, dtype: int64"
      ]
     },
     "execution_count": 490,
     "metadata": {},
     "output_type": "execute_result"
    }
   ],
   "source": [
    "volume_production_pays = dataset['country'].str.split(',').explode().str.strip().value_counts()\n",
    "\n",
    "volume_production_pays"
   ]
  },
  {
   "cell_type": "code",
   "execution_count": 491,
   "metadata": {},
   "outputs": [
    {
     "data": {
      "application/vnd.plotly.v1+json": {
       "config": {
        "plotlyServerURL": "https://plot.ly"
       },
       "data": [
        {
         "text": [
          3690,
          1046,
          806,
          445,
          393,
          318,
          232,
          231,
          226,
          169,
          162,
          160,
          117,
          113,
          105,
          103,
          100,
          97,
          91,
          90,
          90,
          89,
          83,
          70,
          62,
          52,
          50,
          48,
          46,
          42,
          41,
          41,
          37,
          33,
          31,
          30,
          30,
          29,
          27,
          26,
          24,
          22,
          19,
          14,
          14,
          13,
          12,
          12,
          11,
          11,
          11,
          11,
          10,
          10,
          10,
          9,
          8,
          7,
          7,
          7,
          6,
          6,
          6,
          6,
          5,
          5,
          4,
          4,
          4,
          4,
          3,
          3,
          3,
          3,
          3,
          3,
          3,
          3,
          2,
          2,
          2,
          2,
          2,
          2,
          2,
          1,
          1,
          1,
          1,
          1,
          1,
          1,
          1,
          1,
          1,
          1,
          1,
          1,
          1,
          1,
          1,
          1,
          1,
          1,
          1,
          1,
          1,
          1,
          1,
          1,
          1,
          1,
          1,
          1,
          1,
          1,
          1,
          1,
          1,
          1,
          1,
          1,
          1
         ],
         "textposition": "outside",
         "texttemplate": "%{text:.2s}",
         "type": "bar",
         "x": [
          "United States",
          "India",
          "United Kingdom",
          "Canada",
          "France",
          "Japan",
          "Spain",
          "South Korea",
          "Germany",
          "Mexico",
          "China",
          "Australia",
          "Egypt",
          "Turkey",
          "Hong Kong",
          "Nigeria",
          "Italy",
          "Brazil",
          "Argentina",
          "Belgium",
          "Indonesia",
          "Taiwan",
          "Philippines",
          "Thailand",
          "South Africa",
          "Colombia",
          "Netherlands",
          "Denmark",
          "Ireland",
          "Sweden",
          "Poland",
          "Singapore",
          "United Arab Emirates",
          "New Zealand",
          "Lebanon",
          "Norway",
          "Israel",
          "Chile",
          "Russia",
          "Malaysia",
          "Pakistan",
          "Czech Republic",
          "Switzerland",
          "Uruguay",
          "Romania",
          "Saudi Arabia",
          "Luxembourg",
          "Austria",
          "Finland",
          "Iceland",
          "Hungary",
          "Greece",
          "Peru",
          "Bulgaria",
          "Qatar",
          "Jordan",
          "Kuwait",
          "Vietnam",
          "Serbia",
          "",
          "Cambodia",
          "Kenya",
          "Portugal",
          "Morocco",
          "West Germany",
          "Ghana",
          "Bangladesh",
          "Venezuela",
          "Iran",
          "Croatia",
          "Zimbabwe",
          "Soviet Union",
          "Senegal",
          "Ukraine",
          "Malta",
          "Algeria",
          "Syria",
          "Slovenia",
          "Georgia",
          "Guatemala",
          "Iraq",
          "Nepal",
          "Namibia",
          "Cayman Islands",
          "Mauritius",
          "Puerto Rico",
          "Jamaica",
          "Nicaragua",
          "Dominican Republic",
          "Samoa",
          "Azerbaijan",
          "Botswana",
          "Vatican City",
          "Kazakhstan",
          "Liechtenstein",
          "Lithuania",
          "Afghanistan",
          "Somalia",
          "Sudan",
          "Panama",
          "Uganda",
          "East Germany",
          "Cuba",
          "Sri Lanka",
          "Latvia",
          "Ethiopia",
          "Cyprus",
          "Mozambique",
          "Angola",
          "Malawi",
          "Paraguay",
          "Burkina Faso",
          "Albania",
          "Palestine",
          "Belarus",
          "Cameroon",
          "Slovakia",
          "Bermuda",
          "Ecuador",
          "Armenia",
          "Mongolia",
          "Bahamas",
          "Montenegro"
         ],
         "y": [
          3690,
          1046,
          806,
          445,
          393,
          318,
          232,
          231,
          226,
          169,
          162,
          160,
          117,
          113,
          105,
          103,
          100,
          97,
          91,
          90,
          90,
          89,
          83,
          70,
          62,
          52,
          50,
          48,
          46,
          42,
          41,
          41,
          37,
          33,
          31,
          30,
          30,
          29,
          27,
          26,
          24,
          22,
          19,
          14,
          14,
          13,
          12,
          12,
          11,
          11,
          11,
          11,
          10,
          10,
          10,
          9,
          8,
          7,
          7,
          7,
          6,
          6,
          6,
          6,
          5,
          5,
          4,
          4,
          4,
          4,
          3,
          3,
          3,
          3,
          3,
          3,
          3,
          3,
          2,
          2,
          2,
          2,
          2,
          2,
          2,
          1,
          1,
          1,
          1,
          1,
          1,
          1,
          1,
          1,
          1,
          1,
          1,
          1,
          1,
          1,
          1,
          1,
          1,
          1,
          1,
          1,
          1,
          1,
          1,
          1,
          1,
          1,
          1,
          1,
          1,
          1,
          1,
          1,
          1,
          1,
          1,
          1,
          1
         ]
        }
       ],
       "layout": {
        "template": {
         "data": {
          "bar": [
           {
            "error_x": {
             "color": "#2a3f5f"
            },
            "error_y": {
             "color": "#2a3f5f"
            },
            "marker": {
             "line": {
              "color": "#E5ECF6",
              "width": 0.5
             },
             "pattern": {
              "fillmode": "overlay",
              "size": 10,
              "solidity": 0.2
             }
            },
            "type": "bar"
           }
          ],
          "barpolar": [
           {
            "marker": {
             "line": {
              "color": "#E5ECF6",
              "width": 0.5
             },
             "pattern": {
              "fillmode": "overlay",
              "size": 10,
              "solidity": 0.2
             }
            },
            "type": "barpolar"
           }
          ],
          "carpet": [
           {
            "aaxis": {
             "endlinecolor": "#2a3f5f",
             "gridcolor": "white",
             "linecolor": "white",
             "minorgridcolor": "white",
             "startlinecolor": "#2a3f5f"
            },
            "baxis": {
             "endlinecolor": "#2a3f5f",
             "gridcolor": "white",
             "linecolor": "white",
             "minorgridcolor": "white",
             "startlinecolor": "#2a3f5f"
            },
            "type": "carpet"
           }
          ],
          "choropleth": [
           {
            "colorbar": {
             "outlinewidth": 0,
             "ticks": ""
            },
            "type": "choropleth"
           }
          ],
          "contour": [
           {
            "colorbar": {
             "outlinewidth": 0,
             "ticks": ""
            },
            "colorscale": [
             [
              0,
              "#0d0887"
             ],
             [
              0.1111111111111111,
              "#46039f"
             ],
             [
              0.2222222222222222,
              "#7201a8"
             ],
             [
              0.3333333333333333,
              "#9c179e"
             ],
             [
              0.4444444444444444,
              "#bd3786"
             ],
             [
              0.5555555555555556,
              "#d8576b"
             ],
             [
              0.6666666666666666,
              "#ed7953"
             ],
             [
              0.7777777777777778,
              "#fb9f3a"
             ],
             [
              0.8888888888888888,
              "#fdca26"
             ],
             [
              1,
              "#f0f921"
             ]
            ],
            "type": "contour"
           }
          ],
          "contourcarpet": [
           {
            "colorbar": {
             "outlinewidth": 0,
             "ticks": ""
            },
            "type": "contourcarpet"
           }
          ],
          "heatmap": [
           {
            "colorbar": {
             "outlinewidth": 0,
             "ticks": ""
            },
            "colorscale": [
             [
              0,
              "#0d0887"
             ],
             [
              0.1111111111111111,
              "#46039f"
             ],
             [
              0.2222222222222222,
              "#7201a8"
             ],
             [
              0.3333333333333333,
              "#9c179e"
             ],
             [
              0.4444444444444444,
              "#bd3786"
             ],
             [
              0.5555555555555556,
              "#d8576b"
             ],
             [
              0.6666666666666666,
              "#ed7953"
             ],
             [
              0.7777777777777778,
              "#fb9f3a"
             ],
             [
              0.8888888888888888,
              "#fdca26"
             ],
             [
              1,
              "#f0f921"
             ]
            ],
            "type": "heatmap"
           }
          ],
          "heatmapgl": [
           {
            "colorbar": {
             "outlinewidth": 0,
             "ticks": ""
            },
            "colorscale": [
             [
              0,
              "#0d0887"
             ],
             [
              0.1111111111111111,
              "#46039f"
             ],
             [
              0.2222222222222222,
              "#7201a8"
             ],
             [
              0.3333333333333333,
              "#9c179e"
             ],
             [
              0.4444444444444444,
              "#bd3786"
             ],
             [
              0.5555555555555556,
              "#d8576b"
             ],
             [
              0.6666666666666666,
              "#ed7953"
             ],
             [
              0.7777777777777778,
              "#fb9f3a"
             ],
             [
              0.8888888888888888,
              "#fdca26"
             ],
             [
              1,
              "#f0f921"
             ]
            ],
            "type": "heatmapgl"
           }
          ],
          "histogram": [
           {
            "marker": {
             "pattern": {
              "fillmode": "overlay",
              "size": 10,
              "solidity": 0.2
             }
            },
            "type": "histogram"
           }
          ],
          "histogram2d": [
           {
            "colorbar": {
             "outlinewidth": 0,
             "ticks": ""
            },
            "colorscale": [
             [
              0,
              "#0d0887"
             ],
             [
              0.1111111111111111,
              "#46039f"
             ],
             [
              0.2222222222222222,
              "#7201a8"
             ],
             [
              0.3333333333333333,
              "#9c179e"
             ],
             [
              0.4444444444444444,
              "#bd3786"
             ],
             [
              0.5555555555555556,
              "#d8576b"
             ],
             [
              0.6666666666666666,
              "#ed7953"
             ],
             [
              0.7777777777777778,
              "#fb9f3a"
             ],
             [
              0.8888888888888888,
              "#fdca26"
             ],
             [
              1,
              "#f0f921"
             ]
            ],
            "type": "histogram2d"
           }
          ],
          "histogram2dcontour": [
           {
            "colorbar": {
             "outlinewidth": 0,
             "ticks": ""
            },
            "colorscale": [
             [
              0,
              "#0d0887"
             ],
             [
              0.1111111111111111,
              "#46039f"
             ],
             [
              0.2222222222222222,
              "#7201a8"
             ],
             [
              0.3333333333333333,
              "#9c179e"
             ],
             [
              0.4444444444444444,
              "#bd3786"
             ],
             [
              0.5555555555555556,
              "#d8576b"
             ],
             [
              0.6666666666666666,
              "#ed7953"
             ],
             [
              0.7777777777777778,
              "#fb9f3a"
             ],
             [
              0.8888888888888888,
              "#fdca26"
             ],
             [
              1,
              "#f0f921"
             ]
            ],
            "type": "histogram2dcontour"
           }
          ],
          "mesh3d": [
           {
            "colorbar": {
             "outlinewidth": 0,
             "ticks": ""
            },
            "type": "mesh3d"
           }
          ],
          "parcoords": [
           {
            "line": {
             "colorbar": {
              "outlinewidth": 0,
              "ticks": ""
             }
            },
            "type": "parcoords"
           }
          ],
          "pie": [
           {
            "automargin": true,
            "type": "pie"
           }
          ],
          "scatter": [
           {
            "marker": {
             "colorbar": {
              "outlinewidth": 0,
              "ticks": ""
             }
            },
            "type": "scatter"
           }
          ],
          "scatter3d": [
           {
            "line": {
             "colorbar": {
              "outlinewidth": 0,
              "ticks": ""
             }
            },
            "marker": {
             "colorbar": {
              "outlinewidth": 0,
              "ticks": ""
             }
            },
            "type": "scatter3d"
           }
          ],
          "scattercarpet": [
           {
            "marker": {
             "colorbar": {
              "outlinewidth": 0,
              "ticks": ""
             }
            },
            "type": "scattercarpet"
           }
          ],
          "scattergeo": [
           {
            "marker": {
             "colorbar": {
              "outlinewidth": 0,
              "ticks": ""
             }
            },
            "type": "scattergeo"
           }
          ],
          "scattergl": [
           {
            "marker": {
             "colorbar": {
              "outlinewidth": 0,
              "ticks": ""
             }
            },
            "type": "scattergl"
           }
          ],
          "scattermapbox": [
           {
            "marker": {
             "colorbar": {
              "outlinewidth": 0,
              "ticks": ""
             }
            },
            "type": "scattermapbox"
           }
          ],
          "scatterpolar": [
           {
            "marker": {
             "colorbar": {
              "outlinewidth": 0,
              "ticks": ""
             }
            },
            "type": "scatterpolar"
           }
          ],
          "scatterpolargl": [
           {
            "marker": {
             "colorbar": {
              "outlinewidth": 0,
              "ticks": ""
             }
            },
            "type": "scatterpolargl"
           }
          ],
          "scatterternary": [
           {
            "marker": {
             "colorbar": {
              "outlinewidth": 0,
              "ticks": ""
             }
            },
            "type": "scatterternary"
           }
          ],
          "surface": [
           {
            "colorbar": {
             "outlinewidth": 0,
             "ticks": ""
            },
            "colorscale": [
             [
              0,
              "#0d0887"
             ],
             [
              0.1111111111111111,
              "#46039f"
             ],
             [
              0.2222222222222222,
              "#7201a8"
             ],
             [
              0.3333333333333333,
              "#9c179e"
             ],
             [
              0.4444444444444444,
              "#bd3786"
             ],
             [
              0.5555555555555556,
              "#d8576b"
             ],
             [
              0.6666666666666666,
              "#ed7953"
             ],
             [
              0.7777777777777778,
              "#fb9f3a"
             ],
             [
              0.8888888888888888,
              "#fdca26"
             ],
             [
              1,
              "#f0f921"
             ]
            ],
            "type": "surface"
           }
          ],
          "table": [
           {
            "cells": {
             "fill": {
              "color": "#EBF0F8"
             },
             "line": {
              "color": "white"
             }
            },
            "header": {
             "fill": {
              "color": "#C8D4E3"
             },
             "line": {
              "color": "white"
             }
            },
            "type": "table"
           }
          ]
         },
         "layout": {
          "annotationdefaults": {
           "arrowcolor": "#2a3f5f",
           "arrowhead": 0,
           "arrowwidth": 1
          },
          "autotypenumbers": "strict",
          "coloraxis": {
           "colorbar": {
            "outlinewidth": 0,
            "ticks": ""
           }
          },
          "colorscale": {
           "diverging": [
            [
             0,
             "#8e0152"
            ],
            [
             0.1,
             "#c51b7d"
            ],
            [
             0.2,
             "#de77ae"
            ],
            [
             0.3,
             "#f1b6da"
            ],
            [
             0.4,
             "#fde0ef"
            ],
            [
             0.5,
             "#f7f7f7"
            ],
            [
             0.6,
             "#e6f5d0"
            ],
            [
             0.7,
             "#b8e186"
            ],
            [
             0.8,
             "#7fbc41"
            ],
            [
             0.9,
             "#4d9221"
            ],
            [
             1,
             "#276419"
            ]
           ],
           "sequential": [
            [
             0,
             "#0d0887"
            ],
            [
             0.1111111111111111,
             "#46039f"
            ],
            [
             0.2222222222222222,
             "#7201a8"
            ],
            [
             0.3333333333333333,
             "#9c179e"
            ],
            [
             0.4444444444444444,
             "#bd3786"
            ],
            [
             0.5555555555555556,
             "#d8576b"
            ],
            [
             0.6666666666666666,
             "#ed7953"
            ],
            [
             0.7777777777777778,
             "#fb9f3a"
            ],
            [
             0.8888888888888888,
             "#fdca26"
            ],
            [
             1,
             "#f0f921"
            ]
           ],
           "sequentialminus": [
            [
             0,
             "#0d0887"
            ],
            [
             0.1111111111111111,
             "#46039f"
            ],
            [
             0.2222222222222222,
             "#7201a8"
            ],
            [
             0.3333333333333333,
             "#9c179e"
            ],
            [
             0.4444444444444444,
             "#bd3786"
            ],
            [
             0.5555555555555556,
             "#d8576b"
            ],
            [
             0.6666666666666666,
             "#ed7953"
            ],
            [
             0.7777777777777778,
             "#fb9f3a"
            ],
            [
             0.8888888888888888,
             "#fdca26"
            ],
            [
             1,
             "#f0f921"
            ]
           ]
          },
          "colorway": [
           "#636efa",
           "#EF553B",
           "#00cc96",
           "#ab63fa",
           "#FFA15A",
           "#19d3f3",
           "#FF6692",
           "#B6E880",
           "#FF97FF",
           "#FECB52"
          ],
          "font": {
           "color": "#2a3f5f"
          },
          "geo": {
           "bgcolor": "white",
           "lakecolor": "white",
           "landcolor": "#E5ECF6",
           "showlakes": true,
           "showland": true,
           "subunitcolor": "white"
          },
          "hoverlabel": {
           "align": "left"
          },
          "hovermode": "closest",
          "mapbox": {
           "style": "light"
          },
          "paper_bgcolor": "white",
          "plot_bgcolor": "#E5ECF6",
          "polar": {
           "angularaxis": {
            "gridcolor": "white",
            "linecolor": "white",
            "ticks": ""
           },
           "bgcolor": "#E5ECF6",
           "radialaxis": {
            "gridcolor": "white",
            "linecolor": "white",
            "ticks": ""
           }
          },
          "scene": {
           "xaxis": {
            "backgroundcolor": "#E5ECF6",
            "gridcolor": "white",
            "gridwidth": 2,
            "linecolor": "white",
            "showbackground": true,
            "ticks": "",
            "zerolinecolor": "white"
           },
           "yaxis": {
            "backgroundcolor": "#E5ECF6",
            "gridcolor": "white",
            "gridwidth": 2,
            "linecolor": "white",
            "showbackground": true,
            "ticks": "",
            "zerolinecolor": "white"
           },
           "zaxis": {
            "backgroundcolor": "#E5ECF6",
            "gridcolor": "white",
            "gridwidth": 2,
            "linecolor": "white",
            "showbackground": true,
            "ticks": "",
            "zerolinecolor": "white"
           }
          },
          "shapedefaults": {
           "line": {
            "color": "#2a3f5f"
           }
          },
          "ternary": {
           "aaxis": {
            "gridcolor": "white",
            "linecolor": "white",
            "ticks": ""
           },
           "baxis": {
            "gridcolor": "white",
            "linecolor": "white",
            "ticks": ""
           },
           "bgcolor": "#E5ECF6",
           "caxis": {
            "gridcolor": "white",
            "linecolor": "white",
            "ticks": ""
           }
          },
          "title": {
           "x": 0.05
          },
          "xaxis": {
           "automargin": true,
           "gridcolor": "white",
           "linecolor": "white",
           "ticks": "",
           "title": {
            "standoff": 15
           },
           "zerolinecolor": "white",
           "zerolinewidth": 2
          },
          "yaxis": {
           "automargin": true,
           "gridcolor": "white",
           "linecolor": "white",
           "ticks": "",
           "title": {
            "standoff": 15
           },
           "zerolinecolor": "white",
           "zerolinewidth": 2
          }
         }
        },
        "title": {
         "text": "Volume de production par pays",
         "x": 0.5
        }
       }
      }
     },
     "metadata": {},
     "output_type": "display_data"
    },
    {
     "data": {
      "application/vnd.plotly.v1+json": {
       "config": {
        "plotlyServerURL": "https://plot.ly"
       },
       "data": [
        {
         "coloraxis": "coloraxis",
         "geo": "geo",
         "hovertemplate": "Pays=%{location}<br>Volume de production=%{z}<extra></extra>",
         "locationmode": "country names",
         "locations": [
          "United States",
          "India",
          "United Kingdom",
          "Canada",
          "France",
          "Japan",
          "Spain",
          "South Korea",
          "Germany",
          "Mexico",
          "China",
          "Australia",
          "Egypt",
          "Turkey",
          "Hong Kong",
          "Nigeria",
          "Italy",
          "Brazil",
          "Argentina",
          "Belgium",
          "Indonesia",
          "Taiwan",
          "Philippines",
          "Thailand",
          "South Africa",
          "Colombia",
          "Netherlands",
          "Denmark",
          "Ireland",
          "Sweden",
          "Poland",
          "Singapore",
          "United Arab Emirates",
          "New Zealand",
          "Lebanon",
          "Norway",
          "Israel",
          "Chile",
          "Russia",
          "Malaysia",
          "Pakistan",
          "Czech Republic",
          "Switzerland",
          "Uruguay",
          "Romania",
          "Saudi Arabia",
          "Luxembourg",
          "Austria",
          "Finland",
          "Iceland",
          "Hungary",
          "Greece",
          "Peru",
          "Bulgaria",
          "Qatar",
          "Jordan",
          "Kuwait",
          "Vietnam",
          "Serbia",
          "",
          "Cambodia",
          "Kenya",
          "Portugal",
          "Morocco",
          "West Germany",
          "Ghana",
          "Bangladesh",
          "Venezuela",
          "Iran",
          "Croatia",
          "Zimbabwe",
          "Soviet Union",
          "Senegal",
          "Ukraine",
          "Malta",
          "Algeria",
          "Syria",
          "Slovenia",
          "Georgia",
          "Guatemala",
          "Iraq",
          "Nepal",
          "Namibia",
          "Cayman Islands",
          "Mauritius",
          "Puerto Rico",
          "Jamaica",
          "Nicaragua",
          "Dominican Republic",
          "Samoa",
          "Azerbaijan",
          "Botswana",
          "Vatican City",
          "Kazakhstan",
          "Liechtenstein",
          "Lithuania",
          "Afghanistan",
          "Somalia",
          "Sudan",
          "Panama",
          "Uganda",
          "East Germany",
          "Cuba",
          "Sri Lanka",
          "Latvia",
          "Ethiopia",
          "Cyprus",
          "Mozambique",
          "Angola",
          "Malawi",
          "Paraguay",
          "Burkina Faso",
          "Albania",
          "Palestine",
          "Belarus",
          "Cameroon",
          "Slovakia",
          "Bermuda",
          "Ecuador",
          "Armenia",
          "Mongolia",
          "Bahamas",
          "Montenegro"
         ],
         "name": "",
         "type": "choropleth",
         "z": [
          3690,
          1046,
          806,
          445,
          393,
          318,
          232,
          231,
          226,
          169,
          162,
          160,
          117,
          113,
          105,
          103,
          100,
          97,
          91,
          90,
          90,
          89,
          83,
          70,
          62,
          52,
          50,
          48,
          46,
          42,
          41,
          41,
          37,
          33,
          31,
          30,
          30,
          29,
          27,
          26,
          24,
          22,
          19,
          14,
          14,
          13,
          12,
          12,
          11,
          11,
          11,
          11,
          10,
          10,
          10,
          9,
          8,
          7,
          7,
          7,
          6,
          6,
          6,
          6,
          5,
          5,
          4,
          4,
          4,
          4,
          3,
          3,
          3,
          3,
          3,
          3,
          3,
          3,
          2,
          2,
          2,
          2,
          2,
          2,
          2,
          1,
          1,
          1,
          1,
          1,
          1,
          1,
          1,
          1,
          1,
          1,
          1,
          1,
          1,
          1,
          1,
          1,
          1,
          1,
          1,
          1,
          1,
          1,
          1,
          1,
          1,
          1,
          1,
          1,
          1,
          1,
          1,
          1,
          1,
          1,
          1,
          1,
          1
         ]
        }
       ],
       "layout": {
        "coloraxis": {
         "cmax": 500,
         "cmin": 1,
         "colorbar": {
          "title": {
           "text": "Volume de production"
          }
         },
         "colorscale": [
          [
           0,
           "rgb(255,247,236)"
          ],
          [
           0.125,
           "rgb(254,232,200)"
          ],
          [
           0.25,
           "rgb(253,212,158)"
          ],
          [
           0.375,
           "rgb(253,187,132)"
          ],
          [
           0.5,
           "rgb(252,141,89)"
          ],
          [
           0.625,
           "rgb(239,101,72)"
          ],
          [
           0.75,
           "rgb(215,48,31)"
          ],
          [
           0.875,
           "rgb(179,0,0)"
          ],
          [
           1,
           "rgb(127,0,0)"
          ]
         ]
        },
        "geo": {
         "center": {},
         "domain": {
          "x": [
           0,
           1
          ],
          "y": [
           0,
           1
          ]
         }
        },
        "legend": {
         "tracegroupgap": 0
        },
        "margin": {
         "t": 60
        },
        "template": {
         "data": {
          "bar": [
           {
            "error_x": {
             "color": "#2a3f5f"
            },
            "error_y": {
             "color": "#2a3f5f"
            },
            "marker": {
             "line": {
              "color": "#E5ECF6",
              "width": 0.5
             },
             "pattern": {
              "fillmode": "overlay",
              "size": 10,
              "solidity": 0.2
             }
            },
            "type": "bar"
           }
          ],
          "barpolar": [
           {
            "marker": {
             "line": {
              "color": "#E5ECF6",
              "width": 0.5
             },
             "pattern": {
              "fillmode": "overlay",
              "size": 10,
              "solidity": 0.2
             }
            },
            "type": "barpolar"
           }
          ],
          "carpet": [
           {
            "aaxis": {
             "endlinecolor": "#2a3f5f",
             "gridcolor": "white",
             "linecolor": "white",
             "minorgridcolor": "white",
             "startlinecolor": "#2a3f5f"
            },
            "baxis": {
             "endlinecolor": "#2a3f5f",
             "gridcolor": "white",
             "linecolor": "white",
             "minorgridcolor": "white",
             "startlinecolor": "#2a3f5f"
            },
            "type": "carpet"
           }
          ],
          "choropleth": [
           {
            "colorbar": {
             "outlinewidth": 0,
             "ticks": ""
            },
            "type": "choropleth"
           }
          ],
          "contour": [
           {
            "colorbar": {
             "outlinewidth": 0,
             "ticks": ""
            },
            "colorscale": [
             [
              0,
              "#0d0887"
             ],
             [
              0.1111111111111111,
              "#46039f"
             ],
             [
              0.2222222222222222,
              "#7201a8"
             ],
             [
              0.3333333333333333,
              "#9c179e"
             ],
             [
              0.4444444444444444,
              "#bd3786"
             ],
             [
              0.5555555555555556,
              "#d8576b"
             ],
             [
              0.6666666666666666,
              "#ed7953"
             ],
             [
              0.7777777777777778,
              "#fb9f3a"
             ],
             [
              0.8888888888888888,
              "#fdca26"
             ],
             [
              1,
              "#f0f921"
             ]
            ],
            "type": "contour"
           }
          ],
          "contourcarpet": [
           {
            "colorbar": {
             "outlinewidth": 0,
             "ticks": ""
            },
            "type": "contourcarpet"
           }
          ],
          "heatmap": [
           {
            "colorbar": {
             "outlinewidth": 0,
             "ticks": ""
            },
            "colorscale": [
             [
              0,
              "#0d0887"
             ],
             [
              0.1111111111111111,
              "#46039f"
             ],
             [
              0.2222222222222222,
              "#7201a8"
             ],
             [
              0.3333333333333333,
              "#9c179e"
             ],
             [
              0.4444444444444444,
              "#bd3786"
             ],
             [
              0.5555555555555556,
              "#d8576b"
             ],
             [
              0.6666666666666666,
              "#ed7953"
             ],
             [
              0.7777777777777778,
              "#fb9f3a"
             ],
             [
              0.8888888888888888,
              "#fdca26"
             ],
             [
              1,
              "#f0f921"
             ]
            ],
            "type": "heatmap"
           }
          ],
          "heatmapgl": [
           {
            "colorbar": {
             "outlinewidth": 0,
             "ticks": ""
            },
            "colorscale": [
             [
              0,
              "#0d0887"
             ],
             [
              0.1111111111111111,
              "#46039f"
             ],
             [
              0.2222222222222222,
              "#7201a8"
             ],
             [
              0.3333333333333333,
              "#9c179e"
             ],
             [
              0.4444444444444444,
              "#bd3786"
             ],
             [
              0.5555555555555556,
              "#d8576b"
             ],
             [
              0.6666666666666666,
              "#ed7953"
             ],
             [
              0.7777777777777778,
              "#fb9f3a"
             ],
             [
              0.8888888888888888,
              "#fdca26"
             ],
             [
              1,
              "#f0f921"
             ]
            ],
            "type": "heatmapgl"
           }
          ],
          "histogram": [
           {
            "marker": {
             "pattern": {
              "fillmode": "overlay",
              "size": 10,
              "solidity": 0.2
             }
            },
            "type": "histogram"
           }
          ],
          "histogram2d": [
           {
            "colorbar": {
             "outlinewidth": 0,
             "ticks": ""
            },
            "colorscale": [
             [
              0,
              "#0d0887"
             ],
             [
              0.1111111111111111,
              "#46039f"
             ],
             [
              0.2222222222222222,
              "#7201a8"
             ],
             [
              0.3333333333333333,
              "#9c179e"
             ],
             [
              0.4444444444444444,
              "#bd3786"
             ],
             [
              0.5555555555555556,
              "#d8576b"
             ],
             [
              0.6666666666666666,
              "#ed7953"
             ],
             [
              0.7777777777777778,
              "#fb9f3a"
             ],
             [
              0.8888888888888888,
              "#fdca26"
             ],
             [
              1,
              "#f0f921"
             ]
            ],
            "type": "histogram2d"
           }
          ],
          "histogram2dcontour": [
           {
            "colorbar": {
             "outlinewidth": 0,
             "ticks": ""
            },
            "colorscale": [
             [
              0,
              "#0d0887"
             ],
             [
              0.1111111111111111,
              "#46039f"
             ],
             [
              0.2222222222222222,
              "#7201a8"
             ],
             [
              0.3333333333333333,
              "#9c179e"
             ],
             [
              0.4444444444444444,
              "#bd3786"
             ],
             [
              0.5555555555555556,
              "#d8576b"
             ],
             [
              0.6666666666666666,
              "#ed7953"
             ],
             [
              0.7777777777777778,
              "#fb9f3a"
             ],
             [
              0.8888888888888888,
              "#fdca26"
             ],
             [
              1,
              "#f0f921"
             ]
            ],
            "type": "histogram2dcontour"
           }
          ],
          "mesh3d": [
           {
            "colorbar": {
             "outlinewidth": 0,
             "ticks": ""
            },
            "type": "mesh3d"
           }
          ],
          "parcoords": [
           {
            "line": {
             "colorbar": {
              "outlinewidth": 0,
              "ticks": ""
             }
            },
            "type": "parcoords"
           }
          ],
          "pie": [
           {
            "automargin": true,
            "type": "pie"
           }
          ],
          "scatter": [
           {
            "marker": {
             "colorbar": {
              "outlinewidth": 0,
              "ticks": ""
             }
            },
            "type": "scatter"
           }
          ],
          "scatter3d": [
           {
            "line": {
             "colorbar": {
              "outlinewidth": 0,
              "ticks": ""
             }
            },
            "marker": {
             "colorbar": {
              "outlinewidth": 0,
              "ticks": ""
             }
            },
            "type": "scatter3d"
           }
          ],
          "scattercarpet": [
           {
            "marker": {
             "colorbar": {
              "outlinewidth": 0,
              "ticks": ""
             }
            },
            "type": "scattercarpet"
           }
          ],
          "scattergeo": [
           {
            "marker": {
             "colorbar": {
              "outlinewidth": 0,
              "ticks": ""
             }
            },
            "type": "scattergeo"
           }
          ],
          "scattergl": [
           {
            "marker": {
             "colorbar": {
              "outlinewidth": 0,
              "ticks": ""
             }
            },
            "type": "scattergl"
           }
          ],
          "scattermapbox": [
           {
            "marker": {
             "colorbar": {
              "outlinewidth": 0,
              "ticks": ""
             }
            },
            "type": "scattermapbox"
           }
          ],
          "scatterpolar": [
           {
            "marker": {
             "colorbar": {
              "outlinewidth": 0,
              "ticks": ""
             }
            },
            "type": "scatterpolar"
           }
          ],
          "scatterpolargl": [
           {
            "marker": {
             "colorbar": {
              "outlinewidth": 0,
              "ticks": ""
             }
            },
            "type": "scatterpolargl"
           }
          ],
          "scatterternary": [
           {
            "marker": {
             "colorbar": {
              "outlinewidth": 0,
              "ticks": ""
             }
            },
            "type": "scatterternary"
           }
          ],
          "surface": [
           {
            "colorbar": {
             "outlinewidth": 0,
             "ticks": ""
            },
            "colorscale": [
             [
              0,
              "#0d0887"
             ],
             [
              0.1111111111111111,
              "#46039f"
             ],
             [
              0.2222222222222222,
              "#7201a8"
             ],
             [
              0.3333333333333333,
              "#9c179e"
             ],
             [
              0.4444444444444444,
              "#bd3786"
             ],
             [
              0.5555555555555556,
              "#d8576b"
             ],
             [
              0.6666666666666666,
              "#ed7953"
             ],
             [
              0.7777777777777778,
              "#fb9f3a"
             ],
             [
              0.8888888888888888,
              "#fdca26"
             ],
             [
              1,
              "#f0f921"
             ]
            ],
            "type": "surface"
           }
          ],
          "table": [
           {
            "cells": {
             "fill": {
              "color": "#EBF0F8"
             },
             "line": {
              "color": "white"
             }
            },
            "header": {
             "fill": {
              "color": "#C8D4E3"
             },
             "line": {
              "color": "white"
             }
            },
            "type": "table"
           }
          ]
         },
         "layout": {
          "annotationdefaults": {
           "arrowcolor": "#2a3f5f",
           "arrowhead": 0,
           "arrowwidth": 1
          },
          "autotypenumbers": "strict",
          "coloraxis": {
           "colorbar": {
            "outlinewidth": 0,
            "ticks": ""
           }
          },
          "colorscale": {
           "diverging": [
            [
             0,
             "#8e0152"
            ],
            [
             0.1,
             "#c51b7d"
            ],
            [
             0.2,
             "#de77ae"
            ],
            [
             0.3,
             "#f1b6da"
            ],
            [
             0.4,
             "#fde0ef"
            ],
            [
             0.5,
             "#f7f7f7"
            ],
            [
             0.6,
             "#e6f5d0"
            ],
            [
             0.7,
             "#b8e186"
            ],
            [
             0.8,
             "#7fbc41"
            ],
            [
             0.9,
             "#4d9221"
            ],
            [
             1,
             "#276419"
            ]
           ],
           "sequential": [
            [
             0,
             "#0d0887"
            ],
            [
             0.1111111111111111,
             "#46039f"
            ],
            [
             0.2222222222222222,
             "#7201a8"
            ],
            [
             0.3333333333333333,
             "#9c179e"
            ],
            [
             0.4444444444444444,
             "#bd3786"
            ],
            [
             0.5555555555555556,
             "#d8576b"
            ],
            [
             0.6666666666666666,
             "#ed7953"
            ],
            [
             0.7777777777777778,
             "#fb9f3a"
            ],
            [
             0.8888888888888888,
             "#fdca26"
            ],
            [
             1,
             "#f0f921"
            ]
           ],
           "sequentialminus": [
            [
             0,
             "#0d0887"
            ],
            [
             0.1111111111111111,
             "#46039f"
            ],
            [
             0.2222222222222222,
             "#7201a8"
            ],
            [
             0.3333333333333333,
             "#9c179e"
            ],
            [
             0.4444444444444444,
             "#bd3786"
            ],
            [
             0.5555555555555556,
             "#d8576b"
            ],
            [
             0.6666666666666666,
             "#ed7953"
            ],
            [
             0.7777777777777778,
             "#fb9f3a"
            ],
            [
             0.8888888888888888,
             "#fdca26"
            ],
            [
             1,
             "#f0f921"
            ]
           ]
          },
          "colorway": [
           "#636efa",
           "#EF553B",
           "#00cc96",
           "#ab63fa",
           "#FFA15A",
           "#19d3f3",
           "#FF6692",
           "#B6E880",
           "#FF97FF",
           "#FECB52"
          ],
          "font": {
           "color": "#2a3f5f"
          },
          "geo": {
           "bgcolor": "white",
           "lakecolor": "white",
           "landcolor": "#E5ECF6",
           "showlakes": true,
           "showland": true,
           "subunitcolor": "white"
          },
          "hoverlabel": {
           "align": "left"
          },
          "hovermode": "closest",
          "mapbox": {
           "style": "light"
          },
          "paper_bgcolor": "white",
          "plot_bgcolor": "#E5ECF6",
          "polar": {
           "angularaxis": {
            "gridcolor": "white",
            "linecolor": "white",
            "ticks": ""
           },
           "bgcolor": "#E5ECF6",
           "radialaxis": {
            "gridcolor": "white",
            "linecolor": "white",
            "ticks": ""
           }
          },
          "scene": {
           "xaxis": {
            "backgroundcolor": "#E5ECF6",
            "gridcolor": "white",
            "gridwidth": 2,
            "linecolor": "white",
            "showbackground": true,
            "ticks": "",
            "zerolinecolor": "white"
           },
           "yaxis": {
            "backgroundcolor": "#E5ECF6",
            "gridcolor": "white",
            "gridwidth": 2,
            "linecolor": "white",
            "showbackground": true,
            "ticks": "",
            "zerolinecolor": "white"
           },
           "zaxis": {
            "backgroundcolor": "#E5ECF6",
            "gridcolor": "white",
            "gridwidth": 2,
            "linecolor": "white",
            "showbackground": true,
            "ticks": "",
            "zerolinecolor": "white"
           }
          },
          "shapedefaults": {
           "line": {
            "color": "#2a3f5f"
           }
          },
          "ternary": {
           "aaxis": {
            "gridcolor": "white",
            "linecolor": "white",
            "ticks": ""
           },
           "baxis": {
            "gridcolor": "white",
            "linecolor": "white",
            "ticks": ""
           },
           "bgcolor": "#E5ECF6",
           "caxis": {
            "gridcolor": "white",
            "linecolor": "white",
            "ticks": ""
           }
          },
          "title": {
           "x": 0.05
          },
          "xaxis": {
           "automargin": true,
           "gridcolor": "white",
           "linecolor": "white",
           "ticks": "",
           "title": {
            "standoff": 15
           },
           "zerolinecolor": "white",
           "zerolinewidth": 2
          },
          "yaxis": {
           "automargin": true,
           "gridcolor": "white",
           "linecolor": "white",
           "ticks": "",
           "title": {
            "standoff": 15
           },
           "zerolinecolor": "white",
           "zerolinewidth": 2
          }
         }
        },
        "title": {
         "text": "Production de contenu par pays",
         "x": 0.5
        }
       }
      }
     },
     "metadata": {},
     "output_type": "display_data"
    }
   ],
   "source": [
    "fig = go.Figure()\n",
    "fig.add_trace(go.Bar(x=volume_production_pays.index, \n",
    "                     y=volume_production_pays.values, \n",
    "                     text=volume_production_pays.values, \n",
    "                     texttemplate='%{text:.2s}', \n",
    "                     textposition='outside')\n",
    "                     )\n",
    "fig.update_layout(title_text='Volume de production par pays', title_x=0.5)\n",
    "fig.show()\n",
    "\n",
    "\n",
    "data = {'Pays': volume_production_pays.index, 'Volume de production': volume_production_pays.values}\n",
    "df = pd.DataFrame(data)\n",
    "\n",
    "fig = px.choropleth(df, locations=\"Pays\", color=\"Volume de production\", color_continuous_scale=px.colors.sequential.OrRd,  range_color=[1, 500], locationmode=\"country names\")\n",
    "fig.update_layout(title_text='Production de contenu par pays', title_x=0.5)\n",
    "\n",
    "fig.show()\n"
   ]
  },
  {
   "cell_type": "markdown",
   "metadata": {},
   "source": [
    "### Identifier les genres dominant par pays "
   ]
  },
  {
   "cell_type": "code",
   "execution_count": 494,
   "metadata": {},
   "outputs": [],
   "source": [
    "# la liste des pays producteurs\n",
    "liste_country = dataset['country'].dropna().str.split(',').explode().str.strip().unique()\n",
    "\n",
    "def get_top_genre_movies(liste_country):\n",
    "    liste_resultat = []\n",
    "    for country in liste_country:\n",
    "        dataset_country = dataset[dataset['country'].str.contains(country, na=False)]\n",
    "        dataset_country_movies = dataset_country[dataset_country['type'] == 'Movie']\n",
    "        top_genre_movies = dataset_country_movies['listed_in'].dropna().str.split(',').explode().str.strip().value_counts()\n",
    "        for i in range(len(top_genre_movies)):\n",
    "            liste_resultat.append({\"Pays\": country, \"Genre\": top_genre_movies.index[i], \"Valeurs\": top_genre_movies.values[i]})\n",
    "    return liste_resultat\n",
    "\n",
    "def get_top_genre_tvshow(liste_country):\n",
    "    liste_resultat = []\n",
    "    for country in liste_country:\n",
    "        dataset_country = dataset[dataset['country'].str.contains(country, na=False)]\n",
    "        dataset_country_tv_show = dataset_country[dataset_country['type'] == 'TV Show']\n",
    "        top_genre_tv_shows = dataset_country_tv_show['listed_in'].dropna().str.split(',').explode().str.strip().value_counts()\n",
    "        for i in range(len(top_genre_tv_shows)):\n",
    "            liste_resultat.append({\"Pays\": country, \"Genre\": top_genre_tv_shows.index[i], \"Valeurs\": top_genre_tv_shows.values[i]})\n",
    "    return liste_resultat\n",
    "\n",
    "top_genre_country_movie = pd.DataFrame(get_top_genre_movies(liste_country))\n",
    "top_genre_country_tvshow = pd.DataFrame(get_top_genre_tvshow(liste_country))\n",
    "\n",
    "# Les résultats contient la somme par genre ce qui fausse le treemap et affiche des genres sans pays associés\n",
    "# on supprime les lignes en question\n",
    "for i in range(len(top_genre_country_movie)):\n",
    "    if top_genre_country_movie['Pays'][i] == '':\n",
    "        top_genre_country_movie.drop(i, inplace=True)\n",
    "\n",
    "for i in range(len(top_genre_country_tvshow)):\n",
    "    if top_genre_country_tvshow['Pays'][i] == '':\n",
    "        top_genre_country_tvshow.drop(i, inplace=True)\n",
    "\n",
    "\n"
   ]
  },
  {
   "cell_type": "code",
   "execution_count": 495,
   "metadata": {},
   "outputs": [
    {
     "name": "stderr",
     "output_type": "stream",
     "text": [
      "/usr/lib/python3/dist-packages/plotly/express/_core.py:1637: FutureWarning:\n",
      "\n",
      "The frame.append method is deprecated and will be removed from pandas in a future version. Use pandas.concat instead.\n",
      "\n",
      "/usr/lib/python3/dist-packages/plotly/express/_core.py:1637: FutureWarning:\n",
      "\n",
      "The frame.append method is deprecated and will be removed from pandas in a future version. Use pandas.concat instead.\n",
      "\n"
     ]
    },
    {
     "data": {
      "application/vnd.plotly.v1+json": {
       "config": {
        "plotlyServerURL": "https://plot.ly"
       },
       "data": [
        {
         "branchvalues": "total",
         "customdata": [
          [
           1
          ],
          [
           3
          ],
          [
           5
          ],
          [
           1
          ],
          [
           2
          ],
          [
           2
          ],
          [
           2
          ],
          [
           1
          ],
          [
           1
          ],
          [
           3
          ],
          [
           5
          ],
          [
           22
          ],
          [
           1
          ],
          [
           3
          ],
          [
           13
          ],
          [
           1
          ],
          [
           12
          ],
          [
           5
          ],
          [
           5
          ],
          [
           2
          ],
          [
           44
          ],
          [
           1
          ],
          [
           63
          ],
          [
           1
          ],
          [
           5
          ],
          [
           3
          ],
          [
           15
          ],
          [
           1
          ],
          [
           37
          ],
          [
           33
          ],
          [
           2
          ],
          [
           66
          ],
          [
           4
          ],
          [
           1
          ],
          [
           137
          ],
          [
           6
          ],
          [
           3
          ],
          [
           1
          ],
          [
           6
          ],
          [
           57
          ],
          [
           1
          ],
          [
           3
          ],
          [
           5
          ],
          [
           9
          ],
          [
           1
          ],
          [
           1
          ],
          [
           1
          ],
          [
           7
          ],
          [
           4
          ],
          [
           4
          ],
          [
           2
          ],
          [
           1
          ],
          [
           5
          ],
          [
           3
          ],
          [
           4
          ],
          [
           1
          ],
          [
           2
          ],
          [
           5
          ],
          [
           12
          ],
          [
           17
          ],
          [
           1
          ],
          [
           10
          ],
          [
           2
          ],
          [
           2
          ],
          [
           3
          ],
          [
           8
          ],
          [
           5
          ],
          [
           3
          ],
          [
           84
          ],
          [
           404
          ],
          [
           2
          ],
          [
           2
          ],
          [
           61
          ],
          [
           7
          ],
          [
           3
          ],
          [
           19
          ],
          [
           7
          ],
          [
           7
          ],
          [
           1
          ],
          [
           1
          ],
          [
           80
          ],
          [
           2
          ],
          [
           1
          ],
          [
           16
          ],
          [
           1
          ],
          [
           3
          ],
          [
           1
          ],
          [
           1
          ],
          [
           1
          ],
          [
           23
          ],
          [
           18
          ],
          [
           3
          ],
          [
           1
          ],
          [
           26
          ],
          [
           6
          ],
          [
           5
          ],
          [
           3
          ],
          [
           19
          ],
          [
           1
          ],
          [
           1
          ],
          [
           3
          ],
          [
           1
          ],
          [
           1
          ],
          [
           1
          ],
          [
           5
          ],
          [
           5
          ],
          [
           2
          ],
          [
           1
          ],
          [
           1
          ],
          [
           2
          ],
          [
           1
          ],
          [
           1
          ],
          [
           2
          ],
          [
           1
          ],
          [
           10
          ],
          [
           9
          ],
          [
           1
          ],
          [
           2
          ],
          [
           4
          ],
          [
           46
          ],
          [
           390
          ],
          [
           1
          ],
          [
           1
          ],
          [
           1
          ],
          [
           5
          ],
          [
           1
          ],
          [
           1
          ],
          [
           8
          ],
          [
           6
          ],
          [
           1
          ],
          [
           1
          ],
          [
           11
          ],
          [
           1
          ],
          [
           6
          ],
          [
           3
          ],
          [
           1
          ],
          [
           1
          ],
          [
           1
          ],
          [
           1
          ],
          [
           2
          ],
          [
           1
          ],
          [
           16
          ],
          [
           81
          ],
          [
           1
          ],
          [
           14
          ],
          [
           15
          ],
          [
           1
          ],
          [
           20
          ],
          [
           20
          ],
          [
           2
          ],
          [
           94
          ],
          [
           2
          ],
          [
           7
          ],
          [
           31
          ],
          [
           8
          ],
          [
           1
          ],
          [
           3
          ],
          [
           1
          ],
          [
           1
          ],
          [
           57
          ],
          [
           2
          ],
          [
           51
          ],
          [
           43
          ],
          [
           2
          ],
          [
           1
          ],
          [
           33
          ],
          [
           323
          ],
          [
           15
          ],
          [
           6
          ],
          [
           2
          ],
          [
           12
          ],
          [
           9
          ],
          [
           2
          ],
          [
           2
          ],
          [
           4
          ],
          [
           5
          ],
          [
           7
          ],
          [
           1
          ],
          [
           24
          ],
          [
           2
          ],
          [
           7
          ],
          [
           2
          ],
          [
           41
          ],
          [
           2
          ],
          [
           7
          ],
          [
           3
          ],
          [
           28
          ],
          [
           6
          ],
          [
           2
          ],
          [
           2
          ],
          [
           5
          ],
          [
           1
          ],
          [
           6
          ],
          [
           1
          ],
          [
           17
          ],
          [
           17
          ],
          [
           47
          ],
          [
           5
          ],
          [
           3
          ],
          [
           1
          ],
          [
           3
          ],
          [
           12
          ],
          [
           58
          ],
          [
           11
          ],
          [
           91
          ],
          [
           680
          ],
          [
           3
          ],
          [
           2
          ],
          [
           1
          ],
          [
           1
          ],
          [
           2
          ],
          [
           1
          ],
          [
           6
          ],
          [
           1
          ],
          [
           1
          ],
          [
           1
          ],
          [
           2
          ],
          [
           4
          ],
          [
           5
          ],
          [
           5
          ],
          [
           1
          ],
          [
           1
          ],
          [
           1
          ],
          [
           1
          ],
          [
           1
          ],
          [
           7
          ],
          [
           52
          ],
          [
           1
          ],
          [
           10
          ],
          [
           1
          ],
          [
           15
          ],
          [
           3
          ],
          [
           7
          ],
          [
           1
          ],
          [
           1
          ],
          [
           12
          ],
          [
           42
          ],
          [
           7
          ],
          [
           3
          ],
          [
           1
          ],
          [
           11
          ],
          [
           1
          ],
          [
           2
          ],
          [
           3
          ],
          [
           44
          ],
          [
           1
          ],
          [
           22
          ],
          [
           1
          ],
          [
           1
          ],
          [
           1
          ],
          [
           27
          ],
          [
           2
          ],
          [
           2
          ],
          [
           6
          ],
          [
           6
          ],
          [
           17
          ],
          [
           7
          ],
          [
           1
          ],
          [
           1
          ],
          [
           5
          ],
          [
           18
          ],
          [
           1
          ],
          [
           1
          ],
          [
           1
          ],
          [
           11
          ],
          [
           7
          ],
          [
           1
          ],
          [
           2
          ],
          [
           3
          ],
          [
           1
          ],
          [
           1
          ],
          [
           4
          ],
          [
           1
          ],
          [
           1
          ],
          [
           1
          ],
          [
           1
          ],
          [
           2
          ],
          [
           1
          ],
          [
           1
          ],
          [
           1
          ],
          [
           1
          ],
          [
           8
          ],
          [
           2
          ],
          [
           21
          ],
          [
           1
          ],
          [
           10
          ],
          [
           4
          ],
          [
           1
          ],
          [
           5
          ],
          [
           1
          ],
          [
           1
          ],
          [
           7
          ],
          [
           128
          ],
          [
           512
          ],
          [
           7
          ],
          [
           1
          ],
          [
           3
          ],
          [
           1
          ],
          [
           1
          ],
          [
           2
          ],
          [
           1
          ],
          [
           3
          ],
          [
           35
          ],
          [
           38
          ],
          [
           6
          ],
          [
           4
          ],
          [
           44
          ],
          [
           26
          ],
          [
           2
          ],
          [
           1
          ],
          [
           3
          ],
          [
           1
          ],
          [
           82
          ],
          [
           12
          ],
          [
           32
          ],
          [
           7
          ],
          [
           2
          ],
          [
           7
          ],
          [
           16
          ],
          [
           44
          ],
          [
           1
          ],
          [
           2
          ],
          [
           167
          ],
          [
           1
          ],
          [
           80
          ],
          [
           5
          ],
          [
           3
          ],
          [
           1
          ],
          [
           33
          ],
          [
           6
          ],
          [
           6
          ],
          [
           662
          ],
          [
           63
          ],
          [
           3
          ],
          [
           15
          ],
          [
           9
          ],
          [
           32
          ],
          [
           1
          ],
          [
           23
          ],
          [
           5
          ],
          [
           3
          ],
          [
           2
          ],
          [
           1
          ],
          [
           18
          ],
          [
           1
          ],
          [
           1
          ],
          [
           8
          ],
          [
           1
          ],
          [
           11
          ],
          [
           1
          ],
          [
           44
          ],
          [
           1
          ],
          [
           4
          ],
          [
           1
          ],
          [
           1
          ],
          [
           1
          ],
          [
           19
          ],
          [
           11
          ],
          [
           64
          ],
          [
           13
          ],
          [
           13
          ],
          [
           2
          ],
          [
           50
          ],
          [
           25
          ],
          [
           5
          ],
          [
           7
          ],
          [
           9
          ],
          [
           3
          ],
          [
           4
          ],
          [
           1
          ],
          [
           3
          ],
          [
           7
          ],
          [
           1
          ],
          [
           1
          ],
          [
           1
          ],
          [
           21
          ],
          [
           26
          ],
          [
           2
          ],
          [
           76
          ],
          [
           1
          ],
          [
           15
          ],
          [
           13
          ],
          [
           2
          ],
          [
           10
          ],
          [
           8
          ],
          [
           30
          ],
          [
           19
          ],
          [
           197
          ],
          [
           835
          ],
          [
           6
          ],
          [
           1
          ],
          [
           4
          ],
          [
           2
          ],
          [
           4
          ],
          [
           3
          ],
          [
           1
          ],
          [
           3
          ],
          [
           1
          ],
          [
           4
          ],
          [
           5
          ],
          [
           1
          ],
          [
           1
          ],
          [
           1
          ],
          [
           1
          ],
          [
           2
          ],
          [
           1
          ],
          [
           1
          ],
          [
           1
          ],
          [
           3
          ],
          [
           1
          ],
          [
           3
          ],
          [
           5
          ],
          [
           42
          ],
          [
           1
          ],
          [
           3
          ],
          [
           3
          ],
          [
           1
          ],
          [
           4
          ],
          [
           1
          ],
          [
           36
          ],
          [
           3
          ],
          [
           2
          ],
          [
           1
          ],
          [
           1
          ],
          [
           3
          ],
          [
           10
          ],
          [
           8
          ],
          [
           1
          ],
          [
           1
          ],
          [
           35
          ],
          [
           10
          ],
          [
           1
          ],
          [
           3
          ],
          [
           2
          ],
          [
           3
          ],
          [
           4
          ],
          [
           1
          ],
          [
           4
          ],
          [
           8
          ],
          [
           1
          ],
          [
           2
          ],
          [
           2
          ],
          [
           1
          ],
          [
           1
          ],
          [
           4
          ],
          [
           2
          ],
          [
           1
          ],
          [
           1
          ],
          [
           1
          ],
          [
           3
          ],
          [
           1
          ],
          [
           2
          ],
          [
           5
          ],
          [
           10
          ],
          [
           4
          ],
          [
           15
          ],
          [
           4
          ],
          [
           2
          ],
          [
           28
          ],
          [
           201
          ],
          [
           1
          ],
          [
           1
          ],
          [
           1
          ],
          [
           8
          ],
          [
           8
          ],
          [
           4
          ],
          [
           4
          ],
          [
           17
          ],
          [
           12
          ],
          [
           1
          ],
          [
           1
          ],
          [
           44
          ],
          [
           8
          ],
          [
           2
          ],
          [
           3
          ],
          [
           2
          ],
          [
           1
          ],
          [
           9
          ],
          [
           5
          ],
          [
           1
          ],
          [
           73
          ],
          [
           1
          ],
          [
           31
          ],
          [
           2
          ],
          [
           2
          ],
          [
           1
          ],
          [
           4
          ],
          [
           3
          ],
          [
           167
          ],
          [
           1
          ],
          [
           2
          ],
          [
           7
          ],
          [
           4
          ],
          [
           7
          ],
          [
           7
          ],
          [
           1
          ],
          [
           5
          ],
          [
           2
          ],
          [
           1
          ],
          [
           1
          ],
          [
           23
          ],
          [
           1
          ],
          [
           4
          ],
          [
           3
          ],
          [
           7
          ],
          [
           2
          ],
          [
           4
          ],
          [
           3
          ],
          [
           5
          ],
          [
           2
          ],
          [
           4
          ],
          [
           2
          ],
          [
           1
          ],
          [
           1
          ],
          [
           1
          ],
          [
           2
          ],
          [
           3
          ],
          [
           2
          ],
          [
           20
          ],
          [
           6
          ],
          [
           3
          ],
          [
           2
          ],
          [
           3
          ],
          [
           3
          ],
          [
           3
          ],
          [
           74
          ],
          [
           390
          ],
          [
           1
          ],
          [
           1
          ],
          [
           4
          ],
          [
           2
          ],
          [
           3
          ],
          [
           6
          ],
          [
           1
          ],
          [
           1
          ],
          [
           1
          ],
          [
           2
          ],
          [
           1
          ],
          [
           1
          ],
          [
           1
          ],
          [
           2
          ],
          [
           4
          ],
          [
           1
          ],
          [
           1
          ],
          [
           4
          ],
          [
           1
          ],
          [
           4
          ],
          [
           7
          ],
          [
           63
          ],
          [
           5
          ],
          [
           4
          ],
          [
           2
          ],
          [
           5
          ],
          [
           14
          ],
          [
           2
          ],
          [
           4
          ],
          [
           1
          ],
          [
           8
          ],
          [
           8
          ],
          [
           1
          ],
          [
           96
          ],
          [
           1
          ],
          [
           3
          ],
          [
           6
          ],
          [
           1
          ],
          [
           3
          ],
          [
           3
          ],
          [
           1
          ],
          [
           3
          ],
          [
           1
          ],
          [
           2
          ],
          [
           1
          ],
          [
           3
          ],
          [
           1
          ],
          [
           1
          ],
          [
           6
          ],
          [
           3
          ],
          [
           2
          ],
          [
           4
          ],
          [
           1
          ],
          [
           1
          ],
          [
           36
          ],
          [
           147
          ],
          [
           1
          ],
          [
           1
          ],
          [
           3
          ],
          [
           6
          ],
          [
           3
          ],
          [
           2
          ],
          [
           25
          ],
          [
           1
          ],
          [
           9
          ],
          [
           2
          ],
          [
           1
          ],
          [
           2
          ],
          [
           12
          ],
          [
           22
          ],
          [
           10
          ],
          [
           1
          ],
          [
           10
          ],
          [
           1
          ],
          [
           1
          ],
          [
           120
          ],
          [
           27
          ],
          [
           4
          ],
          [
           7
          ],
          [
           7
          ],
          [
           1
          ],
          [
           3
          ],
          [
           1
          ],
          [
           2
          ],
          [
           1
          ],
          [
           8
          ],
          [
           4
          ],
          [
           1
          ],
          [
           20
          ],
          [
           1
          ],
          [
           4
          ],
          [
           1
          ],
          [
           35
          ],
          [
           4
          ],
          [
           1
          ],
          [
           3
          ],
          [
           2
          ],
          [
           1
          ],
          [
           10
          ],
          [
           2
          ],
          [
           1
          ],
          [
           11
          ],
          [
           1
          ],
          [
           2
          ],
          [
           9
          ],
          [
           23
          ],
          [
           1
          ],
          [
           38
          ],
          [
           225
          ],
          [
           1
          ],
          [
           1
          ],
          [
           1
          ],
          [
           7
          ],
          [
           1
          ],
          [
           3
          ],
          [
           1
          ],
          [
           1
          ],
          [
           28
          ],
          [
           13
          ],
          [
           1
          ],
          [
           3
          ],
          [
           10
          ],
          [
           13
          ],
          [
           1
          ],
          [
           4
          ],
          [
           2
          ],
          [
           1
          ],
          [
           12
          ],
          [
           2
          ],
          [
           1
          ],
          [
           1
          ],
          [
           9
          ],
          [
           1
          ],
          [
           1
          ],
          [
           6
          ],
          [
           2
          ],
          [
           6
          ],
          [
           1
          ],
          [
           1
          ],
          [
           2
          ],
          [
           2
          ],
          [
           1
          ],
          [
           1
          ],
          [
           3
          ],
          [
           5
          ],
          [
           1
          ],
          [
           11
          ],
          [
           1
          ],
          [
           3
          ],
          [
           35
          ],
          [
           181
          ],
          [
           6
          ],
          [
           8
          ],
          [
           1
          ],
          [
           2
          ],
          [
           13
          ],
          [
           1
          ],
          [
           1
          ],
          [
           1
          ],
          [
           2
          ],
          [
           2
          ],
          [
           1
          ],
          [
           12
          ],
          [
           5
          ],
          [
           1
          ],
          [
           17
          ],
          [
           4
          ],
          [
           2
          ],
          [
           1
          ],
          [
           4
          ],
          [
           1
          ],
          [
           1
          ],
          [
           3
          ],
          [
           3
          ],
          [
           1
          ],
          [
           1
          ],
          [
           1
          ],
          [
           1
          ],
          [
           1
          ],
          [
           1
          ],
          [
           1
          ],
          [
           5
          ],
          [
           1
          ],
          [
           1
          ],
          [
           2
          ],
          [
           2
          ],
          [
           2
          ],
          [
           21
          ],
          [
           113
          ],
          [
           1
          ],
          [
           8
          ],
          [
           3
          ],
          [
           9
          ],
          [
           2
          ],
          [
           3
          ],
          [
           4
          ],
          [
           5
          ],
          [
           5
          ],
          [
           1
          ],
          [
           6
          ],
          [
           4
          ],
          [
           18
          ],
          [
           1
          ],
          [
           1
          ],
          [
           1
          ],
          [
           2
          ],
          [
           1
          ],
          [
           1
          ],
          [
           21
          ],
          [
           216
          ],
          [
           8
          ],
          [
           9
          ],
          [
           2
          ],
          [
           11
          ],
          [
           3
          ],
          [
           3
          ],
          [
           49
          ],
          [
           2
          ],
          [
           6
          ],
          [
           1
          ],
          [
           5
          ],
          [
           1
          ],
          [
           4
          ],
          [
           44
          ],
          [
           29
          ],
          [
           3
          ],
          [
           1
          ],
          [
           2
          ],
          [
           92
          ],
          [
           1
          ],
          [
           2
          ],
          [
           4
          ],
          [
           9
          ],
          [
           5
          ],
          [
           2
          ],
          [
           2
          ],
          [
           1
          ],
          [
           1
          ],
          [
           1
          ],
          [
           2
          ],
          [
           1
          ],
          [
           2
          ],
          [
           16
          ],
          [
           5
          ],
          [
           3
          ],
          [
           6
          ],
          [
           2
          ],
          [
           3
          ],
          [
           1
          ],
          [
           1
          ],
          [
           3
          ],
          [
           3
          ],
          [
           14
          ],
          [
           38
          ],
          [
           5
          ],
          [
           1
          ],
          [
           3
          ],
          [
           3
          ],
          [
           3
          ],
          [
           5
          ],
          [
           61
          ],
          [
           292
          ],
          [
           1
          ],
          [
           1
          ],
          [
           1
          ],
          [
           1
          ],
          [
           1
          ],
          [
           2.2
          ],
          [
           1
          ],
          [
           16.232142857142858
          ],
          [
           1
          ],
          [
           17.220858895705522
          ],
          [
           3.7777777777777777
          ],
          [
           1
          ],
          [
           3.6666666666666665
          ],
          [
           22.789473684210527
          ],
          [
           1
          ],
          [
           1
          ],
          [
           14.418181818181818
          ],
          [
           3
          ],
          [
           1
          ],
          [
           2.111111111111111
          ],
          [
           1
          ],
          [
           57.90052356020942
          ],
          [
           2
          ],
          [
           7.256410256410256
          ],
          [
           34.91489361702128
          ],
          [
           5.275862068965517
          ],
          [
           1.8
          ],
          [
           3.8461538461538463
          ],
          [
           9.641509433962264
          ],
          [
           1
          ],
          [
           1
          ],
          [
           1
          ],
          [
           36.261146496815286
          ],
          [
           1
          ],
          [
           1.9090909090909092
          ],
          [
           81.9980732177264
          ],
          [
           1
          ],
          [
           39.547770700636946
          ],
          [
           3.6666666666666665
          ],
          [
           1.8571428571428572
          ],
          [
           1
          ],
          [
           40.68484848484849
          ],
          [
           3.75
          ],
          [
           3.375
          ],
          [
           358.53960964408725
          ],
          [
           36.23943661971831
          ],
          [
           2
          ],
          [
           2
          ],
          [
           7.666666666666667
          ],
          [
           5.193548387096774
          ],
          [
           15.258620689655173
          ],
          [
           1
          ],
          [
           37.21621621621622
          ],
          [
           3
          ],
          [
           1
          ],
          [
           2.111111111111111
          ],
          [
           2.5555555555555554
          ],
          [
           1
          ],
          [
           10.538461538461538
          ],
          [
           1
          ],
          [
           1
          ],
          [
           4.888888888888889
          ],
          [
           1
          ],
          [
           7
          ],
          [
           1
          ],
          [
           1
          ],
          [
           22.771428571428572
          ],
          [
           1
          ],
          [
           1
          ],
          [
           2.5555555555555554
          ],
          [
           1
          ],
          [
           1
          ],
          [
           1.5
          ],
          [
           10.01639344262295
          ],
          [
           6.454545454545454
          ],
          [
           1
          ],
          [
           41.18987341772152
          ],
          [
           7.0606060606060606
          ],
          [
           7.571428571428571
          ],
          [
           1
          ],
          [
           1
          ],
          [
           1
          ],
          [
           2.6666666666666665
          ],
          [
           33.51094890510949
          ],
          [
           13.535714285714286
          ],
          [
           2.8461538461538463
          ],
          [
           4.222222222222222
          ],
          [
           5.24
          ],
          [
           2.411764705882353
          ],
          [
           1
          ],
          [
           3.875
          ],
          [
           1
          ],
          [
           1.9090909090909092
          ],
          [
           4.083333333333333
          ],
          [
           1
          ],
          [
           1.3333333333333333
          ],
          [
           1
          ],
          [
           12.581395348837209
          ],
          [
           15.283018867924529
          ],
          [
           1.3333333333333333
          ],
          [
           39.45652173913044
          ],
          [
           1
          ],
          [
           1
          ],
          [
           8.56
          ],
          [
           7.5
          ],
          [
           1.8
          ],
          [
           4.9393939393939394
          ],
          [
           8.891891891891891
          ],
          [
           37.10687022900763
          ],
          [
           1
          ],
          [
           1
          ],
          [
           9.98360655737705
          ],
          [
           97.64222222222222
          ],
          [
           452.2565423449413
          ],
          [
           5.105263157894737
          ],
          [
           1
          ],
          [
           2.2
          ],
          [
           2.230769230769231
          ],
          [
           1
          ],
          [
           1.5
          ]
         ],
         "domain": {
          "x": [
           0,
           1
          ],
          "y": [
           0,
           1
          ]
         },
         "hovertemplate": "labels=%{label}<br>values_sum=%{value}<br>parent=%{parent}<br>id=%{id}<br>values=%{color}<extra></extra>",
         "ids": [
          "Argentina/",
          "Australia/",
          "Canada/",
          "France/",
          "Germany/",
          "Greece/",
          "Japan/",
          "Mexico/",
          "South Korea/",
          "Spain/",
          "United Kingdom/",
          "United States/",
          "Angola/Action & Adventure",
          "Argentina/Action & Adventure",
          "Australia/Action & Adventure",
          "Bahamas/Action & Adventure",
          "Belgium/Action & Adventure",
          "Brazil/Action & Adventure",
          "Bulgaria/Action & Adventure",
          "Cambodia/Action & Adventure",
          "Canada/Action & Adventure",
          "Chile/Action & Adventure",
          "China/Action & Adventure",
          "Colombia/Action & Adventure",
          "Czech Republic/Action & Adventure",
          "Denmark/Action & Adventure",
          "Egypt/Action & Adventure",
          "Finland/Action & Adventure",
          "France/Action & Adventure",
          "Germany/Action & Adventure",
          "Greece/Action & Adventure",
          "Hong Kong/Action & Adventure",
          "Hungary/Action & Adventure",
          "Iceland/Action & Adventure",
          "India/Action & Adventure",
          "Indonesia/Action & Adventure",
          "Ireland/Action & Adventure",
          "Israel/Action & Adventure",
          "Italy/Action & Adventure",
          "Japan/Action & Adventure",
          "Kuwait/Action & Adventure",
          "Luxembourg/Action & Adventure",
          "Malaysia/Action & Adventure",
          "Mexico/Action & Adventure",
          "Morocco/Action & Adventure",
          "Nepal/Action & Adventure",
          "Netherlands/Action & Adventure",
          "New Zealand/Action & Adventure",
          "Nigeria/Action & Adventure",
          "Norway/Action & Adventure",
          "Pakistan/Action & Adventure",
          "Paraguay/Action & Adventure",
          "Philippines/Action & Adventure",
          "Poland/Action & Adventure",
          "Russia/Action & Adventure",
          "Saudi Arabia/Action & Adventure",
          "Serbia/Action & Adventure",
          "Singapore/Action & Adventure",
          "South Africa/Action & Adventure",
          "South Korea/Action & Adventure",
          "Soviet Union/Action & Adventure",
          "Spain/Action & Adventure",
          "Sweden/Action & Adventure",
          "Switzerland/Action & Adventure",
          "Taiwan/Action & Adventure",
          "Thailand/Action & Adventure",
          "Turkey/Action & Adventure",
          "United Arab Emirates/Action & Adventure",
          "United Kingdom/Action & Adventure",
          "United States/Action & Adventure",
          "Vietnam/Action & Adventure",
          "China/Anime Features",
          "Japan/Anime Features",
          "United States/Anime Features",
          "Argentina/Children & Family Movies",
          "Australia/Children & Family Movies",
          "Belgium/Children & Family Movies",
          "Brazil/Children & Family Movies",
          "Bulgaria/Children & Family Movies",
          "Cambodia/Children & Family Movies",
          "Canada/Children & Family Movies",
          "Cayman Islands/Children & Family Movies",
          "Chile/Children & Family Movies",
          "China/Children & Family Movies",
          "Czech Republic/Children & Family Movies",
          "Denmark/Children & Family Movies",
          "East Germany/Children & Family Movies",
          "Egypt/Children & Family Movies",
          "Finland/Children & Family Movies",
          "France/Children & Family Movies",
          "Germany/Children & Family Movies",
          "Hong Kong/Children & Family Movies",
          "Hungary/Children & Family Movies",
          "India/Children & Family Movies",
          "Indonesia/Children & Family Movies",
          "Ireland/Children & Family Movies",
          "Italy/Children & Family Movies",
          "Japan/Children & Family Movies",
          "Kazakhstan/Children & Family Movies",
          "Lebanon/Children & Family Movies",
          "Luxembourg/Children & Family Movies",
          "Malawi/Children & Family Movies",
          "Malaysia/Children & Family Movies",
          "Mauritius/Children & Family Movies",
          "Mexico/Children & Family Movies",
          "Netherlands/Children & Family Movies",
          "New Zealand/Children & Family Movies",
          "Norway/Children & Family Movies",
          "Pakistan/Children & Family Movies",
          "Philippines/Children & Family Movies",
          "Qatar/Children & Family Movies",
          "Romania/Children & Family Movies",
          "Russia/Children & Family Movies",
          "South Africa/Children & Family Movies",
          "South Korea/Children & Family Movies",
          "Spain/Children & Family Movies",
          "Thailand/Children & Family Movies",
          "Turkey/Children & Family Movies",
          "United Arab Emirates/Children & Family Movies",
          "United Kingdom/Children & Family Movies",
          "United States/Children & Family Movies",
          "West Germany/Children & Family Movies",
          "Algeria/Classic Movies",
          "Argentina/Classic Movies",
          "Australia/Classic Movies",
          "Belgium/Classic Movies",
          "East Germany/Classic Movies",
          "Egypt/Classic Movies",
          "France/Classic Movies",
          "Germany/Classic Movies",
          "Hong Kong/Classic Movies",
          "India/Classic Movies",
          "Iran/Classic Movies",
          "Italy/Classic Movies",
          "Japan/Classic Movies",
          "Lebanon/Classic Movies",
          "Liechtenstein/Classic Movies",
          "Mexico/Classic Movies",
          "New Zealand/Classic Movies",
          "Poland/Classic Movies",
          "Spain/Classic Movies",
          "United Kingdom/Classic Movies",
          "United States/Classic Movies",
          "West Germany/Classic Movies",
          "Argentina/Comedies",
          "Australia/Comedies",
          "Bangladesh/Comedies",
          "Belgium/Comedies",
          "Brazil/Comedies",
          "Cambodia/Comedies",
          "Canada/Comedies",
          "Cayman Islands/Comedies",
          "Chile/Comedies",
          "China/Comedies",
          "Colombia/Comedies",
          "Croatia/Comedies",
          "Czech Republic/Comedies",
          "Denmark/Comedies",
          "East Germany/Comedies",
          "Egypt/Comedies",
          "Finland/Comedies",
          "France/Comedies",
          "Germany/Comedies",
          "Ghana/Comedies",
          "Greece/Comedies",
          "Hong Kong/Comedies",
          "India/Comedies",
          "Indonesia/Comedies",
          "Ireland/Comedies",
          "Israel/Comedies",
          "Italy/Comedies",
          "Japan/Comedies",
          "Jordan/Comedies",
          "Kenya/Comedies",
          "Kuwait/Comedies",
          "Lebanon/Comedies",
          "Malaysia/Comedies",
          "Mauritius/Comedies",
          "Mexico/Comedies",
          "Nepal/Comedies",
          "Netherlands/Comedies",
          "New Zealand/Comedies",
          "Nigeria/Comedies",
          "Norway/Comedies",
          "Pakistan/Comedies",
          "Peru/Comedies",
          "Philippines/Comedies",
          "Poland/Comedies",
          "Portugal/Comedies",
          "Qatar/Comedies",
          "Romania/Comedies",
          "Russia/Comedies",
          "Saudi Arabia/Comedies",
          "Slovenia/Comedies",
          "South Africa/Comedies",
          "South Korea/Comedies",
          "Spain/Comedies",
          "Sweden/Comedies",
          "Switzerland/Comedies",
          "Syria/Comedies",
          "Taiwan/Comedies",
          "Thailand/Comedies",
          "Turkey/Comedies",
          "United Arab Emirates/Comedies",
          "United Kingdom/Comedies",
          "United States/Comedies",
          "Uruguay/Comedies",
          "Vietnam/Comedies",
          "West Germany/Comedies",
          "Zimbabwe/Comedies",
          "Argentina/Cult Movies",
          "Australia/Cult Movies",
          "Canada/Cult Movies",
          "China/Cult Movies",
          "Czech Republic/Cult Movies",
          "Denmark/Cult Movies",
          "France/Cult Movies",
          "Germany/Cult Movies",
          "Hong Kong/Cult Movies",
          "India/Cult Movies",
          "Japan/Cult Movies",
          "Poland/Cult Movies",
          "Singapore/Cult Movies",
          "South Korea/Cult Movies",
          "Sweden/Cult Movies",
          "United Kingdom/Cult Movies",
          "United States/Cult Movies",
          "Afghanistan/Documentaries",
          "Argentina/Documentaries",
          "Armenia/Documentaries",
          "Australia/Documentaries",
          "Austria/Documentaries",
          "Belgium/Documentaries",
          "Bermuda/Documentaries",
          "Botswana/Documentaries",
          "Brazil/Documentaries",
          "Canada/Documentaries",
          "China/Documentaries",
          "Colombia/Documentaries",
          "Czech Republic/Documentaries",
          "Denmark/Documentaries",
          "Ecuador/Documentaries",
          "Egypt/Documentaries",
          "Finland/Documentaries",
          "France/Documentaries",
          "Georgia/Documentaries",
          "Germany/Documentaries",
          "Greece/Documentaries",
          "Guatemala/Documentaries",
          "Hong Kong/Documentaries",
          "India/Documentaries",
          "Indonesia/Documentaries",
          "Iraq/Documentaries",
          "Ireland/Documentaries",
          "Israel/Documentaries",
          "Italy/Documentaries",
          "Japan/Documentaries",
          "Jordan/Documentaries",
          "Kenya/Documentaries",
          "Lebanon/Documentaries",
          "Mexico/Documentaries",
          "Mongolia/Documentaries",
          "Morocco/Documentaries",
          "Namibia/Documentaries",
          "Netherlands/Documentaries",
          "New Zealand/Documentaries",
          "Nicaragua/Documentaries",
          "Nigeria/Documentaries",
          "Norway/Documentaries",
          "Palestine/Documentaries",
          "Panama/Documentaries",
          "Peru/Documentaries",
          "Philippines/Documentaries",
          "Poland/Documentaries",
          "Qatar/Documentaries",
          "Romania/Documentaries",
          "Russia/Documentaries",
          "Samoa/Documentaries",
          "Senegal/Documentaries",
          "Serbia/Documentaries",
          "Singapore/Documentaries",
          "South Africa/Documentaries",
          "South Korea/Documentaries",
          "Spain/Documentaries",
          "Sri Lanka/Documentaries",
          "Sweden/Documentaries",
          "Switzerland/Documentaries",
          "Taiwan/Documentaries",
          "Thailand/Documentaries",
          "Uganda/Documentaries",
          "Ukraine/Documentaries",
          "United Arab Emirates/Documentaries",
          "United Kingdom/Documentaries",
          "United States/Documentaries",
          "Uruguay/Documentaries",
          "Vatican City/Documentaries",
          "Venezuela/Documentaries",
          "Vietnam/Documentaries",
          "West Germany/Documentaries",
          "Zimbabwe/Documentaries",
          "Albania/Dramas",
          "Algeria/Dramas",
          "Argentina/Dramas",
          "Australia/Dramas",
          "Austria/Dramas",
          "Bangladesh/Dramas",
          "Belgium/Dramas",
          "Brazil/Dramas",
          "Bulgaria/Dramas",
          "Burkina Faso/Dramas",
          "Cambodia/Dramas",
          "Cameroon/Dramas",
          "Canada/Dramas",
          "Chile/Dramas",
          "China/Dramas",
          "Colombia/Dramas",
          "Croatia/Dramas",
          "Czech Republic/Dramas",
          "Denmark/Dramas",
          "Egypt/Dramas",
          "Ethiopia/Dramas",
          "Finland/Dramas",
          "France/Dramas",
          "Georgia/Dramas",
          "Germany/Dramas",
          "Ghana/Dramas",
          "Greece/Dramas",
          "Guatemala/Dramas",
          "Hong Kong/Dramas",
          "Hungary/Dramas",
          "Iceland/Dramas",
          "India/Dramas",
          "Indonesia/Dramas",
          "Iran/Dramas",
          "Ireland/Dramas",
          "Israel/Dramas",
          "Italy/Dramas",
          "Jamaica/Dramas",
          "Japan/Dramas",
          "Jordan/Dramas",
          "Kenya/Dramas",
          "Kuwait/Dramas",
          "Latvia/Dramas",
          "Lebanon/Dramas",
          "Liechtenstein/Dramas",
          "Lithuania/Dramas",
          "Luxembourg/Dramas",
          "Malawi/Dramas",
          "Malaysia/Dramas",
          "Malta/Dramas",
          "Mexico/Dramas",
          "Montenegro/Dramas",
          "Morocco/Dramas",
          "Mozambique/Dramas",
          "Namibia/Dramas",
          "Nepal/Dramas",
          "Netherlands/Dramas",
          "New Zealand/Dramas",
          "Nigeria/Dramas",
          "Norway/Dramas",
          "Pakistan/Dramas",
          "Peru/Dramas",
          "Philippines/Dramas",
          "Poland/Dramas",
          "Portugal/Dramas",
          "Qatar/Dramas",
          "Romania/Dramas",
          "Russia/Dramas",
          "Saudi Arabia/Dramas",
          "Senegal/Dramas",
          "Serbia/Dramas",
          "Singapore/Dramas",
          "Slovakia/Dramas",
          "Slovenia/Dramas",
          "Somalia/Dramas",
          "South Africa/Dramas",
          "South Korea/Dramas",
          "Soviet Union/Dramas",
          "Spain/Dramas",
          "Sudan/Dramas",
          "Sweden/Dramas",
          "Switzerland/Dramas",
          "Syria/Dramas",
          "Taiwan/Dramas",
          "Thailand/Dramas",
          "Turkey/Dramas",
          "United Arab Emirates/Dramas",
          "United Kingdom/Dramas",
          "United States/Dramas",
          "Uruguay/Dramas",
          "Venezuela/Dramas",
          "Vietnam/Dramas",
          "Australia/Faith & Spirituality",
          "Brazil/Faith & Spirituality",
          "Canada/Faith & Spirituality",
          "China/Faith & Spirituality",
          "France/Faith & Spirituality",
          "Germany/Faith & Spirituality",
          "India/Faith & Spirituality",
          "Indonesia/Faith & Spirituality",
          "Ireland/Faith & Spirituality",
          "Israel/Faith & Spirituality",
          "Italy/Faith & Spirituality",
          "Mexico/Faith & Spirituality",
          "Morocco/Faith & Spirituality",
          "Nigeria/Faith & Spirituality",
          "Portugal/Faith & Spirituality",
          "South Africa/Faith & Spirituality",
          "Spain/Faith & Spirituality",
          "Switzerland/Faith & Spirituality",
          "Thailand/Faith & Spirituality",
          "United Kingdom/Faith & Spirituality",
          "United States/Faith & Spirituality",
          "Vatican City/Faith & Spirituality",
          "Argentina/Horror Movies",
          "Australia/Horror Movies",
          "Austria/Horror Movies",
          "Belgium/Horror Movies",
          "Bulgaria/Horror Movies",
          "Canada/Horror Movies",
          "Chile/Horror Movies",
          "China/Horror Movies",
          "Czech Republic/Horror Movies",
          "Dominican Republic/Horror Movies",
          "Egypt/Horror Movies",
          "France/Horror Movies",
          "Germany/Horror Movies",
          "Hungary/Horror Movies",
          "Iceland/Horror Movies",
          "India/Horror Movies",
          "Indonesia/Horror Movies",
          "Iran/Horror Movies",
          "Ireland/Horror Movies",
          "Israel/Horror Movies",
          "Italy/Horror Movies",
          "Japan/Horror Movies",
          "Jordan/Horror Movies",
          "Malaysia/Horror Movies",
          "Mexico/Horror Movies",
          "New Zealand/Horror Movies",
          "Nigeria/Horror Movies",
          "Norway/Horror Movies",
          "Pakistan/Horror Movies",
          "Peru/Horror Movies",
          "Philippines/Horror Movies",
          "Poland/Horror Movies",
          "Qatar/Horror Movies",
          "Russia/Horror Movies",
          "Serbia/Horror Movies",
          "Singapore/Horror Movies",
          "Slovenia/Horror Movies",
          "South Africa/Horror Movies",
          "South Korea/Horror Movies",
          "Spain/Horror Movies",
          "Taiwan/Horror Movies",
          "Thailand/Horror Movies",
          "Turkey/Horror Movies",
          "United Arab Emirates/Horror Movies",
          "United Kingdom/Horror Movies",
          "United States/Horror Movies",
          "Vietnam/Horror Movies",
          "West Germany/Horror Movies",
          "Algeria/Independent Movies",
          "Argentina/Independent Movies",
          "Australia/Independent Movies",
          "Austria/Independent Movies",
          "Bangladesh/Independent Movies",
          "Belgium/Independent Movies",
          "Brazil/Independent Movies",
          "Bulgaria/Independent Movies",
          "Burkina Faso/Independent Movies",
          "Canada/Independent Movies",
          "Chile/Independent Movies",
          "China/Independent Movies",
          "Colombia/Independent Movies",
          "Croatia/Independent Movies",
          "Czech Republic/Independent Movies",
          "Denmark/Independent Movies",
          "Egypt/Independent Movies",
          "Ethiopia/Independent Movies",
          "France/Independent Movies",
          "Georgia/Independent Movies",
          "Germany/Independent Movies",
          "Ghana/Independent Movies",
          "Greece/Independent Movies",
          "Guatemala/Independent Movies",
          "Hong Kong/Independent Movies",
          "Iceland/Independent Movies",
          "India/Independent Movies",
          "Indonesia/Independent Movies",
          "Iran/Independent Movies",
          "Ireland/Independent Movies",
          "Israel/Independent Movies",
          "Italy/Independent Movies",
          "Japan/Independent Movies",
          "Jordan/Independent Movies",
          "Lebanon/Independent Movies",
          "Luxembourg/Independent Movies",
          "Malawi/Independent Movies",
          "Malaysia/Independent Movies",
          "Mexico/Independent Movies",
          "Morocco/Independent Movies",
          "Netherlands/Independent Movies",
          "New Zealand/Independent Movies",
          "Nigeria/Independent Movies",
          "Norway/Independent Movies",
          "Pakistan/Independent Movies",
          "Philippines/Independent Movies",
          "Poland/Independent Movies",
          "Portugal/Independent Movies",
          "Qatar/Independent Movies",
          "Saudi Arabia/Independent Movies",
          "Senegal/Independent Movies",
          "Serbia/Independent Movies",
          "Singapore/Independent Movies",
          "Slovenia/Independent Movies",
          "South Africa/Independent Movies",
          "South Korea/Independent Movies",
          "Spain/Independent Movies",
          "Sweden/Independent Movies",
          "Switzerland/Independent Movies",
          "Syria/Independent Movies",
          "Taiwan/Independent Movies",
          "Turkey/Independent Movies",
          "United Arab Emirates/Independent Movies",
          "United Kingdom/Independent Movies",
          "United States/Independent Movies",
          "Uruguay/Independent Movies",
          "Argentina/LGBTQ Movies",
          "Australia/LGBTQ Movies",
          "Belgium/LGBTQ Movies",
          "Brazil/LGBTQ Movies",
          "Canada/LGBTQ Movies",
          "France/LGBTQ Movies",
          "Germany/LGBTQ Movies",
          "Greece/LGBTQ Movies",
          "India/LGBTQ Movies",
          "Italy/LGBTQ Movies",
          "Japan/LGBTQ Movies",
          "Mexico/LGBTQ Movies",
          "Netherlands/LGBTQ Movies",
          "Philippines/LGBTQ Movies",
          "Portugal/LGBTQ Movies",
          "South Korea/LGBTQ Movies",
          "Spain/LGBTQ Movies",
          "Taiwan/LGBTQ Movies",
          "Thailand/LGBTQ Movies",
          "United Kingdom/LGBTQ Movies",
          "United States/LGBTQ Movies",
          "Argentina/Music & Musicals",
          "Australia/Music & Musicals",
          "Belgium/Music & Musicals",
          "Brazil/Music & Musicals",
          "Canada/Music & Musicals",
          "China/Music & Musicals",
          "Egypt/Music & Musicals",
          "Finland/Music & Musicals",
          "France/Music & Musicals",
          "Germany/Music & Musicals",
          "Hong Kong/Music & Musicals",
          "India/Music & Musicals",
          "Indonesia/Music & Musicals",
          "Italy/Music & Musicals",
          "Japan/Music & Musicals",
          "Lebanon/Music & Musicals",
          "Mexico/Music & Musicals",
          "Netherlands/Music & Musicals",
          "Nigeria/Music & Musicals",
          "Pakistan/Music & Musicals",
          "Philippines/Music & Musicals",
          "Romania/Music & Musicals",
          "Saudi Arabia/Music & Musicals",
          "South Africa/Music & Musicals",
          "South Korea/Music & Musicals",
          "Soviet Union/Music & Musicals",
          "Spain/Music & Musicals",
          "Sweden/Music & Musicals",
          "Taiwan/Music & Musicals",
          "Thailand/Music & Musicals",
          "Turkey/Music & Musicals",
          "United Arab Emirates/Music & Musicals",
          "United Kingdom/Music & Musicals",
          "United States/Music & Musicals",
          "Uruguay/Music & Musicals",
          "Vietnam/Music & Musicals",
          "Argentina/Romantic Movies",
          "Australia/Romantic Movies",
          "Belgium/Romantic Movies",
          "Brazil/Romantic Movies",
          "Canada/Romantic Movies",
          "Chile/Romantic Movies",
          "China/Romantic Movies",
          "Colombia/Romantic Movies",
          "Czech Republic/Romantic Movies",
          "Denmark/Romantic Movies",
          "Egypt/Romantic Movies",
          "France/Romantic Movies",
          "Germany/Romantic Movies",
          "Greece/Romantic Movies",
          "Hong Kong/Romantic Movies",
          "Hungary/Romantic Movies",
          "Iceland/Romantic Movies",
          "India/Romantic Movies",
          "Indonesia/Romantic Movies",
          "Ireland/Romantic Movies",
          "Italy/Romantic Movies",
          "Japan/Romantic Movies",
          "Kenya/Romantic Movies",
          "Lebanon/Romantic Movies",
          "Liechtenstein/Romantic Movies",
          "Malaysia/Romantic Movies",
          "Malta/Romantic Movies",
          "Mexico/Romantic Movies",
          "Netherlands/Romantic Movies",
          "New Zealand/Romantic Movies",
          "Nigeria/Romantic Movies",
          "Norway/Romantic Movies",
          "Pakistan/Romantic Movies",
          "Peru/Romantic Movies",
          "Philippines/Romantic Movies",
          "Poland/Romantic Movies",
          "Portugal/Romantic Movies",
          "Romania/Romantic Movies",
          "Saudi Arabia/Romantic Movies",
          "Singapore/Romantic Movies",
          "South Africa/Romantic Movies",
          "South Korea/Romantic Movies",
          "Soviet Union/Romantic Movies",
          "Spain/Romantic Movies",
          "Sweden/Romantic Movies",
          "Taiwan/Romantic Movies",
          "Thailand/Romantic Movies",
          "Turkey/Romantic Movies",
          "United Arab Emirates/Romantic Movies",
          "United Kingdom/Romantic Movies",
          "United States/Romantic Movies",
          "Vietnam/Romantic Movies",
          "Zimbabwe/Romantic Movies",
          "Argentina/Sci-Fi & Fantasy",
          "Australia/Sci-Fi & Fantasy",
          "Austria/Sci-Fi & Fantasy",
          "Belgium/Sci-Fi & Fantasy",
          "Bulgaria/Sci-Fi & Fantasy",
          "Cambodia/Sci-Fi & Fantasy",
          "Canada/Sci-Fi & Fantasy",
          "China/Sci-Fi & Fantasy",
          "Colombia/Sci-Fi & Fantasy",
          "Czech Republic/Sci-Fi & Fantasy",
          "France/Sci-Fi & Fantasy",
          "Germany/Sci-Fi & Fantasy",
          "Greece/Sci-Fi & Fantasy",
          "Hong Kong/Sci-Fi & Fantasy",
          "Hungary/Sci-Fi & Fantasy",
          "Iceland/Sci-Fi & Fantasy",
          "India/Sci-Fi & Fantasy",
          "Indonesia/Sci-Fi & Fantasy",
          "Israel/Sci-Fi & Fantasy",
          "Italy/Sci-Fi & Fantasy",
          "Japan/Sci-Fi & Fantasy",
          "Kuwait/Sci-Fi & Fantasy",
          "Luxembourg/Sci-Fi & Fantasy",
          "Mexico/Sci-Fi & Fantasy",
          "Netherlands/Sci-Fi & Fantasy",
          "New Zealand/Sci-Fi & Fantasy",
          "Poland/Sci-Fi & Fantasy",
          "Romania/Sci-Fi & Fantasy",
          "Russia/Sci-Fi & Fantasy",
          "Serbia/Sci-Fi & Fantasy",
          "Singapore/Sci-Fi & Fantasy",
          "Slovenia/Sci-Fi & Fantasy",
          "South Africa/Sci-Fi & Fantasy",
          "South Korea/Sci-Fi & Fantasy",
          "Soviet Union/Sci-Fi & Fantasy",
          "Spain/Sci-Fi & Fantasy",
          "Switzerland/Sci-Fi & Fantasy",
          "United Arab Emirates/Sci-Fi & Fantasy",
          "United Kingdom/Sci-Fi & Fantasy",
          "United States/Sci-Fi & Fantasy",
          "Argentina/Sports Movies",
          "Australia/Sports Movies",
          "Austria/Sports Movies",
          "Brazil/Sports Movies",
          "Canada/Sports Movies",
          "Chile/Sports Movies",
          "China/Sports Movies",
          "Czech Republic/Sports Movies",
          "Denmark/Sports Movies",
          "Egypt/Sports Movies",
          "Finland/Sports Movies",
          "France/Sports Movies",
          "Germany/Sports Movies",
          "Hong Kong/Sports Movies",
          "India/Sports Movies",
          "Indonesia/Sports Movies",
          "Ireland/Sports Movies",
          "Israel/Sports Movies",
          "Italy/Sports Movies",
          "Jamaica/Sports Movies",
          "Japan/Sports Movies",
          "Mexico/Sports Movies",
          "New Zealand/Sports Movies",
          "Panama/Sports Movies",
          "Peru/Sports Movies",
          "Philippines/Sports Movies",
          "Portugal/Sports Movies",
          "Russia/Sports Movies",
          "Samoa/Sports Movies",
          "South Africa/Sports Movies",
          "Spain/Sports Movies",
          "Sweden/Sports Movies",
          "Taiwan/Sports Movies",
          "Thailand/Sports Movies",
          "Turkey/Sports Movies",
          "United Arab Emirates/Sports Movies",
          "United Kingdom/Sports Movies",
          "United States/Sports Movies",
          "Uruguay/Sports Movies",
          "Argentina/Stand-Up Comedy",
          "Australia/Stand-Up Comedy",
          "Brazil/Stand-Up Comedy",
          "Canada/Stand-Up Comedy",
          "Chile/Stand-Up Comedy",
          "Colombia/Stand-Up Comedy",
          "France/Stand-Up Comedy",
          "Germany/Stand-Up Comedy",
          "Iceland/Stand-Up Comedy",
          "India/Stand-Up Comedy",
          "Italy/Stand-Up Comedy",
          "Mexico/Stand-Up Comedy",
          "Netherlands/Stand-Up Comedy",
          "Singapore/Stand-Up Comedy",
          "South Africa/Stand-Up Comedy",
          "South Korea/Stand-Up Comedy",
          "Spain/Stand-Up Comedy",
          "Sweden/Stand-Up Comedy",
          "United Kingdom/Stand-Up Comedy",
          "United States/Stand-Up Comedy",
          "Argentina/Thrillers",
          "Australia/Thrillers",
          "Austria/Thrillers",
          "Belgium/Thrillers",
          "Brazil/Thrillers",
          "Bulgaria/Thrillers",
          "Canada/Thrillers",
          "Chile/Thrillers",
          "China/Thrillers",
          "Czech Republic/Thrillers",
          "Denmark/Thrillers",
          "Dominican Republic/Thrillers",
          "Egypt/Thrillers",
          "France/Thrillers",
          "Germany/Thrillers",
          "Hong Kong/Thrillers",
          "Hungary/Thrillers",
          "Iceland/Thrillers",
          "India/Thrillers",
          "Iran/Thrillers",
          "Ireland/Thrillers",
          "Israel/Thrillers",
          "Italy/Thrillers",
          "Japan/Thrillers",
          "Jordan/Thrillers",
          "Kenya/Thrillers",
          "Kuwait/Thrillers",
          "Luxembourg/Thrillers",
          "Malta/Thrillers",
          "Mexico/Thrillers",
          "Mozambique/Thrillers",
          "Netherlands/Thrillers",
          "Nigeria/Thrillers",
          "Norway/Thrillers",
          "Philippines/Thrillers",
          "Poland/Thrillers",
          "Qatar/Thrillers",
          "Romania/Thrillers",
          "Russia/Thrillers",
          "Serbia/Thrillers",
          "Singapore/Thrillers",
          "South Africa/Thrillers",
          "South Korea/Thrillers",
          "Spain/Thrillers",
          "Sweden/Thrillers",
          "Switzerland/Thrillers",
          "Taiwan/Thrillers",
          "Thailand/Thrillers",
          "Turkey/Thrillers",
          "United Arab Emirates/Thrillers",
          "United Kingdom/Thrillers",
          "United States/Thrillers",
          "Venezuela/Thrillers",
          "Vietnam/Thrillers",
          "West Germany/Thrillers",
          "Afghanistan",
          "Albania",
          "Algeria",
          "Angola",
          "Argentina",
          "Armenia",
          "Australia",
          "Austria",
          "Bahamas",
          "Bangladesh",
          "Belgium",
          "Bermuda",
          "Botswana",
          "Brazil",
          "Bulgaria",
          "Burkina Faso",
          "Cambodia",
          "Cameroon",
          "Canada",
          "Cayman Islands",
          "Chile",
          "China",
          "Colombia",
          "Croatia",
          "Czech Republic",
          "Denmark",
          "Dominican Republic",
          "East Germany",
          "Ecuador",
          "Egypt",
          "Ethiopia",
          "Finland",
          "France",
          "Georgia",
          "Germany",
          "Ghana",
          "Greece",
          "Guatemala",
          "Hong Kong",
          "Hungary",
          "Iceland",
          "India",
          "Indonesia",
          "Iran",
          "Iraq",
          "Ireland",
          "Israel",
          "Italy",
          "Jamaica",
          "Japan",
          "Jordan",
          "Kazakhstan",
          "Kenya",
          "Kuwait",
          "Latvia",
          "Lebanon",
          "Liechtenstein",
          "Lithuania",
          "Luxembourg",
          "Malawi",
          "Malaysia",
          "Malta",
          "Mauritius",
          "Mexico",
          "Mongolia",
          "Montenegro",
          "Morocco",
          "Mozambique",
          "Namibia",
          "Nepal",
          "Netherlands",
          "New Zealand",
          "Nicaragua",
          "Nigeria",
          "Norway",
          "Pakistan",
          "Palestine",
          "Panama",
          "Paraguay",
          "Peru",
          "Philippines",
          "Poland",
          "Portugal",
          "Qatar",
          "Romania",
          "Russia",
          "Samoa",
          "Saudi Arabia",
          "Senegal",
          "Serbia",
          "Singapore",
          "Slovakia",
          "Slovenia",
          "Somalia",
          "South Africa",
          "South Korea",
          "Soviet Union",
          "Spain",
          "Sri Lanka",
          "Sudan",
          "Sweden",
          "Switzerland",
          "Syria",
          "Taiwan",
          "Thailand",
          "Turkey",
          "Uganda",
          "Ukraine",
          "United Arab Emirates",
          "United Kingdom",
          "United States",
          "Uruguay",
          "Vatican City",
          "Venezuela",
          "Vietnam",
          "West Germany",
          "Zimbabwe"
         ],
         "labels": [
          "",
          "",
          "",
          "",
          "",
          "",
          "",
          "",
          "",
          "",
          "",
          "",
          "Action & Adventure",
          "Action & Adventure",
          "Action & Adventure",
          "Action & Adventure",
          "Action & Adventure",
          "Action & Adventure",
          "Action & Adventure",
          "Action & Adventure",
          "Action & Adventure",
          "Action & Adventure",
          "Action & Adventure",
          "Action & Adventure",
          "Action & Adventure",
          "Action & Adventure",
          "Action & Adventure",
          "Action & Adventure",
          "Action & Adventure",
          "Action & Adventure",
          "Action & Adventure",
          "Action & Adventure",
          "Action & Adventure",
          "Action & Adventure",
          "Action & Adventure",
          "Action & Adventure",
          "Action & Adventure",
          "Action & Adventure",
          "Action & Adventure",
          "Action & Adventure",
          "Action & Adventure",
          "Action & Adventure",
          "Action & Adventure",
          "Action & Adventure",
          "Action & Adventure",
          "Action & Adventure",
          "Action & Adventure",
          "Action & Adventure",
          "Action & Adventure",
          "Action & Adventure",
          "Action & Adventure",
          "Action & Adventure",
          "Action & Adventure",
          "Action & Adventure",
          "Action & Adventure",
          "Action & Adventure",
          "Action & Adventure",
          "Action & Adventure",
          "Action & Adventure",
          "Action & Adventure",
          "Action & Adventure",
          "Action & Adventure",
          "Action & Adventure",
          "Action & Adventure",
          "Action & Adventure",
          "Action & Adventure",
          "Action & Adventure",
          "Action & Adventure",
          "Action & Adventure",
          "Action & Adventure",
          "Action & Adventure",
          "Anime Features",
          "Anime Features",
          "Anime Features",
          "Children & Family Movies",
          "Children & Family Movies",
          "Children & Family Movies",
          "Children & Family Movies",
          "Children & Family Movies",
          "Children & Family Movies",
          "Children & Family Movies",
          "Children & Family Movies",
          "Children & Family Movies",
          "Children & Family Movies",
          "Children & Family Movies",
          "Children & Family Movies",
          "Children & Family Movies",
          "Children & Family Movies",
          "Children & Family Movies",
          "Children & Family Movies",
          "Children & Family Movies",
          "Children & Family Movies",
          "Children & Family Movies",
          "Children & Family Movies",
          "Children & Family Movies",
          "Children & Family Movies",
          "Children & Family Movies",
          "Children & Family Movies",
          "Children & Family Movies",
          "Children & Family Movies",
          "Children & Family Movies",
          "Children & Family Movies",
          "Children & Family Movies",
          "Children & Family Movies",
          "Children & Family Movies",
          "Children & Family Movies",
          "Children & Family Movies",
          "Children & Family Movies",
          "Children & Family Movies",
          "Children & Family Movies",
          "Children & Family Movies",
          "Children & Family Movies",
          "Children & Family Movies",
          "Children & Family Movies",
          "Children & Family Movies",
          "Children & Family Movies",
          "Children & Family Movies",
          "Children & Family Movies",
          "Children & Family Movies",
          "Children & Family Movies",
          "Children & Family Movies",
          "Children & Family Movies",
          "Classic Movies",
          "Classic Movies",
          "Classic Movies",
          "Classic Movies",
          "Classic Movies",
          "Classic Movies",
          "Classic Movies",
          "Classic Movies",
          "Classic Movies",
          "Classic Movies",
          "Classic Movies",
          "Classic Movies",
          "Classic Movies",
          "Classic Movies",
          "Classic Movies",
          "Classic Movies",
          "Classic Movies",
          "Classic Movies",
          "Classic Movies",
          "Classic Movies",
          "Classic Movies",
          "Classic Movies",
          "Comedies",
          "Comedies",
          "Comedies",
          "Comedies",
          "Comedies",
          "Comedies",
          "Comedies",
          "Comedies",
          "Comedies",
          "Comedies",
          "Comedies",
          "Comedies",
          "Comedies",
          "Comedies",
          "Comedies",
          "Comedies",
          "Comedies",
          "Comedies",
          "Comedies",
          "Comedies",
          "Comedies",
          "Comedies",
          "Comedies",
          "Comedies",
          "Comedies",
          "Comedies",
          "Comedies",
          "Comedies",
          "Comedies",
          "Comedies",
          "Comedies",
          "Comedies",
          "Comedies",
          "Comedies",
          "Comedies",
          "Comedies",
          "Comedies",
          "Comedies",
          "Comedies",
          "Comedies",
          "Comedies",
          "Comedies",
          "Comedies",
          "Comedies",
          "Comedies",
          "Comedies",
          "Comedies",
          "Comedies",
          "Comedies",
          "Comedies",
          "Comedies",
          "Comedies",
          "Comedies",
          "Comedies",
          "Comedies",
          "Comedies",
          "Comedies",
          "Comedies",
          "Comedies",
          "Comedies",
          "Comedies",
          "Comedies",
          "Comedies",
          "Comedies",
          "Comedies",
          "Comedies",
          "Cult Movies",
          "Cult Movies",
          "Cult Movies",
          "Cult Movies",
          "Cult Movies",
          "Cult Movies",
          "Cult Movies",
          "Cult Movies",
          "Cult Movies",
          "Cult Movies",
          "Cult Movies",
          "Cult Movies",
          "Cult Movies",
          "Cult Movies",
          "Cult Movies",
          "Cult Movies",
          "Cult Movies",
          "Documentaries",
          "Documentaries",
          "Documentaries",
          "Documentaries",
          "Documentaries",
          "Documentaries",
          "Documentaries",
          "Documentaries",
          "Documentaries",
          "Documentaries",
          "Documentaries",
          "Documentaries",
          "Documentaries",
          "Documentaries",
          "Documentaries",
          "Documentaries",
          "Documentaries",
          "Documentaries",
          "Documentaries",
          "Documentaries",
          "Documentaries",
          "Documentaries",
          "Documentaries",
          "Documentaries",
          "Documentaries",
          "Documentaries",
          "Documentaries",
          "Documentaries",
          "Documentaries",
          "Documentaries",
          "Documentaries",
          "Documentaries",
          "Documentaries",
          "Documentaries",
          "Documentaries",
          "Documentaries",
          "Documentaries",
          "Documentaries",
          "Documentaries",
          "Documentaries",
          "Documentaries",
          "Documentaries",
          "Documentaries",
          "Documentaries",
          "Documentaries",
          "Documentaries",
          "Documentaries",
          "Documentaries",
          "Documentaries",
          "Documentaries",
          "Documentaries",
          "Documentaries",
          "Documentaries",
          "Documentaries",
          "Documentaries",
          "Documentaries",
          "Documentaries",
          "Documentaries",
          "Documentaries",
          "Documentaries",
          "Documentaries",
          "Documentaries",
          "Documentaries",
          "Documentaries",
          "Documentaries",
          "Documentaries",
          "Documentaries",
          "Documentaries",
          "Documentaries",
          "Documentaries",
          "Documentaries",
          "Documentaries",
          "Documentaries",
          "Dramas",
          "Dramas",
          "Dramas",
          "Dramas",
          "Dramas",
          "Dramas",
          "Dramas",
          "Dramas",
          "Dramas",
          "Dramas",
          "Dramas",
          "Dramas",
          "Dramas",
          "Dramas",
          "Dramas",
          "Dramas",
          "Dramas",
          "Dramas",
          "Dramas",
          "Dramas",
          "Dramas",
          "Dramas",
          "Dramas",
          "Dramas",
          "Dramas",
          "Dramas",
          "Dramas",
          "Dramas",
          "Dramas",
          "Dramas",
          "Dramas",
          "Dramas",
          "Dramas",
          "Dramas",
          "Dramas",
          "Dramas",
          "Dramas",
          "Dramas",
          "Dramas",
          "Dramas",
          "Dramas",
          "Dramas",
          "Dramas",
          "Dramas",
          "Dramas",
          "Dramas",
          "Dramas",
          "Dramas",
          "Dramas",
          "Dramas",
          "Dramas",
          "Dramas",
          "Dramas",
          "Dramas",
          "Dramas",
          "Dramas",
          "Dramas",
          "Dramas",
          "Dramas",
          "Dramas",
          "Dramas",
          "Dramas",
          "Dramas",
          "Dramas",
          "Dramas",
          "Dramas",
          "Dramas",
          "Dramas",
          "Dramas",
          "Dramas",
          "Dramas",
          "Dramas",
          "Dramas",
          "Dramas",
          "Dramas",
          "Dramas",
          "Dramas",
          "Dramas",
          "Dramas",
          "Dramas",
          "Dramas",
          "Dramas",
          "Dramas",
          "Dramas",
          "Dramas",
          "Dramas",
          "Dramas",
          "Dramas",
          "Dramas",
          "Dramas",
          "Dramas",
          "Dramas",
          "Faith & Spirituality",
          "Faith & Spirituality",
          "Faith & Spirituality",
          "Faith & Spirituality",
          "Faith & Spirituality",
          "Faith & Spirituality",
          "Faith & Spirituality",
          "Faith & Spirituality",
          "Faith & Spirituality",
          "Faith & Spirituality",
          "Faith & Spirituality",
          "Faith & Spirituality",
          "Faith & Spirituality",
          "Faith & Spirituality",
          "Faith & Spirituality",
          "Faith & Spirituality",
          "Faith & Spirituality",
          "Faith & Spirituality",
          "Faith & Spirituality",
          "Faith & Spirituality",
          "Faith & Spirituality",
          "Faith & Spirituality",
          "Horror Movies",
          "Horror Movies",
          "Horror Movies",
          "Horror Movies",
          "Horror Movies",
          "Horror Movies",
          "Horror Movies",
          "Horror Movies",
          "Horror Movies",
          "Horror Movies",
          "Horror Movies",
          "Horror Movies",
          "Horror Movies",
          "Horror Movies",
          "Horror Movies",
          "Horror Movies",
          "Horror Movies",
          "Horror Movies",
          "Horror Movies",
          "Horror Movies",
          "Horror Movies",
          "Horror Movies",
          "Horror Movies",
          "Horror Movies",
          "Horror Movies",
          "Horror Movies",
          "Horror Movies",
          "Horror Movies",
          "Horror Movies",
          "Horror Movies",
          "Horror Movies",
          "Horror Movies",
          "Horror Movies",
          "Horror Movies",
          "Horror Movies",
          "Horror Movies",
          "Horror Movies",
          "Horror Movies",
          "Horror Movies",
          "Horror Movies",
          "Horror Movies",
          "Horror Movies",
          "Horror Movies",
          "Horror Movies",
          "Horror Movies",
          "Horror Movies",
          "Horror Movies",
          "Horror Movies",
          "Independent Movies",
          "Independent Movies",
          "Independent Movies",
          "Independent Movies",
          "Independent Movies",
          "Independent Movies",
          "Independent Movies",
          "Independent Movies",
          "Independent Movies",
          "Independent Movies",
          "Independent Movies",
          "Independent Movies",
          "Independent Movies",
          "Independent Movies",
          "Independent Movies",
          "Independent Movies",
          "Independent Movies",
          "Independent Movies",
          "Independent Movies",
          "Independent Movies",
          "Independent Movies",
          "Independent Movies",
          "Independent Movies",
          "Independent Movies",
          "Independent Movies",
          "Independent Movies",
          "Independent Movies",
          "Independent Movies",
          "Independent Movies",
          "Independent Movies",
          "Independent Movies",
          "Independent Movies",
          "Independent Movies",
          "Independent Movies",
          "Independent Movies",
          "Independent Movies",
          "Independent Movies",
          "Independent Movies",
          "Independent Movies",
          "Independent Movies",
          "Independent Movies",
          "Independent Movies",
          "Independent Movies",
          "Independent Movies",
          "Independent Movies",
          "Independent Movies",
          "Independent Movies",
          "Independent Movies",
          "Independent Movies",
          "Independent Movies",
          "Independent Movies",
          "Independent Movies",
          "Independent Movies",
          "Independent Movies",
          "Independent Movies",
          "Independent Movies",
          "Independent Movies",
          "Independent Movies",
          "Independent Movies",
          "Independent Movies",
          "Independent Movies",
          "Independent Movies",
          "Independent Movies",
          "Independent Movies",
          "Independent Movies",
          "Independent Movies",
          "LGBTQ Movies",
          "LGBTQ Movies",
          "LGBTQ Movies",
          "LGBTQ Movies",
          "LGBTQ Movies",
          "LGBTQ Movies",
          "LGBTQ Movies",
          "LGBTQ Movies",
          "LGBTQ Movies",
          "LGBTQ Movies",
          "LGBTQ Movies",
          "LGBTQ Movies",
          "LGBTQ Movies",
          "LGBTQ Movies",
          "LGBTQ Movies",
          "LGBTQ Movies",
          "LGBTQ Movies",
          "LGBTQ Movies",
          "LGBTQ Movies",
          "LGBTQ Movies",
          "LGBTQ Movies",
          "Music & Musicals",
          "Music & Musicals",
          "Music & Musicals",
          "Music & Musicals",
          "Music & Musicals",
          "Music & Musicals",
          "Music & Musicals",
          "Music & Musicals",
          "Music & Musicals",
          "Music & Musicals",
          "Music & Musicals",
          "Music & Musicals",
          "Music & Musicals",
          "Music & Musicals",
          "Music & Musicals",
          "Music & Musicals",
          "Music & Musicals",
          "Music & Musicals",
          "Music & Musicals",
          "Music & Musicals",
          "Music & Musicals",
          "Music & Musicals",
          "Music & Musicals",
          "Music & Musicals",
          "Music & Musicals",
          "Music & Musicals",
          "Music & Musicals",
          "Music & Musicals",
          "Music & Musicals",
          "Music & Musicals",
          "Music & Musicals",
          "Music & Musicals",
          "Music & Musicals",
          "Music & Musicals",
          "Music & Musicals",
          "Music & Musicals",
          "Romantic Movies",
          "Romantic Movies",
          "Romantic Movies",
          "Romantic Movies",
          "Romantic Movies",
          "Romantic Movies",
          "Romantic Movies",
          "Romantic Movies",
          "Romantic Movies",
          "Romantic Movies",
          "Romantic Movies",
          "Romantic Movies",
          "Romantic Movies",
          "Romantic Movies",
          "Romantic Movies",
          "Romantic Movies",
          "Romantic Movies",
          "Romantic Movies",
          "Romantic Movies",
          "Romantic Movies",
          "Romantic Movies",
          "Romantic Movies",
          "Romantic Movies",
          "Romantic Movies",
          "Romantic Movies",
          "Romantic Movies",
          "Romantic Movies",
          "Romantic Movies",
          "Romantic Movies",
          "Romantic Movies",
          "Romantic Movies",
          "Romantic Movies",
          "Romantic Movies",
          "Romantic Movies",
          "Romantic Movies",
          "Romantic Movies",
          "Romantic Movies",
          "Romantic Movies",
          "Romantic Movies",
          "Romantic Movies",
          "Romantic Movies",
          "Romantic Movies",
          "Romantic Movies",
          "Romantic Movies",
          "Romantic Movies",
          "Romantic Movies",
          "Romantic Movies",
          "Romantic Movies",
          "Romantic Movies",
          "Romantic Movies",
          "Romantic Movies",
          "Romantic Movies",
          "Romantic Movies",
          "Sci-Fi & Fantasy",
          "Sci-Fi & Fantasy",
          "Sci-Fi & Fantasy",
          "Sci-Fi & Fantasy",
          "Sci-Fi & Fantasy",
          "Sci-Fi & Fantasy",
          "Sci-Fi & Fantasy",
          "Sci-Fi & Fantasy",
          "Sci-Fi & Fantasy",
          "Sci-Fi & Fantasy",
          "Sci-Fi & Fantasy",
          "Sci-Fi & Fantasy",
          "Sci-Fi & Fantasy",
          "Sci-Fi & Fantasy",
          "Sci-Fi & Fantasy",
          "Sci-Fi & Fantasy",
          "Sci-Fi & Fantasy",
          "Sci-Fi & Fantasy",
          "Sci-Fi & Fantasy",
          "Sci-Fi & Fantasy",
          "Sci-Fi & Fantasy",
          "Sci-Fi & Fantasy",
          "Sci-Fi & Fantasy",
          "Sci-Fi & Fantasy",
          "Sci-Fi & Fantasy",
          "Sci-Fi & Fantasy",
          "Sci-Fi & Fantasy",
          "Sci-Fi & Fantasy",
          "Sci-Fi & Fantasy",
          "Sci-Fi & Fantasy",
          "Sci-Fi & Fantasy",
          "Sci-Fi & Fantasy",
          "Sci-Fi & Fantasy",
          "Sci-Fi & Fantasy",
          "Sci-Fi & Fantasy",
          "Sci-Fi & Fantasy",
          "Sci-Fi & Fantasy",
          "Sci-Fi & Fantasy",
          "Sci-Fi & Fantasy",
          "Sci-Fi & Fantasy",
          "Sports Movies",
          "Sports Movies",
          "Sports Movies",
          "Sports Movies",
          "Sports Movies",
          "Sports Movies",
          "Sports Movies",
          "Sports Movies",
          "Sports Movies",
          "Sports Movies",
          "Sports Movies",
          "Sports Movies",
          "Sports Movies",
          "Sports Movies",
          "Sports Movies",
          "Sports Movies",
          "Sports Movies",
          "Sports Movies",
          "Sports Movies",
          "Sports Movies",
          "Sports Movies",
          "Sports Movies",
          "Sports Movies",
          "Sports Movies",
          "Sports Movies",
          "Sports Movies",
          "Sports Movies",
          "Sports Movies",
          "Sports Movies",
          "Sports Movies",
          "Sports Movies",
          "Sports Movies",
          "Sports Movies",
          "Sports Movies",
          "Sports Movies",
          "Sports Movies",
          "Sports Movies",
          "Sports Movies",
          "Sports Movies",
          "Stand-Up Comedy",
          "Stand-Up Comedy",
          "Stand-Up Comedy",
          "Stand-Up Comedy",
          "Stand-Up Comedy",
          "Stand-Up Comedy",
          "Stand-Up Comedy",
          "Stand-Up Comedy",
          "Stand-Up Comedy",
          "Stand-Up Comedy",
          "Stand-Up Comedy",
          "Stand-Up Comedy",
          "Stand-Up Comedy",
          "Stand-Up Comedy",
          "Stand-Up Comedy",
          "Stand-Up Comedy",
          "Stand-Up Comedy",
          "Stand-Up Comedy",
          "Stand-Up Comedy",
          "Stand-Up Comedy",
          "Thrillers",
          "Thrillers",
          "Thrillers",
          "Thrillers",
          "Thrillers",
          "Thrillers",
          "Thrillers",
          "Thrillers",
          "Thrillers",
          "Thrillers",
          "Thrillers",
          "Thrillers",
          "Thrillers",
          "Thrillers",
          "Thrillers",
          "Thrillers",
          "Thrillers",
          "Thrillers",
          "Thrillers",
          "Thrillers",
          "Thrillers",
          "Thrillers",
          "Thrillers",
          "Thrillers",
          "Thrillers",
          "Thrillers",
          "Thrillers",
          "Thrillers",
          "Thrillers",
          "Thrillers",
          "Thrillers",
          "Thrillers",
          "Thrillers",
          "Thrillers",
          "Thrillers",
          "Thrillers",
          "Thrillers",
          "Thrillers",
          "Thrillers",
          "Thrillers",
          "Thrillers",
          "Thrillers",
          "Thrillers",
          "Thrillers",
          "Thrillers",
          "Thrillers",
          "Thrillers",
          "Thrillers",
          "Thrillers",
          "Thrillers",
          "Thrillers",
          "Thrillers",
          "Thrillers",
          "Thrillers",
          "Thrillers",
          "Afghanistan",
          "Albania",
          "Algeria",
          "Angola",
          "Argentina",
          "Armenia",
          "Australia",
          "Austria",
          "Bahamas",
          "Bangladesh",
          "Belgium",
          "Bermuda",
          "Botswana",
          "Brazil",
          "Bulgaria",
          "Burkina Faso",
          "Cambodia",
          "Cameroon",
          "Canada",
          "Cayman Islands",
          "Chile",
          "China",
          "Colombia",
          "Croatia",
          "Czech Republic",
          "Denmark",
          "Dominican Republic",
          "East Germany",
          "Ecuador",
          "Egypt",
          "Ethiopia",
          "Finland",
          "France",
          "Georgia",
          "Germany",
          "Ghana",
          "Greece",
          "Guatemala",
          "Hong Kong",
          "Hungary",
          "Iceland",
          "India",
          "Indonesia",
          "Iran",
          "Iraq",
          "Ireland",
          "Israel",
          "Italy",
          "Jamaica",
          "Japan",
          "Jordan",
          "Kazakhstan",
          "Kenya",
          "Kuwait",
          "Latvia",
          "Lebanon",
          "Liechtenstein",
          "Lithuania",
          "Luxembourg",
          "Malawi",
          "Malaysia",
          "Malta",
          "Mauritius",
          "Mexico",
          "Mongolia",
          "Montenegro",
          "Morocco",
          "Mozambique",
          "Namibia",
          "Nepal",
          "Netherlands",
          "New Zealand",
          "Nicaragua",
          "Nigeria",
          "Norway",
          "Pakistan",
          "Palestine",
          "Panama",
          "Paraguay",
          "Peru",
          "Philippines",
          "Poland",
          "Portugal",
          "Qatar",
          "Romania",
          "Russia",
          "Samoa",
          "Saudi Arabia",
          "Senegal",
          "Serbia",
          "Singapore",
          "Slovakia",
          "Slovenia",
          "Somalia",
          "South Africa",
          "South Korea",
          "Soviet Union",
          "Spain",
          "Sri Lanka",
          "Sudan",
          "Sweden",
          "Switzerland",
          "Syria",
          "Taiwan",
          "Thailand",
          "Turkey",
          "Uganda",
          "Ukraine",
          "United Arab Emirates",
          "United Kingdom",
          "United States",
          "Uruguay",
          "Vatican City",
          "Venezuela",
          "Vietnam",
          "West Germany",
          "Zimbabwe"
         ],
         "marker": {
          "coloraxis": "coloraxis",
          "colors": [
           1,
           3,
           5,
           1,
           2,
           2,
           2,
           1,
           1,
           3,
           5,
           22,
           1,
           3,
           13,
           1,
           12,
           5,
           5,
           2,
           44,
           1,
           63,
           1,
           5,
           3,
           15,
           1,
           37,
           33,
           2,
           66,
           4,
           1,
           137,
           6,
           3,
           1,
           6,
           57,
           1,
           3,
           5,
           9,
           1,
           1,
           1,
           7,
           4,
           4,
           2,
           1,
           5,
           3,
           4,
           1,
           2,
           5,
           12,
           17,
           1,
           10,
           2,
           2,
           3,
           8,
           5,
           3,
           84,
           404,
           2,
           2,
           61,
           7,
           3,
           19,
           7,
           7,
           1,
           1,
           80,
           2,
           1,
           16,
           1,
           3,
           1,
           1,
           1,
           23,
           18,
           3,
           1,
           26,
           6,
           5,
           3,
           19,
           1,
           1,
           3,
           1,
           1,
           1,
           5,
           5,
           2,
           1,
           1,
           2,
           1,
           1,
           2,
           1,
           10,
           9,
           1,
           2,
           4,
           46,
           390,
           1,
           1,
           1,
           5,
           1,
           1,
           8,
           6,
           1,
           1,
           11,
           1,
           6,
           3,
           1,
           1,
           1,
           1,
           2,
           1,
           16,
           81,
           1,
           14,
           15,
           1,
           20,
           20,
           2,
           94,
           2,
           7,
           31,
           8,
           1,
           3,
           1,
           1,
           57,
           2,
           51,
           43,
           2,
           1,
           33,
           323,
           15,
           6,
           2,
           12,
           9,
           2,
           2,
           4,
           5,
           7,
           1,
           24,
           2,
           7,
           2,
           41,
           2,
           7,
           3,
           28,
           6,
           2,
           2,
           5,
           1,
           6,
           1,
           17,
           17,
           47,
           5,
           3,
           1,
           3,
           12,
           58,
           11,
           91,
           680,
           3,
           2,
           1,
           1,
           2,
           1,
           6,
           1,
           1,
           1,
           2,
           4,
           5,
           5,
           1,
           1,
           1,
           1,
           1,
           7,
           52,
           1,
           10,
           1,
           15,
           3,
           7,
           1,
           1,
           12,
           42,
           7,
           3,
           1,
           11,
           1,
           2,
           3,
           44,
           1,
           22,
           1,
           1,
           1,
           27,
           2,
           2,
           6,
           6,
           17,
           7,
           1,
           1,
           5,
           18,
           1,
           1,
           1,
           11,
           7,
           1,
           2,
           3,
           1,
           1,
           4,
           1,
           1,
           1,
           1,
           2,
           1,
           1,
           1,
           1,
           8,
           2,
           21,
           1,
           10,
           4,
           1,
           5,
           1,
           1,
           7,
           128,
           512,
           7,
           1,
           3,
           1,
           1,
           2,
           1,
           3,
           35,
           38,
           6,
           4,
           44,
           26,
           2,
           1,
           3,
           1,
           82,
           12,
           32,
           7,
           2,
           7,
           16,
           44,
           1,
           2,
           167,
           1,
           80,
           5,
           3,
           1,
           33,
           6,
           6,
           662,
           63,
           3,
           15,
           9,
           32,
           1,
           23,
           5,
           3,
           2,
           1,
           18,
           1,
           1,
           8,
           1,
           11,
           1,
           44,
           1,
           4,
           1,
           1,
           1,
           19,
           11,
           64,
           13,
           13,
           2,
           50,
           25,
           5,
           7,
           9,
           3,
           4,
           1,
           3,
           7,
           1,
           1,
           1,
           21,
           26,
           2,
           76,
           1,
           15,
           13,
           2,
           10,
           8,
           30,
           19,
           197,
           835,
           6,
           1,
           4,
           2,
           4,
           3,
           1,
           3,
           1,
           4,
           5,
           1,
           1,
           1,
           1,
           2,
           1,
           1,
           1,
           3,
           1,
           3,
           5,
           42,
           1,
           3,
           3,
           1,
           4,
           1,
           36,
           3,
           2,
           1,
           1,
           3,
           10,
           8,
           1,
           1,
           35,
           10,
           1,
           3,
           2,
           3,
           4,
           1,
           4,
           8,
           1,
           2,
           2,
           1,
           1,
           4,
           2,
           1,
           1,
           1,
           3,
           1,
           2,
           5,
           10,
           4,
           15,
           4,
           2,
           28,
           201,
           1,
           1,
           1,
           8,
           8,
           4,
           4,
           17,
           12,
           1,
           1,
           44,
           8,
           2,
           3,
           2,
           1,
           9,
           5,
           1,
           73,
           1,
           31,
           2,
           2,
           1,
           4,
           3,
           167,
           1,
           2,
           7,
           4,
           7,
           7,
           1,
           5,
           2,
           1,
           1,
           23,
           1,
           4,
           3,
           7,
           2,
           4,
           3,
           5,
           2,
           4,
           2,
           1,
           1,
           1,
           2,
           3,
           2,
           20,
           6,
           3,
           2,
           3,
           3,
           3,
           74,
           390,
           1,
           1,
           4,
           2,
           3,
           6,
           1,
           1,
           1,
           2,
           1,
           1,
           1,
           2,
           4,
           1,
           1,
           4,
           1,
           4,
           7,
           63,
           5,
           4,
           2,
           5,
           14,
           2,
           4,
           1,
           8,
           8,
           1,
           96,
           1,
           3,
           6,
           1,
           3,
           3,
           1,
           3,
           1,
           2,
           1,
           3,
           1,
           1,
           6,
           3,
           2,
           4,
           1,
           1,
           36,
           147,
           1,
           1,
           3,
           6,
           3,
           2,
           25,
           1,
           9,
           2,
           1,
           2,
           12,
           22,
           10,
           1,
           10,
           1,
           1,
           120,
           27,
           4,
           7,
           7,
           1,
           3,
           1,
           2,
           1,
           8,
           4,
           1,
           20,
           1,
           4,
           1,
           35,
           4,
           1,
           3,
           2,
           1,
           10,
           2,
           1,
           11,
           1,
           2,
           9,
           23,
           1,
           38,
           225,
           1,
           1,
           1,
           7,
           1,
           3,
           1,
           1,
           28,
           13,
           1,
           3,
           10,
           13,
           1,
           4,
           2,
           1,
           12,
           2,
           1,
           1,
           9,
           1,
           1,
           6,
           2,
           6,
           1,
           1,
           2,
           2,
           1,
           1,
           3,
           5,
           1,
           11,
           1,
           3,
           35,
           181,
           6,
           8,
           1,
           2,
           13,
           1,
           1,
           1,
           2,
           2,
           1,
           12,
           5,
           1,
           17,
           4,
           2,
           1,
           4,
           1,
           1,
           3,
           3,
           1,
           1,
           1,
           1,
           1,
           1,
           1,
           5,
           1,
           1,
           2,
           2,
           2,
           21,
           113,
           1,
           8,
           3,
           9,
           2,
           3,
           4,
           5,
           5,
           1,
           6,
           4,
           18,
           1,
           1,
           1,
           2,
           1,
           1,
           21,
           216,
           8,
           9,
           2,
           11,
           3,
           3,
           49,
           2,
           6,
           1,
           5,
           1,
           4,
           44,
           29,
           3,
           1,
           2,
           92,
           1,
           2,
           4,
           9,
           5,
           2,
           2,
           1,
           1,
           1,
           2,
           1,
           2,
           16,
           5,
           3,
           6,
           2,
           3,
           1,
           1,
           3,
           3,
           14,
           38,
           5,
           1,
           3,
           3,
           3,
           5,
           61,
           292,
           1,
           1,
           1,
           1,
           1,
           2.2,
           1,
           16.232142857142858,
           1,
           17.220858895705522,
           3.7777777777777777,
           1,
           3.6666666666666665,
           22.789473684210527,
           1,
           1,
           14.418181818181818,
           3,
           1,
           2.111111111111111,
           1,
           57.90052356020942,
           2,
           7.256410256410256,
           34.91489361702128,
           5.275862068965517,
           1.8,
           3.8461538461538463,
           9.641509433962264,
           1,
           1,
           1,
           36.261146496815286,
           1,
           1.9090909090909092,
           81.9980732177264,
           1,
           39.547770700636946,
           3.6666666666666665,
           1.8571428571428572,
           1,
           40.68484848484849,
           3.75,
           3.375,
           358.53960964408725,
           36.23943661971831,
           2,
           2,
           7.666666666666667,
           5.193548387096774,
           15.258620689655173,
           1,
           37.21621621621622,
           3,
           1,
           2.111111111111111,
           2.5555555555555554,
           1,
           10.538461538461538,
           1,
           1,
           4.888888888888889,
           1,
           7,
           1,
           1,
           22.771428571428572,
           1,
           1,
           2.5555555555555554,
           1,
           1,
           1.5,
           10.01639344262295,
           6.454545454545454,
           1,
           41.18987341772152,
           7.0606060606060606,
           7.571428571428571,
           1,
           1,
           1,
           2.6666666666666665,
           33.51094890510949,
           13.535714285714286,
           2.8461538461538463,
           4.222222222222222,
           5.24,
           2.411764705882353,
           1,
           3.875,
           1,
           1.9090909090909092,
           4.083333333333333,
           1,
           1.3333333333333333,
           1,
           12.581395348837209,
           15.283018867924529,
           1.3333333333333333,
           39.45652173913044,
           1,
           1,
           8.56,
           7.5,
           1.8,
           4.9393939393939394,
           8.891891891891891,
           37.10687022900763,
           1,
           1,
           9.98360655737705,
           97.64222222222222,
           452.2565423449413,
           5.105263157894737,
           1,
           2.2,
           2.230769230769231,
           1,
           1.5
          ]
         },
         "name": "",
         "parents": [
          "Argentina",
          "Australia",
          "Canada",
          "France",
          "Germany",
          "Greece",
          "Japan",
          "Mexico",
          "South Korea",
          "Spain",
          "United Kingdom",
          "United States",
          "Angola",
          "Argentina",
          "Australia",
          "Bahamas",
          "Belgium",
          "Brazil",
          "Bulgaria",
          "Cambodia",
          "Canada",
          "Chile",
          "China",
          "Colombia",
          "Czech Republic",
          "Denmark",
          "Egypt",
          "Finland",
          "France",
          "Germany",
          "Greece",
          "Hong Kong",
          "Hungary",
          "Iceland",
          "India",
          "Indonesia",
          "Ireland",
          "Israel",
          "Italy",
          "Japan",
          "Kuwait",
          "Luxembourg",
          "Malaysia",
          "Mexico",
          "Morocco",
          "Nepal",
          "Netherlands",
          "New Zealand",
          "Nigeria",
          "Norway",
          "Pakistan",
          "Paraguay",
          "Philippines",
          "Poland",
          "Russia",
          "Saudi Arabia",
          "Serbia",
          "Singapore",
          "South Africa",
          "South Korea",
          "Soviet Union",
          "Spain",
          "Sweden",
          "Switzerland",
          "Taiwan",
          "Thailand",
          "Turkey",
          "United Arab Emirates",
          "United Kingdom",
          "United States",
          "Vietnam",
          "China",
          "Japan",
          "United States",
          "Argentina",
          "Australia",
          "Belgium",
          "Brazil",
          "Bulgaria",
          "Cambodia",
          "Canada",
          "Cayman Islands",
          "Chile",
          "China",
          "Czech Republic",
          "Denmark",
          "East Germany",
          "Egypt",
          "Finland",
          "France",
          "Germany",
          "Hong Kong",
          "Hungary",
          "India",
          "Indonesia",
          "Ireland",
          "Italy",
          "Japan",
          "Kazakhstan",
          "Lebanon",
          "Luxembourg",
          "Malawi",
          "Malaysia",
          "Mauritius",
          "Mexico",
          "Netherlands",
          "New Zealand",
          "Norway",
          "Pakistan",
          "Philippines",
          "Qatar",
          "Romania",
          "Russia",
          "South Africa",
          "South Korea",
          "Spain",
          "Thailand",
          "Turkey",
          "United Arab Emirates",
          "United Kingdom",
          "United States",
          "West Germany",
          "Algeria",
          "Argentina",
          "Australia",
          "Belgium",
          "East Germany",
          "Egypt",
          "France",
          "Germany",
          "Hong Kong",
          "India",
          "Iran",
          "Italy",
          "Japan",
          "Lebanon",
          "Liechtenstein",
          "Mexico",
          "New Zealand",
          "Poland",
          "Spain",
          "United Kingdom",
          "United States",
          "West Germany",
          "Argentina",
          "Australia",
          "Bangladesh",
          "Belgium",
          "Brazil",
          "Cambodia",
          "Canada",
          "Cayman Islands",
          "Chile",
          "China",
          "Colombia",
          "Croatia",
          "Czech Republic",
          "Denmark",
          "East Germany",
          "Egypt",
          "Finland",
          "France",
          "Germany",
          "Ghana",
          "Greece",
          "Hong Kong",
          "India",
          "Indonesia",
          "Ireland",
          "Israel",
          "Italy",
          "Japan",
          "Jordan",
          "Kenya",
          "Kuwait",
          "Lebanon",
          "Malaysia",
          "Mauritius",
          "Mexico",
          "Nepal",
          "Netherlands",
          "New Zealand",
          "Nigeria",
          "Norway",
          "Pakistan",
          "Peru",
          "Philippines",
          "Poland",
          "Portugal",
          "Qatar",
          "Romania",
          "Russia",
          "Saudi Arabia",
          "Slovenia",
          "South Africa",
          "South Korea",
          "Spain",
          "Sweden",
          "Switzerland",
          "Syria",
          "Taiwan",
          "Thailand",
          "Turkey",
          "United Arab Emirates",
          "United Kingdom",
          "United States",
          "Uruguay",
          "Vietnam",
          "West Germany",
          "Zimbabwe",
          "Argentina",
          "Australia",
          "Canada",
          "China",
          "Czech Republic",
          "Denmark",
          "France",
          "Germany",
          "Hong Kong",
          "India",
          "Japan",
          "Poland",
          "Singapore",
          "South Korea",
          "Sweden",
          "United Kingdom",
          "United States",
          "Afghanistan",
          "Argentina",
          "Armenia",
          "Australia",
          "Austria",
          "Belgium",
          "Bermuda",
          "Botswana",
          "Brazil",
          "Canada",
          "China",
          "Colombia",
          "Czech Republic",
          "Denmark",
          "Ecuador",
          "Egypt",
          "Finland",
          "France",
          "Georgia",
          "Germany",
          "Greece",
          "Guatemala",
          "Hong Kong",
          "India",
          "Indonesia",
          "Iraq",
          "Ireland",
          "Israel",
          "Italy",
          "Japan",
          "Jordan",
          "Kenya",
          "Lebanon",
          "Mexico",
          "Mongolia",
          "Morocco",
          "Namibia",
          "Netherlands",
          "New Zealand",
          "Nicaragua",
          "Nigeria",
          "Norway",
          "Palestine",
          "Panama",
          "Peru",
          "Philippines",
          "Poland",
          "Qatar",
          "Romania",
          "Russia",
          "Samoa",
          "Senegal",
          "Serbia",
          "Singapore",
          "South Africa",
          "South Korea",
          "Spain",
          "Sri Lanka",
          "Sweden",
          "Switzerland",
          "Taiwan",
          "Thailand",
          "Uganda",
          "Ukraine",
          "United Arab Emirates",
          "United Kingdom",
          "United States",
          "Uruguay",
          "Vatican City",
          "Venezuela",
          "Vietnam",
          "West Germany",
          "Zimbabwe",
          "Albania",
          "Algeria",
          "Argentina",
          "Australia",
          "Austria",
          "Bangladesh",
          "Belgium",
          "Brazil",
          "Bulgaria",
          "Burkina Faso",
          "Cambodia",
          "Cameroon",
          "Canada",
          "Chile",
          "China",
          "Colombia",
          "Croatia",
          "Czech Republic",
          "Denmark",
          "Egypt",
          "Ethiopia",
          "Finland",
          "France",
          "Georgia",
          "Germany",
          "Ghana",
          "Greece",
          "Guatemala",
          "Hong Kong",
          "Hungary",
          "Iceland",
          "India",
          "Indonesia",
          "Iran",
          "Ireland",
          "Israel",
          "Italy",
          "Jamaica",
          "Japan",
          "Jordan",
          "Kenya",
          "Kuwait",
          "Latvia",
          "Lebanon",
          "Liechtenstein",
          "Lithuania",
          "Luxembourg",
          "Malawi",
          "Malaysia",
          "Malta",
          "Mexico",
          "Montenegro",
          "Morocco",
          "Mozambique",
          "Namibia",
          "Nepal",
          "Netherlands",
          "New Zealand",
          "Nigeria",
          "Norway",
          "Pakistan",
          "Peru",
          "Philippines",
          "Poland",
          "Portugal",
          "Qatar",
          "Romania",
          "Russia",
          "Saudi Arabia",
          "Senegal",
          "Serbia",
          "Singapore",
          "Slovakia",
          "Slovenia",
          "Somalia",
          "South Africa",
          "South Korea",
          "Soviet Union",
          "Spain",
          "Sudan",
          "Sweden",
          "Switzerland",
          "Syria",
          "Taiwan",
          "Thailand",
          "Turkey",
          "United Arab Emirates",
          "United Kingdom",
          "United States",
          "Uruguay",
          "Venezuela",
          "Vietnam",
          "Australia",
          "Brazil",
          "Canada",
          "China",
          "France",
          "Germany",
          "India",
          "Indonesia",
          "Ireland",
          "Israel",
          "Italy",
          "Mexico",
          "Morocco",
          "Nigeria",
          "Portugal",
          "South Africa",
          "Spain",
          "Switzerland",
          "Thailand",
          "United Kingdom",
          "United States",
          "Vatican City",
          "Argentina",
          "Australia",
          "Austria",
          "Belgium",
          "Bulgaria",
          "Canada",
          "Chile",
          "China",
          "Czech Republic",
          "Dominican Republic",
          "Egypt",
          "France",
          "Germany",
          "Hungary",
          "Iceland",
          "India",
          "Indonesia",
          "Iran",
          "Ireland",
          "Israel",
          "Italy",
          "Japan",
          "Jordan",
          "Malaysia",
          "Mexico",
          "New Zealand",
          "Nigeria",
          "Norway",
          "Pakistan",
          "Peru",
          "Philippines",
          "Poland",
          "Qatar",
          "Russia",
          "Serbia",
          "Singapore",
          "Slovenia",
          "South Africa",
          "South Korea",
          "Spain",
          "Taiwan",
          "Thailand",
          "Turkey",
          "United Arab Emirates",
          "United Kingdom",
          "United States",
          "Vietnam",
          "West Germany",
          "Algeria",
          "Argentina",
          "Australia",
          "Austria",
          "Bangladesh",
          "Belgium",
          "Brazil",
          "Bulgaria",
          "Burkina Faso",
          "Canada",
          "Chile",
          "China",
          "Colombia",
          "Croatia",
          "Czech Republic",
          "Denmark",
          "Egypt",
          "Ethiopia",
          "France",
          "Georgia",
          "Germany",
          "Ghana",
          "Greece",
          "Guatemala",
          "Hong Kong",
          "Iceland",
          "India",
          "Indonesia",
          "Iran",
          "Ireland",
          "Israel",
          "Italy",
          "Japan",
          "Jordan",
          "Lebanon",
          "Luxembourg",
          "Malawi",
          "Malaysia",
          "Mexico",
          "Morocco",
          "Netherlands",
          "New Zealand",
          "Nigeria",
          "Norway",
          "Pakistan",
          "Philippines",
          "Poland",
          "Portugal",
          "Qatar",
          "Saudi Arabia",
          "Senegal",
          "Serbia",
          "Singapore",
          "Slovenia",
          "South Africa",
          "South Korea",
          "Spain",
          "Sweden",
          "Switzerland",
          "Syria",
          "Taiwan",
          "Turkey",
          "United Arab Emirates",
          "United Kingdom",
          "United States",
          "Uruguay",
          "Argentina",
          "Australia",
          "Belgium",
          "Brazil",
          "Canada",
          "France",
          "Germany",
          "Greece",
          "India",
          "Italy",
          "Japan",
          "Mexico",
          "Netherlands",
          "Philippines",
          "Portugal",
          "South Korea",
          "Spain",
          "Taiwan",
          "Thailand",
          "United Kingdom",
          "United States",
          "Argentina",
          "Australia",
          "Belgium",
          "Brazil",
          "Canada",
          "China",
          "Egypt",
          "Finland",
          "France",
          "Germany",
          "Hong Kong",
          "India",
          "Indonesia",
          "Italy",
          "Japan",
          "Lebanon",
          "Mexico",
          "Netherlands",
          "Nigeria",
          "Pakistan",
          "Philippines",
          "Romania",
          "Saudi Arabia",
          "South Africa",
          "South Korea",
          "Soviet Union",
          "Spain",
          "Sweden",
          "Taiwan",
          "Thailand",
          "Turkey",
          "United Arab Emirates",
          "United Kingdom",
          "United States",
          "Uruguay",
          "Vietnam",
          "Argentina",
          "Australia",
          "Belgium",
          "Brazil",
          "Canada",
          "Chile",
          "China",
          "Colombia",
          "Czech Republic",
          "Denmark",
          "Egypt",
          "France",
          "Germany",
          "Greece",
          "Hong Kong",
          "Hungary",
          "Iceland",
          "India",
          "Indonesia",
          "Ireland",
          "Italy",
          "Japan",
          "Kenya",
          "Lebanon",
          "Liechtenstein",
          "Malaysia",
          "Malta",
          "Mexico",
          "Netherlands",
          "New Zealand",
          "Nigeria",
          "Norway",
          "Pakistan",
          "Peru",
          "Philippines",
          "Poland",
          "Portugal",
          "Romania",
          "Saudi Arabia",
          "Singapore",
          "South Africa",
          "South Korea",
          "Soviet Union",
          "Spain",
          "Sweden",
          "Taiwan",
          "Thailand",
          "Turkey",
          "United Arab Emirates",
          "United Kingdom",
          "United States",
          "Vietnam",
          "Zimbabwe",
          "Argentina",
          "Australia",
          "Austria",
          "Belgium",
          "Bulgaria",
          "Cambodia",
          "Canada",
          "China",
          "Colombia",
          "Czech Republic",
          "France",
          "Germany",
          "Greece",
          "Hong Kong",
          "Hungary",
          "Iceland",
          "India",
          "Indonesia",
          "Israel",
          "Italy",
          "Japan",
          "Kuwait",
          "Luxembourg",
          "Mexico",
          "Netherlands",
          "New Zealand",
          "Poland",
          "Romania",
          "Russia",
          "Serbia",
          "Singapore",
          "Slovenia",
          "South Africa",
          "South Korea",
          "Soviet Union",
          "Spain",
          "Switzerland",
          "United Arab Emirates",
          "United Kingdom",
          "United States",
          "Argentina",
          "Australia",
          "Austria",
          "Brazil",
          "Canada",
          "Chile",
          "China",
          "Czech Republic",
          "Denmark",
          "Egypt",
          "Finland",
          "France",
          "Germany",
          "Hong Kong",
          "India",
          "Indonesia",
          "Ireland",
          "Israel",
          "Italy",
          "Jamaica",
          "Japan",
          "Mexico",
          "New Zealand",
          "Panama",
          "Peru",
          "Philippines",
          "Portugal",
          "Russia",
          "Samoa",
          "South Africa",
          "Spain",
          "Sweden",
          "Taiwan",
          "Thailand",
          "Turkey",
          "United Arab Emirates",
          "United Kingdom",
          "United States",
          "Uruguay",
          "Argentina",
          "Australia",
          "Brazil",
          "Canada",
          "Chile",
          "Colombia",
          "France",
          "Germany",
          "Iceland",
          "India",
          "Italy",
          "Mexico",
          "Netherlands",
          "Singapore",
          "South Africa",
          "South Korea",
          "Spain",
          "Sweden",
          "United Kingdom",
          "United States",
          "Argentina",
          "Australia",
          "Austria",
          "Belgium",
          "Brazil",
          "Bulgaria",
          "Canada",
          "Chile",
          "China",
          "Czech Republic",
          "Denmark",
          "Dominican Republic",
          "Egypt",
          "France",
          "Germany",
          "Hong Kong",
          "Hungary",
          "Iceland",
          "India",
          "Iran",
          "Ireland",
          "Israel",
          "Italy",
          "Japan",
          "Jordan",
          "Kenya",
          "Kuwait",
          "Luxembourg",
          "Malta",
          "Mexico",
          "Mozambique",
          "Netherlands",
          "Nigeria",
          "Norway",
          "Philippines",
          "Poland",
          "Qatar",
          "Romania",
          "Russia",
          "Serbia",
          "Singapore",
          "South Africa",
          "South Korea",
          "Spain",
          "Sweden",
          "Switzerland",
          "Taiwan",
          "Thailand",
          "Turkey",
          "United Arab Emirates",
          "United Kingdom",
          "United States",
          "Venezuela",
          "Vietnam",
          "West Germany",
          "",
          "",
          "",
          "",
          "",
          "",
          "",
          "",
          "",
          "",
          "",
          "",
          "",
          "",
          "",
          "",
          "",
          "",
          "",
          "",
          "",
          "",
          "",
          "",
          "",
          "",
          "",
          "",
          "",
          "",
          "",
          "",
          "",
          "",
          "",
          "",
          "",
          "",
          "",
          "",
          "",
          "",
          "",
          "",
          "",
          "",
          "",
          "",
          "",
          "",
          "",
          "",
          "",
          "",
          "",
          "",
          "",
          "",
          "",
          "",
          "",
          "",
          "",
          "",
          "",
          "",
          "",
          "",
          "",
          "",
          "",
          "",
          "",
          "",
          "",
          "",
          "",
          "",
          "",
          "",
          "",
          "",
          "",
          "",
          "",
          "",
          "",
          "",
          "",
          "",
          "",
          "",
          "",
          "",
          "",
          "",
          "",
          "",
          "",
          "",
          "",
          "",
          "",
          "",
          "",
          "",
          "",
          "",
          "",
          "",
          "",
          "",
          "",
          "",
          "",
          "",
          ""
         ],
         "type": "treemap",
         "values": [
          1,
          3,
          5,
          1,
          2,
          2,
          2,
          1,
          1,
          3,
          5,
          22,
          1,
          3,
          13,
          1,
          12,
          5,
          5,
          2,
          44,
          1,
          63,
          1,
          5,
          3,
          15,
          1,
          37,
          33,
          2,
          66,
          4,
          1,
          137,
          6,
          3,
          1,
          6,
          57,
          1,
          3,
          5,
          9,
          1,
          1,
          1,
          7,
          4,
          4,
          2,
          1,
          5,
          3,
          4,
          1,
          2,
          5,
          12,
          17,
          1,
          10,
          2,
          2,
          3,
          8,
          5,
          3,
          84,
          404,
          2,
          2,
          61,
          7,
          3,
          19,
          7,
          7,
          1,
          1,
          80,
          2,
          1,
          16,
          1,
          3,
          1,
          1,
          1,
          23,
          18,
          3,
          1,
          26,
          6,
          5,
          3,
          19,
          1,
          1,
          3,
          1,
          1,
          1,
          5,
          5,
          2,
          1,
          1,
          2,
          1,
          1,
          2,
          1,
          10,
          9,
          1,
          2,
          4,
          46,
          390,
          1,
          1,
          1,
          5,
          1,
          1,
          8,
          6,
          1,
          1,
          11,
          1,
          6,
          3,
          1,
          1,
          1,
          1,
          2,
          1,
          16,
          81,
          1,
          14,
          15,
          1,
          20,
          20,
          2,
          94,
          2,
          7,
          31,
          8,
          1,
          3,
          1,
          1,
          57,
          2,
          51,
          43,
          2,
          1,
          33,
          323,
          15,
          6,
          2,
          12,
          9,
          2,
          2,
          4,
          5,
          7,
          1,
          24,
          2,
          7,
          2,
          41,
          2,
          7,
          3,
          28,
          6,
          2,
          2,
          5,
          1,
          6,
          1,
          17,
          17,
          47,
          5,
          3,
          1,
          3,
          12,
          58,
          11,
          91,
          680,
          3,
          2,
          1,
          1,
          2,
          1,
          6,
          1,
          1,
          1,
          2,
          4,
          5,
          5,
          1,
          1,
          1,
          1,
          1,
          7,
          52,
          1,
          10,
          1,
          15,
          3,
          7,
          1,
          1,
          12,
          42,
          7,
          3,
          1,
          11,
          1,
          2,
          3,
          44,
          1,
          22,
          1,
          1,
          1,
          27,
          2,
          2,
          6,
          6,
          17,
          7,
          1,
          1,
          5,
          18,
          1,
          1,
          1,
          11,
          7,
          1,
          2,
          3,
          1,
          1,
          4,
          1,
          1,
          1,
          1,
          2,
          1,
          1,
          1,
          1,
          8,
          2,
          21,
          1,
          10,
          4,
          1,
          5,
          1,
          1,
          7,
          128,
          512,
          7,
          1,
          3,
          1,
          1,
          2,
          1,
          3,
          35,
          38,
          6,
          4,
          44,
          26,
          2,
          1,
          3,
          1,
          82,
          12,
          32,
          7,
          2,
          7,
          16,
          44,
          1,
          2,
          167,
          1,
          80,
          5,
          3,
          1,
          33,
          6,
          6,
          662,
          63,
          3,
          15,
          9,
          32,
          1,
          23,
          5,
          3,
          2,
          1,
          18,
          1,
          1,
          8,
          1,
          11,
          1,
          44,
          1,
          4,
          1,
          1,
          1,
          19,
          11,
          64,
          13,
          13,
          2,
          50,
          25,
          5,
          7,
          9,
          3,
          4,
          1,
          3,
          7,
          1,
          1,
          1,
          21,
          26,
          2,
          76,
          1,
          15,
          13,
          2,
          10,
          8,
          30,
          19,
          197,
          835,
          6,
          1,
          4,
          2,
          4,
          3,
          1,
          3,
          1,
          4,
          5,
          1,
          1,
          1,
          1,
          2,
          1,
          1,
          1,
          3,
          1,
          3,
          5,
          42,
          1,
          3,
          3,
          1,
          4,
          1,
          36,
          3,
          2,
          1,
          1,
          3,
          10,
          8,
          1,
          1,
          35,
          10,
          1,
          3,
          2,
          3,
          4,
          1,
          4,
          8,
          1,
          2,
          2,
          1,
          1,
          4,
          2,
          1,
          1,
          1,
          3,
          1,
          2,
          5,
          10,
          4,
          15,
          4,
          2,
          28,
          201,
          1,
          1,
          1,
          8,
          8,
          4,
          4,
          17,
          12,
          1,
          1,
          44,
          8,
          2,
          3,
          2,
          1,
          9,
          5,
          1,
          73,
          1,
          31,
          2,
          2,
          1,
          4,
          3,
          167,
          1,
          2,
          7,
          4,
          7,
          7,
          1,
          5,
          2,
          1,
          1,
          23,
          1,
          4,
          3,
          7,
          2,
          4,
          3,
          5,
          2,
          4,
          2,
          1,
          1,
          1,
          2,
          3,
          2,
          20,
          6,
          3,
          2,
          3,
          3,
          3,
          74,
          390,
          1,
          1,
          4,
          2,
          3,
          6,
          1,
          1,
          1,
          2,
          1,
          1,
          1,
          2,
          4,
          1,
          1,
          4,
          1,
          4,
          7,
          63,
          5,
          4,
          2,
          5,
          14,
          2,
          4,
          1,
          8,
          8,
          1,
          96,
          1,
          3,
          6,
          1,
          3,
          3,
          1,
          3,
          1,
          2,
          1,
          3,
          1,
          1,
          6,
          3,
          2,
          4,
          1,
          1,
          36,
          147,
          1,
          1,
          3,
          6,
          3,
          2,
          25,
          1,
          9,
          2,
          1,
          2,
          12,
          22,
          10,
          1,
          10,
          1,
          1,
          120,
          27,
          4,
          7,
          7,
          1,
          3,
          1,
          2,
          1,
          8,
          4,
          1,
          20,
          1,
          4,
          1,
          35,
          4,
          1,
          3,
          2,
          1,
          10,
          2,
          1,
          11,
          1,
          2,
          9,
          23,
          1,
          38,
          225,
          1,
          1,
          1,
          7,
          1,
          3,
          1,
          1,
          28,
          13,
          1,
          3,
          10,
          13,
          1,
          4,
          2,
          1,
          12,
          2,
          1,
          1,
          9,
          1,
          1,
          6,
          2,
          6,
          1,
          1,
          2,
          2,
          1,
          1,
          3,
          5,
          1,
          11,
          1,
          3,
          35,
          181,
          6,
          8,
          1,
          2,
          13,
          1,
          1,
          1,
          2,
          2,
          1,
          12,
          5,
          1,
          17,
          4,
          2,
          1,
          4,
          1,
          1,
          3,
          3,
          1,
          1,
          1,
          1,
          1,
          1,
          1,
          5,
          1,
          1,
          2,
          2,
          2,
          21,
          113,
          1,
          8,
          3,
          9,
          2,
          3,
          4,
          5,
          5,
          1,
          6,
          4,
          18,
          1,
          1,
          1,
          2,
          1,
          1,
          21,
          216,
          8,
          9,
          2,
          11,
          3,
          3,
          49,
          2,
          6,
          1,
          5,
          1,
          4,
          44,
          29,
          3,
          1,
          2,
          92,
          1,
          2,
          4,
          9,
          5,
          2,
          2,
          1,
          1,
          1,
          2,
          1,
          2,
          16,
          5,
          3,
          6,
          2,
          3,
          1,
          1,
          3,
          3,
          14,
          38,
          5,
          1,
          3,
          3,
          3,
          5,
          61,
          292,
          1,
          1,
          1,
          1,
          1,
          5,
          1,
          112,
          1,
          163,
          18,
          1,
          9,
          133,
          1,
          1,
          110,
          14,
          2,
          9,
          1,
          573,
          4,
          39,
          188,
          29,
          5,
          26,
          53,
          2,
          3,
          1,
          157,
          2,
          11,
          519,
          3,
          314,
          9,
          14,
          3,
          165,
          16,
          16,
          1742,
          142,
          8,
          2,
          54,
          31,
          116,
          2,
          222,
          12,
          1,
          9,
          9,
          1,
          39,
          3,
          1,
          18,
          3,
          31,
          3,
          2,
          175,
          1,
          1,
          9,
          2,
          2,
          4,
          61,
          44,
          1,
          158,
          33,
          35,
          1,
          2,
          1,
          12,
          137,
          56,
          13,
          18,
          25,
          17,
          2,
          16,
          3,
          11,
          24,
          1,
          6,
          1,
          86,
          106,
          6,
          276,
          1,
          1,
          50,
          28,
          5,
          33,
          74,
          131,
          1,
          1,
          61,
          900,
          4853,
          19,
          2,
          5,
          13,
          6,
          4
         ]
        }
       ],
       "layout": {
        "coloraxis": {
         "colorbar": {
          "title": {
           "text": "values"
          }
         },
         "colorscale": [
          [
           0,
           "rgb(103,0,31)"
          ],
          [
           0.1,
           "rgb(178,24,43)"
          ],
          [
           0.2,
           "rgb(214,96,77)"
          ],
          [
           0.3,
           "rgb(244,165,130)"
          ],
          [
           0.4,
           "rgb(253,219,199)"
          ],
          [
           0.5,
           "rgb(247,247,247)"
          ],
          [
           0.6,
           "rgb(209,229,240)"
          ],
          [
           0.7,
           "rgb(146,197,222)"
          ],
          [
           0.8,
           "rgb(67,147,195)"
          ],
          [
           0.9,
           "rgb(33,102,172)"
          ],
          [
           1,
           "rgb(5,48,97)"
          ]
         ]
        },
        "legend": {
         "tracegroupgap": 0
        },
        "margin": {
         "t": 60
        },
        "template": {
         "data": {
          "bar": [
           {
            "error_x": {
             "color": "#2a3f5f"
            },
            "error_y": {
             "color": "#2a3f5f"
            },
            "marker": {
             "line": {
              "color": "#E5ECF6",
              "width": 0.5
             },
             "pattern": {
              "fillmode": "overlay",
              "size": 10,
              "solidity": 0.2
             }
            },
            "type": "bar"
           }
          ],
          "barpolar": [
           {
            "marker": {
             "line": {
              "color": "#E5ECF6",
              "width": 0.5
             },
             "pattern": {
              "fillmode": "overlay",
              "size": 10,
              "solidity": 0.2
             }
            },
            "type": "barpolar"
           }
          ],
          "carpet": [
           {
            "aaxis": {
             "endlinecolor": "#2a3f5f",
             "gridcolor": "white",
             "linecolor": "white",
             "minorgridcolor": "white",
             "startlinecolor": "#2a3f5f"
            },
            "baxis": {
             "endlinecolor": "#2a3f5f",
             "gridcolor": "white",
             "linecolor": "white",
             "minorgridcolor": "white",
             "startlinecolor": "#2a3f5f"
            },
            "type": "carpet"
           }
          ],
          "choropleth": [
           {
            "colorbar": {
             "outlinewidth": 0,
             "ticks": ""
            },
            "type": "choropleth"
           }
          ],
          "contour": [
           {
            "colorbar": {
             "outlinewidth": 0,
             "ticks": ""
            },
            "colorscale": [
             [
              0,
              "#0d0887"
             ],
             [
              0.1111111111111111,
              "#46039f"
             ],
             [
              0.2222222222222222,
              "#7201a8"
             ],
             [
              0.3333333333333333,
              "#9c179e"
             ],
             [
              0.4444444444444444,
              "#bd3786"
             ],
             [
              0.5555555555555556,
              "#d8576b"
             ],
             [
              0.6666666666666666,
              "#ed7953"
             ],
             [
              0.7777777777777778,
              "#fb9f3a"
             ],
             [
              0.8888888888888888,
              "#fdca26"
             ],
             [
              1,
              "#f0f921"
             ]
            ],
            "type": "contour"
           }
          ],
          "contourcarpet": [
           {
            "colorbar": {
             "outlinewidth": 0,
             "ticks": ""
            },
            "type": "contourcarpet"
           }
          ],
          "heatmap": [
           {
            "colorbar": {
             "outlinewidth": 0,
             "ticks": ""
            },
            "colorscale": [
             [
              0,
              "#0d0887"
             ],
             [
              0.1111111111111111,
              "#46039f"
             ],
             [
              0.2222222222222222,
              "#7201a8"
             ],
             [
              0.3333333333333333,
              "#9c179e"
             ],
             [
              0.4444444444444444,
              "#bd3786"
             ],
             [
              0.5555555555555556,
              "#d8576b"
             ],
             [
              0.6666666666666666,
              "#ed7953"
             ],
             [
              0.7777777777777778,
              "#fb9f3a"
             ],
             [
              0.8888888888888888,
              "#fdca26"
             ],
             [
              1,
              "#f0f921"
             ]
            ],
            "type": "heatmap"
           }
          ],
          "heatmapgl": [
           {
            "colorbar": {
             "outlinewidth": 0,
             "ticks": ""
            },
            "colorscale": [
             [
              0,
              "#0d0887"
             ],
             [
              0.1111111111111111,
              "#46039f"
             ],
             [
              0.2222222222222222,
              "#7201a8"
             ],
             [
              0.3333333333333333,
              "#9c179e"
             ],
             [
              0.4444444444444444,
              "#bd3786"
             ],
             [
              0.5555555555555556,
              "#d8576b"
             ],
             [
              0.6666666666666666,
              "#ed7953"
             ],
             [
              0.7777777777777778,
              "#fb9f3a"
             ],
             [
              0.8888888888888888,
              "#fdca26"
             ],
             [
              1,
              "#f0f921"
             ]
            ],
            "type": "heatmapgl"
           }
          ],
          "histogram": [
           {
            "marker": {
             "pattern": {
              "fillmode": "overlay",
              "size": 10,
              "solidity": 0.2
             }
            },
            "type": "histogram"
           }
          ],
          "histogram2d": [
           {
            "colorbar": {
             "outlinewidth": 0,
             "ticks": ""
            },
            "colorscale": [
             [
              0,
              "#0d0887"
             ],
             [
              0.1111111111111111,
              "#46039f"
             ],
             [
              0.2222222222222222,
              "#7201a8"
             ],
             [
              0.3333333333333333,
              "#9c179e"
             ],
             [
              0.4444444444444444,
              "#bd3786"
             ],
             [
              0.5555555555555556,
              "#d8576b"
             ],
             [
              0.6666666666666666,
              "#ed7953"
             ],
             [
              0.7777777777777778,
              "#fb9f3a"
             ],
             [
              0.8888888888888888,
              "#fdca26"
             ],
             [
              1,
              "#f0f921"
             ]
            ],
            "type": "histogram2d"
           }
          ],
          "histogram2dcontour": [
           {
            "colorbar": {
             "outlinewidth": 0,
             "ticks": ""
            },
            "colorscale": [
             [
              0,
              "#0d0887"
             ],
             [
              0.1111111111111111,
              "#46039f"
             ],
             [
              0.2222222222222222,
              "#7201a8"
             ],
             [
              0.3333333333333333,
              "#9c179e"
             ],
             [
              0.4444444444444444,
              "#bd3786"
             ],
             [
              0.5555555555555556,
              "#d8576b"
             ],
             [
              0.6666666666666666,
              "#ed7953"
             ],
             [
              0.7777777777777778,
              "#fb9f3a"
             ],
             [
              0.8888888888888888,
              "#fdca26"
             ],
             [
              1,
              "#f0f921"
             ]
            ],
            "type": "histogram2dcontour"
           }
          ],
          "mesh3d": [
           {
            "colorbar": {
             "outlinewidth": 0,
             "ticks": ""
            },
            "type": "mesh3d"
           }
          ],
          "parcoords": [
           {
            "line": {
             "colorbar": {
              "outlinewidth": 0,
              "ticks": ""
             }
            },
            "type": "parcoords"
           }
          ],
          "pie": [
           {
            "automargin": true,
            "type": "pie"
           }
          ],
          "scatter": [
           {
            "marker": {
             "colorbar": {
              "outlinewidth": 0,
              "ticks": ""
             }
            },
            "type": "scatter"
           }
          ],
          "scatter3d": [
           {
            "line": {
             "colorbar": {
              "outlinewidth": 0,
              "ticks": ""
             }
            },
            "marker": {
             "colorbar": {
              "outlinewidth": 0,
              "ticks": ""
             }
            },
            "type": "scatter3d"
           }
          ],
          "scattercarpet": [
           {
            "marker": {
             "colorbar": {
              "outlinewidth": 0,
              "ticks": ""
             }
            },
            "type": "scattercarpet"
           }
          ],
          "scattergeo": [
           {
            "marker": {
             "colorbar": {
              "outlinewidth": 0,
              "ticks": ""
             }
            },
            "type": "scattergeo"
           }
          ],
          "scattergl": [
           {
            "marker": {
             "colorbar": {
              "outlinewidth": 0,
              "ticks": ""
             }
            },
            "type": "scattergl"
           }
          ],
          "scattermapbox": [
           {
            "marker": {
             "colorbar": {
              "outlinewidth": 0,
              "ticks": ""
             }
            },
            "type": "scattermapbox"
           }
          ],
          "scatterpolar": [
           {
            "marker": {
             "colorbar": {
              "outlinewidth": 0,
              "ticks": ""
             }
            },
            "type": "scatterpolar"
           }
          ],
          "scatterpolargl": [
           {
            "marker": {
             "colorbar": {
              "outlinewidth": 0,
              "ticks": ""
             }
            },
            "type": "scatterpolargl"
           }
          ],
          "scatterternary": [
           {
            "marker": {
             "colorbar": {
              "outlinewidth": 0,
              "ticks": ""
             }
            },
            "type": "scatterternary"
           }
          ],
          "surface": [
           {
            "colorbar": {
             "outlinewidth": 0,
             "ticks": ""
            },
            "colorscale": [
             [
              0,
              "#0d0887"
             ],
             [
              0.1111111111111111,
              "#46039f"
             ],
             [
              0.2222222222222222,
              "#7201a8"
             ],
             [
              0.3333333333333333,
              "#9c179e"
             ],
             [
              0.4444444444444444,
              "#bd3786"
             ],
             [
              0.5555555555555556,
              "#d8576b"
             ],
             [
              0.6666666666666666,
              "#ed7953"
             ],
             [
              0.7777777777777778,
              "#fb9f3a"
             ],
             [
              0.8888888888888888,
              "#fdca26"
             ],
             [
              1,
              "#f0f921"
             ]
            ],
            "type": "surface"
           }
          ],
          "table": [
           {
            "cells": {
             "fill": {
              "color": "#EBF0F8"
             },
             "line": {
              "color": "white"
             }
            },
            "header": {
             "fill": {
              "color": "#C8D4E3"
             },
             "line": {
              "color": "white"
             }
            },
            "type": "table"
           }
          ]
         },
         "layout": {
          "annotationdefaults": {
           "arrowcolor": "#2a3f5f",
           "arrowhead": 0,
           "arrowwidth": 1
          },
          "autotypenumbers": "strict",
          "coloraxis": {
           "colorbar": {
            "outlinewidth": 0,
            "ticks": ""
           }
          },
          "colorscale": {
           "diverging": [
            [
             0,
             "#8e0152"
            ],
            [
             0.1,
             "#c51b7d"
            ],
            [
             0.2,
             "#de77ae"
            ],
            [
             0.3,
             "#f1b6da"
            ],
            [
             0.4,
             "#fde0ef"
            ],
            [
             0.5,
             "#f7f7f7"
            ],
            [
             0.6,
             "#e6f5d0"
            ],
            [
             0.7,
             "#b8e186"
            ],
            [
             0.8,
             "#7fbc41"
            ],
            [
             0.9,
             "#4d9221"
            ],
            [
             1,
             "#276419"
            ]
           ],
           "sequential": [
            [
             0,
             "#0d0887"
            ],
            [
             0.1111111111111111,
             "#46039f"
            ],
            [
             0.2222222222222222,
             "#7201a8"
            ],
            [
             0.3333333333333333,
             "#9c179e"
            ],
            [
             0.4444444444444444,
             "#bd3786"
            ],
            [
             0.5555555555555556,
             "#d8576b"
            ],
            [
             0.6666666666666666,
             "#ed7953"
            ],
            [
             0.7777777777777778,
             "#fb9f3a"
            ],
            [
             0.8888888888888888,
             "#fdca26"
            ],
            [
             1,
             "#f0f921"
            ]
           ],
           "sequentialminus": [
            [
             0,
             "#0d0887"
            ],
            [
             0.1111111111111111,
             "#46039f"
            ],
            [
             0.2222222222222222,
             "#7201a8"
            ],
            [
             0.3333333333333333,
             "#9c179e"
            ],
            [
             0.4444444444444444,
             "#bd3786"
            ],
            [
             0.5555555555555556,
             "#d8576b"
            ],
            [
             0.6666666666666666,
             "#ed7953"
            ],
            [
             0.7777777777777778,
             "#fb9f3a"
            ],
            [
             0.8888888888888888,
             "#fdca26"
            ],
            [
             1,
             "#f0f921"
            ]
           ]
          },
          "colorway": [
           "#636efa",
           "#EF553B",
           "#00cc96",
           "#ab63fa",
           "#FFA15A",
           "#19d3f3",
           "#FF6692",
           "#B6E880",
           "#FF97FF",
           "#FECB52"
          ],
          "font": {
           "color": "#2a3f5f"
          },
          "geo": {
           "bgcolor": "white",
           "lakecolor": "white",
           "landcolor": "#E5ECF6",
           "showlakes": true,
           "showland": true,
           "subunitcolor": "white"
          },
          "hoverlabel": {
           "align": "left"
          },
          "hovermode": "closest",
          "mapbox": {
           "style": "light"
          },
          "paper_bgcolor": "white",
          "plot_bgcolor": "#E5ECF6",
          "polar": {
           "angularaxis": {
            "gridcolor": "white",
            "linecolor": "white",
            "ticks": ""
           },
           "bgcolor": "#E5ECF6",
           "radialaxis": {
            "gridcolor": "white",
            "linecolor": "white",
            "ticks": ""
           }
          },
          "scene": {
           "xaxis": {
            "backgroundcolor": "#E5ECF6",
            "gridcolor": "white",
            "gridwidth": 2,
            "linecolor": "white",
            "showbackground": true,
            "ticks": "",
            "zerolinecolor": "white"
           },
           "yaxis": {
            "backgroundcolor": "#E5ECF6",
            "gridcolor": "white",
            "gridwidth": 2,
            "linecolor": "white",
            "showbackground": true,
            "ticks": "",
            "zerolinecolor": "white"
           },
           "zaxis": {
            "backgroundcolor": "#E5ECF6",
            "gridcolor": "white",
            "gridwidth": 2,
            "linecolor": "white",
            "showbackground": true,
            "ticks": "",
            "zerolinecolor": "white"
           }
          },
          "shapedefaults": {
           "line": {
            "color": "#2a3f5f"
           }
          },
          "ternary": {
           "aaxis": {
            "gridcolor": "white",
            "linecolor": "white",
            "ticks": ""
           },
           "baxis": {
            "gridcolor": "white",
            "linecolor": "white",
            "ticks": ""
           },
           "bgcolor": "#E5ECF6",
           "caxis": {
            "gridcolor": "white",
            "linecolor": "white",
            "ticks": ""
           }
          },
          "title": {
           "x": 0.05
          },
          "xaxis": {
           "automargin": true,
           "gridcolor": "white",
           "linecolor": "white",
           "ticks": "",
           "title": {
            "standoff": 15
           },
           "zerolinecolor": "white",
           "zerolinewidth": 2
          },
          "yaxis": {
           "automargin": true,
           "gridcolor": "white",
           "linecolor": "white",
           "ticks": "",
           "title": {
            "standoff": 15
           },
           "zerolinecolor": "white",
           "zerolinewidth": 2
          }
         }
        },
        "title": {
         "text": "Top Movie genre par pays",
         "x": 0.5
        }
       }
      }
     },
     "metadata": {},
     "output_type": "display_data"
    },
    {
     "name": "stderr",
     "output_type": "stream",
     "text": [
      "/usr/lib/python3/dist-packages/plotly/express/_core.py:1637: FutureWarning:\n",
      "\n",
      "The frame.append method is deprecated and will be removed from pandas in a future version. Use pandas.concat instead.\n",
      "\n",
      "/usr/lib/python3/dist-packages/plotly/express/_core.py:1637: FutureWarning:\n",
      "\n",
      "The frame.append method is deprecated and will be removed from pandas in a future version. Use pandas.concat instead.\n",
      "\n"
     ]
    },
    {
     "data": {
      "application/vnd.plotly.v1+json": {
       "config": {
        "plotlyServerURL": "https://plot.ly"
       },
       "data": [
        {
         "branchvalues": "total",
         "customdata": [
          [
           4
          ],
          [
           1
          ],
          [
           1
          ],
          [
           4
          ],
          [
           1
          ],
          [
           2
          ],
          [
           2
          ],
          [
           1
          ],
          [
           143
          ],
          [
           1
          ],
          [
           1
          ],
          [
           1
          ],
          [
           18
          ],
          [
           5
          ],
          [
           1
          ],
          [
           3
          ],
          [
           3
          ],
          [
           1
          ],
          [
           1
          ],
          [
           2
          ],
          [
           6
          ],
          [
           2
          ],
          [
           3
          ],
          [
           5
          ],
          [
           1
          ],
          [
           1
          ],
          [
           1
          ],
          [
           1
          ],
          [
           5
          ],
          [
           225
          ],
          [
           24
          ],
          [
           1
          ],
          [
           4
          ],
          [
           2
          ],
          [
           7
          ],
          [
           17
          ],
          [
           8
          ],
          [
           7
          ],
          [
           1
          ],
          [
           8
          ],
          [
           6
          ],
          [
           15
          ],
          [
           1
          ],
          [
           4
          ],
          [
           18
          ],
          [
           1
          ],
          [
           2
          ],
          [
           2
          ],
          [
           2
          ],
          [
           2
          ],
          [
           23
          ],
          [
           15
          ],
          [
           2
          ],
          [
           2
          ],
          [
           9
          ],
          [
           1
          ],
          [
           2
          ],
          [
           5
          ],
          [
           5
          ],
          [
           16
          ],
          [
           2
          ],
          [
           1
          ],
          [
           1
          ],
          [
           32
          ],
          [
           2
          ],
          [
           1
          ],
          [
           2
          ],
          [
           1
          ],
          [
           1
          ],
          [
           6
          ],
          [
           1
          ],
          [
           6
          ],
          [
           1
          ],
          [
           5
          ],
          [
           4
          ],
          [
           24
          ],
          [
           27
          ],
          [
           4
          ],
          [
           5
          ],
          [
           5
          ],
          [
           10
          ],
          [
           1
          ],
          [
           48
          ],
          [
           145
          ],
          [
           2
          ],
          [
           11
          ],
          [
           1
          ],
          [
           6
          ],
          [
           11
          ],
          [
           1
          ],
          [
           1
          ],
          [
           4
          ],
          [
           1
          ],
          [
           7
          ],
          [
           8
          ],
          [
           2
          ],
          [
           9
          ],
          [
           3
          ],
          [
           2
          ],
          [
           2
          ],
          [
           3
          ],
          [
           1
          ],
          [
           1
          ],
          [
           1
          ],
          [
           1
          ],
          [
           1
          ],
          [
           9
          ],
          [
           1
          ],
          [
           89
          ],
          [
           192
          ],
          [
           1
          ],
          [
           3
          ],
          [
           21
          ],
          [
           1
          ],
          [
           1
          ],
          [
           3
          ],
          [
           61
          ],
          [
           7
          ],
          [
           1
          ],
          [
           4
          ],
          [
           2
          ],
          [
           43
          ],
          [
           8
          ],
          [
           12
          ],
          [
           1
          ],
          [
           5
          ],
          [
           10
          ],
          [
           29
          ],
          [
           1
          ],
          [
           4
          ],
          [
           4
          ],
          [
           3
          ],
          [
           4
          ],
          [
           6
          ],
          [
           3
          ],
          [
           16
          ],
          [
           4
          ],
          [
           1
          ],
          [
           43
          ],
          [
           214
          ],
          [
           1
          ],
          [
           1
          ],
          [
           1
          ],
          [
           1
          ],
          [
           1
          ],
          [
           1
          ],
          [
           132
          ],
          [
           3
          ],
          [
           1
          ],
          [
           11
          ],
          [
           5
          ],
          [
           9
          ],
          [
           1
          ],
          [
           1
          ],
          [
           2
          ],
          [
           3
          ],
          [
           6
          ],
          [
           9
          ],
          [
           3
          ],
          [
           1
          ],
          [
           2
          ],
          [
           4
          ],
          [
           3
          ],
          [
           1
          ],
          [
           35
          ],
          [
           123
          ],
          [
           2
          ],
          [
           3
          ],
          [
           1
          ],
          [
           2
          ],
          [
           2
          ],
          [
           22
          ],
          [
           5
          ],
          [
           3
          ],
          [
           2
          ],
          [
           1
          ],
          [
           2
          ],
          [
           12
          ],
          [
           1
          ],
          [
           1
          ],
          [
           2
          ],
          [
           21
          ],
          [
           1
          ],
          [
           1
          ],
          [
           1
          ],
          [
           5
          ],
          [
           2
          ],
          [
           1
          ],
          [
           4
          ],
          [
           1
          ],
          [
           1
          ],
          [
           5
          ],
          [
           1
          ],
          [
           77
          ],
          [
           9
          ],
          [
           3
          ],
          [
           48
          ],
          [
           10
          ],
          [
           6
          ],
          [
           11
          ],
          [
           44
          ],
          [
           6
          ],
          [
           2
          ],
          [
           4
          ],
          [
           1
          ],
          [
           1
          ],
          [
           3
          ],
          [
           1
          ],
          [
           1
          ],
          [
           1
          ],
          [
           1
          ],
          [
           27
          ],
          [
           49
          ],
          [
           1
          ],
          [
           18
          ],
          [
           4
          ],
          [
           30
          ],
          [
           1
          ],
          [
           1
          ],
          [
           47
          ],
          [
           1
          ],
          [
           41
          ],
          [
           1
          ],
          [
           29
          ],
          [
           1
          ],
          [
           1
          ],
          [
           1
          ],
          [
           1
          ],
          [
           3
          ],
          [
           1
          ],
          [
           1
          ],
          [
           4
          ],
          [
           1
          ],
          [
           33
          ],
          [
           2
          ],
          [
           2
          ],
          [
           12
          ],
          [
           7
          ],
          [
           1
          ],
          [
           1
          ],
          [
           6
          ],
          [
           2
          ],
          [
           5
          ],
          [
           1
          ],
          [
           4
          ],
          [
           5
          ],
          [
           1
          ],
          [
           7
          ],
          [
           1
          ],
          [
           2
          ],
          [
           1
          ],
          [
           1
          ],
          [
           1
          ],
          [
           1
          ],
          [
           9
          ],
          [
           4
          ],
          [
           3
          ],
          [
           2
          ],
          [
           5
          ],
          [
           9
          ],
          [
           94
          ],
          [
           2
          ],
          [
           17
          ],
          [
           1
          ],
          [
           6
          ],
          [
           30
          ],
          [
           12
          ],
          [
           1
          ],
          [
           1
          ],
          [
           3
          ],
          [
           4
          ],
          [
           2
          ],
          [
           24
          ],
          [
           6
          ],
          [
           1
          ],
          [
           26
          ],
          [
           1
          ],
          [
           4
          ],
          [
           2
          ],
          [
           3
          ],
          [
           10
          ],
          [
           2
          ],
          [
           4
          ],
          [
           1
          ],
          [
           2
          ],
          [
           3
          ],
          [
           1
          ],
          [
           1
          ],
          [
           1
          ],
          [
           1
          ],
          [
           2
          ],
          [
           2
          ],
          [
           19
          ],
          [
           5
          ],
          [
           3
          ],
          [
           1
          ],
          [
           36
          ],
          [
           4
          ],
          [
           3
          ],
          [
           1
          ],
          [
           44
          ],
          [
           258
          ],
          [
           1
          ],
          [
           2
          ],
          [
           19
          ],
          [
           1
          ],
          [
           1
          ],
          [
           8
          ],
          [
           11
          ],
          [
           32
          ],
          [
           4
          ],
          [
           20
          ],
          [
           8
          ],
          [
           1
          ],
          [
           1
          ],
          [
           8
          ],
          [
           12
          ],
          [
           2
          ],
          [
           27
          ],
          [
           20
          ],
          [
           4
          ],
          [
           1
          ],
          [
           3
          ],
          [
           28
          ],
          [
           2
          ],
          [
           7
          ],
          [
           6
          ],
          [
           13
          ],
          [
           21
          ],
          [
           2
          ],
          [
           3
          ],
          [
           7
          ],
          [
           1
          ],
          [
           2
          ],
          [
           1
          ],
          [
           1
          ],
          [
           12
          ],
          [
           3
          ],
          [
           2
          ],
          [
           7
          ],
          [
           5
          ],
          [
           3
          ],
          [
           1
          ],
          [
           8
          ],
          [
           7
          ],
          [
           2
          ],
          [
           1
          ],
          [
           15
          ],
          [
           8
          ],
          [
           38
          ],
          [
           11
          ],
          [
           7
          ],
          [
           1
          ],
          [
           1
          ],
          [
           29
          ],
          [
           16
          ],
          [
           25
          ],
          [
           1
          ],
          [
           1
          ],
          [
           36
          ],
          [
           232
          ],
          [
           1
          ],
          [
           1
          ],
          [
           1
          ],
          [
           2
          ],
          [
           8
          ],
          [
           1
          ],
          [
           1
          ],
          [
           3
          ],
          [
           7
          ],
          [
           1
          ],
          [
           1
          ],
          [
           1
          ],
          [
           5
          ],
          [
           1
          ],
          [
           1
          ],
          [
           1
          ],
          [
           2
          ],
          [
           3
          ],
          [
           2
          ],
          [
           1
          ],
          [
           1
          ],
          [
           2
          ],
          [
           37
          ],
          [
           3
          ],
          [
           2
          ],
          [
           5
          ],
          [
           9
          ],
          [
           1
          ],
          [
           2
          ],
          [
           2
          ],
          [
           2
          ],
          [
           2
          ],
          [
           1
          ],
          [
           2
          ],
          [
           1
          ],
          [
           1
          ],
          [
           4
          ],
          [
           1
          ],
          [
           1
          ],
          [
           1
          ],
          [
           1
          ],
          [
           1
          ],
          [
           3
          ],
          [
           3
          ],
          [
           3
          ],
          [
           2
          ],
          [
           1
          ],
          [
           2
          ],
          [
           51
          ],
          [
           4
          ],
          [
           1
          ],
          [
           2
          ],
          [
           9
          ],
          [
           3
          ],
          [
           1
          ],
          [
           1
          ],
          [
           1
          ],
          [
           3
          ],
          [
           1
          ],
          [
           3
          ],
          [
           1
          ],
          [
           1
          ],
          [
           1
          ],
          [
           4
          ],
          [
           60
          ],
          [
           2
          ],
          [
           5
          ],
          [
           1
          ],
          [
           1
          ],
          [
           3
          ],
          [
           3
          ],
          [
           6
          ],
          [
           1
          ],
          [
           1
          ],
          [
           2
          ],
          [
           1
          ],
          [
           1
          ],
          [
           1
          ],
          [
           1
          ],
          [
           4
          ],
          [
           2
          ],
          [
           27
          ],
          [
           1
          ],
          [
           2
          ],
          [
           2
          ],
          [
           5
          ],
          [
           1
          ],
          [
           1
          ],
          [
           14
          ],
          [
           1
          ],
          [
           1
          ],
          [
           1
          ],
          [
           3
          ],
          [
           1
          ],
          [
           33
          ],
          [
           10.170731707317072
          ],
          [
           12.965217391304348
          ],
          [
           1
          ],
          [
           1
          ],
          [
           1
          ],
          [
           6.043478260869565
          ],
          [
           5.980392156862745
          ],
          [
           29.77625570776256
          ],
          [
           3.6666666666666665
          ],
          [
           13.404494382022472
          ],
          [
           20.26153846153846
          ],
          [
           1
          ],
          [
           1
          ],
          [
           1
          ],
          [
           2.1666666666666665
          ],
          [
           4.545454545454546
          ],
          [
           7.16
          ],
          [
           1.8888888888888888
          ],
          [
           25.8843537414966
          ],
          [
           11.236842105263158
          ],
          [
           1.8
          ],
          [
           2.6
          ],
          [
           1
          ],
          [
           2.3333333333333335
          ],
          [
           15.61654135338346
          ],
          [
           1.25
          ],
          [
           4.6923076923076925
          ],
          [
           4.181818181818182
          ],
          [
           8.076923076923077
          ],
          [
           79.5625
          ],
          [
           1.5
          ],
          [
           2.5
          ],
          [
           5
          ],
          [
           1
          ],
          [
           2.4545454545454546
          ],
          [
           1
          ],
          [
           1
          ],
          [
           28.983471074380166
          ],
          [
           2.1666666666666665
          ],
          [
           2.5714285714285716
          ],
          [
           4.833333333333333
          ],
          [
           2.6666666666666665
          ],
          [
           3.25
          ],
          [
           1
          ],
          [
           6.0588235294117645
          ],
          [
           1
          ],
          [
           4.923076923076923
          ],
          [
           1.5
          ],
          [
           1
          ],
          [
           8.08108108108108
          ],
          [
           4.684210526315789
          ],
          [
           79.15757575757576
          ],
          [
           23.03305785123967
          ],
          [
           4.473684210526316
          ],
          [
           1
          ],
          [
           1
          ],
          [
           34.55384615384615
          ],
          [
           9
          ],
          [
           14.333333333333334
          ],
          [
           1
          ],
          [
           1
          ],
          [
           116.32423208191126
          ],
          [
           157.0284528749259
          ],
          [
           1
          ],
          [
           1
          ]
         ],
         "domain": {
          "x": [
           0,
           1
          ],
          "y": [
           0,
           1
          ]
         },
         "hovertemplate": "labels=%{label}<br>values_sum=%{value}<br>parent=%{parent}<br>id=%{id}<br>values=%{color}<extra></extra>",
         "ids": [
          "India/",
          "Japan/",
          "Saudi Arabia/",
          "United States/",
          "Australia/Anime Series",
          "Canada/Anime Series",
          "China/Anime Series",
          "Indonesia/Anime Series",
          "Japan/Anime Series",
          "Philippines/Anime Series",
          "Singapore/Anime Series",
          "Spain/Anime Series",
          "United States/Anime Series",
          "Australia/British TV Shows",
          "Belarus/British TV Shows",
          "Canada/British TV Shows",
          "China/British TV Shows",
          "Czech Republic/British TV Shows",
          "Finland/British TV Shows",
          "France/British TV Shows",
          "Germany/British TV Shows",
          "Greece/British TV Shows",
          "India/British TV Shows",
          "Ireland/British TV Shows",
          "Italy/British TV Shows",
          "Japan/British TV Shows",
          "Netherlands/British TV Shows",
          "South Africa/British TV Shows",
          "Spain/British TV Shows",
          "United Kingdom/British TV Shows",
          "United States/British TV Shows",
          "Argentina/Classic & Cult TV",
          "Canada/Classic & Cult TV",
          "Mexico/Classic & Cult TV",
          "United Kingdom/Classic & Cult TV",
          "United States/Classic & Cult TV",
          "Argentina/Crime TV Shows",
          "Australia/Crime TV Shows",
          "Austria/Crime TV Shows",
          "Belgium/Crime TV Shows",
          "Brazil/Crime TV Shows",
          "Canada/Crime TV Shows",
          "Chile/Crime TV Shows",
          "China/Crime TV Shows",
          "Colombia/Crime TV Shows",
          "Cuba/Crime TV Shows",
          "Czech Republic/Crime TV Shows",
          "Denmark/Crime TV Shows",
          "Egypt/Crime TV Shows",
          "Finland/Crime TV Shows",
          "France/Crime TV Shows",
          "Germany/Crime TV Shows",
          "Hong Kong/Crime TV Shows",
          "Iceland/Crime TV Shows",
          "India/Crime TV Shows",
          "Indonesia/Crime TV Shows",
          "Ireland/Crime TV Shows",
          "Israel/Crime TV Shows",
          "Italy/Crime TV Shows",
          "Japan/Crime TV Shows",
          "Lebanon/Crime TV Shows",
          "Luxembourg/Crime TV Shows",
          "Malta/Crime TV Shows",
          "Mexico/Crime TV Shows",
          "Netherlands/Crime TV Shows",
          "Nigeria/Crime TV Shows",
          "Norway/Crime TV Shows",
          "Pakistan/Crime TV Shows",
          "Philippines/Crime TV Shows",
          "Poland/Crime TV Shows",
          "Puerto Rico/Crime TV Shows",
          "Russia/Crime TV Shows",
          "Senegal/Crime TV Shows",
          "Singapore/Crime TV Shows",
          "South Africa/Crime TV Shows",
          "South Korea/Crime TV Shows",
          "Spain/Crime TV Shows",
          "Sweden/Crime TV Shows",
          "Taiwan/Crime TV Shows",
          "Thailand/Crime TV Shows",
          "Turkey/Crime TV Shows",
          "Ukraine/Crime TV Shows",
          "United Kingdom/Crime TV Shows",
          "United States/Crime TV Shows",
          "Argentina/Docuseries",
          "Australia/Docuseries",
          "Belgium/Docuseries",
          "Brazil/Docuseries",
          "Canada/Docuseries",
          "China/Docuseries",
          "Colombia/Docuseries",
          "Czech Republic/Docuseries",
          "Denmark/Docuseries",
          "France/Docuseries",
          "Germany/Docuseries",
          "Greece/Docuseries",
          "India/Docuseries",
          "Israel/Docuseries",
          "Italy/Docuseries",
          "Japan/Docuseries",
          "Mexico/Docuseries",
          "New Zealand/Docuseries",
          "Norway/Docuseries",
          "Poland/Docuseries",
          "Russia/Docuseries",
          "South Africa/Docuseries",
          "Spain/Docuseries",
          "Thailand/Docuseries",
          "United Kingdom/Docuseries",
          "United States/Docuseries",
          "Uruguay/Docuseries",
          "Argentina/Kids' TV",
          "Australia/Kids' TV",
          "Belarus/Kids' TV",
          "Belgium/Kids' TV",
          "Brazil/Kids' TV",
          "Canada/Kids' TV",
          "China/Kids' TV",
          "Cyprus/Kids' TV",
          "Denmark/Kids' TV",
          "Finland/Kids' TV",
          "France/Kids' TV",
          "Germany/Kids' TV",
          "India/Kids' TV",
          "Indonesia/Kids' TV",
          "Ireland/Kids' TV",
          "Italy/Kids' TV",
          "Japan/Kids' TV",
          "Luxembourg/Kids' TV",
          "Malaysia/Kids' TV",
          "Mexico/Kids' TV",
          "Netherlands/Kids' TV",
          "New Zealand/Kids' TV",
          "Russia/Kids' TV",
          "Singapore/Kids' TV",
          "South Korea/Kids' TV",
          "Spain/Kids' TV",
          "Sweden/Kids' TV",
          "United Kingdom/Kids' TV",
          "United States/Kids' TV",
          "Canada/Korean TV Shows",
          "China/Korean TV Shows",
          "Hong Kong/Korean TV Shows",
          "Malaysia/Korean TV Shows",
          "Russia/Korean TV Shows",
          "Singapore/Korean TV Shows",
          "South Korea/Korean TV Shows",
          "United States/Korean TV Shows",
          "Argentina/Reality TV",
          "Australia/Reality TV",
          "Brazil/Reality TV",
          "Canada/Reality TV",
          "China/Reality TV",
          "Czech Republic/Reality TV",
          "France/Reality TV",
          "Germany/Reality TV",
          "India/Reality TV",
          "Japan/Reality TV",
          "Mexico/Reality TV",
          "New Zealand/Reality TV",
          "Singapore/Reality TV",
          "South Korea/Reality TV",
          "Spain/Reality TV",
          "Taiwan/Reality TV",
          "United Kingdom/Reality TV",
          "United States/Reality TV",
          "Argentina/Romantic TV Shows",
          "Australia/Romantic TV Shows",
          "Azerbaijan/Romantic TV Shows",
          "Brazil/Romantic TV Shows",
          "Canada/Romantic TV Shows",
          "China/Romantic TV Shows",
          "Colombia/Romantic TV Shows",
          "Egypt/Romantic TV Shows",
          "France/Romantic TV Shows",
          "Germany/Romantic TV Shows",
          "Hong Kong/Romantic TV Shows",
          "India/Romantic TV Shows",
          "Indonesia/Romantic TV Shows",
          "Israel/Romantic TV Shows",
          "Italy/Romantic TV Shows",
          "Japan/Romantic TV Shows",
          "Kuwait/Romantic TV Shows",
          "Lebanon/Romantic TV Shows",
          "Malaysia/Romantic TV Shows",
          "Mexico/Romantic TV Shows",
          "Nigeria/Romantic TV Shows",
          "Norway/Romantic TV Shows",
          "Pakistan/Romantic TV Shows",
          "Philippines/Romantic TV Shows",
          "Russia/Romantic TV Shows",
          "Singapore/Romantic TV Shows",
          "South Africa/Romantic TV Shows",
          "South Korea/Romantic TV Shows",
          "Spain/Romantic TV Shows",
          "Sweden/Romantic TV Shows",
          "Taiwan/Romantic TV Shows",
          "Thailand/Romantic TV Shows",
          "Turkey/Romantic TV Shows",
          "United Kingdom/Romantic TV Shows",
          "United States/Romantic TV Shows",
          "Australia/Science & Nature TV",
          "Brazil/Science & Nature TV",
          "Canada/Science & Nature TV",
          "Czech Republic/Science & Nature TV",
          "France/Science & Nature TV",
          "Germany/Science & Nature TV",
          "Greece/Science & Nature TV",
          "Norway/Science & Nature TV",
          "Russia/Science & Nature TV",
          "Spain/Science & Nature TV",
          "United Kingdom/Science & Nature TV",
          "United States/Science & Nature TV",
          "Uruguay/Science & Nature TV",
          "Argentina/Spanish-Language TV Shows",
          "Chile/Spanish-Language TV Shows",
          "Colombia/Spanish-Language TV Shows",
          "Cuba/Spanish-Language TV Shows",
          "Italy/Spanish-Language TV Shows",
          "Mexico/Spanish-Language TV Shows",
          "Puerto Rico/Spanish-Language TV Shows",
          "Spain/Spanish-Language TV Shows",
          "United Kingdom/Spanish-Language TV Shows",
          "United States/Spanish-Language TV Shows",
          "Brazil/Stand-Up Comedy & Talk Shows",
          "Colombia/Stand-Up Comedy & Talk Shows",
          "France/Stand-Up Comedy & Talk Shows",
          "Germany/Stand-Up Comedy & Talk Shows",
          "India/Stand-Up Comedy & Talk Shows",
          "Japan/Stand-Up Comedy & Talk Shows",
          "Mexico/Stand-Up Comedy & Talk Shows",
          "South Korea/Stand-Up Comedy & Talk Shows",
          "United Kingdom/Stand-Up Comedy & Talk Shows",
          "United States/Stand-Up Comedy & Talk Shows",
          "Australia/TV Action & Adventure",
          "Belgium/TV Action & Adventure",
          "Canada/TV Action & Adventure",
          "China/TV Action & Adventure",
          "Colombia/TV Action & Adventure",
          "Denmark/TV Action & Adventure",
          "France/TV Action & Adventure",
          "Germany/TV Action & Adventure",
          "India/TV Action & Adventure",
          "Ireland/TV Action & Adventure",
          "Israel/TV Action & Adventure",
          "Japan/TV Action & Adventure",
          "Malta/TV Action & Adventure",
          "Mexico/TV Action & Adventure",
          "Netherlands/TV Action & Adventure",
          "New Zealand/TV Action & Adventure",
          "Norway/TV Action & Adventure",
          "Poland/TV Action & Adventure",
          "Russia/TV Action & Adventure",
          "South Africa/TV Action & Adventure",
          "South Korea/TV Action & Adventure",
          "Spain/TV Action & Adventure",
          "Taiwan/TV Action & Adventure",
          "Thailand/TV Action & Adventure",
          "Turkey/TV Action & Adventure",
          "United Kingdom/TV Action & Adventure",
          "United States/TV Action & Adventure",
          "Argentina/TV Comedies",
          "Australia/TV Comedies",
          "Belarus/TV Comedies",
          "Brazil/TV Comedies",
          "Canada/TV Comedies",
          "China/TV Comedies",
          "Colombia/TV Comedies",
          "Cyprus/TV Comedies",
          "Denmark/TV Comedies",
          "Egypt/TV Comedies",
          "Finland/TV Comedies",
          "France/TV Comedies",
          "Germany/TV Comedies",
          "Hong Kong/TV Comedies",
          "India/TV Comedies",
          "Indonesia/TV Comedies",
          "Ireland/TV Comedies",
          "Israel/TV Comedies",
          "Italy/TV Comedies",
          "Japan/TV Comedies",
          "Malaysia/TV Comedies",
          "Mexico/TV Comedies",
          "Netherlands/TV Comedies",
          "Nigeria/TV Comedies",
          "Norway/TV Comedies",
          "Philippines/TV Comedies",
          "Poland/TV Comedies",
          "Russia/TV Comedies",
          "Saudi Arabia/TV Comedies",
          "Singapore/TV Comedies",
          "South Africa/TV Comedies",
          "South Korea/TV Comedies",
          "Spain/TV Comedies",
          "Sweden/TV Comedies",
          "Switzerland/TV Comedies",
          "Taiwan/TV Comedies",
          "Thailand/TV Comedies",
          "Turkey/TV Comedies",
          "Ukraine/TV Comedies",
          "United Kingdom/TV Comedies",
          "United States/TV Comedies",
          "West Germany/TV Comedies",
          "Argentina/TV Dramas",
          "Australia/TV Dramas",
          "Austria/TV Dramas",
          "Azerbaijan/TV Dramas",
          "Belgium/TV Dramas",
          "Brazil/TV Dramas",
          "Canada/TV Dramas",
          "Chile/TV Dramas",
          "China/TV Dramas",
          "Colombia/TV Dramas",
          "Croatia/TV Dramas",
          "Czech Republic/TV Dramas",
          "Denmark/TV Dramas",
          "Egypt/TV Dramas",
          "Finland/TV Dramas",
          "France/TV Dramas",
          "Germany/TV Dramas",
          "Hong Kong/TV Dramas",
          "Hungary/TV Dramas",
          "Iceland/TV Dramas",
          "India/TV Dramas",
          "Indonesia/TV Dramas",
          "Ireland/TV Dramas",
          "Israel/TV Dramas",
          "Italy/TV Dramas",
          "Japan/TV Dramas",
          "Jordan/TV Dramas",
          "Kuwait/TV Dramas",
          "Lebanon/TV Dramas",
          "Luxembourg/TV Dramas",
          "Malaysia/TV Dramas",
          "Malta/TV Dramas",
          "Mauritius/TV Dramas",
          "Mexico/TV Dramas",
          "Netherlands/TV Dramas",
          "New Zealand/TV Dramas",
          "Nigeria/TV Dramas",
          "Norway/TV Dramas",
          "Pakistan/TV Dramas",
          "Philippines/TV Dramas",
          "Poland/TV Dramas",
          "Russia/TV Dramas",
          "Saudi Arabia/TV Dramas",
          "Senegal/TV Dramas",
          "Singapore/TV Dramas",
          "South Africa/TV Dramas",
          "South Korea/TV Dramas",
          "Spain/TV Dramas",
          "Sweden/TV Dramas",
          "Switzerland/TV Dramas",
          "Syria/TV Dramas",
          "Taiwan/TV Dramas",
          "Thailand/TV Dramas",
          "Turkey/TV Dramas",
          "Ukraine/TV Dramas",
          "United Arab Emirates/TV Dramas",
          "United Kingdom/TV Dramas",
          "United States/TV Dramas",
          "West Germany/TV Dramas",
          "Argentina/TV Horror",
          "Australia/TV Horror",
          "Brazil/TV Horror",
          "Canada/TV Horror",
          "Czech Republic/TV Horror",
          "Egypt/TV Horror",
          "France/TV Horror",
          "India/TV Horror",
          "Indonesia/TV Horror",
          "Ireland/TV Horror",
          "Italy/TV Horror",
          "Japan/TV Horror",
          "Netherlands/TV Horror",
          "Norway/TV Horror",
          "Philippines/TV Horror",
          "Singapore/TV Horror",
          "South Korea/TV Horror",
          "Taiwan/TV Horror",
          "Thailand/TV Horror",
          "Turkey/TV Horror",
          "United Kingdom/TV Horror",
          "United States/TV Horror",
          "Australia/TV Mysteries",
          "Belgium/TV Mysteries",
          "Brazil/TV Mysteries",
          "Canada/TV Mysteries",
          "China/TV Mysteries",
          "Denmark/TV Mysteries",
          "Egypt/TV Mysteries",
          "France/TV Mysteries",
          "Germany/TV Mysteries",
          "Iceland/TV Mysteries",
          "India/TV Mysteries",
          "Ireland/TV Mysteries",
          "Israel/TV Mysteries",
          "Japan/TV Mysteries",
          "Jordan/TV Mysteries",
          "Malaysia/TV Mysteries",
          "Norway/TV Mysteries",
          "Russia/TV Mysteries",
          "South Africa/TV Mysteries",
          "South Korea/TV Mysteries",
          "Taiwan/TV Mysteries",
          "Thailand/TV Mysteries",
          "Turkey/TV Mysteries",
          "United Arab Emirates/TV Mysteries",
          "United Kingdom/TV Mysteries",
          "United States/TV Mysteries",
          "Australia/TV Sci-Fi & Fantasy",
          "Belgium/TV Sci-Fi & Fantasy",
          "Brazil/TV Sci-Fi & Fantasy",
          "Canada/TV Sci-Fi & Fantasy",
          "China/TV Sci-Fi & Fantasy",
          "Egypt/TV Sci-Fi & Fantasy",
          "France/TV Sci-Fi & Fantasy",
          "Germany/TV Sci-Fi & Fantasy",
          "India/TV Sci-Fi & Fantasy",
          "Mexico/TV Sci-Fi & Fantasy",
          "New Zealand/TV Sci-Fi & Fantasy",
          "Singapore/TV Sci-Fi & Fantasy",
          "Taiwan/TV Sci-Fi & Fantasy",
          "Thailand/TV Sci-Fi & Fantasy",
          "United Kingdom/TV Sci-Fi & Fantasy",
          "United States/TV Sci-Fi & Fantasy",
          "Australia/TV Thrillers",
          "Canada/TV Thrillers",
          "Czech Republic/TV Thrillers",
          "Denmark/TV Thrillers",
          "France/TV Thrillers",
          "India/TV Thrillers",
          "Japan/TV Thrillers",
          "Lebanon/TV Thrillers",
          "New Zealand/TV Thrillers",
          "Norway/TV Thrillers",
          "South Korea/TV Thrillers",
          "Sweden/TV Thrillers",
          "Taiwan/TV Thrillers",
          "Thailand/TV Thrillers",
          "Turkey/TV Thrillers",
          "United Kingdom/TV Thrillers",
          "United States/TV Thrillers",
          "Argentina/Teen TV Shows",
          "Australia/Teen TV Shows",
          "Canada/Teen TV Shows",
          "China/Teen TV Shows",
          "India/Teen TV Shows",
          "Italy/Teen TV Shows",
          "Japan/Teen TV Shows",
          "Jordan/Teen TV Shows",
          "Spain/Teen TV Shows",
          "Taiwan/Teen TV Shows",
          "Thailand/Teen TV Shows",
          "Turkey/Teen TV Shows",
          "United States/Teen TV Shows",
          "Argentina",
          "Australia",
          "Austria",
          "Azerbaijan",
          "Belarus",
          "Belgium",
          "Brazil",
          "Canada",
          "Chile",
          "China",
          "Colombia",
          "Croatia",
          "Cuba",
          "Cyprus",
          "Czech Republic",
          "Denmark",
          "Egypt",
          "Finland",
          "France",
          "Germany",
          "Greece",
          "Hong Kong",
          "Hungary",
          "Iceland",
          "India",
          "Indonesia",
          "Ireland",
          "Israel",
          "Italy",
          "Japan",
          "Jordan",
          "Kuwait",
          "Lebanon",
          "Luxembourg",
          "Malaysia",
          "Malta",
          "Mauritius",
          "Mexico",
          "Netherlands",
          "New Zealand",
          "Nigeria",
          "Norway",
          "Pakistan",
          "Philippines",
          "Poland",
          "Puerto Rico",
          "Russia",
          "Saudi Arabia",
          "Senegal",
          "Singapore",
          "South Africa",
          "South Korea",
          "Spain",
          "Sweden",
          "Switzerland",
          "Syria",
          "Taiwan",
          "Thailand",
          "Turkey",
          "Ukraine",
          "United Arab Emirates",
          "United Kingdom",
          "United States",
          "Uruguay",
          "West Germany"
         ],
         "labels": [
          "",
          "",
          "",
          "",
          "Anime Series",
          "Anime Series",
          "Anime Series",
          "Anime Series",
          "Anime Series",
          "Anime Series",
          "Anime Series",
          "Anime Series",
          "Anime Series",
          "British TV Shows",
          "British TV Shows",
          "British TV Shows",
          "British TV Shows",
          "British TV Shows",
          "British TV Shows",
          "British TV Shows",
          "British TV Shows",
          "British TV Shows",
          "British TV Shows",
          "British TV Shows",
          "British TV Shows",
          "British TV Shows",
          "British TV Shows",
          "British TV Shows",
          "British TV Shows",
          "British TV Shows",
          "British TV Shows",
          "Classic & Cult TV",
          "Classic & Cult TV",
          "Classic & Cult TV",
          "Classic & Cult TV",
          "Classic & Cult TV",
          "Crime TV Shows",
          "Crime TV Shows",
          "Crime TV Shows",
          "Crime TV Shows",
          "Crime TV Shows",
          "Crime TV Shows",
          "Crime TV Shows",
          "Crime TV Shows",
          "Crime TV Shows",
          "Crime TV Shows",
          "Crime TV Shows",
          "Crime TV Shows",
          "Crime TV Shows",
          "Crime TV Shows",
          "Crime TV Shows",
          "Crime TV Shows",
          "Crime TV Shows",
          "Crime TV Shows",
          "Crime TV Shows",
          "Crime TV Shows",
          "Crime TV Shows",
          "Crime TV Shows",
          "Crime TV Shows",
          "Crime TV Shows",
          "Crime TV Shows",
          "Crime TV Shows",
          "Crime TV Shows",
          "Crime TV Shows",
          "Crime TV Shows",
          "Crime TV Shows",
          "Crime TV Shows",
          "Crime TV Shows",
          "Crime TV Shows",
          "Crime TV Shows",
          "Crime TV Shows",
          "Crime TV Shows",
          "Crime TV Shows",
          "Crime TV Shows",
          "Crime TV Shows",
          "Crime TV Shows",
          "Crime TV Shows",
          "Crime TV Shows",
          "Crime TV Shows",
          "Crime TV Shows",
          "Crime TV Shows",
          "Crime TV Shows",
          "Crime TV Shows",
          "Crime TV Shows",
          "Docuseries",
          "Docuseries",
          "Docuseries",
          "Docuseries",
          "Docuseries",
          "Docuseries",
          "Docuseries",
          "Docuseries",
          "Docuseries",
          "Docuseries",
          "Docuseries",
          "Docuseries",
          "Docuseries",
          "Docuseries",
          "Docuseries",
          "Docuseries",
          "Docuseries",
          "Docuseries",
          "Docuseries",
          "Docuseries",
          "Docuseries",
          "Docuseries",
          "Docuseries",
          "Docuseries",
          "Docuseries",
          "Docuseries",
          "Docuseries",
          "Kids' TV",
          "Kids' TV",
          "Kids' TV",
          "Kids' TV",
          "Kids' TV",
          "Kids' TV",
          "Kids' TV",
          "Kids' TV",
          "Kids' TV",
          "Kids' TV",
          "Kids' TV",
          "Kids' TV",
          "Kids' TV",
          "Kids' TV",
          "Kids' TV",
          "Kids' TV",
          "Kids' TV",
          "Kids' TV",
          "Kids' TV",
          "Kids' TV",
          "Kids' TV",
          "Kids' TV",
          "Kids' TV",
          "Kids' TV",
          "Kids' TV",
          "Kids' TV",
          "Kids' TV",
          "Kids' TV",
          "Kids' TV",
          "Korean TV Shows",
          "Korean TV Shows",
          "Korean TV Shows",
          "Korean TV Shows",
          "Korean TV Shows",
          "Korean TV Shows",
          "Korean TV Shows",
          "Korean TV Shows",
          "Reality TV",
          "Reality TV",
          "Reality TV",
          "Reality TV",
          "Reality TV",
          "Reality TV",
          "Reality TV",
          "Reality TV",
          "Reality TV",
          "Reality TV",
          "Reality TV",
          "Reality TV",
          "Reality TV",
          "Reality TV",
          "Reality TV",
          "Reality TV",
          "Reality TV",
          "Reality TV",
          "Romantic TV Shows",
          "Romantic TV Shows",
          "Romantic TV Shows",
          "Romantic TV Shows",
          "Romantic TV Shows",
          "Romantic TV Shows",
          "Romantic TV Shows",
          "Romantic TV Shows",
          "Romantic TV Shows",
          "Romantic TV Shows",
          "Romantic TV Shows",
          "Romantic TV Shows",
          "Romantic TV Shows",
          "Romantic TV Shows",
          "Romantic TV Shows",
          "Romantic TV Shows",
          "Romantic TV Shows",
          "Romantic TV Shows",
          "Romantic TV Shows",
          "Romantic TV Shows",
          "Romantic TV Shows",
          "Romantic TV Shows",
          "Romantic TV Shows",
          "Romantic TV Shows",
          "Romantic TV Shows",
          "Romantic TV Shows",
          "Romantic TV Shows",
          "Romantic TV Shows",
          "Romantic TV Shows",
          "Romantic TV Shows",
          "Romantic TV Shows",
          "Romantic TV Shows",
          "Romantic TV Shows",
          "Romantic TV Shows",
          "Romantic TV Shows",
          "Science & Nature TV",
          "Science & Nature TV",
          "Science & Nature TV",
          "Science & Nature TV",
          "Science & Nature TV",
          "Science & Nature TV",
          "Science & Nature TV",
          "Science & Nature TV",
          "Science & Nature TV",
          "Science & Nature TV",
          "Science & Nature TV",
          "Science & Nature TV",
          "Science & Nature TV",
          "Spanish-Language TV Shows",
          "Spanish-Language TV Shows",
          "Spanish-Language TV Shows",
          "Spanish-Language TV Shows",
          "Spanish-Language TV Shows",
          "Spanish-Language TV Shows",
          "Spanish-Language TV Shows",
          "Spanish-Language TV Shows",
          "Spanish-Language TV Shows",
          "Spanish-Language TV Shows",
          "Stand-Up Comedy & Talk Shows",
          "Stand-Up Comedy & Talk Shows",
          "Stand-Up Comedy & Talk Shows",
          "Stand-Up Comedy & Talk Shows",
          "Stand-Up Comedy & Talk Shows",
          "Stand-Up Comedy & Talk Shows",
          "Stand-Up Comedy & Talk Shows",
          "Stand-Up Comedy & Talk Shows",
          "Stand-Up Comedy & Talk Shows",
          "Stand-Up Comedy & Talk Shows",
          "TV Action & Adventure",
          "TV Action & Adventure",
          "TV Action & Adventure",
          "TV Action & Adventure",
          "TV Action & Adventure",
          "TV Action & Adventure",
          "TV Action & Adventure",
          "TV Action & Adventure",
          "TV Action & Adventure",
          "TV Action & Adventure",
          "TV Action & Adventure",
          "TV Action & Adventure",
          "TV Action & Adventure",
          "TV Action & Adventure",
          "TV Action & Adventure",
          "TV Action & Adventure",
          "TV Action & Adventure",
          "TV Action & Adventure",
          "TV Action & Adventure",
          "TV Action & Adventure",
          "TV Action & Adventure",
          "TV Action & Adventure",
          "TV Action & Adventure",
          "TV Action & Adventure",
          "TV Action & Adventure",
          "TV Action & Adventure",
          "TV Action & Adventure",
          "TV Comedies",
          "TV Comedies",
          "TV Comedies",
          "TV Comedies",
          "TV Comedies",
          "TV Comedies",
          "TV Comedies",
          "TV Comedies",
          "TV Comedies",
          "TV Comedies",
          "TV Comedies",
          "TV Comedies",
          "TV Comedies",
          "TV Comedies",
          "TV Comedies",
          "TV Comedies",
          "TV Comedies",
          "TV Comedies",
          "TV Comedies",
          "TV Comedies",
          "TV Comedies",
          "TV Comedies",
          "TV Comedies",
          "TV Comedies",
          "TV Comedies",
          "TV Comedies",
          "TV Comedies",
          "TV Comedies",
          "TV Comedies",
          "TV Comedies",
          "TV Comedies",
          "TV Comedies",
          "TV Comedies",
          "TV Comedies",
          "TV Comedies",
          "TV Comedies",
          "TV Comedies",
          "TV Comedies",
          "TV Comedies",
          "TV Comedies",
          "TV Comedies",
          "TV Comedies",
          "TV Dramas",
          "TV Dramas",
          "TV Dramas",
          "TV Dramas",
          "TV Dramas",
          "TV Dramas",
          "TV Dramas",
          "TV Dramas",
          "TV Dramas",
          "TV Dramas",
          "TV Dramas",
          "TV Dramas",
          "TV Dramas",
          "TV Dramas",
          "TV Dramas",
          "TV Dramas",
          "TV Dramas",
          "TV Dramas",
          "TV Dramas",
          "TV Dramas",
          "TV Dramas",
          "TV Dramas",
          "TV Dramas",
          "TV Dramas",
          "TV Dramas",
          "TV Dramas",
          "TV Dramas",
          "TV Dramas",
          "TV Dramas",
          "TV Dramas",
          "TV Dramas",
          "TV Dramas",
          "TV Dramas",
          "TV Dramas",
          "TV Dramas",
          "TV Dramas",
          "TV Dramas",
          "TV Dramas",
          "TV Dramas",
          "TV Dramas",
          "TV Dramas",
          "TV Dramas",
          "TV Dramas",
          "TV Dramas",
          "TV Dramas",
          "TV Dramas",
          "TV Dramas",
          "TV Dramas",
          "TV Dramas",
          "TV Dramas",
          "TV Dramas",
          "TV Dramas",
          "TV Dramas",
          "TV Dramas",
          "TV Dramas",
          "TV Dramas",
          "TV Dramas",
          "TV Dramas",
          "TV Dramas",
          "TV Horror",
          "TV Horror",
          "TV Horror",
          "TV Horror",
          "TV Horror",
          "TV Horror",
          "TV Horror",
          "TV Horror",
          "TV Horror",
          "TV Horror",
          "TV Horror",
          "TV Horror",
          "TV Horror",
          "TV Horror",
          "TV Horror",
          "TV Horror",
          "TV Horror",
          "TV Horror",
          "TV Horror",
          "TV Horror",
          "TV Horror",
          "TV Horror",
          "TV Mysteries",
          "TV Mysteries",
          "TV Mysteries",
          "TV Mysteries",
          "TV Mysteries",
          "TV Mysteries",
          "TV Mysteries",
          "TV Mysteries",
          "TV Mysteries",
          "TV Mysteries",
          "TV Mysteries",
          "TV Mysteries",
          "TV Mysteries",
          "TV Mysteries",
          "TV Mysteries",
          "TV Mysteries",
          "TV Mysteries",
          "TV Mysteries",
          "TV Mysteries",
          "TV Mysteries",
          "TV Mysteries",
          "TV Mysteries",
          "TV Mysteries",
          "TV Mysteries",
          "TV Mysteries",
          "TV Mysteries",
          "TV Sci-Fi & Fantasy",
          "TV Sci-Fi & Fantasy",
          "TV Sci-Fi & Fantasy",
          "TV Sci-Fi & Fantasy",
          "TV Sci-Fi & Fantasy",
          "TV Sci-Fi & Fantasy",
          "TV Sci-Fi & Fantasy",
          "TV Sci-Fi & Fantasy",
          "TV Sci-Fi & Fantasy",
          "TV Sci-Fi & Fantasy",
          "TV Sci-Fi & Fantasy",
          "TV Sci-Fi & Fantasy",
          "TV Sci-Fi & Fantasy",
          "TV Sci-Fi & Fantasy",
          "TV Sci-Fi & Fantasy",
          "TV Sci-Fi & Fantasy",
          "TV Thrillers",
          "TV Thrillers",
          "TV Thrillers",
          "TV Thrillers",
          "TV Thrillers",
          "TV Thrillers",
          "TV Thrillers",
          "TV Thrillers",
          "TV Thrillers",
          "TV Thrillers",
          "TV Thrillers",
          "TV Thrillers",
          "TV Thrillers",
          "TV Thrillers",
          "TV Thrillers",
          "TV Thrillers",
          "TV Thrillers",
          "Teen TV Shows",
          "Teen TV Shows",
          "Teen TV Shows",
          "Teen TV Shows",
          "Teen TV Shows",
          "Teen TV Shows",
          "Teen TV Shows",
          "Teen TV Shows",
          "Teen TV Shows",
          "Teen TV Shows",
          "Teen TV Shows",
          "Teen TV Shows",
          "Teen TV Shows",
          "Argentina",
          "Australia",
          "Austria",
          "Azerbaijan",
          "Belarus",
          "Belgium",
          "Brazil",
          "Canada",
          "Chile",
          "China",
          "Colombia",
          "Croatia",
          "Cuba",
          "Cyprus",
          "Czech Republic",
          "Denmark",
          "Egypt",
          "Finland",
          "France",
          "Germany",
          "Greece",
          "Hong Kong",
          "Hungary",
          "Iceland",
          "India",
          "Indonesia",
          "Ireland",
          "Israel",
          "Italy",
          "Japan",
          "Jordan",
          "Kuwait",
          "Lebanon",
          "Luxembourg",
          "Malaysia",
          "Malta",
          "Mauritius",
          "Mexico",
          "Netherlands",
          "New Zealand",
          "Nigeria",
          "Norway",
          "Pakistan",
          "Philippines",
          "Poland",
          "Puerto Rico",
          "Russia",
          "Saudi Arabia",
          "Senegal",
          "Singapore",
          "South Africa",
          "South Korea",
          "Spain",
          "Sweden",
          "Switzerland",
          "Syria",
          "Taiwan",
          "Thailand",
          "Turkey",
          "Ukraine",
          "United Arab Emirates",
          "United Kingdom",
          "United States",
          "Uruguay",
          "West Germany"
         ],
         "marker": {
          "coloraxis": "coloraxis",
          "colors": [
           4,
           1,
           1,
           4,
           1,
           2,
           2,
           1,
           143,
           1,
           1,
           1,
           18,
           5,
           1,
           3,
           3,
           1,
           1,
           2,
           6,
           2,
           3,
           5,
           1,
           1,
           1,
           1,
           5,
           225,
           24,
           1,
           4,
           2,
           7,
           17,
           8,
           7,
           1,
           8,
           6,
           15,
           1,
           4,
           18,
           1,
           2,
           2,
           2,
           2,
           23,
           15,
           2,
           2,
           9,
           1,
           2,
           5,
           5,
           16,
           2,
           1,
           1,
           32,
           2,
           1,
           2,
           1,
           1,
           6,
           1,
           6,
           1,
           5,
           4,
           24,
           27,
           4,
           5,
           5,
           10,
           1,
           48,
           145,
           2,
           11,
           1,
           6,
           11,
           1,
           1,
           4,
           1,
           7,
           8,
           2,
           9,
           3,
           2,
           2,
           3,
           1,
           1,
           1,
           1,
           1,
           9,
           1,
           89,
           192,
           1,
           3,
           21,
           1,
           1,
           3,
           61,
           7,
           1,
           4,
           2,
           43,
           8,
           12,
           1,
           5,
           10,
           29,
           1,
           4,
           4,
           3,
           4,
           6,
           3,
           16,
           4,
           1,
           43,
           214,
           1,
           1,
           1,
           1,
           1,
           1,
           132,
           3,
           1,
           11,
           5,
           9,
           1,
           1,
           2,
           3,
           6,
           9,
           3,
           1,
           2,
           4,
           3,
           1,
           35,
           123,
           2,
           3,
           1,
           2,
           2,
           22,
           5,
           3,
           2,
           1,
           2,
           12,
           1,
           1,
           2,
           21,
           1,
           1,
           1,
           5,
           2,
           1,
           4,
           1,
           1,
           5,
           1,
           77,
           9,
           3,
           48,
           10,
           6,
           11,
           44,
           6,
           2,
           4,
           1,
           1,
           3,
           1,
           1,
           1,
           1,
           27,
           49,
           1,
           18,
           4,
           30,
           1,
           1,
           47,
           1,
           41,
           1,
           29,
           1,
           1,
           1,
           1,
           3,
           1,
           1,
           4,
           1,
           33,
           2,
           2,
           12,
           7,
           1,
           1,
           6,
           2,
           5,
           1,
           4,
           5,
           1,
           7,
           1,
           2,
           1,
           1,
           1,
           1,
           9,
           4,
           3,
           2,
           5,
           9,
           94,
           2,
           17,
           1,
           6,
           30,
           12,
           1,
           1,
           3,
           4,
           2,
           24,
           6,
           1,
           26,
           1,
           4,
           2,
           3,
           10,
           2,
           4,
           1,
           2,
           3,
           1,
           1,
           1,
           1,
           2,
           2,
           19,
           5,
           3,
           1,
           36,
           4,
           3,
           1,
           44,
           258,
           1,
           2,
           19,
           1,
           1,
           8,
           11,
           32,
           4,
           20,
           8,
           1,
           1,
           8,
           12,
           2,
           27,
           20,
           4,
           1,
           3,
           28,
           2,
           7,
           6,
           13,
           21,
           2,
           3,
           7,
           1,
           2,
           1,
           1,
           12,
           3,
           2,
           7,
           5,
           3,
           1,
           8,
           7,
           2,
           1,
           15,
           8,
           38,
           11,
           7,
           1,
           1,
           29,
           16,
           25,
           1,
           1,
           36,
           232,
           1,
           1,
           1,
           2,
           8,
           1,
           1,
           3,
           7,
           1,
           1,
           1,
           5,
           1,
           1,
           1,
           2,
           3,
           2,
           1,
           1,
           2,
           37,
           3,
           2,
           5,
           9,
           1,
           2,
           2,
           2,
           2,
           1,
           2,
           1,
           1,
           4,
           1,
           1,
           1,
           1,
           1,
           3,
           3,
           3,
           2,
           1,
           2,
           51,
           4,
           1,
           2,
           9,
           3,
           1,
           1,
           1,
           3,
           1,
           3,
           1,
           1,
           1,
           4,
           60,
           2,
           5,
           1,
           1,
           3,
           3,
           6,
           1,
           1,
           2,
           1,
           1,
           1,
           1,
           4,
           2,
           27,
           1,
           2,
           2,
           5,
           1,
           1,
           14,
           1,
           1,
           1,
           3,
           1,
           33,
           10.170731707317072,
           12.965217391304348,
           1,
           1,
           1,
           6.043478260869565,
           5.980392156862745,
           29.77625570776256,
           3.6666666666666665,
           13.404494382022472,
           20.26153846153846,
           1,
           1,
           1,
           2.1666666666666665,
           4.545454545454546,
           7.16,
           1.8888888888888888,
           25.8843537414966,
           11.236842105263158,
           1.8,
           2.6,
           1,
           2.3333333333333335,
           15.61654135338346,
           1.25,
           4.6923076923076925,
           4.181818181818182,
           8.076923076923077,
           79.5625,
           1.5,
           2.5,
           5,
           1,
           2.4545454545454546,
           1,
           1,
           28.983471074380166,
           2.1666666666666665,
           2.5714285714285716,
           4.833333333333333,
           2.6666666666666665,
           3.25,
           1,
           6.0588235294117645,
           1,
           4.923076923076923,
           1.5,
           1,
           8.08108108108108,
           4.684210526315789,
           79.15757575757576,
           23.03305785123967,
           4.473684210526316,
           1,
           1,
           34.55384615384615,
           9,
           14.333333333333334,
           1,
           1,
           116.32423208191126,
           157.0284528749259,
           1,
           1
          ]
         },
         "name": "",
         "parents": [
          "India",
          "Japan",
          "Saudi Arabia",
          "United States",
          "Australia",
          "Canada",
          "China",
          "Indonesia",
          "Japan",
          "Philippines",
          "Singapore",
          "Spain",
          "United States",
          "Australia",
          "Belarus",
          "Canada",
          "China",
          "Czech Republic",
          "Finland",
          "France",
          "Germany",
          "Greece",
          "India",
          "Ireland",
          "Italy",
          "Japan",
          "Netherlands",
          "South Africa",
          "Spain",
          "United Kingdom",
          "United States",
          "Argentina",
          "Canada",
          "Mexico",
          "United Kingdom",
          "United States",
          "Argentina",
          "Australia",
          "Austria",
          "Belgium",
          "Brazil",
          "Canada",
          "Chile",
          "China",
          "Colombia",
          "Cuba",
          "Czech Republic",
          "Denmark",
          "Egypt",
          "Finland",
          "France",
          "Germany",
          "Hong Kong",
          "Iceland",
          "India",
          "Indonesia",
          "Ireland",
          "Israel",
          "Italy",
          "Japan",
          "Lebanon",
          "Luxembourg",
          "Malta",
          "Mexico",
          "Netherlands",
          "Nigeria",
          "Norway",
          "Pakistan",
          "Philippines",
          "Poland",
          "Puerto Rico",
          "Russia",
          "Senegal",
          "Singapore",
          "South Africa",
          "South Korea",
          "Spain",
          "Sweden",
          "Taiwan",
          "Thailand",
          "Turkey",
          "Ukraine",
          "United Kingdom",
          "United States",
          "Argentina",
          "Australia",
          "Belgium",
          "Brazil",
          "Canada",
          "China",
          "Colombia",
          "Czech Republic",
          "Denmark",
          "France",
          "Germany",
          "Greece",
          "India",
          "Israel",
          "Italy",
          "Japan",
          "Mexico",
          "New Zealand",
          "Norway",
          "Poland",
          "Russia",
          "South Africa",
          "Spain",
          "Thailand",
          "United Kingdom",
          "United States",
          "Uruguay",
          "Argentina",
          "Australia",
          "Belarus",
          "Belgium",
          "Brazil",
          "Canada",
          "China",
          "Cyprus",
          "Denmark",
          "Finland",
          "France",
          "Germany",
          "India",
          "Indonesia",
          "Ireland",
          "Italy",
          "Japan",
          "Luxembourg",
          "Malaysia",
          "Mexico",
          "Netherlands",
          "New Zealand",
          "Russia",
          "Singapore",
          "South Korea",
          "Spain",
          "Sweden",
          "United Kingdom",
          "United States",
          "Canada",
          "China",
          "Hong Kong",
          "Malaysia",
          "Russia",
          "Singapore",
          "South Korea",
          "United States",
          "Argentina",
          "Australia",
          "Brazil",
          "Canada",
          "China",
          "Czech Republic",
          "France",
          "Germany",
          "India",
          "Japan",
          "Mexico",
          "New Zealand",
          "Singapore",
          "South Korea",
          "Spain",
          "Taiwan",
          "United Kingdom",
          "United States",
          "Argentina",
          "Australia",
          "Azerbaijan",
          "Brazil",
          "Canada",
          "China",
          "Colombia",
          "Egypt",
          "France",
          "Germany",
          "Hong Kong",
          "India",
          "Indonesia",
          "Israel",
          "Italy",
          "Japan",
          "Kuwait",
          "Lebanon",
          "Malaysia",
          "Mexico",
          "Nigeria",
          "Norway",
          "Pakistan",
          "Philippines",
          "Russia",
          "Singapore",
          "South Africa",
          "South Korea",
          "Spain",
          "Sweden",
          "Taiwan",
          "Thailand",
          "Turkey",
          "United Kingdom",
          "United States",
          "Australia",
          "Brazil",
          "Canada",
          "Czech Republic",
          "France",
          "Germany",
          "Greece",
          "Norway",
          "Russia",
          "Spain",
          "United Kingdom",
          "United States",
          "Uruguay",
          "Argentina",
          "Chile",
          "Colombia",
          "Cuba",
          "Italy",
          "Mexico",
          "Puerto Rico",
          "Spain",
          "United Kingdom",
          "United States",
          "Brazil",
          "Colombia",
          "France",
          "Germany",
          "India",
          "Japan",
          "Mexico",
          "South Korea",
          "United Kingdom",
          "United States",
          "Australia",
          "Belgium",
          "Canada",
          "China",
          "Colombia",
          "Denmark",
          "France",
          "Germany",
          "India",
          "Ireland",
          "Israel",
          "Japan",
          "Malta",
          "Mexico",
          "Netherlands",
          "New Zealand",
          "Norway",
          "Poland",
          "Russia",
          "South Africa",
          "South Korea",
          "Spain",
          "Taiwan",
          "Thailand",
          "Turkey",
          "United Kingdom",
          "United States",
          "Argentina",
          "Australia",
          "Belarus",
          "Brazil",
          "Canada",
          "China",
          "Colombia",
          "Cyprus",
          "Denmark",
          "Egypt",
          "Finland",
          "France",
          "Germany",
          "Hong Kong",
          "India",
          "Indonesia",
          "Ireland",
          "Israel",
          "Italy",
          "Japan",
          "Malaysia",
          "Mexico",
          "Netherlands",
          "Nigeria",
          "Norway",
          "Philippines",
          "Poland",
          "Russia",
          "Saudi Arabia",
          "Singapore",
          "South Africa",
          "South Korea",
          "Spain",
          "Sweden",
          "Switzerland",
          "Taiwan",
          "Thailand",
          "Turkey",
          "Ukraine",
          "United Kingdom",
          "United States",
          "West Germany",
          "Argentina",
          "Australia",
          "Austria",
          "Azerbaijan",
          "Belgium",
          "Brazil",
          "Canada",
          "Chile",
          "China",
          "Colombia",
          "Croatia",
          "Czech Republic",
          "Denmark",
          "Egypt",
          "Finland",
          "France",
          "Germany",
          "Hong Kong",
          "Hungary",
          "Iceland",
          "India",
          "Indonesia",
          "Ireland",
          "Israel",
          "Italy",
          "Japan",
          "Jordan",
          "Kuwait",
          "Lebanon",
          "Luxembourg",
          "Malaysia",
          "Malta",
          "Mauritius",
          "Mexico",
          "Netherlands",
          "New Zealand",
          "Nigeria",
          "Norway",
          "Pakistan",
          "Philippines",
          "Poland",
          "Russia",
          "Saudi Arabia",
          "Senegal",
          "Singapore",
          "South Africa",
          "South Korea",
          "Spain",
          "Sweden",
          "Switzerland",
          "Syria",
          "Taiwan",
          "Thailand",
          "Turkey",
          "Ukraine",
          "United Arab Emirates",
          "United Kingdom",
          "United States",
          "West Germany",
          "Argentina",
          "Australia",
          "Brazil",
          "Canada",
          "Czech Republic",
          "Egypt",
          "France",
          "India",
          "Indonesia",
          "Ireland",
          "Italy",
          "Japan",
          "Netherlands",
          "Norway",
          "Philippines",
          "Singapore",
          "South Korea",
          "Taiwan",
          "Thailand",
          "Turkey",
          "United Kingdom",
          "United States",
          "Australia",
          "Belgium",
          "Brazil",
          "Canada",
          "China",
          "Denmark",
          "Egypt",
          "France",
          "Germany",
          "Iceland",
          "India",
          "Ireland",
          "Israel",
          "Japan",
          "Jordan",
          "Malaysia",
          "Norway",
          "Russia",
          "South Africa",
          "South Korea",
          "Taiwan",
          "Thailand",
          "Turkey",
          "United Arab Emirates",
          "United Kingdom",
          "United States",
          "Australia",
          "Belgium",
          "Brazil",
          "Canada",
          "China",
          "Egypt",
          "France",
          "Germany",
          "India",
          "Mexico",
          "New Zealand",
          "Singapore",
          "Taiwan",
          "Thailand",
          "United Kingdom",
          "United States",
          "Australia",
          "Canada",
          "Czech Republic",
          "Denmark",
          "France",
          "India",
          "Japan",
          "Lebanon",
          "New Zealand",
          "Norway",
          "South Korea",
          "Sweden",
          "Taiwan",
          "Thailand",
          "Turkey",
          "United Kingdom",
          "United States",
          "Argentina",
          "Australia",
          "Canada",
          "China",
          "India",
          "Italy",
          "Japan",
          "Jordan",
          "Spain",
          "Taiwan",
          "Thailand",
          "Turkey",
          "United States",
          "",
          "",
          "",
          "",
          "",
          "",
          "",
          "",
          "",
          "",
          "",
          "",
          "",
          "",
          "",
          "",
          "",
          "",
          "",
          "",
          "",
          "",
          "",
          "",
          "",
          "",
          "",
          "",
          "",
          "",
          "",
          "",
          "",
          "",
          "",
          "",
          "",
          "",
          "",
          "",
          "",
          "",
          "",
          "",
          "",
          "",
          "",
          "",
          "",
          "",
          "",
          "",
          "",
          "",
          "",
          "",
          "",
          "",
          "",
          "",
          "",
          "",
          "",
          "",
          ""
         ],
         "type": "treemap",
         "values": [
          4,
          1,
          1,
          4,
          1,
          2,
          2,
          1,
          143,
          1,
          1,
          1,
          18,
          5,
          1,
          3,
          3,
          1,
          1,
          2,
          6,
          2,
          3,
          5,
          1,
          1,
          1,
          1,
          5,
          225,
          24,
          1,
          4,
          2,
          7,
          17,
          8,
          7,
          1,
          8,
          6,
          15,
          1,
          4,
          18,
          1,
          2,
          2,
          2,
          2,
          23,
          15,
          2,
          2,
          9,
          1,
          2,
          5,
          5,
          16,
          2,
          1,
          1,
          32,
          2,
          1,
          2,
          1,
          1,
          6,
          1,
          6,
          1,
          5,
          4,
          24,
          27,
          4,
          5,
          5,
          10,
          1,
          48,
          145,
          2,
          11,
          1,
          6,
          11,
          1,
          1,
          4,
          1,
          7,
          8,
          2,
          9,
          3,
          2,
          2,
          3,
          1,
          1,
          1,
          1,
          1,
          9,
          1,
          89,
          192,
          1,
          3,
          21,
          1,
          1,
          3,
          61,
          7,
          1,
          4,
          2,
          43,
          8,
          12,
          1,
          5,
          10,
          29,
          1,
          4,
          4,
          3,
          4,
          6,
          3,
          16,
          4,
          1,
          43,
          214,
          1,
          1,
          1,
          1,
          1,
          1,
          132,
          3,
          1,
          11,
          5,
          9,
          1,
          1,
          2,
          3,
          6,
          9,
          3,
          1,
          2,
          4,
          3,
          1,
          35,
          123,
          2,
          3,
          1,
          2,
          2,
          22,
          5,
          3,
          2,
          1,
          2,
          12,
          1,
          1,
          2,
          21,
          1,
          1,
          1,
          5,
          2,
          1,
          4,
          1,
          1,
          5,
          1,
          77,
          9,
          3,
          48,
          10,
          6,
          11,
          44,
          6,
          2,
          4,
          1,
          1,
          3,
          1,
          1,
          1,
          1,
          27,
          49,
          1,
          18,
          4,
          30,
          1,
          1,
          47,
          1,
          41,
          1,
          29,
          1,
          1,
          1,
          1,
          3,
          1,
          1,
          4,
          1,
          33,
          2,
          2,
          12,
          7,
          1,
          1,
          6,
          2,
          5,
          1,
          4,
          5,
          1,
          7,
          1,
          2,
          1,
          1,
          1,
          1,
          9,
          4,
          3,
          2,
          5,
          9,
          94,
          2,
          17,
          1,
          6,
          30,
          12,
          1,
          1,
          3,
          4,
          2,
          24,
          6,
          1,
          26,
          1,
          4,
          2,
          3,
          10,
          2,
          4,
          1,
          2,
          3,
          1,
          1,
          1,
          1,
          2,
          2,
          19,
          5,
          3,
          1,
          36,
          4,
          3,
          1,
          44,
          258,
          1,
          2,
          19,
          1,
          1,
          8,
          11,
          32,
          4,
          20,
          8,
          1,
          1,
          8,
          12,
          2,
          27,
          20,
          4,
          1,
          3,
          28,
          2,
          7,
          6,
          13,
          21,
          2,
          3,
          7,
          1,
          2,
          1,
          1,
          12,
          3,
          2,
          7,
          5,
          3,
          1,
          8,
          7,
          2,
          1,
          15,
          8,
          38,
          11,
          7,
          1,
          1,
          29,
          16,
          25,
          1,
          1,
          36,
          232,
          1,
          1,
          1,
          2,
          8,
          1,
          1,
          3,
          7,
          1,
          1,
          1,
          5,
          1,
          1,
          1,
          2,
          3,
          2,
          1,
          1,
          2,
          37,
          3,
          2,
          5,
          9,
          1,
          2,
          2,
          2,
          2,
          1,
          2,
          1,
          1,
          4,
          1,
          1,
          1,
          1,
          1,
          3,
          3,
          3,
          2,
          1,
          2,
          51,
          4,
          1,
          2,
          9,
          3,
          1,
          1,
          1,
          3,
          1,
          3,
          1,
          1,
          1,
          4,
          60,
          2,
          5,
          1,
          1,
          3,
          3,
          6,
          1,
          1,
          2,
          1,
          1,
          1,
          1,
          4,
          2,
          27,
          1,
          2,
          2,
          5,
          1,
          1,
          14,
          1,
          1,
          1,
          3,
          1,
          33,
          41,
          115,
          2,
          2,
          3,
          23,
          51,
          219,
          9,
          89,
          65,
          1,
          2,
          2,
          12,
          22,
          25,
          9,
          147,
          76,
          5,
          10,
          1,
          6,
          133,
          8,
          26,
          22,
          39,
          288,
          4,
          4,
          11,
          3,
          11,
          3,
          1,
          121,
          12,
          14,
          12,
          18,
          8,
          6,
          17,
          2,
          26,
          4,
          2,
          37,
          19,
          330,
          121,
          19,
          2,
          1,
          130,
          47,
          57,
          3,
          2,
          586,
          1687,
          2,
          2
         ]
        }
       ],
       "layout": {
        "coloraxis": {
         "colorbar": {
          "title": {
           "text": "values"
          }
         },
         "colorscale": [
          [
           0,
           "rgb(103,0,31)"
          ],
          [
           0.1,
           "rgb(178,24,43)"
          ],
          [
           0.2,
           "rgb(214,96,77)"
          ],
          [
           0.3,
           "rgb(244,165,130)"
          ],
          [
           0.4,
           "rgb(253,219,199)"
          ],
          [
           0.5,
           "rgb(247,247,247)"
          ],
          [
           0.6,
           "rgb(209,229,240)"
          ],
          [
           0.7,
           "rgb(146,197,222)"
          ],
          [
           0.8,
           "rgb(67,147,195)"
          ],
          [
           0.9,
           "rgb(33,102,172)"
          ],
          [
           1,
           "rgb(5,48,97)"
          ]
         ]
        },
        "legend": {
         "tracegroupgap": 0
        },
        "margin": {
         "t": 60
        },
        "template": {
         "data": {
          "bar": [
           {
            "error_x": {
             "color": "#2a3f5f"
            },
            "error_y": {
             "color": "#2a3f5f"
            },
            "marker": {
             "line": {
              "color": "#E5ECF6",
              "width": 0.5
             },
             "pattern": {
              "fillmode": "overlay",
              "size": 10,
              "solidity": 0.2
             }
            },
            "type": "bar"
           }
          ],
          "barpolar": [
           {
            "marker": {
             "line": {
              "color": "#E5ECF6",
              "width": 0.5
             },
             "pattern": {
              "fillmode": "overlay",
              "size": 10,
              "solidity": 0.2
             }
            },
            "type": "barpolar"
           }
          ],
          "carpet": [
           {
            "aaxis": {
             "endlinecolor": "#2a3f5f",
             "gridcolor": "white",
             "linecolor": "white",
             "minorgridcolor": "white",
             "startlinecolor": "#2a3f5f"
            },
            "baxis": {
             "endlinecolor": "#2a3f5f",
             "gridcolor": "white",
             "linecolor": "white",
             "minorgridcolor": "white",
             "startlinecolor": "#2a3f5f"
            },
            "type": "carpet"
           }
          ],
          "choropleth": [
           {
            "colorbar": {
             "outlinewidth": 0,
             "ticks": ""
            },
            "type": "choropleth"
           }
          ],
          "contour": [
           {
            "colorbar": {
             "outlinewidth": 0,
             "ticks": ""
            },
            "colorscale": [
             [
              0,
              "#0d0887"
             ],
             [
              0.1111111111111111,
              "#46039f"
             ],
             [
              0.2222222222222222,
              "#7201a8"
             ],
             [
              0.3333333333333333,
              "#9c179e"
             ],
             [
              0.4444444444444444,
              "#bd3786"
             ],
             [
              0.5555555555555556,
              "#d8576b"
             ],
             [
              0.6666666666666666,
              "#ed7953"
             ],
             [
              0.7777777777777778,
              "#fb9f3a"
             ],
             [
              0.8888888888888888,
              "#fdca26"
             ],
             [
              1,
              "#f0f921"
             ]
            ],
            "type": "contour"
           }
          ],
          "contourcarpet": [
           {
            "colorbar": {
             "outlinewidth": 0,
             "ticks": ""
            },
            "type": "contourcarpet"
           }
          ],
          "heatmap": [
           {
            "colorbar": {
             "outlinewidth": 0,
             "ticks": ""
            },
            "colorscale": [
             [
              0,
              "#0d0887"
             ],
             [
              0.1111111111111111,
              "#46039f"
             ],
             [
              0.2222222222222222,
              "#7201a8"
             ],
             [
              0.3333333333333333,
              "#9c179e"
             ],
             [
              0.4444444444444444,
              "#bd3786"
             ],
             [
              0.5555555555555556,
              "#d8576b"
             ],
             [
              0.6666666666666666,
              "#ed7953"
             ],
             [
              0.7777777777777778,
              "#fb9f3a"
             ],
             [
              0.8888888888888888,
              "#fdca26"
             ],
             [
              1,
              "#f0f921"
             ]
            ],
            "type": "heatmap"
           }
          ],
          "heatmapgl": [
           {
            "colorbar": {
             "outlinewidth": 0,
             "ticks": ""
            },
            "colorscale": [
             [
              0,
              "#0d0887"
             ],
             [
              0.1111111111111111,
              "#46039f"
             ],
             [
              0.2222222222222222,
              "#7201a8"
             ],
             [
              0.3333333333333333,
              "#9c179e"
             ],
             [
              0.4444444444444444,
              "#bd3786"
             ],
             [
              0.5555555555555556,
              "#d8576b"
             ],
             [
              0.6666666666666666,
              "#ed7953"
             ],
             [
              0.7777777777777778,
              "#fb9f3a"
             ],
             [
              0.8888888888888888,
              "#fdca26"
             ],
             [
              1,
              "#f0f921"
             ]
            ],
            "type": "heatmapgl"
           }
          ],
          "histogram": [
           {
            "marker": {
             "pattern": {
              "fillmode": "overlay",
              "size": 10,
              "solidity": 0.2
             }
            },
            "type": "histogram"
           }
          ],
          "histogram2d": [
           {
            "colorbar": {
             "outlinewidth": 0,
             "ticks": ""
            },
            "colorscale": [
             [
              0,
              "#0d0887"
             ],
             [
              0.1111111111111111,
              "#46039f"
             ],
             [
              0.2222222222222222,
              "#7201a8"
             ],
             [
              0.3333333333333333,
              "#9c179e"
             ],
             [
              0.4444444444444444,
              "#bd3786"
             ],
             [
              0.5555555555555556,
              "#d8576b"
             ],
             [
              0.6666666666666666,
              "#ed7953"
             ],
             [
              0.7777777777777778,
              "#fb9f3a"
             ],
             [
              0.8888888888888888,
              "#fdca26"
             ],
             [
              1,
              "#f0f921"
             ]
            ],
            "type": "histogram2d"
           }
          ],
          "histogram2dcontour": [
           {
            "colorbar": {
             "outlinewidth": 0,
             "ticks": ""
            },
            "colorscale": [
             [
              0,
              "#0d0887"
             ],
             [
              0.1111111111111111,
              "#46039f"
             ],
             [
              0.2222222222222222,
              "#7201a8"
             ],
             [
              0.3333333333333333,
              "#9c179e"
             ],
             [
              0.4444444444444444,
              "#bd3786"
             ],
             [
              0.5555555555555556,
              "#d8576b"
             ],
             [
              0.6666666666666666,
              "#ed7953"
             ],
             [
              0.7777777777777778,
              "#fb9f3a"
             ],
             [
              0.8888888888888888,
              "#fdca26"
             ],
             [
              1,
              "#f0f921"
             ]
            ],
            "type": "histogram2dcontour"
           }
          ],
          "mesh3d": [
           {
            "colorbar": {
             "outlinewidth": 0,
             "ticks": ""
            },
            "type": "mesh3d"
           }
          ],
          "parcoords": [
           {
            "line": {
             "colorbar": {
              "outlinewidth": 0,
              "ticks": ""
             }
            },
            "type": "parcoords"
           }
          ],
          "pie": [
           {
            "automargin": true,
            "type": "pie"
           }
          ],
          "scatter": [
           {
            "marker": {
             "colorbar": {
              "outlinewidth": 0,
              "ticks": ""
             }
            },
            "type": "scatter"
           }
          ],
          "scatter3d": [
           {
            "line": {
             "colorbar": {
              "outlinewidth": 0,
              "ticks": ""
             }
            },
            "marker": {
             "colorbar": {
              "outlinewidth": 0,
              "ticks": ""
             }
            },
            "type": "scatter3d"
           }
          ],
          "scattercarpet": [
           {
            "marker": {
             "colorbar": {
              "outlinewidth": 0,
              "ticks": ""
             }
            },
            "type": "scattercarpet"
           }
          ],
          "scattergeo": [
           {
            "marker": {
             "colorbar": {
              "outlinewidth": 0,
              "ticks": ""
             }
            },
            "type": "scattergeo"
           }
          ],
          "scattergl": [
           {
            "marker": {
             "colorbar": {
              "outlinewidth": 0,
              "ticks": ""
             }
            },
            "type": "scattergl"
           }
          ],
          "scattermapbox": [
           {
            "marker": {
             "colorbar": {
              "outlinewidth": 0,
              "ticks": ""
             }
            },
            "type": "scattermapbox"
           }
          ],
          "scatterpolar": [
           {
            "marker": {
             "colorbar": {
              "outlinewidth": 0,
              "ticks": ""
             }
            },
            "type": "scatterpolar"
           }
          ],
          "scatterpolargl": [
           {
            "marker": {
             "colorbar": {
              "outlinewidth": 0,
              "ticks": ""
             }
            },
            "type": "scatterpolargl"
           }
          ],
          "scatterternary": [
           {
            "marker": {
             "colorbar": {
              "outlinewidth": 0,
              "ticks": ""
             }
            },
            "type": "scatterternary"
           }
          ],
          "surface": [
           {
            "colorbar": {
             "outlinewidth": 0,
             "ticks": ""
            },
            "colorscale": [
             [
              0,
              "#0d0887"
             ],
             [
              0.1111111111111111,
              "#46039f"
             ],
             [
              0.2222222222222222,
              "#7201a8"
             ],
             [
              0.3333333333333333,
              "#9c179e"
             ],
             [
              0.4444444444444444,
              "#bd3786"
             ],
             [
              0.5555555555555556,
              "#d8576b"
             ],
             [
              0.6666666666666666,
              "#ed7953"
             ],
             [
              0.7777777777777778,
              "#fb9f3a"
             ],
             [
              0.8888888888888888,
              "#fdca26"
             ],
             [
              1,
              "#f0f921"
             ]
            ],
            "type": "surface"
           }
          ],
          "table": [
           {
            "cells": {
             "fill": {
              "color": "#EBF0F8"
             },
             "line": {
              "color": "white"
             }
            },
            "header": {
             "fill": {
              "color": "#C8D4E3"
             },
             "line": {
              "color": "white"
             }
            },
            "type": "table"
           }
          ]
         },
         "layout": {
          "annotationdefaults": {
           "arrowcolor": "#2a3f5f",
           "arrowhead": 0,
           "arrowwidth": 1
          },
          "autotypenumbers": "strict",
          "coloraxis": {
           "colorbar": {
            "outlinewidth": 0,
            "ticks": ""
           }
          },
          "colorscale": {
           "diverging": [
            [
             0,
             "#8e0152"
            ],
            [
             0.1,
             "#c51b7d"
            ],
            [
             0.2,
             "#de77ae"
            ],
            [
             0.3,
             "#f1b6da"
            ],
            [
             0.4,
             "#fde0ef"
            ],
            [
             0.5,
             "#f7f7f7"
            ],
            [
             0.6,
             "#e6f5d0"
            ],
            [
             0.7,
             "#b8e186"
            ],
            [
             0.8,
             "#7fbc41"
            ],
            [
             0.9,
             "#4d9221"
            ],
            [
             1,
             "#276419"
            ]
           ],
           "sequential": [
            [
             0,
             "#0d0887"
            ],
            [
             0.1111111111111111,
             "#46039f"
            ],
            [
             0.2222222222222222,
             "#7201a8"
            ],
            [
             0.3333333333333333,
             "#9c179e"
            ],
            [
             0.4444444444444444,
             "#bd3786"
            ],
            [
             0.5555555555555556,
             "#d8576b"
            ],
            [
             0.6666666666666666,
             "#ed7953"
            ],
            [
             0.7777777777777778,
             "#fb9f3a"
            ],
            [
             0.8888888888888888,
             "#fdca26"
            ],
            [
             1,
             "#f0f921"
            ]
           ],
           "sequentialminus": [
            [
             0,
             "#0d0887"
            ],
            [
             0.1111111111111111,
             "#46039f"
            ],
            [
             0.2222222222222222,
             "#7201a8"
            ],
            [
             0.3333333333333333,
             "#9c179e"
            ],
            [
             0.4444444444444444,
             "#bd3786"
            ],
            [
             0.5555555555555556,
             "#d8576b"
            ],
            [
             0.6666666666666666,
             "#ed7953"
            ],
            [
             0.7777777777777778,
             "#fb9f3a"
            ],
            [
             0.8888888888888888,
             "#fdca26"
            ],
            [
             1,
             "#f0f921"
            ]
           ]
          },
          "colorway": [
           "#636efa",
           "#EF553B",
           "#00cc96",
           "#ab63fa",
           "#FFA15A",
           "#19d3f3",
           "#FF6692",
           "#B6E880",
           "#FF97FF",
           "#FECB52"
          ],
          "font": {
           "color": "#2a3f5f"
          },
          "geo": {
           "bgcolor": "white",
           "lakecolor": "white",
           "landcolor": "#E5ECF6",
           "showlakes": true,
           "showland": true,
           "subunitcolor": "white"
          },
          "hoverlabel": {
           "align": "left"
          },
          "hovermode": "closest",
          "mapbox": {
           "style": "light"
          },
          "paper_bgcolor": "white",
          "plot_bgcolor": "#E5ECF6",
          "polar": {
           "angularaxis": {
            "gridcolor": "white",
            "linecolor": "white",
            "ticks": ""
           },
           "bgcolor": "#E5ECF6",
           "radialaxis": {
            "gridcolor": "white",
            "linecolor": "white",
            "ticks": ""
           }
          },
          "scene": {
           "xaxis": {
            "backgroundcolor": "#E5ECF6",
            "gridcolor": "white",
            "gridwidth": 2,
            "linecolor": "white",
            "showbackground": true,
            "ticks": "",
            "zerolinecolor": "white"
           },
           "yaxis": {
            "backgroundcolor": "#E5ECF6",
            "gridcolor": "white",
            "gridwidth": 2,
            "linecolor": "white",
            "showbackground": true,
            "ticks": "",
            "zerolinecolor": "white"
           },
           "zaxis": {
            "backgroundcolor": "#E5ECF6",
            "gridcolor": "white",
            "gridwidth": 2,
            "linecolor": "white",
            "showbackground": true,
            "ticks": "",
            "zerolinecolor": "white"
           }
          },
          "shapedefaults": {
           "line": {
            "color": "#2a3f5f"
           }
          },
          "ternary": {
           "aaxis": {
            "gridcolor": "white",
            "linecolor": "white",
            "ticks": ""
           },
           "baxis": {
            "gridcolor": "white",
            "linecolor": "white",
            "ticks": ""
           },
           "bgcolor": "#E5ECF6",
           "caxis": {
            "gridcolor": "white",
            "linecolor": "white",
            "ticks": ""
           }
          },
          "title": {
           "x": 0.05
          },
          "xaxis": {
           "automargin": true,
           "gridcolor": "white",
           "linecolor": "white",
           "ticks": "",
           "title": {
            "standoff": 15
           },
           "zerolinecolor": "white",
           "zerolinewidth": 2
          },
          "yaxis": {
           "automargin": true,
           "gridcolor": "white",
           "linecolor": "white",
           "ticks": "",
           "title": {
            "standoff": 15
           },
           "zerolinecolor": "white",
           "zerolinewidth": 2
          }
         }
        },
        "title": {
         "text": "Top TV Show genre par pays",
         "x": 0.5
        }
       }
      }
     },
     "metadata": {},
     "output_type": "display_data"
    }
   ],
   "source": [
    "labels_m = [genre for genre in top_genre_country_movie['Genre']]\n",
    "parents_m = ['' for i in range(len(top_genre_country_movie))]\n",
    "values_m = [valeur for valeur in top_genre_country_movie['Valeurs']]\n",
    "pays_m = [p for p in top_genre_country_movie['Pays']]\n",
    "\n",
    "# je créer un DataFrame avec les listes pays, labels, values et parents\n",
    "data_m = {'Pays': pays_m, 'labels': labels_m, 'values': values_m, 'parents': parents_m}\n",
    "df_m = pd.DataFrame(data_m)\n",
    "\n",
    "fig = px.treemap(df_m, path=['Pays', 'labels'], values='values', color='values', color_continuous_scale='RdBu')\n",
    "fig.update_layout(title_text=\"Top Movie genre par pays\", title_x=0.5)\n",
    "fig.show()\n",
    "\n",
    "\n",
    "labels_m = [genre for genre in top_genre_country_tvshow['Genre']]\n",
    "parents_m = ['' for i in range(len(top_genre_country_tvshow))]\n",
    "values_m = [valeur for valeur in top_genre_country_tvshow['Valeurs']]\n",
    "pays_m = [p for p in top_genre_country_tvshow['Pays']]\n",
    "\n",
    "# je créer un DataFrame avec les listes pays, labels, values et parents\n",
    "data_m = {'Pays': pays_m, 'labels': labels_m, 'values': values_m, 'parents': parents_m}\n",
    "df_m = pd.DataFrame(data_m)\n",
    "\n",
    "fig = px.treemap(df_m, path=['Pays', 'labels'], values='values', color='values', color_continuous_scale='RdBu')\n",
    "fig.update_layout(title_text=\"Top TV Show genre par pays\", title_x=0.5)\n",
    "fig.show()"
   ]
  },
  {
   "cell_type": "markdown",
   "metadata": {},
   "source": [
    "### Identifier s'il y a une saisonalité dans les sorties de contenues sur la plateforme"
   ]
  },
  {
   "cell_type": "code",
   "execution_count": 496,
   "metadata": {},
   "outputs": [
    {
     "data": {
      "application/vnd.plotly.v1+json": {
       "config": {
        "plotlyServerURL": "https://plot.ly"
       },
       "data": [
        {
         "name": "2016",
         "text": [
          43,
          15,
          17,
          22,
          13,
          18,
          28,
          34,
          48,
          51,
          44,
          96
         ],
         "textposition": "outside",
         "texttemplate": "%{text:.2s}",
         "type": "bar",
         "x": [
          "January",
          "February",
          "March",
          "April",
          "May",
          "June",
          "July",
          "August",
          "September",
          "October",
          "November",
          "December"
         ],
         "xaxis": "x",
         "y": [
          43,
          15,
          17,
          22,
          13,
          18,
          28,
          34,
          48,
          51,
          44,
          96
         ],
         "yaxis": "y"
        },
        {
         "name": "2017",
         "text": [
          72,
          82,
          125,
          93,
          86,
          94,
          79,
          115,
          113,
          126,
          85,
          118
         ],
         "textposition": "outside",
         "texttemplate": "%{text:.2s}",
         "type": "bar",
         "x": [
          "January",
          "February",
          "March",
          "April",
          "May",
          "June",
          "July",
          "August",
          "September",
          "October",
          "November",
          "December"
         ],
         "xaxis": "x3",
         "y": [
          72,
          82,
          125,
          93,
          86,
          94,
          79,
          115,
          113,
          126,
          85,
          118
         ],
         "yaxis": "y3"
        },
        {
         "name": "2018",
         "text": [
          129,
          87,
          173,
          115,
          97,
          78,
          152,
          164,
          124,
          191,
          154,
          185
         ],
         "textposition": "outside",
         "texttemplate": "%{text:.2s}",
         "type": "bar",
         "x": [
          "January",
          "February",
          "March",
          "April",
          "May",
          "June",
          "July",
          "August",
          "September",
          "October",
          "November",
          "December"
         ],
         "xaxis": "x5",
         "y": [
          129,
          87,
          173,
          115,
          97,
          78,
          152,
          164,
          124,
          191,
          154,
          185
         ],
         "yaxis": "y5"
        },
        {
         "name": "2019",
         "text": [
          153,
          148,
          172,
          162,
          139,
          168,
          157,
          131,
          123,
          193,
          255,
          215
         ],
         "textposition": "outside",
         "texttemplate": "%{text:.2s}",
         "type": "bar",
         "x": [
          "January",
          "February",
          "March",
          "April",
          "May",
          "June",
          "July",
          "August",
          "September",
          "October",
          "November",
          "December"
         ],
         "xaxis": "x2",
         "y": [
          153,
          148,
          172,
          162,
          139,
          168,
          157,
          131,
          123,
          193,
          255,
          215
         ],
         "yaxis": "y2"
        },
        {
         "name": "2020",
         "text": [
          205,
          114,
          137,
          177,
          157,
          156,
          146,
          129,
          168,
          167,
          154,
          169
         ],
         "textposition": "outside",
         "texttemplate": "%{text:.2s}",
         "type": "bar",
         "x": [
          "January",
          "February",
          "March",
          "April",
          "May",
          "June",
          "July",
          "August",
          "September",
          "October",
          "November",
          "December"
         ],
         "xaxis": "x4",
         "y": [
          205,
          114,
          137,
          177,
          157,
          156,
          146,
          129,
          168,
          167,
          154,
          169
         ],
         "yaxis": "y4"
        },
        {
         "name": "2021",
         "text": [
          132,
          109,
          112,
          188,
          132,
          207,
          257,
          178,
          183
         ],
         "textposition": "outside",
         "texttemplate": "%{text:.2s}",
         "type": "bar",
         "x": [
          "January",
          "February",
          "March",
          "April",
          "May",
          "June",
          "July",
          "August",
          "September",
          "October",
          "November",
          "December"
         ],
         "xaxis": "x6",
         "y": [
          132,
          109,
          112,
          188,
          132,
          207,
          257,
          178,
          183
         ],
         "yaxis": "y6"
        }
       ],
       "layout": {
        "height": 1000,
        "template": {
         "data": {
          "bar": [
           {
            "error_x": {
             "color": "#2a3f5f"
            },
            "error_y": {
             "color": "#2a3f5f"
            },
            "marker": {
             "line": {
              "color": "#E5ECF6",
              "width": 0.5
             },
             "pattern": {
              "fillmode": "overlay",
              "size": 10,
              "solidity": 0.2
             }
            },
            "type": "bar"
           }
          ],
          "barpolar": [
           {
            "marker": {
             "line": {
              "color": "#E5ECF6",
              "width": 0.5
             },
             "pattern": {
              "fillmode": "overlay",
              "size": 10,
              "solidity": 0.2
             }
            },
            "type": "barpolar"
           }
          ],
          "carpet": [
           {
            "aaxis": {
             "endlinecolor": "#2a3f5f",
             "gridcolor": "white",
             "linecolor": "white",
             "minorgridcolor": "white",
             "startlinecolor": "#2a3f5f"
            },
            "baxis": {
             "endlinecolor": "#2a3f5f",
             "gridcolor": "white",
             "linecolor": "white",
             "minorgridcolor": "white",
             "startlinecolor": "#2a3f5f"
            },
            "type": "carpet"
           }
          ],
          "choropleth": [
           {
            "colorbar": {
             "outlinewidth": 0,
             "ticks": ""
            },
            "type": "choropleth"
           }
          ],
          "contour": [
           {
            "colorbar": {
             "outlinewidth": 0,
             "ticks": ""
            },
            "colorscale": [
             [
              0,
              "#0d0887"
             ],
             [
              0.1111111111111111,
              "#46039f"
             ],
             [
              0.2222222222222222,
              "#7201a8"
             ],
             [
              0.3333333333333333,
              "#9c179e"
             ],
             [
              0.4444444444444444,
              "#bd3786"
             ],
             [
              0.5555555555555556,
              "#d8576b"
             ],
             [
              0.6666666666666666,
              "#ed7953"
             ],
             [
              0.7777777777777778,
              "#fb9f3a"
             ],
             [
              0.8888888888888888,
              "#fdca26"
             ],
             [
              1,
              "#f0f921"
             ]
            ],
            "type": "contour"
           }
          ],
          "contourcarpet": [
           {
            "colorbar": {
             "outlinewidth": 0,
             "ticks": ""
            },
            "type": "contourcarpet"
           }
          ],
          "heatmap": [
           {
            "colorbar": {
             "outlinewidth": 0,
             "ticks": ""
            },
            "colorscale": [
             [
              0,
              "#0d0887"
             ],
             [
              0.1111111111111111,
              "#46039f"
             ],
             [
              0.2222222222222222,
              "#7201a8"
             ],
             [
              0.3333333333333333,
              "#9c179e"
             ],
             [
              0.4444444444444444,
              "#bd3786"
             ],
             [
              0.5555555555555556,
              "#d8576b"
             ],
             [
              0.6666666666666666,
              "#ed7953"
             ],
             [
              0.7777777777777778,
              "#fb9f3a"
             ],
             [
              0.8888888888888888,
              "#fdca26"
             ],
             [
              1,
              "#f0f921"
             ]
            ],
            "type": "heatmap"
           }
          ],
          "heatmapgl": [
           {
            "colorbar": {
             "outlinewidth": 0,
             "ticks": ""
            },
            "colorscale": [
             [
              0,
              "#0d0887"
             ],
             [
              0.1111111111111111,
              "#46039f"
             ],
             [
              0.2222222222222222,
              "#7201a8"
             ],
             [
              0.3333333333333333,
              "#9c179e"
             ],
             [
              0.4444444444444444,
              "#bd3786"
             ],
             [
              0.5555555555555556,
              "#d8576b"
             ],
             [
              0.6666666666666666,
              "#ed7953"
             ],
             [
              0.7777777777777778,
              "#fb9f3a"
             ],
             [
              0.8888888888888888,
              "#fdca26"
             ],
             [
              1,
              "#f0f921"
             ]
            ],
            "type": "heatmapgl"
           }
          ],
          "histogram": [
           {
            "marker": {
             "pattern": {
              "fillmode": "overlay",
              "size": 10,
              "solidity": 0.2
             }
            },
            "type": "histogram"
           }
          ],
          "histogram2d": [
           {
            "colorbar": {
             "outlinewidth": 0,
             "ticks": ""
            },
            "colorscale": [
             [
              0,
              "#0d0887"
             ],
             [
              0.1111111111111111,
              "#46039f"
             ],
             [
              0.2222222222222222,
              "#7201a8"
             ],
             [
              0.3333333333333333,
              "#9c179e"
             ],
             [
              0.4444444444444444,
              "#bd3786"
             ],
             [
              0.5555555555555556,
              "#d8576b"
             ],
             [
              0.6666666666666666,
              "#ed7953"
             ],
             [
              0.7777777777777778,
              "#fb9f3a"
             ],
             [
              0.8888888888888888,
              "#fdca26"
             ],
             [
              1,
              "#f0f921"
             ]
            ],
            "type": "histogram2d"
           }
          ],
          "histogram2dcontour": [
           {
            "colorbar": {
             "outlinewidth": 0,
             "ticks": ""
            },
            "colorscale": [
             [
              0,
              "#0d0887"
             ],
             [
              0.1111111111111111,
              "#46039f"
             ],
             [
              0.2222222222222222,
              "#7201a8"
             ],
             [
              0.3333333333333333,
              "#9c179e"
             ],
             [
              0.4444444444444444,
              "#bd3786"
             ],
             [
              0.5555555555555556,
              "#d8576b"
             ],
             [
              0.6666666666666666,
              "#ed7953"
             ],
             [
              0.7777777777777778,
              "#fb9f3a"
             ],
             [
              0.8888888888888888,
              "#fdca26"
             ],
             [
              1,
              "#f0f921"
             ]
            ],
            "type": "histogram2dcontour"
           }
          ],
          "mesh3d": [
           {
            "colorbar": {
             "outlinewidth": 0,
             "ticks": ""
            },
            "type": "mesh3d"
           }
          ],
          "parcoords": [
           {
            "line": {
             "colorbar": {
              "outlinewidth": 0,
              "ticks": ""
             }
            },
            "type": "parcoords"
           }
          ],
          "pie": [
           {
            "automargin": true,
            "type": "pie"
           }
          ],
          "scatter": [
           {
            "marker": {
             "colorbar": {
              "outlinewidth": 0,
              "ticks": ""
             }
            },
            "type": "scatter"
           }
          ],
          "scatter3d": [
           {
            "line": {
             "colorbar": {
              "outlinewidth": 0,
              "ticks": ""
             }
            },
            "marker": {
             "colorbar": {
              "outlinewidth": 0,
              "ticks": ""
             }
            },
            "type": "scatter3d"
           }
          ],
          "scattercarpet": [
           {
            "marker": {
             "colorbar": {
              "outlinewidth": 0,
              "ticks": ""
             }
            },
            "type": "scattercarpet"
           }
          ],
          "scattergeo": [
           {
            "marker": {
             "colorbar": {
              "outlinewidth": 0,
              "ticks": ""
             }
            },
            "type": "scattergeo"
           }
          ],
          "scattergl": [
           {
            "marker": {
             "colorbar": {
              "outlinewidth": 0,
              "ticks": ""
             }
            },
            "type": "scattergl"
           }
          ],
          "scattermapbox": [
           {
            "marker": {
             "colorbar": {
              "outlinewidth": 0,
              "ticks": ""
             }
            },
            "type": "scattermapbox"
           }
          ],
          "scatterpolar": [
           {
            "marker": {
             "colorbar": {
              "outlinewidth": 0,
              "ticks": ""
             }
            },
            "type": "scatterpolar"
           }
          ],
          "scatterpolargl": [
           {
            "marker": {
             "colorbar": {
              "outlinewidth": 0,
              "ticks": ""
             }
            },
            "type": "scatterpolargl"
           }
          ],
          "scatterternary": [
           {
            "marker": {
             "colorbar": {
              "outlinewidth": 0,
              "ticks": ""
             }
            },
            "type": "scatterternary"
           }
          ],
          "surface": [
           {
            "colorbar": {
             "outlinewidth": 0,
             "ticks": ""
            },
            "colorscale": [
             [
              0,
              "#0d0887"
             ],
             [
              0.1111111111111111,
              "#46039f"
             ],
             [
              0.2222222222222222,
              "#7201a8"
             ],
             [
              0.3333333333333333,
              "#9c179e"
             ],
             [
              0.4444444444444444,
              "#bd3786"
             ],
             [
              0.5555555555555556,
              "#d8576b"
             ],
             [
              0.6666666666666666,
              "#ed7953"
             ],
             [
              0.7777777777777778,
              "#fb9f3a"
             ],
             [
              0.8888888888888888,
              "#fdca26"
             ],
             [
              1,
              "#f0f921"
             ]
            ],
            "type": "surface"
           }
          ],
          "table": [
           {
            "cells": {
             "fill": {
              "color": "#EBF0F8"
             },
             "line": {
              "color": "white"
             }
            },
            "header": {
             "fill": {
              "color": "#C8D4E3"
             },
             "line": {
              "color": "white"
             }
            },
            "type": "table"
           }
          ]
         },
         "layout": {
          "annotationdefaults": {
           "arrowcolor": "#2a3f5f",
           "arrowhead": 0,
           "arrowwidth": 1
          },
          "autotypenumbers": "strict",
          "coloraxis": {
           "colorbar": {
            "outlinewidth": 0,
            "ticks": ""
           }
          },
          "colorscale": {
           "diverging": [
            [
             0,
             "#8e0152"
            ],
            [
             0.1,
             "#c51b7d"
            ],
            [
             0.2,
             "#de77ae"
            ],
            [
             0.3,
             "#f1b6da"
            ],
            [
             0.4,
             "#fde0ef"
            ],
            [
             0.5,
             "#f7f7f7"
            ],
            [
             0.6,
             "#e6f5d0"
            ],
            [
             0.7,
             "#b8e186"
            ],
            [
             0.8,
             "#7fbc41"
            ],
            [
             0.9,
             "#4d9221"
            ],
            [
             1,
             "#276419"
            ]
           ],
           "sequential": [
            [
             0,
             "#0d0887"
            ],
            [
             0.1111111111111111,
             "#46039f"
            ],
            [
             0.2222222222222222,
             "#7201a8"
            ],
            [
             0.3333333333333333,
             "#9c179e"
            ],
            [
             0.4444444444444444,
             "#bd3786"
            ],
            [
             0.5555555555555556,
             "#d8576b"
            ],
            [
             0.6666666666666666,
             "#ed7953"
            ],
            [
             0.7777777777777778,
             "#fb9f3a"
            ],
            [
             0.8888888888888888,
             "#fdca26"
            ],
            [
             1,
             "#f0f921"
            ]
           ],
           "sequentialminus": [
            [
             0,
             "#0d0887"
            ],
            [
             0.1111111111111111,
             "#46039f"
            ],
            [
             0.2222222222222222,
             "#7201a8"
            ],
            [
             0.3333333333333333,
             "#9c179e"
            ],
            [
             0.4444444444444444,
             "#bd3786"
            ],
            [
             0.5555555555555556,
             "#d8576b"
            ],
            [
             0.6666666666666666,
             "#ed7953"
            ],
            [
             0.7777777777777778,
             "#fb9f3a"
            ],
            [
             0.8888888888888888,
             "#fdca26"
            ],
            [
             1,
             "#f0f921"
            ]
           ]
          },
          "colorway": [
           "#636efa",
           "#EF553B",
           "#00cc96",
           "#ab63fa",
           "#FFA15A",
           "#19d3f3",
           "#FF6692",
           "#B6E880",
           "#FF97FF",
           "#FECB52"
          ],
          "font": {
           "color": "#2a3f5f"
          },
          "geo": {
           "bgcolor": "white",
           "lakecolor": "white",
           "landcolor": "#E5ECF6",
           "showlakes": true,
           "showland": true,
           "subunitcolor": "white"
          },
          "hoverlabel": {
           "align": "left"
          },
          "hovermode": "closest",
          "mapbox": {
           "style": "light"
          },
          "paper_bgcolor": "white",
          "plot_bgcolor": "#E5ECF6",
          "polar": {
           "angularaxis": {
            "gridcolor": "white",
            "linecolor": "white",
            "ticks": ""
           },
           "bgcolor": "#E5ECF6",
           "radialaxis": {
            "gridcolor": "white",
            "linecolor": "white",
            "ticks": ""
           }
          },
          "scene": {
           "xaxis": {
            "backgroundcolor": "#E5ECF6",
            "gridcolor": "white",
            "gridwidth": 2,
            "linecolor": "white",
            "showbackground": true,
            "ticks": "",
            "zerolinecolor": "white"
           },
           "yaxis": {
            "backgroundcolor": "#E5ECF6",
            "gridcolor": "white",
            "gridwidth": 2,
            "linecolor": "white",
            "showbackground": true,
            "ticks": "",
            "zerolinecolor": "white"
           },
           "zaxis": {
            "backgroundcolor": "#E5ECF6",
            "gridcolor": "white",
            "gridwidth": 2,
            "linecolor": "white",
            "showbackground": true,
            "ticks": "",
            "zerolinecolor": "white"
           }
          },
          "shapedefaults": {
           "line": {
            "color": "#2a3f5f"
           }
          },
          "ternary": {
           "aaxis": {
            "gridcolor": "white",
            "linecolor": "white",
            "ticks": ""
           },
           "baxis": {
            "gridcolor": "white",
            "linecolor": "white",
            "ticks": ""
           },
           "bgcolor": "#E5ECF6",
           "caxis": {
            "gridcolor": "white",
            "linecolor": "white",
            "ticks": ""
           }
          },
          "title": {
           "x": 0.05
          },
          "xaxis": {
           "automargin": true,
           "gridcolor": "white",
           "linecolor": "white",
           "ticks": "",
           "title": {
            "standoff": 15
           },
           "zerolinecolor": "white",
           "zerolinewidth": 2
          },
          "yaxis": {
           "automargin": true,
           "gridcolor": "white",
           "linecolor": "white",
           "ticks": "",
           "title": {
            "standoff": 15
           },
           "zerolinecolor": "white",
           "zerolinewidth": 2
          }
         }
        },
        "title": {
         "text": "Sorties Netflix par mois (2016-2021)",
         "x": 0.5
        },
        "width": 900,
        "xaxis": {
         "anchor": "y",
         "domain": [
          0,
          0.45
         ]
        },
        "xaxis2": {
         "anchor": "y2",
         "domain": [
          0.55,
          1
         ]
        },
        "xaxis3": {
         "anchor": "y3",
         "domain": [
          0,
          0.45
         ]
        },
        "xaxis4": {
         "anchor": "y4",
         "domain": [
          0.55,
          1
         ]
        },
        "xaxis5": {
         "anchor": "y5",
         "domain": [
          0,
          0.45
         ]
        },
        "xaxis6": {
         "anchor": "y6",
         "domain": [
          0.55,
          1
         ]
        },
        "yaxis": {
         "anchor": "x",
         "domain": [
          0.7333333333333333,
          1
         ]
        },
        "yaxis2": {
         "anchor": "x2",
         "domain": [
          0.7333333333333333,
          1
         ]
        },
        "yaxis3": {
         "anchor": "x3",
         "domain": [
          0.36666666666666664,
          0.6333333333333333
         ]
        },
        "yaxis4": {
         "anchor": "x4",
         "domain": [
          0.36666666666666664,
          0.6333333333333333
         ]
        },
        "yaxis5": {
         "anchor": "x5",
         "domain": [
          0,
          0.26666666666666666
         ]
        },
        "yaxis6": {
         "anchor": "x6",
         "domain": [
          0,
          0.26666666666666666
         ]
        }
       }
      }
     },
     "metadata": {},
     "output_type": "display_data"
    }
   ],
   "source": [
    "# pour la saisonalité, faire un graphique sur le temps on voit des piques à chaque début de mois\n",
    "\n",
    "# la date est en datetime de la forme yyyy-mm-dd\n",
    "\n",
    "#je selectionne les années de 2017 à 2021\t\n",
    "liste_years = [2016, 2017, 2018,2019,2020,2021]\n",
    "liste_month = [\"January\",\"February\",\"March\",\"April\",\"May\",\"June\",\"July\",\"August\",\"September\",\"October\",\"November\",\"December\"]\n",
    "# je créer une liste vide qui va contenir les résultats de la boucle\n",
    "liste_release_per_month = []\n",
    "\n",
    "# pour chaque année je compte le nombre d'occurence par mois\n",
    "# pour cela j'utilise une boucle for qui va parcourir la liste des années\n",
    "# je selectionne les années avec .dt.year ce qui permet de comparer les années dans e dataset avec celle de la liste\n",
    "# pour chaque année je compte le nombre d'occurence par mois avec .dt.month.value_counts().sort_index()\n",
    "# cela me permettra de créer un graphique avec plotly ou j'affiche les sorties par mois pour chaque année\n",
    "for year in liste_years:\n",
    "    dataset_year = dataset[dataset['date_added'].dt.year == year]\n",
    "    result = dataset_year['date_added'].dt.month.value_counts().sort_index()\n",
    "    liste_release_per_month.append({\"Year\": year, \"Release by Month\": result})\n",
    "\n",
    "  \n",
    "# je crée un subplots dans lequel je vais afficher les graphiques de 2017 à 2021\n",
    "fig = make_subplots(rows=3, \n",
    "                    cols=2, \n",
    "                    shared_xaxes=False \n",
    "                    )\n",
    "\n",
    "\n",
    "\n",
    "# je créer un graphique qui présente les genres les plus populaires par pays en utilisant la liste liste_top_genre_per_country\n",
    "\n",
    "# je crée un boucle qui va crée des graphiques avec la fonction add_trace dans le subplots.\n",
    "# la difficiulté =» je dois incrémenter le row et le col pour placer le graphique dans la bonne case pour ne pas les avoirs tous à la suite\n",
    "# je rajoute une condition qui bascule sur le second fig.add_trace qui incrémente sur la colonne 2 et sur les ligne 1 et 2 de la seconde colonne.\n",
    "# pour cela le numéro de la row correspond à la valeur i moins trois \n",
    "# par exemple arrivé à l'itéaration 4 cela donne i(=4) - 3 pur être sur la première ligne de la seconde colonne\n",
    "for i in range(1, len(liste_release_per_month)+1):\n",
    "    if i <= 3:\n",
    "        fig.add_trace(go.Bar(\n",
    "                x=liste_month,\n",
    "                y=liste_release_per_month[i-1]['Release by Month'].values, \n",
    "                text=liste_release_per_month[i-1]['Release by Month'].values, \n",
    "                texttemplate='%{text:.2s}', \n",
    "                textposition='outside', \n",
    "                name=liste_release_per_month[i-1]['Year']), \n",
    "                row=i, \n",
    "                col=1)\n",
    "    else:\n",
    "        fig.add_trace(go.Bar(\n",
    "                x=liste_month,\n",
    "                y=liste_release_per_month[i-1]['Release by Month'].values, \n",
    "                text=liste_release_per_month[i-1]['Release by Month'].values, \n",
    "                texttemplate='%{text:.2s}', \n",
    "                textposition='outside', \n",
    "                name=liste_release_per_month[i-1]['Year']), \n",
    "                row=i-3, \n",
    "                col=2)\n",
    "\n",
    "\n",
    "\n",
    "# Personnaliser la mise en page\n",
    "fig.update_layout(height=1000, width=900)\n",
    "\n",
    "# je rajoute une légende  centré par rapport à la carte\n",
    "fig.update_layout(title_text='Sorties Netflix par mois (2016-2021)', title_x=0.5)\n",
    "\n",
    "fig.show()\n"
   ]
  },
  {
   "cell_type": "code",
   "execution_count": 498,
   "metadata": {},
   "outputs": [
    {
     "data": {
      "text/html": [
       "        <script type=\"text/javascript\">\n",
       "        window.PlotlyConfig = {MathJaxConfig: 'local'};\n",
       "        if (window.MathJax) {MathJax.Hub.Config({SVG: {font: \"STIX-Web\"}});}\n",
       "        if (typeof require !== 'undefined') {\n",
       "        require.undef(\"plotly\");\n",
       "        requirejs.config({\n",
       "            paths: {\n",
       "                'plotly': ['https://cdn.plot.ly/plotly-2.6.3.min']\n",
       "            }\n",
       "        });\n",
       "        require(['plotly'], function(Plotly) {\n",
       "            window._Plotly = Plotly;\n",
       "        });\n",
       "        }\n",
       "        </script>\n",
       "        "
      ]
     },
     "metadata": {},
     "output_type": "display_data"
    },
    {
     "data": {
      "text/html": [
       "<div>                            <div id=\"1e2e6da6-45bb-4b46-8c91-09a5d42e1cc3\" class=\"plotly-graph-div\" style=\"height:525px; width:100%;\"></div>            <script type=\"text/javascript\">                require([\"plotly\"], function(Plotly) {                    window.PLOTLYENV=window.PLOTLYENV || {};                                    if (document.getElementById(\"1e2e6da6-45bb-4b46-8c91-09a5d42e1cc3\")) {                    Plotly.newPlot(                        \"1e2e6da6-45bb-4b46-8c91-09a5d42e1cc3\",                        [{\"x\":[\"2008-01-01T00:00:00\",\"2008-02-04T00:00:00\",\"2009-05-05T00:00:00\",\"2009-11-18T00:00:00\",\"2010-11-01T00:00:00\",\"2011-05-17T00:00:00\",\"2011-09-27T00:00:00\",\"2011-10-01T00:00:00\",\"2012-02-21T00:00:00\",\"2012-11-14T00:00:00\",\"2012-12-01T00:00:00\",\"2013-03-31T00:00:00\",\"2013-08-02T00:00:00\",\"2013-09-01T00:00:00\",\"2013-10-08T00:00:00\",\"2013-10-14T00:00:00\",\"2013-11-01T00:00:00\",\"2013-12-12T00:00:00\",\"2013-12-29T00:00:00\",\"2014-01-17T00:00:00\",\"2014-01-24T00:00:00\",\"2014-02-01T00:00:00\",\"2014-02-16T00:00:00\",\"2014-04-01T00:00:00\",\"2014-04-15T00:00:00\",\"2014-06-15T00:00:00\",\"2014-07-11T00:00:00\",\"2014-08-15T00:00:00\",\"2014-09-26T00:00:00\",\"2014-10-10T00:00:00\",\"2014-10-12T00:00:00\",\"2014-10-21T00:00:00\",\"2014-10-24T00:00:00\",\"2014-11-07T00:00:00\",\"2014-11-14T00:00:00\",\"2014-11-19T00:00:00\",\"2014-11-21T00:00:00\",\"2014-12-05T00:00:00\",\"2014-12-12T00:00:00\",\"2014-12-17T00:00:00\",\"2014-12-18T00:00:00\",\"2014-12-19T00:00:00\",\"2015-01-23T00:00:00\",\"2015-02-01T00:00:00\",\"2015-02-13T00:00:00\",\"2015-02-15T00:00:00\",\"2015-02-27T00:00:00\",\"2015-03-06T00:00:00\",\"2015-03-15T00:00:00\",\"2015-03-22T00:00:00\",\"2015-04-16T00:00:00\",\"2015-04-17T00:00:00\",\"2015-04-22T00:00:00\",\"2015-05-10T00:00:00\",\"2015-05-17T00:00:00\",\"2015-05-22T00:00:00\",\"2015-05-29T00:00:00\",\"2015-05-31T00:00:00\",\"2015-06-01T00:00:00\",\"2015-06-15T00:00:00\",\"2015-06-23T00:00:00\",\"2015-06-26T00:00:00\",\"2015-06-29T00:00:00\",\"2015-06-30T00:00:00\",\"2015-07-07T00:00:00\",\"2015-07-10T00:00:00\",\"2015-07-14T00:00:00\",\"2015-07-15T00:00:00\",\"2015-07-17T00:00:00\",\"2015-07-31T00:00:00\",\"2015-08-05T00:00:00\",\"2015-08-14T00:00:00\",\"2015-09-02T00:00:00\",\"2015-09-08T00:00:00\",\"2015-09-15T00:00:00\",\"2015-09-18T00:00:00\",\"2015-09-22T00:00:00\",\"2015-09-29T00:00:00\",\"2015-10-01T00:00:00\",\"2015-10-02T00:00:00\",\"2015-10-09T00:00:00\",\"2015-10-10T00:00:00\",\"2015-10-14T00:00:00\",\"2015-10-16T00:00:00\",\"2015-10-22T00:00:00\",\"2015-10-23T00:00:00\",\"2015-10-25T00:00:00\",\"2015-10-27T00:00:00\",\"2015-10-31T00:00:00\",\"2015-11-03T00:00:00\",\"2015-11-13T00:00:00\",\"2015-11-18T00:00:00\",\"2015-12-01T00:00:00\",\"2015-12-02T00:00:00\",\"2015-12-04T00:00:00\",\"2015-12-09T00:00:00\",\"2015-12-11T00:00:00\",\"2015-12-15T00:00:00\",\"2015-12-17T00:00:00\",\"2015-12-18T00:00:00\",\"2015-12-20T00:00:00\",\"2015-12-25T00:00:00\",\"2015-12-26T00:00:00\",\"2015-12-28T00:00:00\",\"2015-12-31T00:00:00\",\"2016-01-01T00:00:00\",\"2016-01-08T00:00:00\",\"2016-01-13T00:00:00\",\"2016-01-15T00:00:00\",\"2016-01-22T00:00:00\",\"2016-01-23T00:00:00\",\"2016-01-28T00:00:00\",\"2016-02-01T00:00:00\",\"2016-02-04T00:00:00\",\"2016-02-05T00:00:00\",\"2016-02-06T00:00:00\",\"2016-02-08T00:00:00\",\"2016-02-14T00:00:00\",\"2016-02-18T00:00:00\",\"2016-02-19T00:00:00\",\"2016-02-24T00:00:00\",\"2016-02-26T00:00:00\",\"2016-03-01T00:00:00\",\"2016-03-02T00:00:00\",\"2016-03-07T00:00:00\",\"2016-03-09T00:00:00\",\"2016-03-11T00:00:00\",\"2016-03-16T00:00:00\",\"2016-03-18T00:00:00\",\"2016-03-19T00:00:00\",\"2016-03-25T00:00:00\",\"2016-03-31T00:00:00\",\"2016-04-01T00:00:00\",\"2016-04-05T00:00:00\",\"2016-04-08T00:00:00\",\"2016-04-09T00:00:00\",\"2016-04-15T00:00:00\",\"2016-04-17T00:00:00\",\"2016-04-20T00:00:00\",\"2016-04-22T00:00:00\",\"2016-04-25T00:00:00\",\"2016-04-28T00:00:00\",\"2016-04-29T00:00:00\",\"2016-05-01T00:00:00\",\"2016-05-05T00:00:00\",\"2016-05-06T00:00:00\",\"2016-05-08T00:00:00\",\"2016-05-15T00:00:00\",\"2016-05-22T00:00:00\",\"2016-05-23T00:00:00\",\"2016-05-26T00:00:00\",\"2016-05-27T00:00:00\",\"2016-05-28T00:00:00\",\"2016-06-01T00:00:00\",\"2016-06-02T00:00:00\",\"2016-06-03T00:00:00\",\"2016-06-13T00:00:00\",\"2016-06-18T00:00:00\",\"2016-06-20T00:00:00\",\"2016-06-24T00:00:00\",\"2016-06-30T00:00:00\",\"2016-07-01T00:00:00\",\"2016-07-04T00:00:00\",\"2016-07-06T00:00:00\",\"2016-07-07T00:00:00\",\"2016-07-08T00:00:00\",\"2016-07-10T00:00:00\",\"2016-07-14T00:00:00\",\"2016-07-15T00:00:00\",\"2016-07-21T00:00:00\",\"2016-07-24T00:00:00\",\"2016-07-25T00:00:00\",\"2016-07-29T00:00:00\",\"2016-08-01T00:00:00\",\"2016-08-02T00:00:00\",\"2016-08-05T00:00:00\",\"2016-08-11T00:00:00\",\"2016-08-13T00:00:00\",\"2016-08-15T00:00:00\",\"2016-08-19T00:00:00\",\"2016-08-25T00:00:00\",\"2016-08-26T00:00:00\",\"2016-09-01T00:00:00\",\"2016-09-02T00:00:00\",\"2016-09-06T00:00:00\",\"2016-09-07T00:00:00\",\"2016-09-09T00:00:00\",\"2016-09-13T00:00:00\",\"2016-09-15T00:00:00\",\"2016-09-16T00:00:00\",\"2016-09-17T00:00:00\",\"2016-09-19T00:00:00\",\"2016-09-20T00:00:00\",\"2016-09-22T00:00:00\",\"2016-09-23T00:00:00\",\"2016-09-30T00:00:00\",\"2016-10-01T00:00:00\",\"2016-10-04T00:00:00\",\"2016-10-07T00:00:00\",\"2016-10-12T00:00:00\",\"2016-10-13T00:00:00\",\"2016-10-14T00:00:00\",\"2016-10-15T00:00:00\",\"2016-10-16T00:00:00\",\"2016-10-21T00:00:00\",\"2016-10-27T00:00:00\",\"2016-10-28T00:00:00\",\"2016-10-29T00:00:00\",\"2016-11-01T00:00:00\",\"2016-11-02T00:00:00\",\"2016-11-04T00:00:00\",\"2016-11-09T00:00:00\",\"2016-11-10T00:00:00\",\"2016-11-11T00:00:00\",\"2016-11-15T00:00:00\",\"2016-11-17T00:00:00\",\"2016-11-18T00:00:00\",\"2016-11-19T00:00:00\",\"2016-11-21T00:00:00\",\"2016-11-22T00:00:00\",\"2016-11-25T00:00:00\",\"2016-11-30T00:00:00\",\"2016-12-01T00:00:00\",\"2016-12-02T00:00:00\",\"2016-12-03T00:00:00\",\"2016-12-04T00:00:00\",\"2016-12-05T00:00:00\",\"2016-12-06T00:00:00\",\"2016-12-08T00:00:00\",\"2016-12-09T00:00:00\",\"2016-12-10T00:00:00\",\"2016-12-11T00:00:00\",\"2016-12-12T00:00:00\",\"2016-12-13T00:00:00\",\"2016-12-14T00:00:00\",\"2016-12-15T00:00:00\",\"2016-12-16T00:00:00\",\"2016-12-19T00:00:00\",\"2016-12-20T00:00:00\",\"2016-12-21T00:00:00\",\"2016-12-23T00:00:00\",\"2016-12-25T00:00:00\",\"2016-12-26T00:00:00\",\"2016-12-27T00:00:00\",\"2016-12-28T00:00:00\",\"2016-12-30T00:00:00\",\"2016-12-31T00:00:00\",\"2017-01-01T00:00:00\",\"2017-01-03T00:00:00\",\"2017-01-04T00:00:00\",\"2017-01-05T00:00:00\",\"2017-01-06T00:00:00\",\"2017-01-07T00:00:00\",\"2017-01-10T00:00:00\",\"2017-01-12T00:00:00\",\"2017-01-13T00:00:00\",\"2017-01-14T00:00:00\",\"2017-01-15T00:00:00\",\"2017-01-16T00:00:00\",\"2017-01-17T00:00:00\",\"2017-01-18T00:00:00\",\"2017-01-19T00:00:00\",\"2017-01-20T00:00:00\",\"2017-01-23T00:00:00\",\"2017-01-24T00:00:00\",\"2017-01-25T00:00:00\",\"2017-01-26T00:00:00\",\"2017-01-27T00:00:00\",\"2017-01-29T00:00:00\",\"2017-01-31T00:00:00\",\"2017-02-01T00:00:00\",\"2017-02-02T00:00:00\",\"2017-02-03T00:00:00\",\"2017-02-04T00:00:00\",\"2017-02-05T00:00:00\",\"2017-02-07T00:00:00\",\"2017-02-08T00:00:00\",\"2017-02-10T00:00:00\",\"2017-02-11T00:00:00\",\"2017-02-12T00:00:00\",\"2017-02-14T00:00:00\",\"2017-02-15T00:00:00\",\"2017-02-16T00:00:00\",\"2017-02-17T00:00:00\",\"2017-02-19T00:00:00\",\"2017-02-20T00:00:00\",\"2017-02-21T00:00:00\",\"2017-02-22T00:00:00\",\"2017-02-23T00:00:00\",\"2017-02-24T00:00:00\",\"2017-02-25T00:00:00\",\"2017-02-26T00:00:00\",\"2017-02-27T00:00:00\",\"2017-02-28T00:00:00\",\"2017-03-01T00:00:00\",\"2017-03-02T00:00:00\",\"2017-03-03T00:00:00\",\"2017-03-04T00:00:00\",\"2017-03-07T00:00:00\",\"2017-03-08T00:00:00\",\"2017-03-09T00:00:00\",\"2017-03-10T00:00:00\",\"2017-03-14T00:00:00\",\"2017-03-15T00:00:00\",\"2017-03-16T00:00:00\",\"2017-03-17T00:00:00\",\"2017-03-18T00:00:00\",\"2017-03-20T00:00:00\",\"2017-03-21T00:00:00\",\"2017-03-23T00:00:00\",\"2017-03-24T00:00:00\",\"2017-03-28T00:00:00\",\"2017-03-30T00:00:00\",\"2017-03-31T00:00:00\",\"2017-04-01T00:00:00\",\"2017-04-02T00:00:00\",\"2017-04-04T00:00:00\",\"2017-04-06T00:00:00\",\"2017-04-07T00:00:00\",\"2017-04-08T00:00:00\",\"2017-04-10T00:00:00\",\"2017-04-11T00:00:00\",\"2017-04-12T00:00:00\",\"2017-04-14T00:00:00\",\"2017-04-15T00:00:00\",\"2017-04-16T00:00:00\",\"2017-04-18T00:00:00\",\"2017-04-19T00:00:00\",\"2017-04-20T00:00:00\",\"2017-04-21T00:00:00\",\"2017-04-22T00:00:00\",\"2017-04-23T00:00:00\",\"2017-04-25T00:00:00\",\"2017-04-26T00:00:00\",\"2017-04-27T00:00:00\",\"2017-04-28T00:00:00\",\"2017-05-01T00:00:00\",\"2017-05-02T00:00:00\",\"2017-05-04T00:00:00\",\"2017-05-05T00:00:00\",\"2017-05-07T00:00:00\",\"2017-05-08T00:00:00\",\"2017-05-09T00:00:00\",\"2017-05-10T00:00:00\",\"2017-05-12T00:00:00\",\"2017-05-13T00:00:00\",\"2017-05-14T00:00:00\",\"2017-05-15T00:00:00\",\"2017-05-16T00:00:00\",\"2017-05-18T00:00:00\",\"2017-05-19T00:00:00\",\"2017-05-22T00:00:00\",\"2017-05-23T00:00:00\",\"2017-05-25T00:00:00\",\"2017-05-26T00:00:00\",\"2017-05-29T00:00:00\",\"2017-05-30T00:00:00\",\"2017-05-31T00:00:00\",\"2017-06-01T00:00:00\",\"2017-06-02T00:00:00\",\"2017-06-03T00:00:00\",\"2017-06-05T00:00:00\",\"2017-06-08T00:00:00\",\"2017-06-09T00:00:00\",\"2017-06-10T00:00:00\",\"2017-06-13T00:00:00\",\"2017-06-15T00:00:00\",\"2017-06-16T00:00:00\",\"2017-06-17T00:00:00\",\"2017-06-19T00:00:00\",\"2017-06-20T00:00:00\",\"2017-06-21T00:00:00\",\"2017-06-22T00:00:00\",\"2017-06-23T00:00:00\",\"2017-06-24T00:00:00\",\"2017-06-25T00:00:00\",\"2017-06-26T00:00:00\",\"2017-06-27T00:00:00\",\"2017-06-28T00:00:00\",\"2017-06-30T00:00:00\",\"2017-07-01T00:00:00\",\"2017-07-04T00:00:00\",\"2017-07-06T00:00:00\",\"2017-07-07T00:00:00\",\"2017-07-10T00:00:00\",\"2017-07-12T00:00:00\",\"2017-07-13T00:00:00\",\"2017-07-14T00:00:00\",\"2017-07-15T00:00:00\",\"2017-07-17T00:00:00\",\"2017-07-18T00:00:00\",\"2017-07-19T00:00:00\",\"2017-07-20T00:00:00\",\"2017-07-21T00:00:00\",\"2017-07-24T00:00:00\",\"2017-07-25T00:00:00\",\"2017-07-28T00:00:00\",\"2017-07-30T00:00:00\",\"2017-08-01T00:00:00\",\"2017-08-03T00:00:00\",\"2017-08-04T00:00:00\",\"2017-08-05T00:00:00\",\"2017-08-06T00:00:00\",\"2017-08-07T00:00:00\",\"2017-08-08T00:00:00\",\"2017-08-09T00:00:00\",\"2017-08-10T00:00:00\",\"2017-08-11T00:00:00\",\"2017-08-12T00:00:00\",\"2017-08-13T00:00:00\",\"2017-08-14T00:00:00\",\"2017-08-15T00:00:00\",\"2017-08-16T00:00:00\",\"2017-08-17T00:00:00\",\"2017-08-18T00:00:00\",\"2017-08-19T00:00:00\",\"2017-08-20T00:00:00\",\"2017-08-21T00:00:00\",\"2017-08-22T00:00:00\",\"2017-08-23T00:00:00\",\"2017-08-25T00:00:00\",\"2017-08-26T00:00:00\",\"2017-08-27T00:00:00\",\"2017-08-28T00:00:00\",\"2017-08-29T00:00:00\",\"2017-08-31T00:00:00\",\"2017-09-01T00:00:00\",\"2017-09-02T00:00:00\",\"2017-09-04T00:00:00\",\"2017-09-05T00:00:00\",\"2017-09-06T00:00:00\",\"2017-09-07T00:00:00\",\"2017-09-08T00:00:00\",\"2017-09-11T00:00:00\",\"2017-09-12T00:00:00\",\"2017-09-13T00:00:00\",\"2017-09-15T00:00:00\",\"2017-09-17T00:00:00\",\"2017-09-18T00:00:00\",\"2017-09-19T00:00:00\",\"2017-09-22T00:00:00\",\"2017-09-24T00:00:00\",\"2017-09-25T00:00:00\",\"2017-09-26T00:00:00\",\"2017-09-27T00:00:00\",\"2017-09-28T00:00:00\",\"2017-09-29T00:00:00\",\"2017-09-30T00:00:00\",\"2017-10-01T00:00:00\",\"2017-10-02T00:00:00\",\"2017-10-03T00:00:00\",\"2017-10-05T00:00:00\",\"2017-10-06T00:00:00\",\"2017-10-07T00:00:00\",\"2017-10-10T00:00:00\",\"2017-10-12T00:00:00\",\"2017-10-13T00:00:00\",\"2017-10-14T00:00:00\",\"2017-10-15T00:00:00\",\"2017-10-16T00:00:00\",\"2017-10-17T00:00:00\",\"2017-10-18T00:00:00\",\"2017-10-19T00:00:00\",\"2017-10-20T00:00:00\",\"2017-10-21T00:00:00\",\"2017-10-22T00:00:00\",\"2017-10-23T00:00:00\",\"2017-10-24T00:00:00\",\"2017-10-25T00:00:00\",\"2017-10-26T00:00:00\",\"2017-10-27T00:00:00\",\"2017-10-28T00:00:00\",\"2017-10-30T00:00:00\",\"2017-10-31T00:00:00\",\"2017-11-01T00:00:00\",\"2017-11-03T00:00:00\",\"2017-11-04T00:00:00\",\"2017-11-05T00:00:00\",\"2017-11-06T00:00:00\",\"2017-11-07T00:00:00\",\"2017-11-10T00:00:00\",\"2017-11-11T00:00:00\",\"2017-11-12T00:00:00\",\"2017-11-13T00:00:00\",\"2017-11-14T00:00:00\",\"2017-11-15T00:00:00\",\"2017-11-16T00:00:00\",\"2017-11-17T00:00:00\",\"2017-11-18T00:00:00\",\"2017-11-21T00:00:00\",\"2017-11-22T00:00:00\",\"2017-11-23T00:00:00\",\"2017-11-24T00:00:00\",\"2017-11-27T00:00:00\",\"2017-11-30T00:00:00\",\"2017-12-01T00:00:00\",\"2017-12-02T00:00:00\",\"2017-12-05T00:00:00\",\"2017-12-06T00:00:00\",\"2017-12-07T00:00:00\",\"2017-12-08T00:00:00\",\"2017-12-11T00:00:00\",\"2017-12-12T00:00:00\",\"2017-12-14T00:00:00\",\"2017-12-15T00:00:00\",\"2017-12-16T00:00:00\",\"2017-12-18T00:00:00\",\"2017-12-19T00:00:00\",\"2017-12-20T00:00:00\",\"2017-12-21T00:00:00\",\"2017-12-22T00:00:00\",\"2017-12-23T00:00:00\",\"2017-12-25T00:00:00\",\"2017-12-26T00:00:00\",\"2017-12-27T00:00:00\",\"2017-12-29T00:00:00\",\"2017-12-30T00:00:00\",\"2017-12-31T00:00:00\",\"2018-01-01T00:00:00\",\"2018-01-02T00:00:00\",\"2018-01-05T00:00:00\",\"2018-01-06T00:00:00\",\"2018-01-08T00:00:00\",\"2018-01-09T00:00:00\",\"2018-01-10T00:00:00\",\"2018-01-11T00:00:00\",\"2018-01-12T00:00:00\",\"2018-01-15T00:00:00\",\"2018-01-16T00:00:00\",\"2018-01-17T00:00:00\",\"2018-01-18T00:00:00\",\"2018-01-19T00:00:00\",\"2018-01-20T00:00:00\",\"2018-01-22T00:00:00\",\"2018-01-23T00:00:00\",\"2018-01-24T00:00:00\",\"2018-01-25T00:00:00\",\"2018-01-26T00:00:00\",\"2018-01-28T00:00:00\",\"2018-01-29T00:00:00\",\"2018-01-30T00:00:00\",\"2018-01-31T00:00:00\",\"2018-02-01T00:00:00\",\"2018-02-02T00:00:00\",\"2018-02-04T00:00:00\",\"2018-02-05T00:00:00\",\"2018-02-06T00:00:00\",\"2018-02-08T00:00:00\",\"2018-02-09T00:00:00\",\"2018-02-13T00:00:00\",\"2018-02-14T00:00:00\",\"2018-02-15T00:00:00\",\"2018-02-16T00:00:00\",\"2018-02-17T00:00:00\",\"2018-02-19T00:00:00\",\"2018-02-20T00:00:00\",\"2018-02-21T00:00:00\",\"2018-02-22T00:00:00\",\"2018-02-23T00:00:00\",\"2018-02-24T00:00:00\",\"2018-02-25T00:00:00\",\"2018-02-26T00:00:00\",\"2018-02-27T00:00:00\",\"2018-02-28T00:00:00\",\"2018-03-01T00:00:00\",\"2018-03-02T00:00:00\",\"2018-03-04T00:00:00\",\"2018-03-05T00:00:00\",\"2018-03-06T00:00:00\",\"2018-03-07T00:00:00\",\"2018-03-08T00:00:00\",\"2018-03-09T00:00:00\",\"2018-03-10T00:00:00\",\"2018-03-11T00:00:00\",\"2018-03-12T00:00:00\",\"2018-03-13T00:00:00\",\"2018-03-14T00:00:00\",\"2018-03-15T00:00:00\",\"2018-03-16T00:00:00\",\"2018-03-19T00:00:00\",\"2018-03-20T00:00:00\",\"2018-03-21T00:00:00\",\"2018-03-23T00:00:00\",\"2018-03-24T00:00:00\",\"2018-03-26T00:00:00\",\"2018-03-27T00:00:00\",\"2018-03-28T00:00:00\",\"2018-03-29T00:00:00\",\"2018-03-30T00:00:00\",\"2018-03-31T00:00:00\",\"2018-04-01T00:00:00\",\"2018-04-02T00:00:00\",\"2018-04-03T00:00:00\",\"2018-04-04T00:00:00\",\"2018-04-05T00:00:00\",\"2018-04-06T00:00:00\",\"2018-04-07T00:00:00\",\"2018-04-09T00:00:00\",\"2018-04-10T00:00:00\",\"2018-04-12T00:00:00\",\"2018-04-13T00:00:00\",\"2018-04-14T00:00:00\",\"2018-04-15T00:00:00\",\"2018-04-16T00:00:00\",\"2018-04-17T00:00:00\",\"2018-04-18T00:00:00\",\"2018-04-19T00:00:00\",\"2018-04-20T00:00:00\",\"2018-04-24T00:00:00\",\"2018-04-25T00:00:00\",\"2018-04-26T00:00:00\",\"2018-04-27T00:00:00\",\"2018-04-30T00:00:00\",\"2018-05-01T00:00:00\",\"2018-05-02T00:00:00\",\"2018-05-03T00:00:00\",\"2018-05-04T00:00:00\",\"2018-05-05T00:00:00\",\"2018-05-07T00:00:00\",\"2018-05-08T00:00:00\",\"2018-05-11T00:00:00\",\"2018-05-12T00:00:00\",\"2018-05-13T00:00:00\",\"2018-05-15T00:00:00\",\"2018-05-16T00:00:00\",\"2018-05-17T00:00:00\",\"2018-05-18T00:00:00\",\"2018-05-19T00:00:00\",\"2018-05-22T00:00:00\",\"2018-05-24T00:00:00\",\"2018-05-25T00:00:00\",\"2018-05-26T00:00:00\",\"2018-05-27T00:00:00\",\"2018-05-29T00:00:00\",\"2018-05-30T00:00:00\",\"2018-05-31T00:00:00\",\"2018-06-01T00:00:00\",\"2018-06-02T00:00:00\",\"2018-06-04T00:00:00\",\"2018-06-05T00:00:00\",\"2018-06-07T00:00:00\",\"2018-06-08T00:00:00\",\"2018-06-12T00:00:00\",\"2018-06-14T00:00:00\",\"2018-06-15T00:00:00\",\"2018-06-18T00:00:00\",\"2018-06-19T00:00:00\",\"2018-06-20T00:00:00\",\"2018-06-22T00:00:00\",\"2018-06-23T00:00:00\",\"2018-06-24T00:00:00\",\"2018-06-25T00:00:00\",\"2018-06-26T00:00:00\",\"2018-06-27T00:00:00\",\"2018-06-28T00:00:00\",\"2018-06-29T00:00:00\",\"2018-06-30T00:00:00\",\"2018-07-01T00:00:00\",\"2018-07-02T00:00:00\",\"2018-07-03T00:00:00\",\"2018-07-04T00:00:00\",\"2018-07-05T00:00:00\",\"2018-07-06T00:00:00\",\"2018-07-08T00:00:00\",\"2018-07-10T00:00:00\",\"2018-07-11T00:00:00\",\"2018-07-13T00:00:00\",\"2018-07-14T00:00:00\",\"2018-07-15T00:00:00\",\"2018-07-17T00:00:00\",\"2018-07-18T00:00:00\",\"2018-07-19T00:00:00\",\"2018-07-20T00:00:00\",\"2018-07-21T00:00:00\",\"2018-07-22T00:00:00\",\"2018-07-23T00:00:00\",\"2018-07-24T00:00:00\",\"2018-07-25T00:00:00\",\"2018-07-26T00:00:00\",\"2018-07-27T00:00:00\",\"2018-07-28T00:00:00\",\"2018-07-29T00:00:00\",\"2018-07-30T00:00:00\",\"2018-07-31T00:00:00\",\"2018-08-01T00:00:00\",\"2018-08-02T00:00:00\",\"2018-08-03T00:00:00\",\"2018-08-04T00:00:00\",\"2018-08-05T00:00:00\",\"2018-08-08T00:00:00\",\"2018-08-09T00:00:00\",\"2018-08-10T00:00:00\",\"2018-08-13T00:00:00\",\"2018-08-15T00:00:00\",\"2018-08-16T00:00:00\",\"2018-08-17T00:00:00\",\"2018-08-18T00:00:00\",\"2018-08-19T00:00:00\",\"2018-08-20T00:00:00\",\"2018-08-21T00:00:00\",\"2018-08-23T00:00:00\",\"2018-08-24T00:00:00\",\"2018-08-25T00:00:00\",\"2018-08-26T00:00:00\",\"2018-08-27T00:00:00\",\"2018-08-28T00:00:00\",\"2018-08-29T00:00:00\",\"2018-08-30T00:00:00\",\"2018-08-31T00:00:00\",\"2018-09-01T00:00:00\",\"2018-09-02T00:00:00\",\"2018-09-03T00:00:00\",\"2018-09-04T00:00:00\",\"2018-09-05T00:00:00\",\"2018-09-06T00:00:00\",\"2018-09-07T00:00:00\",\"2018-09-08T00:00:00\",\"2018-09-09T00:00:00\",\"2018-09-11T00:00:00\",\"2018-09-12T00:00:00\",\"2018-09-13T00:00:00\",\"2018-09-14T00:00:00\",\"2018-09-15T00:00:00\",\"2018-09-16T00:00:00\",\"2018-09-17T00:00:00\",\"2018-09-18T00:00:00\",\"2018-09-19T00:00:00\",\"2018-09-20T00:00:00\",\"2018-09-21T00:00:00\",\"2018-09-22T00:00:00\",\"2018-09-24T00:00:00\",\"2018-09-25T00:00:00\",\"2018-09-26T00:00:00\",\"2018-09-27T00:00:00\",\"2018-09-28T00:00:00\",\"2018-09-29T00:00:00\",\"2018-09-30T00:00:00\",\"2018-10-01T00:00:00\",\"2018-10-02T00:00:00\",\"2018-10-03T00:00:00\",\"2018-10-04T00:00:00\",\"2018-10-05T00:00:00\",\"2018-10-06T00:00:00\",\"2018-10-08T00:00:00\",\"2018-10-09T00:00:00\",\"2018-10-10T00:00:00\",\"2018-10-11T00:00:00\",\"2018-10-12T00:00:00\",\"2018-10-13T00:00:00\",\"2018-10-15T00:00:00\",\"2018-10-16T00:00:00\",\"2018-10-17T00:00:00\",\"2018-10-18T00:00:00\",\"2018-10-19T00:00:00\",\"2018-10-20T00:00:00\",\"2018-10-21T00:00:00\",\"2018-10-22T00:00:00\",\"2018-10-23T00:00:00\",\"2018-10-24T00:00:00\",\"2018-10-25T00:00:00\",\"2018-10-26T00:00:00\",\"2018-10-27T00:00:00\",\"2018-10-28T00:00:00\",\"2018-10-29T00:00:00\",\"2018-10-30T00:00:00\",\"2018-10-31T00:00:00\",\"2018-11-01T00:00:00\",\"2018-11-02T00:00:00\",\"2018-11-03T00:00:00\",\"2018-11-05T00:00:00\",\"2018-11-07T00:00:00\",\"2018-11-08T00:00:00\",\"2018-11-09T00:00:00\",\"2018-11-10T00:00:00\",\"2018-11-12T00:00:00\",\"2018-11-13T00:00:00\",\"2018-11-15T00:00:00\",\"2018-11-16T00:00:00\",\"2018-11-17T00:00:00\",\"2018-11-18T00:00:00\",\"2018-11-20T00:00:00\",\"2018-11-21T00:00:00\",\"2018-11-22T00:00:00\",\"2018-11-23T00:00:00\",\"2018-11-25T00:00:00\",\"2018-11-27T00:00:00\",\"2018-11-28T00:00:00\",\"2018-11-30T00:00:00\",\"2018-12-01T00:00:00\",\"2018-12-02T00:00:00\",\"2018-12-03T00:00:00\",\"2018-12-04T00:00:00\",\"2018-12-05T00:00:00\",\"2018-12-06T00:00:00\",\"2018-12-07T00:00:00\",\"2018-12-08T00:00:00\",\"2018-12-09T00:00:00\",\"2018-12-10T00:00:00\",\"2018-12-11T00:00:00\",\"2018-12-12T00:00:00\",\"2018-12-14T00:00:00\",\"2018-12-15T00:00:00\",\"2018-12-16T00:00:00\",\"2018-12-17T00:00:00\",\"2018-12-18T00:00:00\",\"2018-12-19T00:00:00\",\"2018-12-20T00:00:00\",\"2018-12-21T00:00:00\",\"2018-12-22T00:00:00\",\"2018-12-23T00:00:00\",\"2018-12-24T00:00:00\",\"2018-12-25T00:00:00\",\"2018-12-26T00:00:00\",\"2018-12-27T00:00:00\",\"2018-12-28T00:00:00\",\"2018-12-29T00:00:00\",\"2018-12-30T00:00:00\",\"2018-12-31T00:00:00\",\"2019-01-01T00:00:00\",\"2019-01-02T00:00:00\",\"2019-01-03T00:00:00\",\"2019-01-04T00:00:00\",\"2019-01-05T00:00:00\",\"2019-01-07T00:00:00\",\"2019-01-08T00:00:00\",\"2019-01-09T00:00:00\",\"2019-01-10T00:00:00\",\"2019-01-11T00:00:00\",\"2019-01-12T00:00:00\",\"2019-01-13T00:00:00\",\"2019-01-14T00:00:00\",\"2019-01-15T00:00:00\",\"2019-01-16T00:00:00\",\"2019-01-18T00:00:00\",\"2019-01-19T00:00:00\",\"2019-01-23T00:00:00\",\"2019-01-24T00:00:00\",\"2019-01-25T00:00:00\",\"2019-01-26T00:00:00\",\"2019-01-27T00:00:00\",\"2019-01-28T00:00:00\",\"2019-01-29T00:00:00\",\"2019-01-30T00:00:00\",\"2019-01-31T00:00:00\",\"2019-02-01T00:00:00\",\"2019-02-02T00:00:00\",\"2019-02-03T00:00:00\",\"2019-02-05T00:00:00\",\"2019-02-06T00:00:00\",\"2019-02-07T00:00:00\",\"2019-02-08T00:00:00\",\"2019-02-09T00:00:00\",\"2019-02-11T00:00:00\",\"2019-02-12T00:00:00\",\"2019-02-13T00:00:00\",\"2019-02-14T00:00:00\",\"2019-02-15T00:00:00\",\"2019-02-16T00:00:00\",\"2019-02-17T00:00:00\",\"2019-02-19T00:00:00\",\"2019-02-20T00:00:00\",\"2019-02-21T00:00:00\",\"2019-02-22T00:00:00\",\"2019-02-23T00:00:00\",\"2019-02-24T00:00:00\",\"2019-02-25T00:00:00\",\"2019-02-26T00:00:00\",\"2019-02-27T00:00:00\",\"2019-02-28T00:00:00\",\"2019-03-01T00:00:00\",\"2019-03-02T00:00:00\",\"2019-03-03T00:00:00\",\"2019-03-04T00:00:00\",\"2019-03-05T00:00:00\",\"2019-03-06T00:00:00\",\"2019-03-07T00:00:00\",\"2019-03-08T00:00:00\",\"2019-03-09T00:00:00\",\"2019-03-10T00:00:00\",\"2019-03-11T00:00:00\",\"2019-03-12T00:00:00\",\"2019-03-13T00:00:00\",\"2019-03-14T00:00:00\",\"2019-03-15T00:00:00\",\"2019-03-16T00:00:00\",\"2019-03-17T00:00:00\",\"2019-03-18T00:00:00\",\"2019-03-19T00:00:00\",\"2019-03-20T00:00:00\",\"2019-03-21T00:00:00\",\"2019-03-22T00:00:00\",\"2019-03-23T00:00:00\",\"2019-03-24T00:00:00\",\"2019-03-25T00:00:00\",\"2019-03-26T00:00:00\",\"2019-03-27T00:00:00\",\"2019-03-28T00:00:00\",\"2019-03-29T00:00:00\",\"2019-03-30T00:00:00\",\"2019-03-31T00:00:00\",\"2019-04-01T00:00:00\",\"2019-04-02T00:00:00\",\"2019-04-03T00:00:00\",\"2019-04-04T00:00:00\",\"2019-04-05T00:00:00\",\"2019-04-06T00:00:00\",\"2019-04-07T00:00:00\",\"2019-04-08T00:00:00\",\"2019-04-09T00:00:00\",\"2019-04-10T00:00:00\",\"2019-04-11T00:00:00\",\"2019-04-12T00:00:00\",\"2019-04-13T00:00:00\",\"2019-04-14T00:00:00\",\"2019-04-15T00:00:00\",\"2019-04-16T00:00:00\",\"2019-04-17T00:00:00\",\"2019-04-18T00:00:00\",\"2019-04-19T00:00:00\",\"2019-04-20T00:00:00\",\"2019-04-21T00:00:00\",\"2019-04-22T00:00:00\",\"2019-04-23T00:00:00\",\"2019-04-24T00:00:00\",\"2019-04-25T00:00:00\",\"2019-04-26T00:00:00\",\"2019-04-27T00:00:00\",\"2019-04-28T00:00:00\",\"2019-04-29T00:00:00\",\"2019-04-30T00:00:00\",\"2019-05-01T00:00:00\",\"2019-05-02T00:00:00\",\"2019-05-03T00:00:00\",\"2019-05-05T00:00:00\",\"2019-05-06T00:00:00\",\"2019-05-07T00:00:00\",\"2019-05-08T00:00:00\",\"2019-05-09T00:00:00\",\"2019-05-10T00:00:00\",\"2019-05-11T00:00:00\",\"2019-05-12T00:00:00\",\"2019-05-13T00:00:00\",\"2019-05-14T00:00:00\",\"2019-05-15T00:00:00\",\"2019-05-16T00:00:00\",\"2019-05-17T00:00:00\",\"2019-05-18T00:00:00\",\"2019-05-19T00:00:00\",\"2019-05-20T00:00:00\",\"2019-05-21T00:00:00\",\"2019-05-22T00:00:00\",\"2019-05-23T00:00:00\",\"2019-05-24T00:00:00\",\"2019-05-25T00:00:00\",\"2019-05-26T00:00:00\",\"2019-05-27T00:00:00\",\"2019-05-28T00:00:00\",\"2019-05-30T00:00:00\",\"2019-05-31T00:00:00\",\"2019-06-01T00:00:00\",\"2019-06-02T00:00:00\",\"2019-06-03T00:00:00\",\"2019-06-04T00:00:00\",\"2019-06-05T00:00:00\",\"2019-06-06T00:00:00\",\"2019-06-07T00:00:00\",\"2019-06-08T00:00:00\",\"2019-06-10T00:00:00\",\"2019-06-11T00:00:00\",\"2019-06-12T00:00:00\",\"2019-06-13T00:00:00\",\"2019-06-14T00:00:00\",\"2019-06-15T00:00:00\",\"2019-06-16T00:00:00\",\"2019-06-18T00:00:00\",\"2019-06-19T00:00:00\",\"2019-06-20T00:00:00\",\"2019-06-21T00:00:00\",\"2019-06-22T00:00:00\",\"2019-06-23T00:00:00\",\"2019-06-24T00:00:00\",\"2019-06-25T00:00:00\",\"2019-06-26T00:00:00\",\"2019-06-27T00:00:00\",\"2019-06-28T00:00:00\",\"2019-06-29T00:00:00\",\"2019-06-30T00:00:00\",\"2019-07-01T00:00:00\",\"2019-07-02T00:00:00\",\"2019-07-03T00:00:00\",\"2019-07-04T00:00:00\",\"2019-07-05T00:00:00\",\"2019-07-06T00:00:00\",\"2019-07-07T00:00:00\",\"2019-07-08T00:00:00\",\"2019-07-09T00:00:00\",\"2019-07-11T00:00:00\",\"2019-07-12T00:00:00\",\"2019-07-13T00:00:00\",\"2019-07-15T00:00:00\",\"2019-07-16T00:00:00\",\"2019-07-17T00:00:00\",\"2019-07-18T00:00:00\",\"2019-07-19T00:00:00\",\"2019-07-20T00:00:00\",\"2019-07-21T00:00:00\",\"2019-07-22T00:00:00\",\"2019-07-23T00:00:00\",\"2019-07-24T00:00:00\",\"2019-07-25T00:00:00\",\"2019-07-26T00:00:00\",\"2019-07-29T00:00:00\",\"2019-07-30T00:00:00\",\"2019-07-31T00:00:00\",\"2019-08-01T00:00:00\",\"2019-08-02T00:00:00\",\"2019-08-03T00:00:00\",\"2019-08-05T00:00:00\",\"2019-08-06T00:00:00\",\"2019-08-07T00:00:00\",\"2019-08-08T00:00:00\",\"2019-08-09T00:00:00\",\"2019-08-12T00:00:00\",\"2019-08-13T00:00:00\",\"2019-08-14T00:00:00\",\"2019-08-15T00:00:00\",\"2019-08-16T00:00:00\",\"2019-08-20T00:00:00\",\"2019-08-21T00:00:00\",\"2019-08-23T00:00:00\",\"2019-08-24T00:00:00\",\"2019-08-25T00:00:00\",\"2019-08-26T00:00:00\",\"2019-08-27T00:00:00\",\"2019-08-28T00:00:00\",\"2019-08-29T00:00:00\",\"2019-08-30T00:00:00\",\"2019-08-31T00:00:00\",\"2019-09-01T00:00:00\",\"2019-09-04T00:00:00\",\"2019-09-05T00:00:00\",\"2019-09-06T00:00:00\",\"2019-09-09T00:00:00\",\"2019-09-10T00:00:00\",\"2019-09-11T00:00:00\",\"2019-09-12T00:00:00\",\"2019-09-13T00:00:00\",\"2019-09-14T00:00:00\",\"2019-09-15T00:00:00\",\"2019-09-16T00:00:00\",\"2019-09-17T00:00:00\",\"2019-09-18T00:00:00\",\"2019-09-19T00:00:00\",\"2019-09-20T00:00:00\",\"2019-09-21T00:00:00\",\"2019-09-22T00:00:00\",\"2019-09-23T00:00:00\",\"2019-09-24T00:00:00\",\"2019-09-25T00:00:00\",\"2019-09-26T00:00:00\",\"2019-09-27T00:00:00\",\"2019-09-28T00:00:00\",\"2019-09-30T00:00:00\",\"2019-10-01T00:00:00\",\"2019-10-02T00:00:00\",\"2019-10-03T00:00:00\",\"2019-10-04T00:00:00\",\"2019-10-05T00:00:00\",\"2019-10-06T00:00:00\",\"2019-10-07T00:00:00\",\"2019-10-08T00:00:00\",\"2019-10-09T00:00:00\",\"2019-10-10T00:00:00\",\"2019-10-11T00:00:00\",\"2019-10-13T00:00:00\",\"2019-10-14T00:00:00\",\"2019-10-15T00:00:00\",\"2019-10-16T00:00:00\",\"2019-10-17T00:00:00\",\"2019-10-18T00:00:00\",\"2019-10-19T00:00:00\",\"2019-10-21T00:00:00\",\"2019-10-22T00:00:00\",\"2019-10-23T00:00:00\",\"2019-10-24T00:00:00\",\"2019-10-25T00:00:00\",\"2019-10-26T00:00:00\",\"2019-10-27T00:00:00\",\"2019-10-28T00:00:00\",\"2019-10-29T00:00:00\",\"2019-10-30T00:00:00\",\"2019-10-31T00:00:00\",\"2019-11-01T00:00:00\",\"2019-11-02T00:00:00\",\"2019-11-04T00:00:00\",\"2019-11-05T00:00:00\",\"2019-11-06T00:00:00\",\"2019-11-07T00:00:00\",\"2019-11-08T00:00:00\",\"2019-11-09T00:00:00\",\"2019-11-11T00:00:00\",\"2019-11-12T00:00:00\",\"2019-11-13T00:00:00\",\"2019-11-14T00:00:00\",\"2019-11-15T00:00:00\",\"2019-11-16T00:00:00\",\"2019-11-17T00:00:00\",\"2019-11-19T00:00:00\",\"2019-11-20T00:00:00\",\"2019-11-21T00:00:00\",\"2019-11-22T00:00:00\",\"2019-11-23T00:00:00\",\"2019-11-24T00:00:00\",\"2019-11-25T00:00:00\",\"2019-11-26T00:00:00\",\"2019-11-27T00:00:00\",\"2019-11-28T00:00:00\",\"2019-11-29T00:00:00\",\"2019-11-30T00:00:00\",\"2019-12-01T00:00:00\",\"2019-12-02T00:00:00\",\"2019-12-03T00:00:00\",\"2019-12-04T00:00:00\",\"2019-12-05T00:00:00\",\"2019-12-06T00:00:00\",\"2019-12-07T00:00:00\",\"2019-12-08T00:00:00\",\"2019-12-09T00:00:00\",\"2019-12-10T00:00:00\",\"2019-12-11T00:00:00\",\"2019-12-12T00:00:00\",\"2019-12-13T00:00:00\",\"2019-12-15T00:00:00\",\"2019-12-16T00:00:00\",\"2019-12-17T00:00:00\",\"2019-12-18T00:00:00\",\"2019-12-19T00:00:00\",\"2019-12-20T00:00:00\",\"2019-12-21T00:00:00\",\"2019-12-22T00:00:00\",\"2019-12-24T00:00:00\",\"2019-12-25T00:00:00\",\"2019-12-26T00:00:00\",\"2019-12-27T00:00:00\",\"2019-12-28T00:00:00\",\"2019-12-30T00:00:00\",\"2019-12-31T00:00:00\",\"2020-01-01T00:00:00\",\"2020-01-02T00:00:00\",\"2020-01-03T00:00:00\",\"2020-01-04T00:00:00\",\"2020-01-07T00:00:00\",\"2020-01-08T00:00:00\",\"2020-01-09T00:00:00\",\"2020-01-10T00:00:00\",\"2020-01-11T00:00:00\",\"2020-01-12T00:00:00\",\"2020-01-13T00:00:00\",\"2020-01-14T00:00:00\",\"2020-01-15T00:00:00\",\"2020-01-16T00:00:00\",\"2020-01-17T00:00:00\",\"2020-01-18T00:00:00\",\"2020-01-20T00:00:00\",\"2020-01-21T00:00:00\",\"2020-01-22T00:00:00\",\"2020-01-23T00:00:00\",\"2020-01-24T00:00:00\",\"2020-01-25T00:00:00\",\"2020-01-26T00:00:00\",\"2020-01-27T00:00:00\",\"2020-01-29T00:00:00\",\"2020-01-30T00:00:00\",\"2020-01-31T00:00:00\",\"2020-02-01T00:00:00\",\"2020-02-03T00:00:00\",\"2020-02-04T00:00:00\",\"2020-02-05T00:00:00\",\"2020-02-06T00:00:00\",\"2020-02-07T00:00:00\",\"2020-02-08T00:00:00\",\"2020-02-09T00:00:00\",\"2020-02-10T00:00:00\",\"2020-02-11T00:00:00\",\"2020-02-12T00:00:00\",\"2020-02-13T00:00:00\",\"2020-02-14T00:00:00\",\"2020-02-15T00:00:00\",\"2020-02-16T00:00:00\",\"2020-02-17T00:00:00\",\"2020-02-20T00:00:00\",\"2020-02-21T00:00:00\",\"2020-02-22T00:00:00\",\"2020-02-23T00:00:00\",\"2020-02-25T00:00:00\",\"2020-02-26T00:00:00\",\"2020-02-27T00:00:00\",\"2020-02-28T00:00:00\",\"2020-03-01T00:00:00\",\"2020-03-02T00:00:00\",\"2020-03-03T00:00:00\",\"2020-03-04T00:00:00\",\"2020-03-05T00:00:00\",\"2020-03-06T00:00:00\",\"2020-03-08T00:00:00\",\"2020-03-10T00:00:00\",\"2020-03-11T00:00:00\",\"2020-03-13T00:00:00\",\"2020-03-14T00:00:00\",\"2020-03-15T00:00:00\",\"2020-03-16T00:00:00\",\"2020-03-17T00:00:00\",\"2020-03-18T00:00:00\",\"2020-03-19T00:00:00\",\"2020-03-20T00:00:00\",\"2020-03-21T00:00:00\",\"2020-03-22T00:00:00\",\"2020-03-23T00:00:00\",\"2020-03-24T00:00:00\",\"2020-03-25T00:00:00\",\"2020-03-26T00:00:00\",\"2020-03-27T00:00:00\",\"2020-03-28T00:00:00\",\"2020-03-29T00:00:00\",\"2020-03-31T00:00:00\",\"2020-04-01T00:00:00\",\"2020-04-02T00:00:00\",\"2020-04-03T00:00:00\",\"2020-04-04T00:00:00\",\"2020-04-05T00:00:00\",\"2020-04-06T00:00:00\",\"2020-04-07T00:00:00\",\"2020-04-08T00:00:00\",\"2020-04-09T00:00:00\",\"2020-04-10T00:00:00\",\"2020-04-11T00:00:00\",\"2020-04-13T00:00:00\",\"2020-04-14T00:00:00\",\"2020-04-15T00:00:00\",\"2020-04-16T00:00:00\",\"2020-04-17T00:00:00\",\"2020-04-18T00:00:00\",\"2020-04-20T00:00:00\",\"2020-04-21T00:00:00\",\"2020-04-22T00:00:00\",\"2020-04-23T00:00:00\",\"2020-04-24T00:00:00\",\"2020-04-25T00:00:00\",\"2020-04-26T00:00:00\",\"2020-04-27T00:00:00\",\"2020-04-28T00:00:00\",\"2020-04-29T00:00:00\",\"2020-04-30T00:00:00\",\"2020-05-01T00:00:00\",\"2020-05-02T00:00:00\",\"2020-05-03T00:00:00\",\"2020-05-04T00:00:00\",\"2020-05-05T00:00:00\",\"2020-05-06T00:00:00\",\"2020-05-07T00:00:00\",\"2020-05-08T00:00:00\",\"2020-05-09T00:00:00\",\"2020-05-11T00:00:00\",\"2020-05-12T00:00:00\",\"2020-05-13T00:00:00\",\"2020-05-14T00:00:00\",\"2020-05-15T00:00:00\",\"2020-05-16T00:00:00\",\"2020-05-17T00:00:00\",\"2020-05-18T00:00:00\",\"2020-05-19T00:00:00\",\"2020-05-20T00:00:00\",\"2020-05-21T00:00:00\",\"2020-05-22T00:00:00\",\"2020-05-23T00:00:00\",\"2020-05-24T00:00:00\",\"2020-05-25T00:00:00\",\"2020-05-26T00:00:00\",\"2020-05-27T00:00:00\",\"2020-05-28T00:00:00\",\"2020-05-29T00:00:00\",\"2020-05-31T00:00:00\",\"2020-06-01T00:00:00\",\"2020-06-02T00:00:00\",\"2020-06-03T00:00:00\",\"2020-06-04T00:00:00\",\"2020-06-05T00:00:00\",\"2020-06-06T00:00:00\",\"2020-06-07T00:00:00\",\"2020-06-08T00:00:00\",\"2020-06-10T00:00:00\",\"2020-06-11T00:00:00\",\"2020-06-12T00:00:00\",\"2020-06-13T00:00:00\",\"2020-06-15T00:00:00\",\"2020-06-16T00:00:00\",\"2020-06-17T00:00:00\",\"2020-06-18T00:00:00\",\"2020-06-19T00:00:00\",\"2020-06-20T00:00:00\",\"2020-06-21T00:00:00\",\"2020-06-22T00:00:00\",\"2020-06-23T00:00:00\",\"2020-06-24T00:00:00\",\"2020-06-25T00:00:00\",\"2020-06-26T00:00:00\",\"2020-06-27T00:00:00\",\"2020-06-28T00:00:00\",\"2020-06-29T00:00:00\",\"2020-06-30T00:00:00\",\"2020-07-01T00:00:00\",\"2020-07-02T00:00:00\",\"2020-07-03T00:00:00\",\"2020-07-04T00:00:00\",\"2020-07-05T00:00:00\",\"2020-07-06T00:00:00\",\"2020-07-07T00:00:00\",\"2020-07-08T00:00:00\",\"2020-07-09T00:00:00\",\"2020-07-10T00:00:00\",\"2020-07-11T00:00:00\",\"2020-07-14T00:00:00\",\"2020-07-15T00:00:00\",\"2020-07-16T00:00:00\",\"2020-07-17T00:00:00\",\"2020-07-18T00:00:00\",\"2020-07-19T00:00:00\",\"2020-07-21T00:00:00\",\"2020-07-22T00:00:00\",\"2020-07-23T00:00:00\",\"2020-07-24T00:00:00\",\"2020-07-25T00:00:00\",\"2020-07-26T00:00:00\",\"2020-07-28T00:00:00\",\"2020-07-29T00:00:00\",\"2020-07-30T00:00:00\",\"2020-07-31T00:00:00\",\"2020-08-01T00:00:00\",\"2020-08-02T00:00:00\",\"2020-08-03T00:00:00\",\"2020-08-04T00:00:00\",\"2020-08-05T00:00:00\",\"2020-08-06T00:00:00\",\"2020-08-07T00:00:00\",\"2020-08-08T00:00:00\",\"2020-08-10T00:00:00\",\"2020-08-11T00:00:00\",\"2020-08-12T00:00:00\",\"2020-08-13T00:00:00\",\"2020-08-14T00:00:00\",\"2020-08-15T00:00:00\",\"2020-08-16T00:00:00\",\"2020-08-17T00:00:00\",\"2020-08-18T00:00:00\",\"2020-08-19T00:00:00\",\"2020-08-20T00:00:00\",\"2020-08-21T00:00:00\",\"2020-08-22T00:00:00\",\"2020-08-23T00:00:00\",\"2020-08-24T00:00:00\",\"2020-08-25T00:00:00\",\"2020-08-26T00:00:00\",\"2020-08-27T00:00:00\",\"2020-08-28T00:00:00\",\"2020-08-29T00:00:00\",\"2020-08-30T00:00:00\",\"2020-08-31T00:00:00\",\"2020-09-01T00:00:00\",\"2020-09-02T00:00:00\",\"2020-09-03T00:00:00\",\"2020-09-04T00:00:00\",\"2020-09-05T00:00:00\",\"2020-09-07T00:00:00\",\"2020-09-08T00:00:00\",\"2020-09-09T00:00:00\",\"2020-09-10T00:00:00\",\"2020-09-11T00:00:00\",\"2020-09-14T00:00:00\",\"2020-09-15T00:00:00\",\"2020-09-16T00:00:00\",\"2020-09-17T00:00:00\",\"2020-09-18T00:00:00\",\"2020-09-19T00:00:00\",\"2020-09-20T00:00:00\",\"2020-09-21T00:00:00\",\"2020-09-22T00:00:00\",\"2020-09-23T00:00:00\",\"2020-09-24T00:00:00\",\"2020-09-25T00:00:00\",\"2020-09-26T00:00:00\",\"2020-09-27T00:00:00\",\"2020-09-28T00:00:00\",\"2020-09-29T00:00:00\",\"2020-09-30T00:00:00\",\"2020-10-01T00:00:00\",\"2020-10-02T00:00:00\",\"2020-10-03T00:00:00\",\"2020-10-04T00:00:00\",\"2020-10-05T00:00:00\",\"2020-10-06T00:00:00\",\"2020-10-07T00:00:00\",\"2020-10-08T00:00:00\",\"2020-10-09T00:00:00\",\"2020-10-11T00:00:00\",\"2020-10-12T00:00:00\",\"2020-10-13T00:00:00\",\"2020-10-14T00:00:00\",\"2020-10-15T00:00:00\",\"2020-10-16T00:00:00\",\"2020-10-17T00:00:00\",\"2020-10-18T00:00:00\",\"2020-10-19T00:00:00\",\"2020-10-20T00:00:00\",\"2020-10-21T00:00:00\",\"2020-10-22T00:00:00\",\"2020-10-23T00:00:00\",\"2020-10-24T00:00:00\",\"2020-10-25T00:00:00\",\"2020-10-26T00:00:00\",\"2020-10-27T00:00:00\",\"2020-10-28T00:00:00\",\"2020-10-29T00:00:00\",\"2020-10-30T00:00:00\",\"2020-10-31T00:00:00\",\"2020-11-01T00:00:00\",\"2020-11-02T00:00:00\",\"2020-11-03T00:00:00\",\"2020-11-04T00:00:00\",\"2020-11-05T00:00:00\",\"2020-11-06T00:00:00\",\"2020-11-10T00:00:00\",\"2020-11-11T00:00:00\",\"2020-11-12T00:00:00\",\"2020-11-13T00:00:00\",\"2020-11-14T00:00:00\",\"2020-11-15T00:00:00\",\"2020-11-16T00:00:00\",\"2020-11-17T00:00:00\",\"2020-11-18T00:00:00\",\"2020-11-19T00:00:00\",\"2020-11-20T00:00:00\",\"2020-11-22T00:00:00\",\"2020-11-23T00:00:00\",\"2020-11-24T00:00:00\",\"2020-11-25T00:00:00\",\"2020-11-26T00:00:00\",\"2020-11-27T00:00:00\",\"2020-11-29T00:00:00\",\"2020-11-30T00:00:00\",\"2020-12-01T00:00:00\",\"2020-12-02T00:00:00\",\"2020-12-03T00:00:00\",\"2020-12-04T00:00:00\",\"2020-12-05T00:00:00\",\"2020-12-07T00:00:00\",\"2020-12-08T00:00:00\",\"2020-12-09T00:00:00\",\"2020-12-10T00:00:00\",\"2020-12-11T00:00:00\",\"2020-12-12T00:00:00\",\"2020-12-13T00:00:00\",\"2020-12-14T00:00:00\",\"2020-12-15T00:00:00\",\"2020-12-16T00:00:00\",\"2020-12-17T00:00:00\",\"2020-12-18T00:00:00\",\"2020-12-19T00:00:00\",\"2020-12-20T00:00:00\",\"2020-12-21T00:00:00\",\"2020-12-22T00:00:00\",\"2020-12-23T00:00:00\",\"2020-12-24T00:00:00\",\"2020-12-25T00:00:00\",\"2020-12-26T00:00:00\",\"2020-12-27T00:00:00\",\"2020-12-28T00:00:00\",\"2020-12-30T00:00:00\",\"2020-12-31T00:00:00\",\"2021-01-01T00:00:00\",\"2021-01-02T00:00:00\",\"2021-01-03T00:00:00\",\"2021-01-04T00:00:00\",\"2021-01-05T00:00:00\",\"2021-01-06T00:00:00\",\"2021-01-07T00:00:00\",\"2021-01-08T00:00:00\",\"2021-01-10T00:00:00\",\"2021-01-11T00:00:00\",\"2021-01-12T00:00:00\",\"2021-01-13T00:00:00\",\"2021-01-14T00:00:00\",\"2021-01-15T00:00:00\",\"2021-01-16T00:00:00\",\"2021-01-18T00:00:00\",\"2021-01-19T00:00:00\",\"2021-01-20T00:00:00\",\"2021-01-21T00:00:00\",\"2021-01-22T00:00:00\",\"2021-01-26T00:00:00\",\"2021-01-27T00:00:00\",\"2021-01-28T00:00:00\",\"2021-01-29T00:00:00\",\"2021-01-31T00:00:00\",\"2021-02-01T00:00:00\",\"2021-02-02T00:00:00\",\"2021-02-03T00:00:00\",\"2021-02-05T00:00:00\",\"2021-02-06T00:00:00\",\"2021-02-07T00:00:00\",\"2021-02-08T00:00:00\",\"2021-02-09T00:00:00\",\"2021-02-10T00:00:00\",\"2021-02-11T00:00:00\",\"2021-02-12T00:00:00\",\"2021-02-13T00:00:00\",\"2021-02-14T00:00:00\",\"2021-02-15T00:00:00\",\"2021-02-16T00:00:00\",\"2021-02-17T00:00:00\",\"2021-02-18T00:00:00\",\"2021-02-19T00:00:00\",\"2021-02-20T00:00:00\",\"2021-02-21T00:00:00\",\"2021-02-22T00:00:00\",\"2021-02-23T00:00:00\",\"2021-02-24T00:00:00\",\"2021-02-25T00:00:00\",\"2021-02-26T00:00:00\",\"2021-02-28T00:00:00\",\"2021-03-01T00:00:00\",\"2021-03-02T00:00:00\",\"2021-03-03T00:00:00\",\"2021-03-04T00:00:00\",\"2021-03-05T00:00:00\",\"2021-03-06T00:00:00\",\"2021-03-08T00:00:00\",\"2021-03-09T00:00:00\",\"2021-03-10T00:00:00\",\"2021-03-11T00:00:00\",\"2021-03-12T00:00:00\",\"2021-03-14T00:00:00\",\"2021-03-15T00:00:00\",\"2021-03-16T00:00:00\",\"2021-03-17T00:00:00\",\"2021-03-18T00:00:00\",\"2021-03-19T00:00:00\",\"2021-03-20T00:00:00\",\"2021-03-22T00:00:00\",\"2021-03-23T00:00:00\",\"2021-03-24T00:00:00\",\"2021-03-25T00:00:00\",\"2021-03-26T00:00:00\",\"2021-03-28T00:00:00\",\"2021-03-29T00:00:00\",\"2021-03-30T00:00:00\",\"2021-03-31T00:00:00\",\"2021-04-01T00:00:00\",\"2021-04-02T00:00:00\",\"2021-04-03T00:00:00\",\"2021-04-04T00:00:00\",\"2021-04-05T00:00:00\",\"2021-04-06T00:00:00\",\"2021-04-07T00:00:00\",\"2021-04-08T00:00:00\",\"2021-04-09T00:00:00\",\"2021-04-10T00:00:00\",\"2021-04-11T00:00:00\",\"2021-04-12T00:00:00\",\"2021-04-13T00:00:00\",\"2021-04-14T00:00:00\",\"2021-04-15T00:00:00\",\"2021-04-16T00:00:00\",\"2021-04-17T00:00:00\",\"2021-04-19T00:00:00\",\"2021-04-20T00:00:00\",\"2021-04-21T00:00:00\",\"2021-04-22T00:00:00\",\"2021-04-23T00:00:00\",\"2021-04-24T00:00:00\",\"2021-04-27T00:00:00\",\"2021-04-28T00:00:00\",\"2021-04-29T00:00:00\",\"2021-04-30T00:00:00\",\"2021-05-01T00:00:00\",\"2021-05-04T00:00:00\",\"2021-05-05T00:00:00\",\"2021-05-06T00:00:00\",\"2021-05-07T00:00:00\",\"2021-05-08T00:00:00\",\"2021-05-09T00:00:00\",\"2021-05-10T00:00:00\",\"2021-05-11T00:00:00\",\"2021-05-12T00:00:00\",\"2021-05-13T00:00:00\",\"2021-05-14T00:00:00\",\"2021-05-15T00:00:00\",\"2021-05-16T00:00:00\",\"2021-05-18T00:00:00\",\"2021-05-19T00:00:00\",\"2021-05-20T00:00:00\",\"2021-05-21T00:00:00\",\"2021-05-22T00:00:00\",\"2021-05-23T00:00:00\",\"2021-05-24T00:00:00\",\"2021-05-25T00:00:00\",\"2021-05-26T00:00:00\",\"2021-05-27T00:00:00\",\"2021-05-28T00:00:00\",\"2021-05-29T00:00:00\",\"2021-05-30T00:00:00\",\"2021-05-31T00:00:00\",\"2021-06-02T00:00:00\",\"2021-06-03T00:00:00\",\"2021-06-04T00:00:00\",\"2021-06-05T00:00:00\",\"2021-06-06T00:00:00\",\"2021-06-07T00:00:00\",\"2021-06-08T00:00:00\",\"2021-06-09T00:00:00\",\"2021-06-10T00:00:00\",\"2021-06-11T00:00:00\",\"2021-06-12T00:00:00\",\"2021-06-13T00:00:00\",\"2021-06-14T00:00:00\",\"2021-06-15T00:00:00\",\"2021-06-16T00:00:00\",\"2021-06-17T00:00:00\",\"2021-06-18T00:00:00\",\"2021-06-19T00:00:00\",\"2021-06-20T00:00:00\",\"2021-06-21T00:00:00\",\"2021-06-22T00:00:00\",\"2021-06-23T00:00:00\",\"2021-06-24T00:00:00\",\"2021-06-25T00:00:00\",\"2021-06-26T00:00:00\",\"2021-06-28T00:00:00\",\"2021-06-29T00:00:00\",\"2021-06-30T00:00:00\",\"2021-07-01T00:00:00\",\"2021-07-02T00:00:00\",\"2021-07-03T00:00:00\",\"2021-07-04T00:00:00\",\"2021-07-06T00:00:00\",\"2021-07-07T00:00:00\",\"2021-07-08T00:00:00\",\"2021-07-09T00:00:00\",\"2021-07-10T00:00:00\",\"2021-07-12T00:00:00\",\"2021-07-13T00:00:00\",\"2021-07-14T00:00:00\",\"2021-07-15T00:00:00\",\"2021-07-16T00:00:00\",\"2021-07-17T00:00:00\",\"2021-07-19T00:00:00\",\"2021-07-20T00:00:00\",\"2021-07-21T00:00:00\",\"2021-07-22T00:00:00\",\"2021-07-23T00:00:00\",\"2021-07-24T00:00:00\",\"2021-07-26T00:00:00\",\"2021-07-27T00:00:00\",\"2021-07-28T00:00:00\",\"2021-07-29T00:00:00\",\"2021-07-30T00:00:00\",\"2021-07-31T00:00:00\",\"2021-08-01T00:00:00\",\"2021-08-03T00:00:00\",\"2021-08-04T00:00:00\",\"2021-08-05T00:00:00\",\"2021-08-06T00:00:00\",\"2021-08-07T00:00:00\",\"2021-08-08T00:00:00\",\"2021-08-09T00:00:00\",\"2021-08-10T00:00:00\",\"2021-08-11T00:00:00\",\"2021-08-12T00:00:00\",\"2021-08-13T00:00:00\",\"2021-08-15T00:00:00\",\"2021-08-16T00:00:00\",\"2021-08-18T00:00:00\",\"2021-08-19T00:00:00\",\"2021-08-20T00:00:00\",\"2021-08-21T00:00:00\",\"2021-08-23T00:00:00\",\"2021-08-24T00:00:00\",\"2021-08-25T00:00:00\",\"2021-08-26T00:00:00\",\"2021-08-27T00:00:00\",\"2021-08-28T00:00:00\",\"2021-08-29T00:00:00\",\"2021-08-31T00:00:00\",\"2021-09-01T00:00:00\",\"2021-09-02T00:00:00\",\"2021-09-03T00:00:00\",\"2021-09-04T00:00:00\",\"2021-09-05T00:00:00\",\"2021-09-06T00:00:00\",\"2021-09-07T00:00:00\",\"2021-09-08T00:00:00\",\"2021-09-09T00:00:00\",\"2021-09-10T00:00:00\",\"2021-09-11T00:00:00\",\"2021-09-14T00:00:00\",\"2021-09-15T00:00:00\",\"2021-09-16T00:00:00\",\"2021-09-17T00:00:00\",\"2021-09-19T00:00:00\",\"2021-09-20T00:00:00\",\"2021-09-21T00:00:00\",\"2021-09-22T00:00:00\",\"2021-09-23T00:00:00\",\"2021-09-24T00:00:00\",\"2021-09-25T00:00:00\"],\"y\":[1,1,1,1,1,1,1,11,1,1,1,1,1,2,1,2,2,1,1,1,1,1,1,1,1,1,1,1,1,1,1,1,1,1,1,1,1,1,1,1,2,1,1,1,1,1,1,2,2,1,1,1,3,1,1,2,1,1,1,1,1,1,1,1,1,1,1,2,1,1,1,1,1,2,1,1,1,1,1,1,1,2,1,3,1,1,1,1,1,1,2,1,3,1,1,1,1,3,1,1,3,2,1,1,2,33,1,1,2,1,1,4,2,1,3,1,1,1,2,1,1,2,4,1,1,1,1,2,4,1,1,1,7,1,1,1,3,2,1,2,1,1,2,3,1,1,1,1,1,1,2,1,1,8,1,1,1,1,1,3,2,12,1,1,1,1,1,2,4,1,1,1,2,14,1,1,4,1,6,1,2,4,20,2,1,1,1,1,3,5,1,7,1,1,3,1,23,1,4,1,1,1,9,1,2,1,6,1,16,2,3,2,2,2,4,1,4,1,1,2,3,1,20,4,3,1,2,4,4,5,2,1,1,1,1,18,6,2,4,1,4,1,4,2,2,1,2,19,1,1,3,4,2,2,2,3,4,10,2,4,1,1,3,1,1,1,1,3,1,2,19,1,2,1,2,1,3,4,1,1,4,8,2,5,3,1,1,11,2,3,2,1,1,3,22,2,1,1,1,1,4,22,4,8,6,5,2,2,4,1,4,1,3,31,27,2,2,1,5,2,2,1,2,5,12,1,2,2,1,5,6,1,4,1,1,8,25,2,1,5,1,1,1,2,4,1,1,12,2,2,6,7,2,1,5,2,2,1,33,5,3,2,1,2,9,2,6,5,1,1,4,2,2,4,2,1,2,1,1,5,42,1,2,8,1,1,3,3,3,1,3,1,2,1,2,1,3,1,40,1,8,4,2,8,1,1,4,1,2,2,4,8,1,1,4,2,1,6,2,1,4,2,1,1,2,1,38,3,2,4,1,1,21,1,2,2,9,1,5,1,2,2,3,3,1,1,8,2,47,1,2,1,4,1,1,2,6,1,23,7,1,1,1,6,1,7,1,3,2,1,2,1,1,2,33,2,1,1,1,5,7,1,1,1,1,5,1,8,1,4,3,1,5,2,1,26,3,1,1,1,4,3,4,1,25,2,2,5,3,1,2,2,3,3,3,5,1,17,55,3,3,2,2,2,3,1,6,12,3,3,2,3,1,4,3,4,1,6,1,4,4,1,19,4,1,4,3,1,5,1,3,13,5,1,5,4,3,1,5,1,1,3,2,2,75,4,1,1,6,2,2,4,2,2,2,3,1,23,5,1,3,1,8,2,1,2,1,1,10,10,44,2,3,3,2,10,1,2,1,1,5,1,6,2,3,1,3,5,2,3,2,9,4,42,1,1,10,3,1,3,6,1,1,6,2,1,3,2,2,1,5,2,1,1,1,1,13,2,2,1,3,4,2,1,10,4,2,1,6,6,1,2,3,1,1,8,5,40,2,4,1,1,6,1,2,1,6,3,14,1,3,7,12,2,2,1,3,8,11,6,6,1,5,3,37,25,4,4,1,2,2,7,1,6,22,5,3,3,1,5,2,10,4,1,2,4,2,1,10,22,3,1,2,7,2,9,2,1,3,2,2,11,15,3,1,1,2,3,6,2,1,1,1,1,11,2,7,71,17,3,4,9,2,2,3,4,4,11,1,4,2,2,1,18,2,1,1,4,1,4,8,2,1,1,5,3,60,6,2,2,3,6,9,3,1,3,15,7,3,1,7,2,2,3,2,3,1,13,29,3,3,3,1,1,10,5,1,4,2,2,11,17,9,3,2,1,7,13,5,4,2,2,1,1,10,2,4,27,37,2,2,5,7,2,1,5,3,9,3,3,2,15,2,13,1,1,3,7,2,2,6,6,6,8,41,6,1,6,2,2,7,3,1,2,1,4,24,3,2,2,2,2,11,1,3,3,1,15,3,30,10,2,6,5,2,6,12,2,1,2,3,3,6,22,1,2,1,3,6,9,9,3,1,2,1,2,1,14,2,3,28,4,4,1,15,1,2,2,2,4,2,9,2,2,10,6,5,6,14,3,1,1,1,2,7,12,1,1,4,10,16,7,10,1,4,6,9,7,11,4,2,1,4,7,4,11,2,1,2,2,2,1,7,2,2,2,2,3,7,18,4,2,4,6,16,12,3,1,1,2,9,10,11,2,8,5,9,14,2,1,1,2,5,3,11,2,4,52,3,2,4,2,2,1,1,2,2,21,1,5,6,3,3,5,2,8,4,2,1,1,14,3,4,3,26,7,1,5,6,3,13,8,1,5,2,5,14,3,6,7,2,1,1,1,1,4,8,1,31,3,1,5,1,4,1,3,12,2,9,1,6,2,2,10,4,1,2,2,8,3,5,3,2,62,12,2,10,3,1,1,2,3,3,8,2,1,3,7,2,22,3,1,6,4,3,16,2,1,2,3,4,4,91,14,9,7,3,1,5,1,4,2,1,3,24,4,1,2,30,2,11,5,3,2,5,5,6,11,3,27,1,5,3,3,16,2,1,2,2,1,1,8,29,3,1,2,3,7,2,2,4,6,3,5,1,1,74,110,3,3,1,2,1,2,11,1,2,2,3,8,9,5,1,3,2,3,6,6,1,2,2,4,4,8,15,3,4,4,3,9,2,3,1,3,3,5,10,3,6,2,3,9,2,2,2,8,6,6,17,1,8,4,5,8,1,2,6,9,1,7,1,3,5,4,12,1,1,2,1,4,6,12,1,2,13,43,2,4,2,2,2,2,2,2,8,2,4,2,12,8,8,3,4,3,7,6,6,11,2,3,12,8,7,24,11,1,2,1,3,5,6,1,5,3,2,8,15,2,3,2,13,8,12,5,3,1,5,1,1,9,4,1,24,11,3,3,9,3,3,1,7,2,15,5,4,2,2,15,12,1,2,3,2,4,3,10,2,3,1,4,21,3,9,1,29,2,2,4,3,8,1,3,7,3,5,3,1,3,4,3,8,3,2,1,6,4,7,21,2,1,4,3,3,10,3,4,2,3,6,10,4,3,3,2,3,5,8,2,1,1,2,5,6,5,1,2,4,26,5,4,6,3,5,4,6,15,9,1,10,9,7,5,6,8,1,2,2,2,6,2,1,11,3,9,33,11,4,1,1,5,2,5,6,1,6,3,3,11,8,1,3,16,3,3,7,7,2,1,1,4,5,1,10,3,33,2,4,4,7,9,2,6,8,8,1,9,2,4,1,11,8,2,4,7,4,4,9,1,4,28,6,5,9,2,5,8,7,6,6,2,1,3,7,11,9,10,1,2,2,8,3,3,4,3,2,3,7,6,49,2,1,3,3,3,3,11,1,2,3,2,2,13,3,1,1,4,2,6,4,6,1,4,2,13,2,5,10,1,1,2,1,3,8,7,1,1,3,4,4,5,5,4,3,1,4,6,4,10,1,11,3,2,4,7,1,2,1,3,3,12,1,6,4,3,8,6,4,1,3,1,4,11,2,1,3,5,32,11,1,2,2,1,4,2,6,1,1,2,9,15,18,15,8,4,7,3,5,20,2,5,3,2,7,33,4,3,2,9,2,2,1,3,4,4,14,3,1,2,5,7,8,1,1,1,2,5,7,5,1,1,1,51,8,9,3,1,1,1,5,6,7,4,3,1,12,9,11,10,24,1,4,5,5,5,4,2,4,1,10,60,9,1,1,39,13,6,12,3,1,4,6,11,14,1,1,3,4,25,11,1,2,8,5,3,10,3,38,10,7,5,5,2,2,1,5,6,3,7,5,2,11,2,8,1,5,3,12,2,27,4,2,3,56,14,5,1,2,3,6,4,4,8,3,6,22,12,7,2,1,5,9,2,10,1],\"type\":\"scatter\"}],                        {\"title\":{\"text\":\"Sorties Netflix (2008-2021)\",\"x\":0.5},\"xaxis\":{\"rangeslider\":{\"visible\":true},\"title\":{\"text\":\"Date \\u00e0 laquelle les sorties ont \\u00e9t\\u00e9 effectu\\u00e9es\"}},\"yaxis\":{\"title\":{\"text\":\"Volumz de sortie\"}},\"template\":{\"data\":{\"bar\":[{\"error_x\":{\"color\":\"#2a3f5f\"},\"error_y\":{\"color\":\"#2a3f5f\"},\"marker\":{\"line\":{\"color\":\"#E5ECF6\",\"width\":0.5},\"pattern\":{\"fillmode\":\"overlay\",\"size\":10,\"solidity\":0.2}},\"type\":\"bar\"}],\"barpolar\":[{\"marker\":{\"line\":{\"color\":\"#E5ECF6\",\"width\":0.5},\"pattern\":{\"fillmode\":\"overlay\",\"size\":10,\"solidity\":0.2}},\"type\":\"barpolar\"}],\"carpet\":[{\"aaxis\":{\"endlinecolor\":\"#2a3f5f\",\"gridcolor\":\"white\",\"linecolor\":\"white\",\"minorgridcolor\":\"white\",\"startlinecolor\":\"#2a3f5f\"},\"baxis\":{\"endlinecolor\":\"#2a3f5f\",\"gridcolor\":\"white\",\"linecolor\":\"white\",\"minorgridcolor\":\"white\",\"startlinecolor\":\"#2a3f5f\"},\"type\":\"carpet\"}],\"choropleth\":[{\"colorbar\":{\"outlinewidth\":0,\"ticks\":\"\"},\"type\":\"choropleth\"}],\"contour\":[{\"colorbar\":{\"outlinewidth\":0,\"ticks\":\"\"},\"colorscale\":[[0.0,\"#0d0887\"],[0.1111111111111111,\"#46039f\"],[0.2222222222222222,\"#7201a8\"],[0.3333333333333333,\"#9c179e\"],[0.4444444444444444,\"#bd3786\"],[0.5555555555555556,\"#d8576b\"],[0.6666666666666666,\"#ed7953\"],[0.7777777777777778,\"#fb9f3a\"],[0.8888888888888888,\"#fdca26\"],[1.0,\"#f0f921\"]],\"type\":\"contour\"}],\"contourcarpet\":[{\"colorbar\":{\"outlinewidth\":0,\"ticks\":\"\"},\"type\":\"contourcarpet\"}],\"heatmap\":[{\"colorbar\":{\"outlinewidth\":0,\"ticks\":\"\"},\"colorscale\":[[0.0,\"#0d0887\"],[0.1111111111111111,\"#46039f\"],[0.2222222222222222,\"#7201a8\"],[0.3333333333333333,\"#9c179e\"],[0.4444444444444444,\"#bd3786\"],[0.5555555555555556,\"#d8576b\"],[0.6666666666666666,\"#ed7953\"],[0.7777777777777778,\"#fb9f3a\"],[0.8888888888888888,\"#fdca26\"],[1.0,\"#f0f921\"]],\"type\":\"heatmap\"}],\"heatmapgl\":[{\"colorbar\":{\"outlinewidth\":0,\"ticks\":\"\"},\"colorscale\":[[0.0,\"#0d0887\"],[0.1111111111111111,\"#46039f\"],[0.2222222222222222,\"#7201a8\"],[0.3333333333333333,\"#9c179e\"],[0.4444444444444444,\"#bd3786\"],[0.5555555555555556,\"#d8576b\"],[0.6666666666666666,\"#ed7953\"],[0.7777777777777778,\"#fb9f3a\"],[0.8888888888888888,\"#fdca26\"],[1.0,\"#f0f921\"]],\"type\":\"heatmapgl\"}],\"histogram\":[{\"marker\":{\"pattern\":{\"fillmode\":\"overlay\",\"size\":10,\"solidity\":0.2}},\"type\":\"histogram\"}],\"histogram2d\":[{\"colorbar\":{\"outlinewidth\":0,\"ticks\":\"\"},\"colorscale\":[[0.0,\"#0d0887\"],[0.1111111111111111,\"#46039f\"],[0.2222222222222222,\"#7201a8\"],[0.3333333333333333,\"#9c179e\"],[0.4444444444444444,\"#bd3786\"],[0.5555555555555556,\"#d8576b\"],[0.6666666666666666,\"#ed7953\"],[0.7777777777777778,\"#fb9f3a\"],[0.8888888888888888,\"#fdca26\"],[1.0,\"#f0f921\"]],\"type\":\"histogram2d\"}],\"histogram2dcontour\":[{\"colorbar\":{\"outlinewidth\":0,\"ticks\":\"\"},\"colorscale\":[[0.0,\"#0d0887\"],[0.1111111111111111,\"#46039f\"],[0.2222222222222222,\"#7201a8\"],[0.3333333333333333,\"#9c179e\"],[0.4444444444444444,\"#bd3786\"],[0.5555555555555556,\"#d8576b\"],[0.6666666666666666,\"#ed7953\"],[0.7777777777777778,\"#fb9f3a\"],[0.8888888888888888,\"#fdca26\"],[1.0,\"#f0f921\"]],\"type\":\"histogram2dcontour\"}],\"mesh3d\":[{\"colorbar\":{\"outlinewidth\":0,\"ticks\":\"\"},\"type\":\"mesh3d\"}],\"parcoords\":[{\"line\":{\"colorbar\":{\"outlinewidth\":0,\"ticks\":\"\"}},\"type\":\"parcoords\"}],\"pie\":[{\"automargin\":true,\"type\":\"pie\"}],\"scatter\":[{\"marker\":{\"colorbar\":{\"outlinewidth\":0,\"ticks\":\"\"}},\"type\":\"scatter\"}],\"scatter3d\":[{\"line\":{\"colorbar\":{\"outlinewidth\":0,\"ticks\":\"\"}},\"marker\":{\"colorbar\":{\"outlinewidth\":0,\"ticks\":\"\"}},\"type\":\"scatter3d\"}],\"scattercarpet\":[{\"marker\":{\"colorbar\":{\"outlinewidth\":0,\"ticks\":\"\"}},\"type\":\"scattercarpet\"}],\"scattergeo\":[{\"marker\":{\"colorbar\":{\"outlinewidth\":0,\"ticks\":\"\"}},\"type\":\"scattergeo\"}],\"scattergl\":[{\"marker\":{\"colorbar\":{\"outlinewidth\":0,\"ticks\":\"\"}},\"type\":\"scattergl\"}],\"scattermapbox\":[{\"marker\":{\"colorbar\":{\"outlinewidth\":0,\"ticks\":\"\"}},\"type\":\"scattermapbox\"}],\"scatterpolar\":[{\"marker\":{\"colorbar\":{\"outlinewidth\":0,\"ticks\":\"\"}},\"type\":\"scatterpolar\"}],\"scatterpolargl\":[{\"marker\":{\"colorbar\":{\"outlinewidth\":0,\"ticks\":\"\"}},\"type\":\"scatterpolargl\"}],\"scatterternary\":[{\"marker\":{\"colorbar\":{\"outlinewidth\":0,\"ticks\":\"\"}},\"type\":\"scatterternary\"}],\"surface\":[{\"colorbar\":{\"outlinewidth\":0,\"ticks\":\"\"},\"colorscale\":[[0.0,\"#0d0887\"],[0.1111111111111111,\"#46039f\"],[0.2222222222222222,\"#7201a8\"],[0.3333333333333333,\"#9c179e\"],[0.4444444444444444,\"#bd3786\"],[0.5555555555555556,\"#d8576b\"],[0.6666666666666666,\"#ed7953\"],[0.7777777777777778,\"#fb9f3a\"],[0.8888888888888888,\"#fdca26\"],[1.0,\"#f0f921\"]],\"type\":\"surface\"}],\"table\":[{\"cells\":{\"fill\":{\"color\":\"#EBF0F8\"},\"line\":{\"color\":\"white\"}},\"header\":{\"fill\":{\"color\":\"#C8D4E3\"},\"line\":{\"color\":\"white\"}},\"type\":\"table\"}]},\"layout\":{\"annotationdefaults\":{\"arrowcolor\":\"#2a3f5f\",\"arrowhead\":0,\"arrowwidth\":1},\"autotypenumbers\":\"strict\",\"coloraxis\":{\"colorbar\":{\"outlinewidth\":0,\"ticks\":\"\"}},\"colorscale\":{\"diverging\":[[0,\"#8e0152\"],[0.1,\"#c51b7d\"],[0.2,\"#de77ae\"],[0.3,\"#f1b6da\"],[0.4,\"#fde0ef\"],[0.5,\"#f7f7f7\"],[0.6,\"#e6f5d0\"],[0.7,\"#b8e186\"],[0.8,\"#7fbc41\"],[0.9,\"#4d9221\"],[1,\"#276419\"]],\"sequential\":[[0.0,\"#0d0887\"],[0.1111111111111111,\"#46039f\"],[0.2222222222222222,\"#7201a8\"],[0.3333333333333333,\"#9c179e\"],[0.4444444444444444,\"#bd3786\"],[0.5555555555555556,\"#d8576b\"],[0.6666666666666666,\"#ed7953\"],[0.7777777777777778,\"#fb9f3a\"],[0.8888888888888888,\"#fdca26\"],[1.0,\"#f0f921\"]],\"sequentialminus\":[[0.0,\"#0d0887\"],[0.1111111111111111,\"#46039f\"],[0.2222222222222222,\"#7201a8\"],[0.3333333333333333,\"#9c179e\"],[0.4444444444444444,\"#bd3786\"],[0.5555555555555556,\"#d8576b\"],[0.6666666666666666,\"#ed7953\"],[0.7777777777777778,\"#fb9f3a\"],[0.8888888888888888,\"#fdca26\"],[1.0,\"#f0f921\"]]},\"colorway\":[\"#636efa\",\"#EF553B\",\"#00cc96\",\"#ab63fa\",\"#FFA15A\",\"#19d3f3\",\"#FF6692\",\"#B6E880\",\"#FF97FF\",\"#FECB52\"],\"font\":{\"color\":\"#2a3f5f\"},\"geo\":{\"bgcolor\":\"white\",\"lakecolor\":\"white\",\"landcolor\":\"#E5ECF6\",\"showlakes\":true,\"showland\":true,\"subunitcolor\":\"white\"},\"hoverlabel\":{\"align\":\"left\"},\"hovermode\":\"closest\",\"mapbox\":{\"style\":\"light\"},\"paper_bgcolor\":\"white\",\"plot_bgcolor\":\"#E5ECF6\",\"polar\":{\"angularaxis\":{\"gridcolor\":\"white\",\"linecolor\":\"white\",\"ticks\":\"\"},\"bgcolor\":\"#E5ECF6\",\"radialaxis\":{\"gridcolor\":\"white\",\"linecolor\":\"white\",\"ticks\":\"\"}},\"scene\":{\"xaxis\":{\"backgroundcolor\":\"#E5ECF6\",\"gridcolor\":\"white\",\"gridwidth\":2,\"linecolor\":\"white\",\"showbackground\":true,\"ticks\":\"\",\"zerolinecolor\":\"white\"},\"yaxis\":{\"backgroundcolor\":\"#E5ECF6\",\"gridcolor\":\"white\",\"gridwidth\":2,\"linecolor\":\"white\",\"showbackground\":true,\"ticks\":\"\",\"zerolinecolor\":\"white\"},\"zaxis\":{\"backgroundcolor\":\"#E5ECF6\",\"gridcolor\":\"white\",\"gridwidth\":2,\"linecolor\":\"white\",\"showbackground\":true,\"ticks\":\"\",\"zerolinecolor\":\"white\"}},\"shapedefaults\":{\"line\":{\"color\":\"#2a3f5f\"}},\"ternary\":{\"aaxis\":{\"gridcolor\":\"white\",\"linecolor\":\"white\",\"ticks\":\"\"},\"baxis\":{\"gridcolor\":\"white\",\"linecolor\":\"white\",\"ticks\":\"\"},\"bgcolor\":\"#E5ECF6\",\"caxis\":{\"gridcolor\":\"white\",\"linecolor\":\"white\",\"ticks\":\"\"}},\"title\":{\"x\":0.05},\"xaxis\":{\"automargin\":true,\"gridcolor\":\"white\",\"linecolor\":\"white\",\"ticks\":\"\",\"title\":{\"standoff\":15},\"zerolinecolor\":\"white\",\"zerolinewidth\":2},\"yaxis\":{\"automargin\":true,\"gridcolor\":\"white\",\"linecolor\":\"white\",\"ticks\":\"\",\"title\":{\"standoff\":15},\"zerolinecolor\":\"white\",\"zerolinewidth\":2}}}},                        {\"responsive\": true}                    ).then(function(){\n",
       "                            \n",
       "var gd = document.getElementById('1e2e6da6-45bb-4b46-8c91-09a5d42e1cc3');\n",
       "var x = new MutationObserver(function (mutations, observer) {{\n",
       "        var display = window.getComputedStyle(gd).display;\n",
       "        if (!display || display === 'none') {{\n",
       "            console.log([gd, 'removed!']);\n",
       "            Plotly.purge(gd);\n",
       "            observer.disconnect();\n",
       "        }}\n",
       "}});\n",
       "\n",
       "// Listen for the removal of the full notebook cells\n",
       "var notebookContainer = gd.closest('#notebook-container');\n",
       "if (notebookContainer) {{\n",
       "    x.observe(notebookContainer, {childList: true});\n",
       "}}\n",
       "\n",
       "// Listen for the clearing of the current output cell\n",
       "var outputEl = gd.closest('.output');\n",
       "if (outputEl) {{\n",
       "    x.observe(outputEl, {childList: true});\n",
       "}}\n",
       "\n",
       "                        })                };                });            </script>        </div>"
      ]
     },
     "metadata": {},
     "output_type": "display_data"
    }
   ],
   "source": [
    "calendirer_sortie = dataset.groupby('date_added')['show_id'].count()\n",
    "\n",
    "fig = go.Figure(\n",
    "    data = go.Scatter(\n",
    "        x = calendirer_sortie.index, \n",
    "        y = calendirer_sortie.values,\n",
    "       ),\n",
    "    layout = go.Layout(\n",
    "        title = go.layout.Title(text = \"Sorties Netflix (2008-2021)\", x = 0.5),\n",
    "        xaxis = go.layout.XAxis(title = 'Date à laquelle les sorties ont été effectuées', rangeslider = go.layout.xaxis.Rangeslider(visible = True)),\n",
    "        yaxis = go.layout.YAxis(title = 'Volumz de sortie')\n",
    "    )\n",
    ")\n",
    "\n",
    "fig.show(renderer=\"notebook_connected\")"
   ]
  }
 ],
 "metadata": {
  "kernelspec": {
   "display_name": "Python 3",
   "language": "python",
   "name": "python3"
  },
  "language_info": {
   "codemirror_mode": {
    "name": "ipython",
    "version": 3
   },
   "file_extension": ".py",
   "mimetype": "text/x-python",
   "name": "python",
   "nbconvert_exporter": "python",
   "pygments_lexer": "ipython3",
   "version": "3.11.2"
  }
 },
 "nbformat": 4,
 "nbformat_minor": 2
}
